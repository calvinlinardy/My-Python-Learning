{
 "cells": [
  {
   "cell_type": "markdown",
   "source": [
    "###### PyPI is a repository for open-source third-party Python packages."
   ],
   "metadata": {}
  },
  {
   "cell_type": "markdown",
   "source": [
    "###### It's similar to RubyGems in the Rudy world, PHP's Packagist, CPAN for Perl, and NPM for Node.js"
   ],
   "metadata": {}
  },
  {
   "cell_type": "markdown",
   "source": [
    "##### kita sejauh ini masih pake libraries yang internal dari Python ato disebut juga BUILT-IN LIBRARIES. banyak di luar libraries lain yang dibuat oleh orang lain yang open-sourced dan di share nya di PyPI, disebutnya itu PACKAGES. installnya itu pake pip install."
   ],
   "metadata": {}
  },
  {
   "cell_type": "markdown",
   "source": [
    "##### __pip__ is a simple way to download packages at your command line directly from the PyPi repo. dan waktu kita install anaconda, kita juga otomatis udah install pip"
   ],
   "metadata": {}
  },
  {
   "cell_type": "markdown",
   "source": [
    "### ini format penulisannya, yang belakang itu nama package nya. ini kita coba install package yang udah ada"
   ],
   "metadata": {}
  },
  {
   "cell_type": "code",
   "execution_count": 1,
   "source": [
    "pip install requests"
   ],
   "outputs": [
    {
     "output_type": "stream",
     "name": "stdout",
     "text": [
      "Requirement already satisfied: requests in c:\\users\\god-omen\\anaconda3\\lib\\site-packages (2.22.0)\n",
      "Requirement already satisfied: chardet<3.1.0,>=3.0.2 in c:\\users\\god-omen\\anaconda3\\lib\\site-packages (from requests) (3.0.4)\n",
      "Requirement already satisfied: idna<2.9,>=2.5 in c:\\users\\god-omen\\anaconda3\\lib\\site-packages (from requests) (2.8)\n",
      "Requirement already satisfied: certifi>=2017.4.17 in c:\\users\\god-omen\\anaconda3\\lib\\site-packages (from requests) (2019.11.28)\n",
      "Requirement already satisfied: urllib3!=1.25.0,!=1.25.1,<1.26,>=1.21.1 in c:\\users\\god-omen\\anaconda3\\lib\\site-packages (from requests) (1.25.8)\n",
      "Note: you may need to restart the kernel to use updated packages.\n"
     ]
    }
   ],
   "metadata": {}
  },
  {
   "cell_type": "code",
   "execution_count": 2,
   "source": [
    "pip install colorama"
   ],
   "outputs": [
    {
     "output_type": "stream",
     "name": "stdout",
     "text": [
      "Requirement already satisfied: colorama in c:\\users\\god-omen\\anaconda3\\lib\\site-packages (0.4.3)\n",
      "Note: you may need to restart the kernel to use updated packages.\n"
     ]
    }
   ],
   "metadata": {}
  },
  {
   "cell_type": "code",
   "execution_count": 3,
   "source": [
    "from colorama import Fore"
   ],
   "outputs": [],
   "metadata": {}
  },
  {
   "cell_type": "code",
   "execution_count": 4,
   "source": [
    "print(Fore.YELLOW + \"ASDFASDF\")"
   ],
   "outputs": [
    {
     "output_type": "stream",
     "name": "stdout",
     "text": [
      "\u001b[33mASDFASDF\n"
     ]
    }
   ],
   "metadata": {}
  },
  {
   "cell_type": "code",
   "execution_count": 5,
   "source": [
    "print(Fore.RED + \"ASDFASD\")"
   ],
   "outputs": [
    {
     "output_type": "stream",
     "name": "stdout",
     "text": [
      "\u001b[31mASDFASD\n"
     ]
    }
   ],
   "metadata": {
    "scrolled": true
   }
  },
  {
   "cell_type": "markdown",
   "source": [
    "###### kalo mau cari package tinggal ketik di google Python Package for..............."
   ],
   "metadata": {}
  },
  {
   "cell_type": "markdown",
   "source": [
    "## Writing Your Own Modules and Packages"
   ],
   "metadata": {}
  },
  {
   "cell_type": "markdown",
   "source": [
    "#### Modules"
   ],
   "metadata": {}
  },
  {
   "cell_type": "markdown",
   "source": [
    "###### modules are just .py scripts that you call in another .py script"
   ],
   "metadata": {}
  },
  {
   "cell_type": "markdown",
   "source": [
    "###### packages are a collection of modules!"
   ],
   "metadata": {}
  },
  {
   "cell_type": "markdown",
   "source": [
    "contohnya ada di folder vs code. jadi intinya kita buat 2 file .py. yang 1 namanya mymodule satu lagi myprogram. jadi kita buat function di dalem mymodule yang namanya my_func, terus di myprogram tinggal ketik\n",
    "\n",
    "from mymodule import my_func\n",
    "\n",
    "my_func  \n",
    "\n",
    "habis itu run file myprogram di cmd dan walla, muncul output dari mymodule."
   ],
   "metadata": {}
  },
  {
   "cell_type": "markdown",
   "source": [
    "#### Packages"
   ],
   "metadata": {}
  },
  {
   "cell_type": "markdown",
   "source": [
    "##### buat bikin packages sebenernya juga gampang, tapi agak complicated jelasinnya, buat lebih gampang liat di folder GitHub yang VSCode. jadi kita package itu ada didalem sebuah folder. dan kita juga akan test buat subpackage\n",
    "\n",
    "###### 1. jadi pertama-tama kita buat folder dulu, namain aja MyMainPackage, lalu di dalem kita buat folder lagi buat subpackage dan namain aja SubPackage\n",
    "\n",
    "###### 2. terus karena ini cuma folder biasa, kita perlu tambahin sesuatu biar python bisa ngenalin folder2 ini sebagai package, caranya gampang, di setiap folder kita buat file baru dan namain __ __init__ __.py! DI SETIAP FOLDER. dan file ini ga akan di sentuh dan isinya kosong, cuma buat nandain aja kalo folder ini adalah package!\n",
    "\n",
    "###### 3. lalu kita bakalan isi foldernya, folder MyMainPackage kita bakalan buat file namanya some_main_script.py. terus di folder SubPackage kita juga bakalan isi file namanya mysubscript.py. Ini isi filenya"
   ],
   "metadata": {}
  },
  {
   "cell_type": "markdown",
   "source": [
    "some_main_script.py"
   ],
   "metadata": {}
  },
  {
   "cell_type": "code",
   "execution_count": 6,
   "source": [
    "def report_main():\r\n",
    "    print(\"Hey Im in some_main_script in main package.\")"
   ],
   "outputs": [],
   "metadata": {}
  },
  {
   "cell_type": "markdown",
   "source": [
    "mysubscript.py"
   ],
   "metadata": {}
  },
  {
   "cell_type": "code",
   "execution_count": 7,
   "source": [
    "def sub_report():\r\n",
    "    print(\"Hey Im a function iside mysubscript\")"
   ],
   "outputs": [],
   "metadata": {}
  },
  {
   "cell_type": "markdown",
   "source": [
    "###### 4. terus kita buat file baru dengan nama apapun yang penting di dalem 1 folder sama packagenya. isinya kaya gini"
   ],
   "metadata": {}
  },
  {
   "cell_type": "code",
   "execution_count": 12,
   "source": [
    "# Perhatiin cara importnya, tinggal ketik from {nama package} import {nama module}.\r\n",
    "# kalo dari subpackage ketik mainnya terus . abis itu nama sub nya"
   ],
   "outputs": [],
   "metadata": {}
  },
  {
   "cell_type": "markdown",
   "source": [
    "from MyMainPackage import some_main_script\n",
    "from MyMainPackage.SubPackage import mysubscript\n",
    "\n",
    "some_main_script.report_main()\n",
    "\n",
    "mysubscript.sub_report()"
   ],
   "metadata": {}
  },
  {
   "cell_type": "markdown",
   "source": [
    "nanti run di cmd file nya, hasil outputnya adalah"
   ],
   "metadata": {}
  },
  {
   "cell_type": "markdown",
   "source": [
    "Hey Im in some_main_script in main package.\n",
    "Hey Im a function iside mysubscript"
   ],
   "metadata": {}
  },
  {
   "cell_type": "markdown",
   "source": [
    "### __ name __ == '__ main __' "
   ],
   "metadata": {}
  },
  {
   "cell_type": "code",
   "execution_count": 2,
   "source": [
    "if __name__ == '__main__' # ini buat ngecek apakah script nya di run langsung ato imported"
   ],
   "outputs": [
    {
     "output_type": "error",
     "ename": "SyntaxError",
     "evalue": "invalid syntax (<ipython-input-2-8f724a85a577>, line 1)",
     "traceback": [
      "\u001b[1;36m  File \u001b[1;32m\"<ipython-input-2-8f724a85a577>\"\u001b[1;36m, line \u001b[1;32m1\u001b[0m\n\u001b[1;33m    if __name__ == '__main__' # ini buat ngecek apakah script nya di run langsung ato imported\u001b[0m\n\u001b[1;37m                                                                                              ^\u001b[0m\n\u001b[1;31mSyntaxError\u001b[0m\u001b[1;31m:\u001b[0m invalid syntax\n"
     ]
    }
   ],
   "metadata": {}
  },
  {
   "cell_type": "markdown",
   "source": [
    "###### BACA ! jadi di dalem python itu ada built-in variable namanya __ name __ . jadi kalo di language lain kan biasa nya ada function main(), contohnya kayak c# di unity, kan ada function start() sama update(). jadi function lain yang kita buat di taroh di bawah, dan yang kita mau run baru di call di bagian main(), start(), atau update() kan...."
   ],
   "metadata": {}
  },
  {
   "cell_type": "markdown",
   "source": [
    "###### tapi kalo di python, semua line script yang indentation level 0 alias ga pake tab, bakalan ke run semua, jadi di python cara akain buat pake kayak main gitu adalah, biasanya di akhir script kita ngecek apakah scriptnya di run langsung pake if yang di atas"
   ],
   "metadata": {}
  },
  {
   "cell_type": "markdown",
   "source": [
    "##### jadi biasa format nya gini"
   ],
   "metadata": {}
  },
  {
   "cell_type": "code",
   "execution_count": 4,
   "source": [
    "#scriptapalah.py\r\n",
    "\r\n",
    "def func1():\r\n",
    "    print(1)\r\n",
    "\r\n",
    "def func2():\r\n",
    "    print(2)\r\n",
    "    \r\n",
    "if __name__ == \"__main__\": # yang mau di run masukin func disini biar rapih\r\n",
    "    func1()\r\n",
    "    func2()"
   ],
   "outputs": [
    {
     "output_type": "stream",
     "name": "stdout",
     "text": [
      "1\n",
      "2\n"
     ]
    }
   ],
   "metadata": {}
  },
  {
   "cell_type": "markdown",
   "source": [
    "##### contohnya kita buat 2 scripts namanya one.py sama two.py, bisa di liat di vscode. jadi intinya kita di bawah pake if yang diatas, buat ngecek apakah scriptnya di run directly atau ga, masuk directly itu adalah misal kita buka cmd ketik python one.py, nah itu kan run direclty. kalo ga direct itu misal kan kita runnya itu two.py, tapi di dalam two kita ada import one, berarti one ke run secara imported!"
   ],
   "metadata": {}
  },
  {
   "cell_type": "code",
   "execution_count": null,
   "source": [],
   "outputs": [],
   "metadata": {}
  },
  {
   "cell_type": "code",
   "execution_count": null,
   "source": [],
   "outputs": [],
   "metadata": {}
  },
  {
   "cell_type": "code",
   "execution_count": null,
   "source": [],
   "outputs": [],
   "metadata": {}
  }
 ],
 "metadata": {
  "kernelspec": {
   "display_name": "Python 3",
   "language": "python",
   "name": "python3"
  },
  "language_info": {
   "codemirror_mode": {
    "name": "ipython",
    "version": 3
   },
   "file_extension": ".py",
   "mimetype": "text/x-python",
   "name": "python",
   "nbconvert_exporter": "python",
   "pygments_lexer": "ipython3",
   "version": "3.7.6"
  }
 },
 "nbformat": 4,
 "nbformat_minor": 4
}