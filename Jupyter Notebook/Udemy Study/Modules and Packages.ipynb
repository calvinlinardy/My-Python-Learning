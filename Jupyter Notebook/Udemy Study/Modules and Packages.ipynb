{
 "cells": [
  {
   "cell_type": "markdown",
   "metadata": {},
   "source": [
    "###### PyPI is a repository for open-source third-party Python packages."
   ]
  },
  {
   "cell_type": "markdown",
   "metadata": {},
   "source": [
    "###### It's similar to RubyGems in the Rudy world, PHP's Packagist, CPAN for Perl, and NPM for Node.js"
   ]
  },
  {
   "cell_type": "markdown",
   "metadata": {},
   "source": [
    "##### kita sejauh ini masih pake libraries yang internal dari Python ato disebut juga BUILT-IN LIBRARIES. banyak di luar libraries lain yang dibuat oleh orang lain yang open-sourced dan di share nya di PyPI, disebutnya itu PACKAGES. installnya itu pake pip install."
   ]
  },
  {
   "cell_type": "markdown",
   "metadata": {},
   "source": [
    "##### __pip__ is a simple way to download packages at your command line directly from the PyPi repo. dan waktu kita install anaconda, kita juga otomatis udah install pip"
   ]
  },
  {
   "cell_type": "markdown",
   "metadata": {},
   "source": [
    "### ini format penulisannya, yang belakang itu nama package nya. ini kita coba install package yang udah ada"
   ]
  },
  {
   "cell_type": "code",
   "execution_count": 1,
   "metadata": {},
   "outputs": [
    {
     "name": "stdout",
     "output_type": "stream",
     "text": [
      "Requirement already satisfied: requests in c:\\users\\god-omen\\anaconda3\\lib\\site-packages (2.22.0)\n",
      "Requirement already satisfied: chardet<3.1.0,>=3.0.2 in c:\\users\\god-omen\\anaconda3\\lib\\site-packages (from requests) (3.0.4)\n",
      "Requirement already satisfied: idna<2.9,>=2.5 in c:\\users\\god-omen\\anaconda3\\lib\\site-packages (from requests) (2.8)\n",
      "Requirement already satisfied: certifi>=2017.4.17 in c:\\users\\god-omen\\anaconda3\\lib\\site-packages (from requests) (2019.11.28)\n",
      "Requirement already satisfied: urllib3!=1.25.0,!=1.25.1,<1.26,>=1.21.1 in c:\\users\\god-omen\\anaconda3\\lib\\site-packages (from requests) (1.25.8)\n",
      "Note: you may need to restart the kernel to use updated packages.\n"
     ]
    }
   ],
   "source": [
    "pip install requests"
   ]
  },
  {
   "cell_type": "code",
   "execution_count": 2,
   "metadata": {},
   "outputs": [
    {
     "name": "stdout",
     "output_type": "stream",
     "text": [
      "Requirement already satisfied: colorama in c:\\users\\god-omen\\anaconda3\\lib\\site-packages (0.4.3)\n",
      "Note: you may need to restart the kernel to use updated packages.\n"
     ]
    }
   ],
   "source": [
    "pip install colorama"
   ]
  },
  {
   "cell_type": "code",
   "execution_count": 3,
   "metadata": {},
   "outputs": [],
   "source": [
    "from colorama import Fore"
   ]
  },
  {
   "cell_type": "code",
   "execution_count": 4,
   "metadata": {},
   "outputs": [
    {
     "name": "stdout",
     "output_type": "stream",
     "text": [
      "\u001b[33mASDFASDF\n"
     ]
    }
   ],
   "source": [
    "print(Fore.YELLOW + \"ASDFASDF\")"
   ]
  },
  {
   "cell_type": "code",
   "execution_count": 5,
   "metadata": {
    "scrolled": true
   },
   "outputs": [
    {
     "name": "stdout",
     "output_type": "stream",
     "text": [
      "\u001b[31mASDFASD\n"
     ]
    }
   ],
   "source": [
    "print(Fore.RED + \"ASDFASD\")"
   ]
  },
  {
   "cell_type": "markdown",
   "metadata": {},
   "source": [
    "###### kalo mau cari package tinggal ketik di google Python Package for..............."
   ]
  },
  {
   "cell_type": "markdown",
   "metadata": {},
   "source": [
    "## Writing Your Own Modules and Packages"
   ]
  },
  {
   "cell_type": "markdown",
   "metadata": {},
   "source": [
    "#### Modules"
   ]
  },
  {
   "cell_type": "markdown",
   "metadata": {},
   "source": [
    "###### modules are just .py scripts that you call in another .py script"
   ]
  },
  {
   "cell_type": "markdown",
   "metadata": {},
   "source": [
    "###### packages are a collection of modules!"
   ]
  },
  {
   "cell_type": "markdown",
   "metadata": {},
   "source": [
    "contohnya ada di folder vs code. jadi intinya kita buat 2 file .py. yang 1 namanya mymodule satu lagi myprogram. jadi kita buat function di dalem mymodule yang namanya my_func, terus di myprogram tinggal ketik\n",
    "\n",
    "from mymodule import my_func\n",
    "\n",
    "my_func  \n",
    "\n",
    "habis itu run file myprogram di cmd dan walla, muncul output dari mymodule."
   ]
  },
  {
   "cell_type": "markdown",
   "metadata": {},
   "source": [
    "#### Packages"
   ]
  },
  {
   "cell_type": "markdown",
   "metadata": {},
   "source": [
    "##### buat bikin packages sebenernya juga gampang, tapi agak complicated jelasinnya, buat lebih gampang liat di folder GitHub yang VSCode. jadi kita package itu ada didalem sebuah folder. dan kita juga akan test buat subpackage\n",
    "\n",
    "###### 1. jadi pertama-tama kita buat folder dulu, namain aja MyMainPackage, lalu di dalem kita buat folder lagi buat subpackage dan namain aja SubPackage\n",
    "\n",
    "###### 2. terus karena ini cuma folder biasa, kita perlu tambahin sesuatu biar python bisa ngenalin folder2 ini sebagai package, caranya gampang, di setiap folder kita buat file baru dan namain __ __init__ __.py! DI SETIAP FOLDER. dan file ini ga akan di sentuh dan isinya kosong, cuma buat nandain aja kalo folder ini adalah package!\n",
    "\n",
    "###### 3. lalu kita bakalan isi foldernya, folder MyMainPackage kita bakalan buat file namanya some_main_script.py. terus di folder SubPackage kita juga bakalan isi file namanya mysubscript.py. Ini isi filenya"
   ]
  },
  {
   "cell_type": "markdown",
   "metadata": {},
   "source": [
    "some_main_script.py"
   ]
  },
  {
   "cell_type": "code",
   "execution_count": 6,
   "metadata": {},
   "outputs": [],
   "source": [
    "def report_main():\n",
    "    print(\"Hey Im in some_main_script in main package.\")"
   ]
  },
  {
   "cell_type": "markdown",
   "metadata": {},
   "source": [
    "mysubscript.py"
   ]
  },
  {
   "cell_type": "code",
   "execution_count": 7,
   "metadata": {},
   "outputs": [],
   "source": [
    "def sub_report():\n",
    "    print(\"Hey Im a function iside mysubscript\")"
   ]
  },
  {
   "cell_type": "markdown",
   "metadata": {},
   "source": [
    "###### 4. terus kita buat file baru dengan nama apapun yang penting di dalem 1 folder sama packagenya. isinya kaya gini"
   ]
  },
  {
   "cell_type": "code",
   "execution_count": 12,
   "metadata": {},
   "outputs": [],
   "source": [
    "# Perhatiin cara importnya, tinggal ketik from {nama package} import {nama module}.\n",
    "# kalo dari subpackage ketik mainnya terus . abis itu nama sub nya"
   ]
  },
  {
   "cell_type": "markdown",
   "metadata": {},
   "source": [
    "from MyMainPackage import some_main_script\n",
    "from MyMainPackage.SubPackage import mysubscript\n",
    "\n",
    "some_main_script.report_main()\n",
    "\n",
    "mysubscript.sub_report()"
   ]
  },
  {
   "cell_type": "markdown",
   "metadata": {},
   "source": [
    "nanti run di cmd file nya, hasil outputnya adalah"
   ]
  },
  {
   "cell_type": "markdown",
   "metadata": {},
   "source": [
    "Hey Im in some_main_script in main package.\n",
    "Hey Im a function iside mysubscript"
   ]
  },
  {
   "cell_type": "code",
   "execution_count": null,
   "metadata": {},
   "outputs": [],
   "source": []
  },
  {
   "cell_type": "code",
   "execution_count": null,
   "metadata": {},
   "outputs": [],
   "source": []
  },
  {
   "cell_type": "code",
   "execution_count": null,
   "metadata": {},
   "outputs": [],
   "source": []
  },
  {
   "cell_type": "code",
   "execution_count": null,
   "metadata": {},
   "outputs": [],
   "source": []
  },
  {
   "cell_type": "code",
   "execution_count": null,
   "metadata": {},
   "outputs": [],
   "source": []
  },
  {
   "cell_type": "code",
   "execution_count": null,
   "metadata": {},
   "outputs": [],
   "source": []
  },
  {
   "cell_type": "code",
   "execution_count": null,
   "metadata": {},
   "outputs": [],
   "source": []
  },
  {
   "cell_type": "code",
   "execution_count": null,
   "metadata": {},
   "outputs": [],
   "source": []
  },
  {
   "cell_type": "code",
   "execution_count": null,
   "metadata": {},
   "outputs": [],
   "source": []
  },
  {
   "cell_type": "code",
   "execution_count": null,
   "metadata": {},
   "outputs": [],
   "source": []
  }
 ],
 "metadata": {
  "kernelspec": {
   "display_name": "Python 3",
   "language": "python",
   "name": "python3"
  },
  "language_info": {
   "codemirror_mode": {
    "name": "ipython",
    "version": 3
   },
   "file_extension": ".py",
   "mimetype": "text/x-python",
   "name": "python",
   "nbconvert_exporter": "python",
   "pygments_lexer": "ipython3",
   "version": "3.7.6"
  }
 },
 "nbformat": 4,
 "nbformat_minor": 4
}
