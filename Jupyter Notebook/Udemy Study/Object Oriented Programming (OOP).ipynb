{
 "cells": [
  {
   "cell_type": "markdown",
   "source": [
    "#### contoh syntax OOP"
   ],
   "metadata": {}
  },
  {
   "cell_type": "code",
   "execution_count": 2,
   "source": [
    "class NameOfClass(): # basic way to define an object with \"class\" keyword. jadi kadang orang suka \r\n",
    "                     # ketuker2 nyebut class sama object\r\n",
    "                    \r\n",
    "                     # penulisan nama class digabung dan dipisah sama kapital, \r\n",
    "                     # ini kenapa var sama func pake huruf kecil sama underscore = variable_name\r\n",
    "    \r\n",
    "    def__init__(self,param1,param2): # biasa disebut function, tapi saat di dalem class di sebut METHOD \r\n",
    "        self.param1 = param1\r\n",
    "        self.param2 = param2\r\n",
    "        \r\n",
    "    def some_method(self): # ini lebih mirip sama function\r\n",
    "        # perform some action\r\n",
    "        print(self.param1)"
   ],
   "outputs": [
    {
     "output_type": "error",
     "ename": "SyntaxError",
     "evalue": "invalid syntax (<ipython-input-2-fa26dd58933c>, line 7)",
     "traceback": [
      "\u001b[1;36m  File \u001b[1;32m\"<ipython-input-2-fa26dd58933c>\"\u001b[1;36m, line \u001b[1;32m7\u001b[0m\n\u001b[1;33m    def__init__(self,param1,param2): # biasa disebut function, tapi saat di dalem class di sebut METHOD\u001b[0m\n\u001b[1;37m                                                                                                        ^\u001b[0m\n\u001b[1;31mSyntaxError\u001b[0m\u001b[1;31m:\u001b[0m invalid syntax\n"
     ]
    }
   ],
   "metadata": {}
  },
  {
   "cell_type": "markdown",
   "source": [
    "### Attributes and Class Keyword"
   ],
   "metadata": {}
  },
  {
   "cell_type": "markdown",
   "source": [
    "Snake Casing = name_of_class --> semua huruf kecil, tiap kata terpisah sama underscore(_)\n",
    "\n",
    "Camel Casing = NameOfClass --> tiap kata terpisah sama capital di awal kata "
   ],
   "metadata": {}
  },
  {
   "cell_type": "markdown",
   "source": [
    "##### untuk function dan variable pake SNAKE CASING, dan class pake CAMEL CASING"
   ],
   "metadata": {}
  },
  {
   "cell_type": "code",
   "execution_count": null,
   "source": [
    "mylist = [1,2,3]"
   ],
   "outputs": [],
   "metadata": {}
  },
  {
   "cell_type": "markdown",
   "source": [
    "#### kalo kita ketik mylist. habis itu pencet tab, pasti bakalan ke list down banyak attribute sama method"
   ],
   "metadata": {}
  },
  {
   "cell_type": "code",
   "execution_count": null,
   "source": [
    "mylist.append(4) #contohnya"
   ],
   "outputs": [],
   "metadata": {}
  },
  {
   "cell_type": "markdown",
   "source": [
    "###### sama juga kaya sets, mysets. pencet tab juga bakalan ke list down banyak"
   ],
   "metadata": {}
  },
  {
   "cell_type": "markdown",
   "source": [
    "#### kita bakalan coba buat user defined object kita sendiri alias CLASS"
   ],
   "metadata": {}
  },
  {
   "cell_type": "code",
   "execution_count": null,
   "source": [
    "type(mylist)"
   ],
   "outputs": [
    {
     "output_type": "execute_result",
     "data": {
      "text/plain": [
       "list"
      ]
     },
     "metadata": {},
     "execution_count": 7
    }
   ],
   "metadata": {}
  },
  {
   "cell_type": "code",
   "execution_count": null,
   "source": [
    "class Sample():\r\n",
    "    pass"
   ],
   "outputs": [],
   "metadata": {}
  },
  {
   "cell_type": "markdown",
   "source": [
    "###### sekarang kita buat instance dari class Sample"
   ],
   "metadata": {}
  },
  {
   "cell_type": "code",
   "execution_count": null,
   "source": [
    "my_sample = Sample()"
   ],
   "outputs": [],
   "metadata": {}
  },
  {
   "cell_type": "code",
   "execution_count": null,
   "source": [
    "type(my_sample)"
   ],
   "outputs": [
    {
     "output_type": "execute_result",
     "data": {
      "text/plain": [
       "__main__.Sample"
      ]
     },
     "metadata": {},
     "execution_count": 10
    }
   ],
   "metadata": {
    "scrolled": true
   }
  },
  {
   "cell_type": "markdown",
   "source": [
    "#### sekarang kita coba buat class dengan attributes"
   ],
   "metadata": {}
  },
  {
   "cell_type": "code",
   "execution_count": null,
   "source": [
    "class Dog():\r\n",
    "    \r\n",
    "    def __init__(self,breed): # self buat refer ke method ini sendiri\r\n",
    "    # ini namanya init method, tujuannya to be called upon we create an instance of a class.\r\n",
    "        self.breed = breed\r\n",
    "    "
   ],
   "outputs": [],
   "metadata": {}
  },
  {
   "cell_type": "code",
   "execution_count": null,
   "source": [
    "my_dog = Dog() # error karena ga pass in parameter nya buat breed"
   ],
   "outputs": [
    {
     "output_type": "error",
     "ename": "TypeError",
     "evalue": "__init__() missing 1 required positional argument: 'breed'",
     "traceback": [
      "\u001b[1;31m---------------------------------------------------------------------------\u001b[0m",
      "\u001b[1;31mTypeError\u001b[0m                                 Traceback (most recent call last)",
      "\u001b[1;32m<ipython-input-12-b867e62b00ec>\u001b[0m in \u001b[0;36m<module>\u001b[1;34m\u001b[0m\n\u001b[1;32m----> 1\u001b[1;33m \u001b[0mmy_dog\u001b[0m \u001b[1;33m=\u001b[0m \u001b[0mDog\u001b[0m\u001b[1;33m(\u001b[0m\u001b[1;33m)\u001b[0m\u001b[1;33m\u001b[0m\u001b[1;33m\u001b[0m\u001b[0m\n\u001b[0m",
      "\u001b[1;31mTypeError\u001b[0m: __init__() missing 1 required positional argument: 'breed'"
     ]
    }
   ],
   "metadata": {}
  },
  {
   "cell_type": "code",
   "execution_count": null,
   "source": [
    "my_dog = Dog(breed='Shitzu')"
   ],
   "outputs": [],
   "metadata": {}
  },
  {
   "cell_type": "code",
   "execution_count": null,
   "source": [
    "type(my_dog)"
   ],
   "outputs": [
    {
     "output_type": "execute_result",
     "data": {
      "text/plain": [
       "__main__.Dog"
      ]
     },
     "metadata": {},
     "execution_count": 14
    }
   ],
   "metadata": {}
  },
  {
   "cell_type": "code",
   "execution_count": null,
   "source": [
    "my_dog.breed # kalo attributenya udah lebih dari satu, nanti pas pencet tab juga ada list down"
   ],
   "outputs": [
    {
     "output_type": "execute_result",
     "data": {
      "text/plain": [
       "'Shitzu'"
      ]
     },
     "metadata": {},
     "execution_count": 16
    }
   ],
   "metadata": {}
  },
  {
   "cell_type": "markdown",
   "source": [
    "#### NOTES: sebenernya self itu boleh pake nama lain, tapi kita tetep harus pake self karena ini umum di kalangan programmer python, jadi inget selalu pake self! jangan di ganti2!\n",
    "\n",
    "#### dan satu lagi, sebenernya nama parameter sama attribute nya boleh beda, tapi biasanya semuanya disamain, ini format normalnya kaya gini:"
   ],
   "metadata": {}
  },
  {
   "cell_type": "code",
   "execution_count": null,
   "source": [
    "class Dog():\r\n",
    "    \r\n",
    "    def __init__(self,breed):\r\n",
    "        \r\n",
    "        self.breed = breed"
   ],
   "outputs": [],
   "metadata": {}
  },
  {
   "cell_type": "markdown",
   "source": [
    "#### kita bisa coba ganti2 biar ngerti connection tiap part"
   ],
   "metadata": {}
  },
  {
   "cell_type": "code",
   "execution_count": null,
   "source": [
    "class Dog():\r\n",
    "    \r\n",
    "    def __init__(self,xxxx):\r\n",
    "        \r\n",
    "        # Attributes\r\n",
    "        # We take in the argument\r\n",
    "        # Assign it using self.attibute_name\r\n",
    "        self.my_attribute = xxxx # jadi maksudnya itu kaya gini, boleh beda. tapi in convention semua sama"
   ],
   "outputs": [],
   "metadata": {}
  },
  {
   "cell_type": "code",
   "execution_count": null,
   "source": [
    "my_dog = Dog(xxxx='Huskie')"
   ],
   "outputs": [],
   "metadata": {}
  },
  {
   "cell_type": "markdown",
   "source": [
    "###### intinya kita pass in parameter atau argumentnya (xxxx) terus ke assign ke attributenya (my_attribute) yang dimana nanti bisa di call kalo di pake instancenya. TAPI MENDINGAN SEMUANYA SAMA AJA NAMANYA"
   ],
   "metadata": {}
  },
  {
   "cell_type": "markdown",
   "source": [
    "### skrg coba kita masukin lebih dari 1 argument"
   ],
   "metadata": {}
  },
  {
   "cell_type": "code",
   "execution_count": null,
   "source": [
    "class Dog():\r\n",
    "    \r\n",
    "    def __init__(self,breed,name,spots):\r\n",
    "        \r\n",
    "        # Expect string\r\n",
    "        self.breed = breed\r\n",
    "        self.name = name\r\n",
    "        \r\n",
    "        # Expect boolean True/False\r\n",
    "        self.spots = spots"
   ],
   "outputs": [],
   "metadata": {}
  },
  {
   "cell_type": "code",
   "execution_count": null,
   "source": [
    "my_dog = Dog(breed='Shitzu',name='Pippy',spots=False)"
   ],
   "outputs": [],
   "metadata": {}
  },
  {
   "cell_type": "code",
   "execution_count": null,
   "source": [
    "type(my_dog)"
   ],
   "outputs": [
    {
     "output_type": "execute_result",
     "data": {
      "text/plain": [
       "__main__.Dog"
      ]
     },
     "metadata": {},
     "execution_count": 25
    }
   ],
   "metadata": {
    "scrolled": true
   }
  },
  {
   "cell_type": "code",
   "execution_count": null,
   "source": [
    "my_dog.breed # habis titik pencet tab pasti ada list down"
   ],
   "outputs": [
    {
     "output_type": "execute_result",
     "data": {
      "text/plain": [
       "'Shitzu'"
      ]
     },
     "metadata": {},
     "execution_count": 26
    }
   ],
   "metadata": {
    "scrolled": true
   }
  },
  {
   "cell_type": "code",
   "execution_count": null,
   "source": [
    "my_dog.name"
   ],
   "outputs": [
    {
     "output_type": "execute_result",
     "data": {
      "text/plain": [
       "'Pippy'"
      ]
     },
     "metadata": {},
     "execution_count": 27
    }
   ],
   "metadata": {}
  },
  {
   "cell_type": "code",
   "execution_count": null,
   "source": [
    "my_dog.spots"
   ],
   "outputs": [
    {
     "output_type": "execute_result",
     "data": {
      "text/plain": [
       "False"
      ]
     },
     "metadata": {},
     "execution_count": 28
    }
   ],
   "metadata": {}
  },
  {
   "cell_type": "markdown",
   "source": [
    "#### tapi karena python sangat fleksible, saat kita masukin type data yg ga sesuai sama yg kita minta pun dia ga error, contoh:"
   ],
   "metadata": {}
  },
  {
   "cell_type": "code",
   "execution_count": null,
   "source": [
    "my_dog = Dog(breed='Shitzu',name='Pippy',spots='NO SPOTS') # spots kita maunya bool"
   ],
   "outputs": [],
   "metadata": {}
  },
  {
   "cell_type": "code",
   "execution_count": null,
   "source": [
    "my_dog.spots # di input string juga ga error"
   ],
   "outputs": [
    {
     "output_type": "execute_result",
     "data": {
      "text/plain": [
       "'NO SPOTS'"
      ]
     },
     "metadata": {},
     "execution_count": 30
    }
   ],
   "metadata": {}
  },
  {
   "cell_type": "markdown",
   "source": [
    "#### jadi kalo misal kita mau class kita di pake orang lain, kita harus kasih documentation biar orang nya tau musti pass in data type apa"
   ],
   "metadata": {}
  },
  {
   "cell_type": "markdown",
   "source": [
    "### Class Objects Attributes and Methods"
   ],
   "metadata": {}
  },
  {
   "cell_type": "markdown",
   "source": [
    "##### class objects attributes itu attribute yang lebih gede dibanding attribute di dalem method, jadi misal kan class Dog kita bayangin dia itu mau breed atau nama atau spots apapun, dia akan tetep jadi mamalia"
   ],
   "metadata": {}
  },
  {
   "cell_type": "code",
   "execution_count": null,
   "source": [
    "class Dog():\r\n",
    "    \r\n",
    "    # CLASS OBJECT ATTRIBUTE\r\n",
    "    # SAME FOR ANY INSTANCE OF A CLASS\r\n",
    "    species = 'mammal'\r\n",
    "    \r\n",
    "    def __init__(self,breed,name,spots):\r\n",
    "        \r\n",
    "        # Attributes\r\n",
    "        # We take in the argument\r\n",
    "        # Assign it using self.attibute_name\r\n",
    "        \r\n",
    "        # Expect string\r\n",
    "        self.breed = breed\r\n",
    "        self.name = name\r\n",
    "        \r\n",
    "        # Expect boolean True/False\r\n",
    "        self.spots = spots"
   ],
   "outputs": [],
   "metadata": {}
  },
  {
   "cell_type": "code",
   "execution_count": null,
   "source": [
    "my_dog = Dog(breed='Pecking',name='Sam',spots='False')"
   ],
   "outputs": [],
   "metadata": {}
  },
  {
   "cell_type": "code",
   "execution_count": null,
   "source": [
    "type(my_dog)"
   ],
   "outputs": [
    {
     "output_type": "execute_result",
     "data": {
      "text/plain": [
       "__main__.Dog"
      ]
     },
     "metadata": {},
     "execution_count": 33
    }
   ],
   "metadata": {}
  },
  {
   "cell_type": "code",
   "execution_count": null,
   "source": [
    "my_dog.species # bakalan tetep sama walaupun input attribute parameternya beda"
   ],
   "outputs": [
    {
     "output_type": "execute_result",
     "data": {
      "text/plain": [
       "'mammal'"
      ]
     },
     "metadata": {},
     "execution_count": 35
    }
   ],
   "metadata": {}
  },
  {
   "cell_type": "code",
   "execution_count": null,
   "source": [
    "class Dog():\r\n",
    "    \r\n",
    "    # CLASS OBJECT ATTRIBUTE\r\n",
    "    # SAME FOR ANY INSTANCE OF A CLASS\r\n",
    "    species = 'mammal'\r\n",
    "    \r\n",
    "    def __init__(self,breed,name):\r\n",
    "        \r\n",
    "        # Attributes\r\n",
    "        # We take in the argument\r\n",
    "        # Assign it using self.attibute_name\r\n",
    "        \r\n",
    "        # Expect string\r\n",
    "        self.breed = breed\r\n",
    "        self.name = name\r\n",
    "        \r\n",
    "    # OPERATIONS/Actions ---> Methods (methods itu function yang ada di dalam class)\r\n",
    "    def bark(self,number):\r\n",
    "        print(\"WOOF! My name is {} and the number is {}\".format(self.name,number)) \r\n",
    "        # harus self.name karena ambil instancenya dan kalo name doank itu param dari method lain\r\n",
    "        # dan number ga perlu pake self karena ini param dari method sendiri"
   ],
   "outputs": [],
   "metadata": {}
  },
  {
   "cell_type": "code",
   "execution_count": null,
   "source": [
    "my_dog = Dog('Lab','Kome')"
   ],
   "outputs": [],
   "metadata": {}
  },
  {
   "cell_type": "code",
   "execution_count": null,
   "source": [
    "type(my_dog)"
   ],
   "outputs": [
    {
     "output_type": "execute_result",
     "data": {
      "text/plain": [
       "__main__.Dog"
      ]
     },
     "metadata": {},
     "execution_count": 57
    }
   ],
   "metadata": {}
  },
  {
   "cell_type": "code",
   "execution_count": null,
   "source": [
    "my_dog.species # call attribute ga perlu pake ()"
   ],
   "outputs": [
    {
     "output_type": "execute_result",
     "data": {
      "text/plain": [
       "'mammal'"
      ]
     },
     "metadata": {},
     "execution_count": 58
    }
   ],
   "metadata": {}
  },
  {
   "cell_type": "code",
   "execution_count": null,
   "source": [
    "my_dog.name"
   ],
   "outputs": [
    {
     "output_type": "execute_result",
     "data": {
      "text/plain": [
       "'Kome'"
      ]
     },
     "metadata": {},
     "execution_count": 59
    }
   ],
   "metadata": {}
  },
  {
   "cell_type": "code",
   "execution_count": null,
   "source": [
    "my_dog"
   ],
   "outputs": [
    {
     "output_type": "execute_result",
     "data": {
      "text/plain": [
       "<__main__.Dog at 0x1a3c9ab5348>"
      ]
     },
     "metadata": {},
     "execution_count": 60
    }
   ],
   "metadata": {}
  },
  {
   "cell_type": "markdown",
   "source": [
    "##### kalo execute method harus pake ()"
   ],
   "metadata": {}
  },
  {
   "cell_type": "code",
   "execution_count": null,
   "source": [
    "my_dog.bark # kalo ga pake() dia cuma kasih tau ada method ini di memory location ini"
   ],
   "outputs": [
    {
     "output_type": "execute_result",
     "data": {
      "text/plain": [
       "<bound method Dog.bark of <__main__.Dog object at 0x000001A3C9AB5348>>"
      ]
     },
     "metadata": {},
     "execution_count": 61
    }
   ],
   "metadata": {}
  },
  {
   "cell_type": "code",
   "execution_count": null,
   "source": [
    "my_dog.bark(1)"
   ],
   "outputs": [
    {
     "output_type": "stream",
     "name": "stdout",
     "text": [
      "WOOF! My name is Kome and the number is 1\n"
     ]
    }
   ],
   "metadata": {}
  },
  {
   "cell_type": "code",
   "execution_count": null,
   "source": [
    "class Circle():\n",
    "    \n",
    "    # CLASS OBJECT ATTRIBUTE <- bakalan selalu true saat kita punya instance apapun\n",
    "    pi = 3.14 # pi selalu 3.14 selalu segitu ga peduli lingkarannya sebesar apa\n",
    "    \n",
    "    def __init__(self,radius=1): # <- default value\n",
    "        \n",
    "        self.radius = radius\n",
    "        \n",
    "    # METHOD\n",
    "    def get_circumference(self):\n",
    "        return self.radius * self.pi * 2"
   ],
   "outputs": [],
   "metadata": {}
  },
  {
   "cell_type": "code",
   "execution_count": null,
   "source": [
    "my_circle = Circle()"
   ],
   "outputs": [],
   "metadata": {}
  },
  {
   "cell_type": "code",
   "execution_count": null,
   "source": [
    "my_circle.pi"
   ],
   "outputs": [
    {
     "output_type": "execute_result",
     "data": {
      "text/plain": [
       "3.14"
      ]
     },
     "metadata": {},
     "execution_count": 66
    }
   ],
   "metadata": {}
  },
  {
   "cell_type": "code",
   "execution_count": null,
   "source": [
    "my_circle.radius"
   ],
   "outputs": [
    {
     "output_type": "execute_result",
     "data": {
      "text/plain": [
       "1"
      ]
     },
     "metadata": {},
     "execution_count": 67
    }
   ],
   "metadata": {}
  },
  {
   "cell_type": "code",
   "execution_count": null,
   "source": [
    "my_circle = Circle(100)"
   ],
   "outputs": [],
   "metadata": {}
  },
  {
   "cell_type": "code",
   "execution_count": null,
   "source": [
    "my_circle.radius"
   ],
   "outputs": [
    {
     "output_type": "execute_result",
     "data": {
      "text/plain": [
       "100"
      ]
     },
     "metadata": {},
     "execution_count": 69
    }
   ],
   "metadata": {}
  },
  {
   "cell_type": "code",
   "execution_count": null,
   "source": [
    "my_circle.get_circumference()"
   ],
   "outputs": [
    {
     "output_type": "execute_result",
     "data": {
      "text/plain": [
       "628.0"
      ]
     },
     "metadata": {},
     "execution_count": 70
    }
   ],
   "metadata": {
    "scrolled": true
   }
  },
  {
   "cell_type": "markdown",
   "source": [
    "##### tambahin dikit"
   ],
   "metadata": {}
  },
  {
   "cell_type": "code",
   "execution_count": null,
   "source": [
    "class Circle():\n",
    "    \n",
    "    pi = 3.14\n",
    "    \n",
    "    def __init__(self,radius=1): # <- default value\n",
    "        \n",
    "        self.radius = radius\n",
    "        self.area = radius*radius*self.pi # boleh pake self. buat call class object attribute\n",
    "        \n",
    "    # METHOD\n",
    "    def get_circumference(self):\n",
    "        return self.radius * self.pi * 2 # ini juga class object attribute"
   ],
   "outputs": [],
   "metadata": {}
  },
  {
   "cell_type": "code",
   "execution_count": null,
   "source": [
    "my_circle = Circle(30)"
   ],
   "outputs": [],
   "metadata": {}
  },
  {
   "cell_type": "code",
   "execution_count": null,
   "source": [
    "my_circle.area"
   ],
   "outputs": [
    {
     "output_type": "execute_result",
     "data": {
      "text/plain": [
       "2826.0"
      ]
     },
     "metadata": {},
     "execution_count": 75
    }
   ],
   "metadata": {}
  },
  {
   "cell_type": "markdown",
   "source": [
    "###### class object attribute biasa instead of pake self. tapi pake nama class nya. kayak case ini berarti jadi\n",
    "Circle.pi instead of self.pi! \n",
    "\n",
    "2-2nya boleh dan bisa di run tapi programmer lebih prefer pake nama class, karena bayangin kalo code nya panjang banget, jadi kita bisa langsung tau kalo attribute ini adalah class object attribute di liat dari nama class nya!!"
   ],
   "metadata": {}
  },
  {
   "cell_type": "code",
   "execution_count": null,
   "source": [
    "class Circle():\n",
    "    \n",
    "    pi = 3.14\n",
    "    \n",
    "    def __init__(self,radius=1):\n",
    "        \n",
    "        self.radius = radius\n",
    "        self.area = radius*radius*Circle.pi # boleh pake self. buat call class object attribute\n",
    "        \n",
    "    # METHOD\n",
    "    def get_circumference(self):\n",
    "        return self.radius * Cricle.pi * 2"
   ],
   "outputs": [],
   "metadata": {}
  },
  {
   "cell_type": "markdown",
   "source": [
    "### Inheritance and Polymorphism"
   ],
   "metadata": {}
  },
  {
   "cell_type": "code",
   "execution_count": null,
   "source": [
    "class Animal():\n",
    "    \n",
    "    def __init__(self):\n",
    "        print(\"ANIMAL CREATED\")"
   ],
   "outputs": [],
   "metadata": {}
  },
  {
   "cell_type": "code",
   "execution_count": null,
   "source": [
    "myanimal = Animal()"
   ],
   "outputs": [
    {
     "output_type": "stream",
     "name": "stdout",
     "text": [
      "ANIMAL CREATED\n"
     ]
    }
   ],
   "metadata": {}
  },
  {
   "cell_type": "markdown",
   "source": [
    "kita tambah 2 method lagi"
   ],
   "metadata": {}
  },
  {
   "cell_type": "code",
   "execution_count": null,
   "source": [
    "class Animal():\r\n",
    "    \r\n",
    "    def __init__(self):\r\n",
    "        print(\"ANIMAL CREATED\")\r\n",
    "        \r\n",
    "    def who_am_i(self):\r\n",
    "        print(\"I am an animal\")\r\n",
    "    \r\n",
    "    def eat(self):\r\n",
    "        print(\"I am eating\")"
   ],
   "outputs": [],
   "metadata": {}
  },
  {
   "cell_type": "code",
   "execution_count": null,
   "source": [
    "Animal().eat()"
   ],
   "outputs": [
    {
     "output_type": "stream",
     "name": "stdout",
     "text": [
      "ANIMAL CREATED\n",
      "I am eating\n"
     ]
    }
   ],
   "metadata": {}
  },
  {
   "cell_type": "code",
   "execution_count": null,
   "source": [
    "myanimal = Animal()"
   ],
   "outputs": [
    {
     "output_type": "stream",
     "name": "stdout",
     "text": [
      "ANIMAL CREATED\n"
     ]
    }
   ],
   "metadata": {}
  },
  {
   "cell_type": "code",
   "execution_count": null,
   "source": [
    "myanimal.eat()"
   ],
   "outputs": [
    {
     "output_type": "stream",
     "name": "stdout",
     "text": [
      "I am eating\n"
     ]
    }
   ],
   "metadata": {}
  },
  {
   "cell_type": "code",
   "execution_count": null,
   "source": [
    "myanimal.who_am_i()"
   ],
   "outputs": [
    {
     "output_type": "stream",
     "name": "stdout",
     "text": [
      "I am an animal\n"
     ]
    }
   ],
   "metadata": {}
  },
  {
   "cell_type": "markdown",
   "source": [
    "#### Inheritance itu kalo misal kita mau pake method dari class lain. contoh kita bakal buat class baru di bawah namanya DOG, tapi kita mau pake method dari class di atas ANIMAL\n",
    "\n",
    "yang di inherit namanya base class\n",
    "\n",
    "yang inherit namanya drive class\n"
   ],
   "metadata": {}
  },
  {
   "cell_type": "code",
   "execution_count": null,
   "source": [
    "class Dog(Animal):\r\n",
    "    \r\n",
    "    def __init__(self):\r\n",
    "        Animal.__init__(self)\r\n",
    "        print(\"Dog Created\")"
   ],
   "outputs": [],
   "metadata": {}
  },
  {
   "cell_type": "code",
   "execution_count": null,
   "source": [
    "mydog = Dog()"
   ],
   "outputs": [
    {
     "output_type": "stream",
     "name": "stdout",
     "text": [
      "ANIMAL CREATED\n",
      "Dog Created\n"
     ]
    }
   ],
   "metadata": {}
  },
  {
   "cell_type": "markdown",
   "source": [
    "pass ketik mydog. terus pencet tab bakal keluar method dari animal"
   ],
   "metadata": {}
  },
  {
   "cell_type": "code",
   "execution_count": null,
   "source": [
    "class Dog(Animal):\r\n",
    "    \r\n",
    "    def __init__(self):\r\n",
    "        Animal.__init__(self)\r\n",
    "        print(\"Dog Created\")\r\n",
    "        \r\n",
    "    def who_am_i(self):\r\n",
    "        print(\"I am a dog!\") # overwrite older method, pastiin nama methodnya sama\r\n",
    "        \r\n",
    "    def bark(self):\r\n",
    "        print(\"WOOF!\") # bisa add method baru juga"
   ],
   "outputs": [],
   "metadata": {}
  },
  {
   "cell_type": "code",
   "execution_count": null,
   "source": [
    "mydog = Dog()"
   ],
   "outputs": [
    {
     "output_type": "stream",
     "name": "stdout",
     "text": [
      "ANIMAL CREATED\n",
      "Dog Created\n"
     ]
    }
   ],
   "metadata": {}
  },
  {
   "cell_type": "code",
   "execution_count": null,
   "source": [
    "mydog.eat()"
   ],
   "outputs": [
    {
     "output_type": "stream",
     "name": "stdout",
     "text": [
      "I am eating\n"
     ]
    }
   ],
   "metadata": {}
  },
  {
   "cell_type": "code",
   "execution_count": null,
   "source": [
    "mydog.who_am_i()"
   ],
   "outputs": [
    {
     "output_type": "stream",
     "name": "stdout",
     "text": [
      "I am a dog!\n"
     ]
    }
   ],
   "metadata": {}
  },
  {
   "cell_type": "code",
   "execution_count": null,
   "source": [
    "mydog.bark()"
   ],
   "outputs": [
    {
     "output_type": "stream",
     "name": "stdout",
     "text": [
      "WOOF!\n"
     ]
    }
   ],
   "metadata": {
    "scrolled": true
   }
  },
  {
   "cell_type": "markdown",
   "source": [
    "### polymorphism itu share 1 method name yang sama walau yang di pass in itu berbeda"
   ],
   "metadata": {}
  },
  {
   "cell_type": "markdown",
   "source": [
    "contoh 2 class dog sama cat"
   ],
   "metadata": {}
  },
  {
   "cell_type": "code",
   "execution_count": null,
   "source": [
    "class Dog():\r\n",
    "    def __init__(self,name):\r\n",
    "        self.name = name\r\n",
    "        \r\n",
    "    def speak(self):\r\n",
    "        return self.name + \" says woof!\""
   ],
   "outputs": [],
   "metadata": {}
  },
  {
   "cell_type": "code",
   "execution_count": null,
   "source": [
    "class Cat():\r\n",
    "    def __init__(self,name):\r\n",
    "        self.name = name\r\n",
    "        \r\n",
    "    def speak(self):\r\n",
    "        return self.name + \" says meow!\""
   ],
   "outputs": [],
   "metadata": {}
  },
  {
   "cell_type": "code",
   "execution_count": null,
   "source": [
    "spike = Dog(\"Spike\")\r\n",
    "tom = Cat(\"Tom\")"
   ],
   "outputs": [],
   "metadata": {}
  },
  {
   "cell_type": "code",
   "execution_count": null,
   "source": [
    "print(spike.speak())"
   ],
   "outputs": [
    {
     "output_type": "stream",
     "name": "stdout",
     "text": [
      "Spike says woof!\n"
     ]
    }
   ],
   "metadata": {}
  },
  {
   "cell_type": "code",
   "execution_count": null,
   "source": [
    "print(tom.speak())"
   ],
   "outputs": [
    {
     "output_type": "stream",
     "name": "stdout",
     "text": [
      "Tom says meow!\n"
     ]
    }
   ],
   "metadata": {}
  },
  {
   "cell_type": "markdown",
   "source": [
    "###### 2-2 nya sama2 pake method speak() tapi hasilnya tetep beda"
   ],
   "metadata": {}
  },
  {
   "cell_type": "markdown",
   "source": [
    "##### bisa juga for loop"
   ],
   "metadata": {}
  },
  {
   "cell_type": "code",
   "execution_count": null,
   "source": [
    "for pet in [spike,tom]:\r\n",
    "    \r\n",
    "    print(type(pet))\r\n",
    "    print(type(pet.speak()))"
   ],
   "outputs": [
    {
     "output_type": "stream",
     "name": "stdout",
     "text": [
      "<class '__main__.Dog'>\n",
      "<class 'str'>\n",
      "<class '__main__.Cat'>\n",
      "<class 'str'>\n"
     ]
    }
   ],
   "metadata": {}
  },
  {
   "cell_type": "markdown",
   "source": [
    "###### bisa di liat di atas, 2-2nya beda, 1 nya main dog, 1 nya main cat, coba kita liat outputnya"
   ],
   "metadata": {}
  },
  {
   "cell_type": "code",
   "execution_count": null,
   "source": [
    "for pet in [spike,tom]:\n",
    "    \n",
    "    print(type(pet))\n",
    "    print(pet.speak())"
   ],
   "outputs": [
    {
     "output_type": "stream",
     "name": "stdout",
     "text": [
      "<class '__main__.Dog'>\n",
      "Spike says woof!\n",
      "<class '__main__.Cat'>\n",
      "Tom says meow!\n"
     ]
    }
   ],
   "metadata": {}
  },
  {
   "cell_type": "markdown",
   "source": [
    "###### outputnya beda"
   ],
   "metadata": {}
  },
  {
   "cell_type": "markdown",
   "source": [
    "##### contoh lain, kita buat function universal yang bisa di pake class 2-2nya"
   ],
   "metadata": {}
  },
  {
   "cell_type": "code",
   "execution_count": null,
   "source": [
    "def pet_speak(pet): # function ini ga akan peduli mau pet cat atau dog\n",
    "    print(pet.speak())"
   ],
   "outputs": [],
   "metadata": {}
  },
  {
   "cell_type": "code",
   "execution_count": null,
   "source": [
    "pet_speak(spike)"
   ],
   "outputs": [
    {
     "output_type": "stream",
     "name": "stdout",
     "text": [
      "Spike says woof!\n"
     ]
    }
   ],
   "metadata": {}
  },
  {
   "cell_type": "code",
   "execution_count": null,
   "source": [
    "pet_speak(tom)"
   ],
   "outputs": [
    {
     "output_type": "stream",
     "name": "stdout",
     "text": [
      "Tom says meow!\n"
     ]
    }
   ],
   "metadata": {}
  },
  {
   "cell_type": "markdown",
   "source": [
    "### contoh lain lagi yang biasa di pake adalah abstract class, yaitu class yang biasanya ga pernah di instantiate, tapi cuma di pake sebagai base class"
   ],
   "metadata": {}
  },
  {
   "cell_type": "code",
   "execution_count": null,
   "source": [
    "class Animal():\r\n",
    "    \r\n",
    "    def __init__(self,name):\r\n",
    "        self.name = name\r\n",
    "        \r\n",
    "    def speak(self):\r\n",
    "        raise NotImplementedError(\"Subclass must implement this abstract method\")\r\n",
    "        # ini error and exception bakal ada di next course"
   ],
   "outputs": [],
   "metadata": {}
  },
  {
   "cell_type": "code",
   "execution_count": null,
   "source": [
    "myanimal = Animal('fred')"
   ],
   "outputs": [],
   "metadata": {}
  },
  {
   "cell_type": "code",
   "execution_count": null,
   "source": [
    "myanimal.speak() # error karena kita emang ga expect class ini di instantiate"
   ],
   "outputs": [
    {
     "output_type": "error",
     "ename": "NotImplementedError",
     "evalue": "Subclass must implement this abstract method",
     "traceback": [
      "\u001b[1;31m---------------------------------------------------------------------------\u001b[0m",
      "\u001b[1;31mNotImplementedError\u001b[0m                       Traceback (most recent call last)",
      "\u001b[1;32m<ipython-input-124-1ca599071cfb>\u001b[0m in \u001b[0;36m<module>\u001b[1;34m\u001b[0m\n\u001b[1;32m----> 1\u001b[1;33m \u001b[0mmyanimal\u001b[0m\u001b[1;33m.\u001b[0m\u001b[0mspeak\u001b[0m\u001b[1;33m(\u001b[0m\u001b[1;33m)\u001b[0m \u001b[1;31m# error karena kita emang ga expect class ini di instantiate\u001b[0m\u001b[1;33m\u001b[0m\u001b[1;33m\u001b[0m\u001b[0m\n\u001b[0m",
      "\u001b[1;32m<ipython-input-121-50d719682737>\u001b[0m in \u001b[0;36mspeak\u001b[1;34m(self)\u001b[0m\n\u001b[0;32m      5\u001b[0m \u001b[1;33m\u001b[0m\u001b[0m\n\u001b[0;32m      6\u001b[0m     \u001b[1;32mdef\u001b[0m \u001b[0mspeak\u001b[0m\u001b[1;33m(\u001b[0m\u001b[0mself\u001b[0m\u001b[1;33m)\u001b[0m\u001b[1;33m:\u001b[0m\u001b[1;33m\u001b[0m\u001b[1;33m\u001b[0m\u001b[0m\n\u001b[1;32m----> 7\u001b[1;33m         \u001b[1;32mraise\u001b[0m \u001b[0mNotImplementedError\u001b[0m\u001b[1;33m(\u001b[0m\u001b[1;34m\"Subclass must implement this abstract method\"\u001b[0m\u001b[1;33m)\u001b[0m\u001b[1;33m\u001b[0m\u001b[1;33m\u001b[0m\u001b[0m\n\u001b[0m\u001b[0;32m      8\u001b[0m         \u001b[1;31m# ini error and exception bakal ada di next course\u001b[0m\u001b[1;33m\u001b[0m\u001b[1;33m\u001b[0m\u001b[1;33m\u001b[0m\u001b[0m\n",
      "\u001b[1;31mNotImplementedError\u001b[0m: Subclass must implement this abstract method"
     ]
    }
   ],
   "metadata": {}
  },
  {
   "cell_type": "code",
   "execution_count": null,
   "source": [
    "class Dog(Animal):\r\n",
    "    \r\n",
    "    # ga perlu init method lagi\r\n",
    "    def speak(self):\r\n",
    "        return self.name+ \" says woof!\""
   ],
   "outputs": [],
   "metadata": {}
  },
  {
   "cell_type": "code",
   "execution_count": null,
   "source": [
    "class Cat(Animal):\r\n",
    "    \r\n",
    "    def speak(self):\r\n",
    "        return self.name+ \" says meow!\""
   ],
   "outputs": [],
   "metadata": {}
  },
  {
   "cell_type": "code",
   "execution_count": null,
   "source": [
    "jack = Dog(\"Jack\")"
   ],
   "outputs": [],
   "metadata": {}
  },
  {
   "cell_type": "code",
   "execution_count": null,
   "source": [
    "miss = Cat(\"Miss\")"
   ],
   "outputs": [],
   "metadata": {}
  },
  {
   "cell_type": "code",
   "execution_count": null,
   "source": [
    "jack.speak()"
   ],
   "outputs": [
    {
     "output_type": "execute_result",
     "data": {
      "text/plain": [
       "'Jack says woof!'"
      ]
     },
     "metadata": {},
     "execution_count": 131
    }
   ],
   "metadata": {}
  },
  {
   "cell_type": "code",
   "execution_count": null,
   "source": [
    "miss.speak()"
   ],
   "outputs": [
    {
     "output_type": "execute_result",
     "data": {
      "text/plain": [
       "'Miss says meow!'"
      ]
     },
     "metadata": {},
     "execution_count": 132
    }
   ],
   "metadata": {}
  },
  {
   "cell_type": "markdown",
   "source": [
    "#### contoh lainnya adalah misalkan kita buat base class buat buka file, terus kita ada 3 jenis file, word excel ppt, tinggal buat class drive buat buka masing2 jenis file pake base class yang buat buka file"
   ],
   "metadata": {}
  },
  {
   "cell_type": "markdown",
   "source": [
    "### Special (Magic/Dunder) Method"
   ],
   "metadata": {}
  },
  {
   "cell_type": "code",
   "execution_count": null,
   "source": [
    "mylist = [1,2,3]"
   ],
   "outputs": [],
   "metadata": {}
  },
  {
   "cell_type": "code",
   "execution_count": null,
   "source": [
    "len(mylist)"
   ],
   "outputs": [
    {
     "output_type": "execute_result",
     "data": {
      "text/plain": [
       "3"
      ]
     },
     "metadata": {},
     "execution_count": 134
    }
   ],
   "metadata": {}
  },
  {
   "cell_type": "code",
   "execution_count": null,
   "source": [
    "class Sample():\r\n",
    "    pass"
   ],
   "outputs": [],
   "metadata": {}
  },
  {
   "cell_type": "code",
   "execution_count": null,
   "source": [
    "mysample = Sample()"
   ],
   "outputs": [],
   "metadata": {}
  },
  {
   "cell_type": "code",
   "execution_count": null,
   "source": [
    "print(mysample) # gabisa print"
   ],
   "outputs": [
    {
     "output_type": "stream",
     "name": "stdout",
     "text": [
      "<__main__.Sample object at 0x000001A3C9D70AC8>\n"
     ]
    }
   ],
   "metadata": {}
  },
  {
   "cell_type": "code",
   "execution_count": null,
   "source": [
    "print(mylist) # bisa print karena list itu built-in"
   ],
   "outputs": [
    {
     "output_type": "stream",
     "name": "stdout",
     "text": [
      "[1, 2, 3]\n"
     ]
    }
   ],
   "metadata": {}
  },
  {
   "cell_type": "markdown",
   "source": [
    "gimana caranya kita bisa pake built-in function kaya print atau len pake user define objects kita sendiri? nah ini dia guna special method!"
   ],
   "metadata": {}
  },
  {
   "cell_type": "code",
   "execution_count": null,
   "source": [
    "class Book():\r\n",
    "    \r\n",
    "    def __init__(self,title,author,pages):\r\n",
    "        self.title = title\r\n",
    "        self.author = author\r\n",
    "        self.pages = pages"
   ],
   "outputs": [],
   "metadata": {}
  },
  {
   "cell_type": "code",
   "execution_count": null,
   "source": [
    "b = Book('Rich Dad Poor Dad','Robert T. Kyosaki',200)"
   ],
   "outputs": [],
   "metadata": {}
  },
  {
   "cell_type": "code",
   "execution_count": null,
   "source": [
    "print(b) # dia cuma ngasih tau kita ada book object di memory"
   ],
   "outputs": [
    {
     "output_type": "stream",
     "name": "stdout",
     "text": [
      "<__main__.Book object at 0x000001A3CA811BC8>\n"
     ]
    }
   ],
   "metadata": {}
  },
  {
   "cell_type": "code",
   "execution_count": null,
   "source": [
    "str(b) # kalo kita ubah, cuma dapet string version dari report yang di atas"
   ],
   "outputs": [
    {
     "output_type": "execute_result",
     "data": {
      "text/plain": [
       "'<__main__.Book object at 0x000001A3CA811BC8>'"
      ]
     },
     "metadata": {},
     "execution_count": 148
    }
   ],
   "metadata": {}
  },
  {
   "cell_type": "markdown",
   "source": [
    "### harusnya gini"
   ],
   "metadata": {}
  },
  {
   "cell_type": "markdown",
   "source": [
    "##### jadi waktu mau ngeprint book object, print function bakalan nanya ke book object, hey lu ada string representation buat di print ga? terus book bilang yes gw punya __ str __ dan return string!"
   ],
   "metadata": {}
  },
  {
   "cell_type": "code",
   "execution_count": null,
   "source": [
    "class Book():\r\n",
    "    \r\n",
    "    def __init__(self,title,author,pages):\r\n",
    "        self.title = title\r\n",
    "        self.author = author\r\n",
    "        self.pages = pages\r\n",
    "        \r\n",
    "    # STRING\r\n",
    "    def __str__(self): # pake underscore sama nama functionnya persis\r\n",
    "        return f\"{self.title} by {self.author}\"\r\n",
    "    \r\n",
    "    # BISA JUGA LEN\r\n",
    "    def __len__(self):\r\n",
    "        return self.pages"
   ],
   "outputs": [],
   "metadata": {}
  },
  {
   "cell_type": "code",
   "execution_count": null,
   "source": [
    "b = Book('Rich Dad Poor Dad','Robert T. Kyosaki',200)"
   ],
   "outputs": [],
   "metadata": {}
  },
  {
   "cell_type": "code",
   "execution_count": null,
   "source": [
    "print(b) # UDAH BISA"
   ],
   "outputs": [
    {
     "output_type": "stream",
     "name": "stdout",
     "text": [
      "Rich Dad Poor Dad by Robert T. Kyosaki\n"
     ]
    }
   ],
   "metadata": {}
  },
  {
   "cell_type": "code",
   "execution_count": null,
   "source": [
    "str(b)"
   ],
   "outputs": [
    {
     "output_type": "execute_result",
     "data": {
      "text/plain": [
       "'Rich Dad Poor Dad by Robert T. Kyosaki'"
      ]
     },
     "metadata": {},
     "execution_count": 164
    }
   ],
   "metadata": {}
  },
  {
   "cell_type": "code",
   "execution_count": null,
   "source": [
    "len(b)"
   ],
   "outputs": [
    {
     "output_type": "execute_result",
     "data": {
      "text/plain": [
       "200"
      ]
     },
     "metadata": {},
     "execution_count": 165
    }
   ],
   "metadata": {}
  },
  {
   "cell_type": "markdown",
   "source": [
    "##### satu tips, kita bisa apus object book yaitu yang kita instantiate sebagai 'b' dari memory, caranya pake del"
   ],
   "metadata": {}
  },
  {
   "cell_type": "markdown",
   "source": [
    "###### tapi habis delete kita biasa mau ada sesuatu yang muncul buat confirm"
   ],
   "metadata": {}
  },
  {
   "cell_type": "code",
   "execution_count": null,
   "source": [
    "del b"
   ],
   "outputs": [],
   "metadata": {}
  },
  {
   "cell_type": "code",
   "execution_count": null,
   "source": [
    "b"
   ],
   "outputs": [
    {
     "output_type": "error",
     "ename": "NameError",
     "evalue": "name 'b' is not defined",
     "traceback": [
      "\u001b[1;31m---------------------------------------------------------------------------\u001b[0m",
      "\u001b[1;31mNameError\u001b[0m                                 Traceback (most recent call last)",
      "\u001b[1;32m<ipython-input-167-89e6c98d9288>\u001b[0m in \u001b[0;36m<module>\u001b[1;34m\u001b[0m\n\u001b[1;32m----> 1\u001b[1;33m \u001b[0mb\u001b[0m\u001b[1;33m\u001b[0m\u001b[1;33m\u001b[0m\u001b[0m\n\u001b[0m",
      "\u001b[1;31mNameError\u001b[0m: name 'b' is not defined"
     ]
    }
   ],
   "metadata": {
    "scrolled": true
   }
  },
  {
   "cell_type": "markdown",
   "source": [
    "###### jadi tambahin ini di code nya"
   ],
   "metadata": {}
  },
  {
   "cell_type": "code",
   "execution_count": null,
   "source": [
    "class Book():\n",
    "    \n",
    "    def __init__(self,title,author,pages):\n",
    "        self.title = title\n",
    "        self.author = author\n",
    "        self.pages = pages\n",
    "        \n",
    "    # STRING\n",
    "    def __str__(self): # pake underscore sama nama functionnya persis\n",
    "        return f\"{self.title} by {self.author}\"\n",
    "    \n",
    "    # BISA JUGA LEN\n",
    "    def __len__(self):\n",
    "        return self.pages\n",
    "    \n",
    "    # DEL\n",
    "    def __del__(self):\n",
    "        print(\"A book object has been deleted\") # dia bakal muncul ini habis del"
   ],
   "outputs": [],
   "metadata": {}
  },
  {
   "cell_type": "code",
   "execution_count": null,
   "source": [
    "b = Book('Rich Dad Poor Dad','Robert T. Kyosaki',200)"
   ],
   "outputs": [],
   "metadata": {}
  },
  {
   "cell_type": "code",
   "execution_count": null,
   "source": [
    "print(b)"
   ],
   "outputs": [
    {
     "output_type": "stream",
     "name": "stdout",
     "text": [
      "Rich Dad Poor Dad by Robert T. Kyosaki\n"
     ]
    }
   ],
   "metadata": {}
  },
  {
   "cell_type": "code",
   "execution_count": null,
   "source": [
    "del b"
   ],
   "outputs": [
    {
     "output_type": "stream",
     "name": "stdout",
     "text": [
      "A book object has been deleted\n"
     ]
    }
   ],
   "metadata": {}
  },
  {
   "cell_type": "code",
   "execution_count": null,
   "source": [
    "b"
   ],
   "outputs": [
    {
     "output_type": "error",
     "ename": "NameError",
     "evalue": "name 'b' is not defined",
     "traceback": [
      "\u001b[1;31m---------------------------------------------------------------------------\u001b[0m",
      "\u001b[1;31mNameError\u001b[0m                                 Traceback (most recent call last)",
      "\u001b[1;32m<ipython-input-172-89e6c98d9288>\u001b[0m in \u001b[0;36m<module>\u001b[1;34m\u001b[0m\n\u001b[1;32m----> 1\u001b[1;33m \u001b[0mb\u001b[0m\u001b[1;33m\u001b[0m\u001b[1;33m\u001b[0m\u001b[0m\n\u001b[0m",
      "\u001b[1;31mNameError\u001b[0m: name 'b' is not defined"
     ]
    }
   ],
   "metadata": {
    "scrolled": true
   }
  },
  {
   "cell_type": "code",
   "execution_count": null,
   "source": [],
   "outputs": [],
   "metadata": {}
  },
  {
   "cell_type": "code",
   "execution_count": null,
   "source": [],
   "outputs": [],
   "metadata": {}
  },
  {
   "cell_type": "code",
   "execution_count": null,
   "source": [],
   "outputs": [],
   "metadata": {}
  },
  {
   "cell_type": "code",
   "execution_count": null,
   "source": [],
   "outputs": [],
   "metadata": {}
  },
  {
   "cell_type": "code",
   "execution_count": null,
   "source": [],
   "outputs": [],
   "metadata": {}
  },
  {
   "cell_type": "code",
   "execution_count": null,
   "source": [],
   "outputs": [],
   "metadata": {}
  },
  {
   "cell_type": "code",
   "execution_count": null,
   "source": [],
   "outputs": [],
   "metadata": {}
  },
  {
   "cell_type": "code",
   "execution_count": null,
   "source": [],
   "outputs": [],
   "metadata": {}
  },
  {
   "cell_type": "code",
   "execution_count": null,
   "source": [],
   "outputs": [],
   "metadata": {}
  },
  {
   "cell_type": "code",
   "execution_count": null,
   "source": [],
   "outputs": [],
   "metadata": {}
  },
  {
   "cell_type": "code",
   "execution_count": null,
   "source": [],
   "outputs": [],
   "metadata": {}
  }
 ],
 "metadata": {
  "kernelspec": {
   "name": "python3",
   "display_name": "Python 3.7.10 64-bit ('mylearning': conda)"
  },
  "language_info": {
   "codemirror_mode": {
    "name": "ipython",
    "version": 3
   },
   "file_extension": ".py",
   "mimetype": "text/x-python",
   "name": "python",
   "nbconvert_exporter": "python",
   "pygments_lexer": "ipython3",
   "version": "3.7.10"
  },
  "interpreter": {
   "hash": "fd135786ac51dc6e78ecb4c4ffdf2194e64e698f4ed2386ddfc8fe3890661cc7"
  }
 },
 "nbformat": 4,
 "nbformat_minor": 4
}