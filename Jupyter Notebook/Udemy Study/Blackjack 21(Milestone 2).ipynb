{
 "cells": [
  {
   "cell_type": "code",
   "execution_count": 1,
   "source": [
    "suits = {'Hearts':'♥', 'Diamonds':'♦', 'Spades':'♣', 'Clubs':'♠'}\r\n",
    "ranks = ('Two', 'Three', 'Four', 'Five', 'Six', 'Seven', 'Eight', 'Nine', 'Ten', 'Jack', 'Queen', 'King', 'Ace')\r\n",
    "values = {'Two':2, 'Three':3, 'Four':4, 'Five':5, 'Six':6, 'Seven':7, 'Eight':8, \r\n",
    "            'Nine':9, 'Ten':10, 'Jack':10, 'Queen':10, 'King':10, 'Ace':11}"
   ],
   "outputs": [],
   "metadata": {}
  },
  {
   "cell_type": "code",
   "execution_count": 2,
   "source": [
    "class Card:\r\n",
    "\r\n",
    "    def __init__(self,rank,suit):\r\n",
    "        self.rank = rank\r\n",
    "        self.suit = suit\r\n",
    "        self.value = values[rank]\r\n",
    "\r\n",
    "    def __str__(self):\r\n",
    "        return self.rank + \" of \" + self.suit\r\n",
    "\r\n",
    "    def show(self):\r\n",
    "        print('┌───────┐')\r\n",
    "        print(f'| {self.value:<2}    |')\r\n",
    "        print('|       |')\r\n",
    "        print(f'|   {suits[self.suit]}   |')\r\n",
    "        print('|       |')\r\n",
    "        print(f'|    {self.value:>2} |')\r\n",
    "        print('└───────┘')"
   ],
   "outputs": [],
   "metadata": {}
  },
  {
   "cell_type": "code",
   "execution_count": 3,
   "source": [
    "import random\r\n",
    "\r\n",
    "class Deck:\r\n",
    "\r\n",
    "    def __init__(self):\r\n",
    "\r\n",
    "        self.deck = []\r\n",
    "\r\n",
    "        for suit in suits:\r\n",
    "            for rank in ranks:\r\n",
    "                created_card = Card(rank,suit)\r\n",
    "                self.deck.append(created_card)\r\n",
    "\r\n",
    "    def __str__(self):\r\n",
    "        decklist = ''\r\n",
    "        for card in self.deck:\r\n",
    "            decklist += card.__str__() + '\\n'\r\n",
    "        return decklist\r\n",
    "\r\n",
    "    def shuffle(self):\r\n",
    "        random.shuffle(self.deck)\r\n",
    "\r\n",
    "    def draw(self):\r\n",
    "        return self.deck.pop()"
   ],
   "outputs": [],
   "metadata": {}
  },
  {
   "cell_type": "code",
   "execution_count": 4,
   "source": [
    "class Hand:\r\n",
    "\r\n",
    "    def __init__(self):\r\n",
    "        self.cards = []\r\n",
    "        self.value = 0\r\n",
    "        self.aces = 0\r\n",
    "\r\n",
    "    def add_card(self,card):\r\n",
    "        self.cards.append(card)\r\n",
    "        self.value += values[card.rank]\r\n",
    "        if card.rank == 'Ace':\r\n",
    "            self.aces += 1\r\n",
    "\r\n",
    "    def adjust_for_ace(self):\r\n",
    "        while self.aces and self.value > 21:\r\n",
    "            self.aces -= 1\r\n",
    "            self.value -= 10"
   ],
   "outputs": [],
   "metadata": {}
  },
  {
   "cell_type": "code",
   "execution_count": 5,
   "source": [
    "class Chips:\r\n",
    "\r\n",
    "    def __init__(self):\r\n",
    "        self.total = 100\r\n",
    "        self.bet = 0\r\n",
    "\r\n",
    "    def win_bet(self):\r\n",
    "        self.total += self.bet\r\n",
    "\r\n",
    "    def lose_bet(self):\r\n",
    "        self.total -= self.bet"
   ],
   "outputs": [],
   "metadata": {}
  },
  {
   "cell_type": "code",
   "execution_count": 6,
   "source": [
    "def take_bet(chips):\r\n",
    "\r\n",
    "    while True:\r\n",
    "        try:\r\n",
    "            chips.bet = int(input(\"How much do you wanna bet?\"))\r\n",
    "        except:\r\n",
    "            print(\"Sorry you can only input with integers!\")\r\n",
    "        else:\r\n",
    "            if chips.bet > chips.total:\r\n",
    "                print(\"Sorry your bet cannot exceed\", chips.total)\r\n",
    "            else:\r\n",
    "                break"
   ],
   "outputs": [],
   "metadata": {}
  },
  {
   "cell_type": "code",
   "execution_count": 8,
   "source": [
    "def hit(deck,hand):\r\n",
    "    hand.add_card(deck.draw())\r\n",
    "    hand.adjust_for_ace"
   ],
   "outputs": [],
   "metadata": {}
  },
  {
   "cell_type": "code",
   "execution_count": 9,
   "source": [
    "def hit_or_stand(deck,hand):\r\n",
    "    global playing\r\n",
    "\r\n",
    "    while True:\r\n",
    "        x = input(\"Hit or Stand? Enter H or S\")\r\n",
    "\r\n",
    "        if x[0].lower == 'h':\r\n",
    "            hit(deck,hand)\r\n",
    "        \r\n",
    "        elif x[0].lower == 's':\r\n",
    "            print(\"Player stands. Dealer is playing.\")\r\n",
    "            playing = False\r\n",
    "\r\n",
    "        else:\r\n",
    "            print(\"Sorry, please try again!\")\r\n",
    "            continue\r\n",
    "        break"
   ],
   "outputs": [],
   "metadata": {}
  },
  {
   "cell_type": "code",
   "execution_count": null,
   "source": [],
   "outputs": [],
   "metadata": {}
  },
  {
   "cell_type": "code",
   "execution_count": null,
   "source": [],
   "outputs": [],
   "metadata": {}
  },
  {
   "cell_type": "code",
   "execution_count": null,
   "source": [],
   "outputs": [],
   "metadata": {}
  },
  {
   "cell_type": "code",
   "execution_count": null,
   "source": [],
   "outputs": [],
   "metadata": {}
  },
  {
   "cell_type": "code",
   "execution_count": null,
   "source": [],
   "outputs": [],
   "metadata": {}
  }
 ],
 "metadata": {
  "orig_nbformat": 4,
  "language_info": {
   "name": "python",
   "version": "3.8.8",
   "mimetype": "text/x-python",
   "codemirror_mode": {
    "name": "ipython",
    "version": 3
   },
   "pygments_lexer": "ipython3",
   "nbconvert_exporter": "python",
   "file_extension": ".py"
  },
  "kernelspec": {
   "name": "python3",
   "display_name": "Python 3.8.8 64-bit ('base': conda)"
  },
  "interpreter": {
   "hash": "867ce567dba06f9b6fc0e6996521b1650d00b434477dc2e5bc9cb46afac68cdd"
  }
 },
 "nbformat": 4,
 "nbformat_minor": 2
}