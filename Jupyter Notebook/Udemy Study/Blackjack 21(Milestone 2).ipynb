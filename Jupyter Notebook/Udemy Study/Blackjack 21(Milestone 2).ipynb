{
 "cells": [
  {
   "cell_type": "code",
   "execution_count": null,
   "source": [
    "suits = {'Hearts':'♥', 'Diamonds':'♦', 'Spades':'♣', 'Clubs':'♠'}\r\n",
    "ranks = ('Two', 'Three', 'Four', 'Five', 'Six', 'Seven', 'Eight', 'Nine', 'Ten', 'Jack', 'Queen', 'King', 'Ace')\r\n",
    "values = {'Two':2, 'Three':3, 'Four':4, 'Five':5, 'Six':6, 'Seven':7, 'Eight':8, \r\n",
    "            'Nine':9, 'Ten':10, 'Jack':10, 'Queen':10, 'King':10, 'Ace':11}"
   ],
   "outputs": [],
   "metadata": {}
  },
  {
   "cell_type": "code",
   "execution_count": null,
   "source": [
    "class Card:\r\n",
    "\r\n",
    "    def __init__(self,rank,suit):\r\n",
    "        self.rank = rank\r\n",
    "        self.suit = suit\r\n",
    "        self.value = values[rank]\r\n",
    "\r\n",
    "    def __str__(self):\r\n",
    "        return self.rank + \" of \" + self.suit\r\n",
    "\r\n",
    "    def show(self):\r\n",
    "        print('┌───────┐')\r\n",
    "        print(f'| {self.value:<2}    |')\r\n",
    "        print('|       |')\r\n",
    "        print(f'|   {suits[self.suit]}   |')\r\n",
    "        print('|       |')\r\n",
    "        print(f'|    {self.value:>2} |')\r\n",
    "        print('└───────┘') "
   ],
   "outputs": [],
   "metadata": {}
  },
  {
   "cell_type": "code",
   "execution_count": null,
   "source": [
    "import random\r\n",
    "\r\n",
    "class Deck:\r\n",
    "\r\n",
    "    def __init__(self):\r\n",
    "\r\n",
    "        self.deck = []\r\n",
    "\r\n",
    "        for suit in suits:\r\n",
    "            for rank in ranks:\r\n",
    "                created_card = Card(rank,suit)\r\n",
    "                self.deck.append(created_card)\r\n",
    "\r\n",
    "    def __str__(self):\r\n",
    "        decklist = ''\r\n",
    "        for card in self.deck:\r\n",
    "            decklist += card.__str__() + '\\n'\r\n",
    "        return decklist\r\n",
    "\r\n",
    "    def shuffle(self):\r\n",
    "        random.shuffle(self.deck)\r\n",
    "\r\n",
    "    def draw(self):\r\n",
    "        return self.deck.pop()"
   ],
   "outputs": [],
   "metadata": {}
  },
  {
   "cell_type": "code",
   "execution_count": null,
   "source": [
    "class Hand:\r\n",
    "\r\n",
    "    def __init__(self):\r\n",
    "        self.cards = []\r\n",
    "        self.value = 0\r\n",
    "        self.aces = 0\r\n",
    "\r\n",
    "    def add_card(self,card):\r\n",
    "        "
   ],
   "outputs": [],
   "metadata": {}
  },
  {
   "cell_type": "code",
   "execution_count": null,
   "source": [],
   "outputs": [],
   "metadata": {}
  },
  {
   "cell_type": "code",
   "execution_count": null,
   "source": [],
   "outputs": [],
   "metadata": {}
  },
  {
   "cell_type": "code",
   "execution_count": null,
   "source": [],
   "outputs": [],
   "metadata": {}
  },
  {
   "cell_type": "code",
   "execution_count": null,
   "source": [],
   "outputs": [],
   "metadata": {}
  }
 ],
 "metadata": {
  "orig_nbformat": 4,
  "language_info": {
   "name": "python",
   "version": "3.7.10",
   "mimetype": "text/x-python",
   "codemirror_mode": {
    "name": "ipython",
    "version": 3
   },
   "pygments_lexer": "ipython3",
   "nbconvert_exporter": "python",
   "file_extension": ".py"
  },
  "kernelspec": {
   "name": "python3",
   "display_name": "Python 3.7.10 64-bit ('mylearning': conda)"
  },
  "interpreter": {
   "hash": "fd135786ac51dc6e78ecb4c4ffdf2194e64e698f4ed2386ddfc8fe3890661cc7"
  }
 },
 "nbformat": 4,
 "nbformat_minor": 2
}