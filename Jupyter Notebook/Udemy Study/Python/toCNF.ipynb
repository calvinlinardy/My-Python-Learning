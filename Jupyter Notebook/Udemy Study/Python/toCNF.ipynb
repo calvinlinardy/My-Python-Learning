{
 "cells": [
  {
   "cell_type": "code",
   "execution_count": 6,
   "metadata": {},
   "outputs": [],
   "source": [
    "from sympy.logic.boolalg import to_cnf\n",
    "from sympy.abc import A, B, E, C, F"
   ]
  },
  {
   "cell_type": "code",
   "execution_count": 2,
   "metadata": {},
   "outputs": [
    {
     "data": {
      "text/latex": [
       "$\\displaystyle \\left(A \\vee \\neg B\\right) \\wedge \\left(A \\vee \\neg E\\right) \\wedge \\left(B \\vee E \\vee \\neg A\\right)$"
      ],
      "text/plain": [
       "(A | ~B) & (A | ~E) & (B | E | ~A)"
      ]
     },
     "execution_count": 2,
     "metadata": {},
     "output_type": "execute_result"
    }
   ],
   "source": [
    "to_cnf(A>>(B|E)&(B|E)>>A)"
   ]
  },
  {
   "cell_type": "code",
   "execution_count": 11,
   "metadata": {},
   "outputs": [
    {
     "data": {
      "text/latex": [
       "$\\displaystyle C \\wedge \\left(\\neg B \\vee \\neg F\\right)$"
      ],
      "text/plain": [
       "C & (~B | ~F)"
      ]
     },
     "execution_count": 11,
     "metadata": {},
     "output_type": "execute_result"
    }
   ],
   "source": [
    "to_cnf(C & F >> ~B)"
   ]
  },
  {
   "cell_type": "code",
   "execution_count": 9,
   "metadata": {},
   "outputs": [
    {
     "data": {
      "text/latex": [
       "$\\displaystyle B \\vee \\neg E$"
      ],
      "text/plain": [
       "B | ~E"
      ]
     },
     "execution_count": 9,
     "metadata": {},
     "output_type": "execute_result"
    }
   ],
   "source": [
    "to_cnf(E>>B)"
   ]
  }
 ],
 "metadata": {
  "interpreter": {
   "hash": "83ec45cc436fe97dfcb7e49be3398e2e24672a6d2dfeaf83ff8d483e0780f9e3"
  },
  "kernelspec": {
   "display_name": "Python 3.8.8 64-bit ('base': conda)",
   "language": "python",
   "name": "python3"
  },
  "language_info": {
   "codemirror_mode": {
    "name": "ipython",
    "version": 3
   },
   "file_extension": ".py",
   "mimetype": "text/x-python",
   "name": "python",
   "nbconvert_exporter": "python",
   "pygments_lexer": "ipython3",
   "version": "3.8.8"
  },
  "orig_nbformat": 4
 },
 "nbformat": 4,
 "nbformat_minor": 2
}
