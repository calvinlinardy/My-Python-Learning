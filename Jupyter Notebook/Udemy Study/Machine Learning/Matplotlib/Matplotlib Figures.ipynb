{
 "cells": [
  {
   "cell_type": "markdown",
   "metadata": {},
   "source": [
    "# Matplotlib Figures"
   ]
  },
  {
   "cell_type": "code",
   "execution_count": 1,
   "metadata": {},
   "outputs": [],
   "source": [
    "import numpy as np\n",
    "import matplotlib.pyplot as plt"
   ]
  },
  {
   "cell_type": "markdown",
   "metadata": {},
   "source": [
    "## Penjelasan Singkat\n",
    "\n",
    "#### Jadi figure itu kayak canvas putih, jadi waktu kita create figurenya itu kayak kertas putih dan di notebook ga keliatan apa2\n",
    "\n",
    "#### Terus axes itu grafik kosongnya, jadi cuma ada sumbu X sama Y nya tanpa ada grafik atau plot nya, di step ini figurenya udh ga kosong\n",
    "\n",
    "#### Plot nya itu grafiknya yg ngisi axes nya\n"
   ]
  },
  {
   "cell_type": "markdown",
   "metadata": {},
   "source": [
    "ini sebenernya gampang dan simple banget, kalo lupa tonton ulang aja videonya pasti langsung ngerti"
   ]
  },
  {
   "cell_type": "markdown",
   "metadata": {},
   "source": [
    "### Figure"
   ]
  },
  {
   "cell_type": "code",
   "execution_count": 2,
   "metadata": {},
   "outputs": [
    {
     "data": {
      "text/plain": [
       "<Figure size 432x288 with 0 Axes>"
      ]
     },
     "metadata": {},
     "output_type": "display_data"
    }
   ],
   "source": [
    "# creates blank canvas\n",
    "fig = plt.figure()"
   ]
  },
  {
   "cell_type": "markdown",
   "metadata": {},
   "source": [
    "ga akan muncul apa, ini buat nunjukin doank!! \n",
    "\n",
    "Semua step harus di dalem 1 cell!!"
   ]
  },
  {
   "cell_type": "markdown",
   "metadata": {},
   "source": [
    "### Axes"
   ]
  },
  {
   "cell_type": "markdown",
   "metadata": {},
   "source": [
    "jadi axes itu array isinya 4\n",
    "[0,0,1,1] left, bottom, width, height (range 0 to 1)\n",
    "\n",
    "bayangin ukuran kotak, 2 digit pertama itu titik di kiri bawah, 2 digit terakhir itu titik kanan atas\n",
    "\n",
    "jadi itu kayak ukuran axesnya\n",
    "\n",
    "berarti titik pertamanya itu mulai dari titik 0,0 terus ukurannya 1x1\n",
    "\n",
    "NOTES: 2 DIGIT TERAKHIR BUKAN KOORDINAT, TAPI SIZE!!!!!\n",
    "\n",
    "contoh kalo misalkan [1,1,2,2]\n",
    "\n",
    "ini berarti axesnya mulai dari titik 1,1 tapi pojok kanan atasnya bukan di 2,2 melainkan di 3,3. soalnya 2,2 itu artinya sizenya, dari titik 1,1 tambah width sama height 2,2! \n",
    "\n",
    "NGERTIKAN\n",
    "\n",
    "PS : dan axes yang pertama harus range 0-1 kalo buat small axes baru bisa fleksibel"
   ]
  },
  {
   "cell_type": "code",
   "execution_count": 21,
   "metadata": {},
   "outputs": [
    {
     "data": {
      "image/png": "[encoded data removed]",
      "text/plain": [
       "<Figure size 432x288 with 2 Axes>"
      ]
     },
     "metadata": {
      "needs_background": "light"
     },
     "output_type": "display_data"
    }
   ],
   "source": [
    "fig = plt.figure()\n",
    "axes1 = fig.add_axes([0,0,0.5,0.5]) # axes 1 range 0-1\n",
    "axes2 = fig.add_axes([0.5,0.5,0.2,0.2]) # axes berikutnya fleksibel\n",
    "# size axes2 berarti 0.2x0.2"
   ]
  },
  {
   "cell_type": "markdown",
   "metadata": {},
   "source": [
    "# Plot udah di bahas di lecture basic"
   ]
  },
  {
   "cell_type": "code",
   "execution_count": 3,
   "metadata": {},
   "outputs": [],
   "source": [
    "# kita coba bikin datanya dulu"
   ]
  },
  {
   "cell_type": "markdown",
   "metadata": {},
   "source": [
    "## DATA"
   ]
  },
  {
   "cell_type": "code",
   "execution_count": 4,
   "metadata": {},
   "outputs": [],
   "source": [
    "a = np.linspace(0,10,11)\n",
    "b = a ** 4"
   ]
  },
  {
   "cell_type": "code",
   "execution_count": 5,
   "metadata": {},
   "outputs": [
    {
     "data": {
      "text/plain": [
       "array([ 0.,  1.,  2.,  3.,  4.,  5.,  6.,  7.,  8.,  9., 10.])"
      ]
     },
     "execution_count": 5,
     "metadata": {},
     "output_type": "execute_result"
    }
   ],
   "source": [
    "a"
   ]
  },
  {
   "cell_type": "code",
   "execution_count": 6,
   "metadata": {},
   "outputs": [
    {
     "data": {
      "text/plain": [
       "array([0.000e+00, 1.000e+00, 1.600e+01, 8.100e+01, 2.560e+02, 6.250e+02,\n",
       "       1.296e+03, 2.401e+03, 4.096e+03, 6.561e+03, 1.000e+04])"
      ]
     },
     "execution_count": 6,
     "metadata": {},
     "output_type": "execute_result"
    }
   ],
   "source": [
    "b"
   ]
  },
  {
   "cell_type": "code",
   "execution_count": 7,
   "metadata": {},
   "outputs": [],
   "source": [
    "x = np.arange(0,10)\n",
    "y = 2 * x"
   ]
  },
  {
   "cell_type": "code",
   "execution_count": 8,
   "metadata": {},
   "outputs": [
    {
     "data": {
      "text/plain": [
       "array([0, 1, 2, 3, 4, 5, 6, 7, 8, 9])"
      ]
     },
     "execution_count": 8,
     "metadata": {},
     "output_type": "execute_result"
    }
   ],
   "source": [
    "x"
   ]
  },
  {
   "cell_type": "code",
   "execution_count": 9,
   "metadata": {},
   "outputs": [
    {
     "data": {
      "text/plain": [
       "array([ 0,  2,  4,  6,  8, 10, 12, 14, 16, 18])"
      ]
     },
     "execution_count": 9,
     "metadata": {},
     "output_type": "execute_result"
    }
   ],
   "source": [
    "y"
   ]
  },
  {
   "cell_type": "markdown",
   "metadata": {},
   "source": [
    "## Pertama bikin figurenya\n",
    "### Habis itu baru mulai bikin figure instance nya"
   ]
  },
  {
   "cell_type": "code",
   "execution_count": 22,
   "metadata": {},
   "outputs": [
    {
     "data": {
      "image/png": "[encoded data removed]",
      "text/plain": [
       "<Figure size 432x288 with 1 Axes>"
      ]
     },
     "metadata": {
      "needs_background": "light"
     },
     "output_type": "display_data"
    }
   ],
   "source": [
    "fig = plt.figure()\n",
    "\n",
    "# Tambahin axes ke figurenya (kerangka grafiknya)\n",
    "axes = fig.add_axes([0,0,1,1])\n",
    "\n",
    "# Tambah plot pake variable di atas\n",
    "axes.plot(x,y);\n"
   ]
  },
  {
   "cell_type": "code",
   "execution_count": null,
   "metadata": {},
   "outputs": [],
   "source": []
  }
 ],
 "metadata": {
  "interpreter": {
   "hash": "83ec45cc436fe97dfcb7e49be3398e2e24672a6d2dfeaf83ff8d483e0780f9e3"
  },
  "kernelspec": {
   "display_name": "Python 3.8.8 64-bit ('base': conda)",
   "language": "python",
   "name": "python3"
  },
  "language_info": {
   "codemirror_mode": {
    "name": "ipython",
    "version": 3
   },
   "file_extension": ".py",
   "mimetype": "text/x-python",
   "name": "python",
   "nbconvert_exporter": "python",
   "pygments_lexer": "ipython3",
   "version": "3.8.8"
  },
  "orig_nbformat": 4
 },
 "nbformat": 4,
 "nbformat_minor": 2
}
