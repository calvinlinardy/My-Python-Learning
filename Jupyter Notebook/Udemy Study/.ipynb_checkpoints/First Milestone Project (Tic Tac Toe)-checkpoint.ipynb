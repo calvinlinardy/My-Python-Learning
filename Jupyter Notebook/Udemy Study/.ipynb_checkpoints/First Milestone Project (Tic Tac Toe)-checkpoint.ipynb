{
 "cells": [
  {
   "cell_type": "code",
   "execution_count": 1,
   "metadata": {},
   "outputs": [],
   "source": [
    "from IPython.display import clear_output # Ini biar kalo boardnya di panggil lagi yang sebelumnya ilang\n",
    "\n",
    "def display_board(board):\n",
    "    clear_output()\n",
    "    print('\\u0332{q}|\\u0332{w}|\\u0332{e}'.format(**board))\n",
    "    print('\\u0332{a}|\\u0332{s}|\\u0332{d}'.format(**board))\n",
    "    print('{z}|{x}|{c}'.format(**board))"
   ]
  },
  {
   "cell_type": "code",
   "execution_count": 2,
   "metadata": {},
   "outputs": [],
   "source": [
    "theBoard = {'q':' ','w':' ','e':' ',\n",
    "         'a':' ','s':' ','d':' ',\n",
    "         'z':' ','x':' ','c':' '}"
   ]
  },
  {
   "cell_type": "code",
   "execution_count": 3,
   "metadata": {},
   "outputs": [],
   "source": [
    "def clean_board(board):\n",
    "    for i in board.keys():\n",
    "        board[i] = ' '"
   ]
  },
  {
   "cell_type": "code",
   "execution_count": 8,
   "metadata": {},
   "outputs": [],
   "source": [
    "def game():\n",
    "    turn = ' '\n",
    "    count = 0\n",
    "    \n",
    "    clear_output()\n",
    "    print('Welcome to TIC TAC TOE 3.0')\n",
    "    print('Use these keys below to play!')\n",
    "    print('\\u0332Q|\\u0332W|\\u0332E')\n",
    "    print('\\u0332A|\\u0332S|\\u0332D')\n",
    "    print('Z|X|C')\n",
    "    \n",
    "    while not (turn == 'x' or turn == 'o'):\n",
    "        turn = input('Who will take the first turn? (x or o)').lower()\n",
    "        if not (turn == 'x' or turn == 'o'):\n",
    "            print ('You can only choose between x or o.')\n",
    "    clear_output()\n",
    "            \n",
    "    while count < 9:\n",
    "        display_board(theBoard)\n",
    "        pos = input(f'Okay {turn}, where do you wanna place?')\n",
    "        if pos.lower() in theBoard.keys(): \n",
    "            if theBoard[pos] == ' ':\n",
    "                theBoard[pos] = turn\n",
    "                count += 1\n",
    "            else:\n",
    "                print('This spot is not empty!')\n",
    "                continue\n",
    "        else:\n",
    "            print('Input is out of range!')\n",
    "            continue\n",
    "            \n",
    "        if count >= 5:\n",
    "            if (theBoard['q'] == theBoard['w'] == theBoard['e'] == turn) or\n",
    "            (theBoard['a'] == theBoard['s'] == theBoard['d'] == turn)\n",
    "            (theBoard['z'] == theBoard['x'] == theBoard['c'] == turn)\n",
    "            (theBoard['q'] == theBoard['a'] == theBoard['z'] == turn)\n",
    "            (theBoard['w'] == theBoard['s'] == theBoard['x'] == turn)\n",
    "            (theBoard['e'] == theBoard['d'] == theBoard['c'] == turn)\n",
    "            (theBoard['q'] == theBoard['s'] == theBoard['c'] == turn)\n",
    "            (theBoard['e'] == theBoard['s'] == theBoard['z'] == turn):\n",
    "                display_board(theBoard)\n",
    "                print (f'Congratulation! {turn} wins the game!')\n",
    "                print(\"YEAH\")\n",
    "                break\n",
    "                \n",
    "        if count == 9:\n",
    "            print('Game is Tie!')\n",
    "                \n",
    "        if turn == 'x':\n",
    "            turn = 'o'\n",
    "        else:\n",
    "            turn = 'x'\n",
    "            \n",
    "                \n",
    "    clean_board(theBoard)\n",
    "    restart = 'n'\n",
    "    \n",
    "    while not restart.lower() == 'y':\n",
    "        restart = input('Play again? (y/n)  ')\n",
    "        if restart.lower() == 'n':\n",
    "            print('GAME OVER')\n",
    "            break\n",
    "        elif restart.lower() == 'y':\n",
    "            game()\n",
    "        else:\n",
    "            print('Input invalid!')\n",
    "            continue"
   ]
  },
  {
   "cell_type": "code",
   "execution_count": 9,
   "metadata": {
    "scrolled": true
   },
   "outputs": [
    {
     "name": "stdout",
     "output_type": "stream",
     "text": [
      "̲o|̲x|̲ \n",
      "̲x|̲o|̲x\n",
      "o|x|o\n",
      "Congratulation! o wins the game!\n",
      "Play again? (y/n)  n\n",
      "GAME OVER\n"
     ]
    }
   ],
   "source": [
    "game()"
   ]
  },
  {
   "cell_type": "code",
   "execution_count": null,
   "metadata": {},
   "outputs": [],
   "source": []
  }
 ],
 "metadata": {
  "kernelspec": {
   "display_name": "Python 3",
   "language": "python",
   "name": "python3"
  },
  "language_info": {
   "codemirror_mode": {
    "name": "ipython",
    "version": 3
   },
   "file_extension": ".py",
   "mimetype": "text/x-python",
   "name": "python",
   "nbconvert_exporter": "python",
   "pygments_lexer": "ipython3",
   "version": "3.7.6"
  }
 },
 "nbformat": 4,
 "nbformat_minor": 4
}
