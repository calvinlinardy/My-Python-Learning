{
 "cells": [
  {
   "cell_type": "markdown",
   "metadata": {},
   "source": [
    "## Problem 1"
   ]
  },
  {
   "cell_type": "code",
   "execution_count": 1,
   "metadata": {},
   "outputs": [],
   "source": [
    "def multiples35(num):\n",
    "    \n",
    "    multiples_35 = []\n",
    "    \n",
    "    for i in range(num):\n",
    "        if i%3 == 0 or i%5 == 0:\n",
    "            multiples_35.append(i)\n",
    "            \n",
    "    return sum(multiples_35)"
   ]
  },
  {
   "cell_type": "code",
   "execution_count": 2,
   "metadata": {
    "scrolled": false
   },
   "outputs": [
    {
     "data": {
      "text/plain": [
       "233168"
      ]
     },
     "execution_count": 2,
     "metadata": {},
     "output_type": "execute_result"
    }
   ],
   "source": [
    "multiples35(1000)"
   ]
  },
  {
   "cell_type": "markdown",
   "metadata": {},
   "source": [
    "## Problem 2"
   ]
  },
  {
   "cell_type": "code",
   "execution_count": 3,
   "metadata": {},
   "outputs": [],
   "source": [
    "def fibonacci_even():\n",
    "    v1 = 0\n",
    "    v2 = 1\n",
    "    total = 0\n",
    "    fibo = []\n",
    "    \n",
    "    while total < 4000000:\n",
    "        total = v1 + v2\n",
    "        v1 = v2\n",
    "        v2 = total\n",
    "        if total % 2 == 0:\n",
    "            fibo.append(total)\n",
    "        \n",
    "    return sum(fibo)"
   ]
  },
  {
   "cell_type": "code",
   "execution_count": 4,
   "metadata": {},
   "outputs": [
    {
     "data": {
      "text/plain": [
       "4613732"
      ]
     },
     "execution_count": 4,
     "metadata": {},
     "output_type": "execute_result"
    }
   ],
   "source": [
    "fibonacci_even()"
   ]
  },
  {
   "cell_type": "markdown",
   "metadata": {},
   "source": [
    "## Problem 3"
   ]
  },
  {
   "cell_type": "code",
   "execution_count": 135,
   "metadata": {},
   "outputs": [],
   "source": [
    "import math\n",
    "\n",
    "def factor_number(num):\n",
    "    factors = []\n",
    "    \n",
    "    for x in range(1,int(math.sqrt(num))+1):\n",
    "        if num == 1:\n",
    "            factors.append(x)\n",
    "            continue\n",
    "        if num%x == 0:\n",
    "            factors.append(x)\n",
    "            factors.append(num/x)\n",
    "            \n",
    "    return factors"
   ]
  },
  {
   "cell_type": "code",
   "execution_count": 136,
   "metadata": {},
   "outputs": [],
   "source": [
    "def is_prime(num):\n",
    "    return len(factor_number(num)) == 2"
   ]
  },
  {
   "cell_type": "code",
   "execution_count": 137,
   "metadata": {},
   "outputs": [],
   "source": [
    "def largest_prime_factor(num):\n",
    "    \n",
    "    factors = factor_number(num)\n",
    "    prime_factors = []\n",
    "    \n",
    "    for i in factors:\n",
    "        if is_prime(i):\n",
    "            prime_factors.append(i)\n",
    "    \n",
    "    return max(prime_factors)"
   ]
  },
  {
   "cell_type": "code",
   "execution_count": 138,
   "metadata": {},
   "outputs": [
    {
     "data": {
      "text/plain": [
       "6857"
      ]
     },
     "execution_count": 138,
     "metadata": {},
     "output_type": "execute_result"
    }
   ],
   "source": [
    "largest_prime_factor(600851475143)"
   ]
  },
  {
   "cell_type": "markdown",
   "metadata": {},
   "source": [
    "### Problem 7"
   ]
  },
  {
   "cell_type": "code",
   "execution_count": 139,
   "metadata": {},
   "outputs": [],
   "source": [
    "import math\n",
    "\n",
    "def factor_number(num):\n",
    "    factors = []\n",
    "    \n",
    "    for x in range(1,int(math.sqrt(num))+1):\n",
    "        if num == 1:\n",
    "            factors.append(x)\n",
    "            continue\n",
    "        if num%x == 0:\n",
    "            factors.append(x)\n",
    "            factors.append(num/x)\n",
    "            \n",
    "    return factors"
   ]
  },
  {
   "cell_type": "code",
   "execution_count": 140,
   "metadata": {},
   "outputs": [],
   "source": [
    "def is_prime(num):\n",
    "    return len(factor_number(num)) == 2"
   ]
  },
  {
   "cell_type": "code",
   "execution_count": 156,
   "metadata": {},
   "outputs": [],
   "source": [
    "def the_th_prime(num):\n",
    "    \n",
    "    primes = []\n",
    "    x = 1\n",
    "    \n",
    "    while not (len(primes)) == num:\n",
    "        if is_prime(x):\n",
    "            primes.append(x)\n",
    "        else:\n",
    "            pass\n",
    "        x += 1\n",
    "            \n",
    "    return primes[-1]"
   ]
  },
  {
   "cell_type": "code",
   "execution_count": 157,
   "metadata": {
    "scrolled": true
   },
   "outputs": [
    {
     "data": {
      "text/plain": [
       "104743"
      ]
     },
     "execution_count": 157,
     "metadata": {},
     "output_type": "execute_result"
    }
   ],
   "source": [
    "the_th_prime(10001)"
   ]
  },
  {
   "cell_type": "code",
   "execution_count": null,
   "metadata": {},
   "outputs": [],
   "source": [
    "\n"
   ]
  }
 ],
 "metadata": {
  "kernelspec": {
   "display_name": "Python 3",
   "language": "python",
   "name": "python3"
  },
  "language_info": {
   "codemirror_mode": {
    "name": "ipython",
    "version": 3
   },
   "file_extension": ".py",
   "mimetype": "text/x-python",
   "name": "python",
   "nbconvert_exporter": "python",
   "pygments_lexer": "ipython3",
   "version": "3.7.6"
  }
 },
 "nbformat": 4,
 "nbformat_minor": 4
}
