{
 "cells": [
  {
   "cell_type": "code",
   "execution_count": 1,
   "metadata": {},
   "outputs": [],
   "source": [
    "import pandas as pd"
   ]
  },
  {
   "cell_type": "code",
   "execution_count": 54,
   "metadata": {},
   "outputs": [],
   "source": [
    "df = pd.read_excel('/Users/clcx/Documents/Calvin/CRM/Data copy/Non-Active/Bieron/2022-01-(02-03) bieron.xlsx')"
   ]
  },
  {
   "cell_type": "code",
   "execution_count": 55,
   "metadata": {},
   "outputs": [
    {
     "data": {
      "text/html": [
       "<div>\n",
       "<style scoped>\n",
       "    .dataframe tbody tr th:only-of-type {\n",
       "        vertical-align: middle;\n",
       "    }\n",
       "\n",
       "    .dataframe tbody tr th {\n",
       "        vertical-align: top;\n",
       "    }\n",
       "\n",
       "    .dataframe thead th {\n",
       "        text-align: right;\n",
       "    }\n",
       "</style>\n",
       "<table border=\"1\" class=\"dataframe\">\n",
       "  <thead>\n",
       "    <tr style=\"text-align: right;\">\n",
       "      <th></th>\n",
       "      <th>18155770956</th>\n",
       "      <th>张超</th>\n",
       "      <th>安徽省安达五金机械有限公司</th>\n",
       "      <th>安达五金专营店</th>\n",
       "    </tr>\n",
       "  </thead>\n",
       "  <tbody>\n",
       "    <tr>\n",
       "      <th>0</th>\n",
       "      <td>18321003298</td>\n",
       "      <td>汪于成</td>\n",
       "      <td>上海优华贸易有限公司</td>\n",
       "      <td>优华食品专营店</td>\n",
       "    </tr>\n",
       "    <tr>\n",
       "      <th>1</th>\n",
       "      <td>13681781842</td>\n",
       "      <td>童本银</td>\n",
       "      <td>苏州凯格朗贸易有限公司</td>\n",
       "      <td>阳科旗舰店</td>\n",
       "    </tr>\n",
       "    <tr>\n",
       "      <th>2</th>\n",
       "      <td>18621018197</td>\n",
       "      <td>陈毅</td>\n",
       "      <td>上海易美食品有限公司</td>\n",
       "      <td>易美食品专营店</td>\n",
       "    </tr>\n",
       "    <tr>\n",
       "      <th>3</th>\n",
       "      <td>15921228507</td>\n",
       "      <td>符明楼</td>\n",
       "      <td>上海正鸿食品有限公司</td>\n",
       "      <td>尚正鸿食品旗舰店</td>\n",
       "    </tr>\n",
       "    <tr>\n",
       "      <th>4</th>\n",
       "      <td>13827646630</td>\n",
       "      <td>叶发开</td>\n",
       "      <td>阳江市刘小歪商贸有限公司</td>\n",
       "      <td>庶州农社旗舰店</td>\n",
       "    </tr>\n",
       "  </tbody>\n",
       "</table>\n",
       "</div>"
      ],
      "text/plain": [
       "   18155770956   张超 安徽省安达五金机械有限公司   安达五金专营店\n",
       "0  18321003298  汪于成    上海优华贸易有限公司   优华食品专营店\n",
       "1  13681781842  童本银   苏州凯格朗贸易有限公司     阳科旗舰店\n",
       "2  18621018197   陈毅    上海易美食品有限公司   易美食品专营店\n",
       "3  15921228507  符明楼    上海正鸿食品有限公司  尚正鸿食品旗舰店\n",
       "4  13827646630  叶发开  阳江市刘小歪商贸有限公司   庶州农社旗舰店"
      ]
     },
     "execution_count": 55,
     "metadata": {},
     "output_type": "execute_result"
    }
   ],
   "source": [
    "df.head()"
   ]
  },
  {
   "cell_type": "code",
   "execution_count": 37,
   "metadata": {},
   "outputs": [],
   "source": [
    "mycolumns = ['Phone Number','Boss Name','Company Name','Shop Name','Sales','Type']\n"
   ]
  },
  {
   "cell_type": "code",
   "execution_count": 6,
   "metadata": {},
   "outputs": [
    {
     "data": {
      "text/plain": [
       "Phone Number    1\n",
       "Boss Name       1\n",
       "Company Name    1\n",
       "Shop Name       1\n",
       "Sales           1\n",
       "Type            1\n",
       "dtype: int64"
      ]
     },
     "execution_count": 6,
     "metadata": {},
     "output_type": "execute_result"
    }
   ],
   "source": [
    "df.columns.value_counts()"
   ]
  },
  {
   "cell_type": "code",
   "execution_count": 7,
   "metadata": {},
   "outputs": [
    {
     "data": {
      "text/plain": [
       "6"
      ]
     },
     "execution_count": 7,
     "metadata": {},
     "output_type": "execute_result"
    }
   ],
   "source": [
    "df.shape[1]"
   ]
  },
  {
   "cell_type": "code",
   "execution_count": 9,
   "metadata": {},
   "outputs": [],
   "source": [
    "df_total = pd.DataFrame(columns=mycolumns)"
   ]
  },
  {
   "cell_type": "code",
   "execution_count": 10,
   "metadata": {},
   "outputs": [
    {
     "data": {
      "text/plain": [
       "7"
      ]
     },
     "execution_count": 10,
     "metadata": {},
     "output_type": "execute_result"
    }
   ],
   "source": [
    "df_total.shape[1]"
   ]
  },
  {
   "cell_type": "code",
   "execution_count": 63,
   "metadata": {},
   "outputs": [],
   "source": [
    "df.columns = mycolumns[:4]"
   ]
  },
  {
   "cell_type": "code",
   "execution_count": 64,
   "metadata": {},
   "outputs": [],
   "source": [
    "df[mycolumns[-2:]] = ''"
   ]
  },
  {
   "cell_type": "code",
   "execution_count": 65,
   "metadata": {},
   "outputs": [
    {
     "data": {
      "text/html": [
       "<div>\n",
       "<style scoped>\n",
       "    .dataframe tbody tr th:only-of-type {\n",
       "        vertical-align: middle;\n",
       "    }\n",
       "\n",
       "    .dataframe tbody tr th {\n",
       "        vertical-align: top;\n",
       "    }\n",
       "\n",
       "    .dataframe thead th {\n",
       "        text-align: right;\n",
       "    }\n",
       "</style>\n",
       "<table border=\"1\" class=\"dataframe\">\n",
       "  <thead>\n",
       "    <tr style=\"text-align: right;\">\n",
       "      <th></th>\n",
       "      <th>Phone Number</th>\n",
       "      <th>Boss Name</th>\n",
       "      <th>Company Name</th>\n",
       "      <th>Shop Name</th>\n",
       "      <th>Sales</th>\n",
       "      <th>Type</th>\n",
       "    </tr>\n",
       "  </thead>\n",
       "  <tbody>\n",
       "    <tr>\n",
       "      <th>0</th>\n",
       "      <td>18321003298</td>\n",
       "      <td>汪于成</td>\n",
       "      <td>上海优华贸易有限公司</td>\n",
       "      <td>优华食品专营店</td>\n",
       "      <td></td>\n",
       "      <td></td>\n",
       "    </tr>\n",
       "    <tr>\n",
       "      <th>1</th>\n",
       "      <td>13681781842</td>\n",
       "      <td>童本银</td>\n",
       "      <td>苏州凯格朗贸易有限公司</td>\n",
       "      <td>阳科旗舰店</td>\n",
       "      <td></td>\n",
       "      <td></td>\n",
       "    </tr>\n",
       "    <tr>\n",
       "      <th>2</th>\n",
       "      <td>18621018197</td>\n",
       "      <td>陈毅</td>\n",
       "      <td>上海易美食品有限公司</td>\n",
       "      <td>易美食品专营店</td>\n",
       "      <td></td>\n",
       "      <td></td>\n",
       "    </tr>\n",
       "    <tr>\n",
       "      <th>3</th>\n",
       "      <td>15921228507</td>\n",
       "      <td>符明楼</td>\n",
       "      <td>上海正鸿食品有限公司</td>\n",
       "      <td>尚正鸿食品旗舰店</td>\n",
       "      <td></td>\n",
       "      <td></td>\n",
       "    </tr>\n",
       "    <tr>\n",
       "      <th>4</th>\n",
       "      <td>13827646630</td>\n",
       "      <td>叶发开</td>\n",
       "      <td>阳江市刘小歪商贸有限公司</td>\n",
       "      <td>庶州农社旗舰店</td>\n",
       "      <td></td>\n",
       "      <td></td>\n",
       "    </tr>\n",
       "  </tbody>\n",
       "</table>\n",
       "</div>"
      ],
      "text/plain": [
       "   Phone Number Boss Name  Company Name Shop Name Sales Type\n",
       "0   18321003298       汪于成    上海优华贸易有限公司   优华食品专营店           \n",
       "1   13681781842       童本银   苏州凯格朗贸易有限公司     阳科旗舰店           \n",
       "2   18621018197        陈毅    上海易美食品有限公司   易美食品专营店           \n",
       "3   15921228507       符明楼    上海正鸿食品有限公司  尚正鸿食品旗舰店           \n",
       "4   13827646630       叶发开  阳江市刘小歪商贸有限公司   庶州农社旗舰店           "
      ]
     },
     "execution_count": 65,
     "metadata": {},
     "output_type": "execute_result"
    }
   ],
   "source": [
    "df.head()"
   ]
  },
  {
   "cell_type": "code",
   "execution_count": 56,
   "metadata": {},
   "outputs": [
    {
     "data": {
      "text/plain": [
       "4"
      ]
     },
     "execution_count": 56,
     "metadata": {},
     "output_type": "execute_result"
    }
   ],
   "source": [
    "len(df.columns)"
   ]
  },
  {
   "cell_type": "code",
   "execution_count": 25,
   "metadata": {},
   "outputs": [
    {
     "data": {
      "text/plain": [
       "6"
      ]
     },
     "execution_count": 25,
     "metadata": {},
     "output_type": "execute_result"
    }
   ],
   "source": [
    "len(df_total.columns)"
   ]
  },
  {
   "cell_type": "code",
   "execution_count": 24,
   "metadata": {},
   "outputs": [],
   "source": [
    "df_total = df_total.drop('No',axis=1)"
   ]
  },
  {
   "cell_type": "code",
   "execution_count": 29,
   "metadata": {},
   "outputs": [],
   "source": [
    "df = df.rename(columns={'Boss Name':'Boss'})"
   ]
  },
  {
   "cell_type": "code",
   "execution_count": 40,
   "metadata": {},
   "outputs": [],
   "source": [
    "import os"
   ]
  },
  {
   "cell_type": "code",
   "execution_count": 85,
   "metadata": {},
   "outputs": [
    {
     "name": "stdout",
     "output_type": "stream",
     "text": [
      "/Users/clcx/Documents/Calvin/CRM/Data/Active/Kezia/5.xlsx\n",
      "/Users/clcx/Documents/Calvin/CRM/Data/Active/Jessica/5.xlsx\n",
      "/Users/clcx/Documents/Calvin/CRM/Data/Active/Syanti/5.xlsx\n",
      "/Users/clcx/Documents/Calvin/CRM/Data/Active/Feni/9.xlsx\n",
      "/Users/clcx/Documents/Calvin/CRM/Data/Non-Active/Cliff/Data.xlsx\n",
      "/Users/clcx/Documents/Calvin/CRM/Data/Non-Active/Bieron/2022-01-10 bieron.xlsx\n",
      "/Users/clcx/Documents/Calvin/CRM/Data/Non-Active/Viardi/2.xlsx\n",
      "/Users/clcx/Documents/Calvin/CRM/Data/Non-Active/Winna/03/58.xlsx\n",
      "/Users/clcx/Documents/Calvin/CRM/Data/Non-Active/Winna/02/35.xlsx\n",
      "/Users/clcx/Documents/Calvin/CRM/Data/Non-Active/Winna/01/19.xlsx\n",
      "/Users/clcx/Documents/Calvin/CRM/Data/Non-Active/Winna/combined/combined03.xlsx\n"
     ]
    }
   ],
   "source": [
    "for folder, sub_folders, files in os.walk('/Users/clcx/Documents/Calvin/CRM/Data'):\n",
    "    #for sub_fold in sub_folders:\n",
    "    for f in files:\n",
    "        if f.endswith('.xlsx'):\n",
    "            print(os.path.join(folder, f))\n",
    "            xx = pd.read_excel(os.path.join(folder, f))\n",
    "            break"
   ]
  },
  {
   "cell_type": "code",
   "execution_count": 86,
   "metadata": {},
   "outputs": [
    {
     "data": {
      "text/html": [
       "<div>\n",
       "<style scoped>\n",
       "    .dataframe tbody tr th:only-of-type {\n",
       "        vertical-align: middle;\n",
       "    }\n",
       "\n",
       "    .dataframe tbody tr th {\n",
       "        vertical-align: top;\n",
       "    }\n",
       "\n",
       "    .dataframe thead th {\n",
       "        text-align: right;\n",
       "    }\n",
       "</style>\n",
       "<table border=\"1\" class=\"dataframe\">\n",
       "  <thead>\n",
       "    <tr style=\"text-align: right;\">\n",
       "      <th></th>\n",
       "      <th>Unnamed: 0</th>\n",
       "      <th>Phone Number</th>\n",
       "      <th>Boss Name</th>\n",
       "      <th>Company Name</th>\n",
       "      <th>Shop Name</th>\n",
       "      <th>Sales</th>\n",
       "      <th>Type</th>\n",
       "    </tr>\n",
       "  </thead>\n",
       "  <tbody>\n",
       "    <tr>\n",
       "      <th>0</th>\n",
       "      <td>0</td>\n",
       "      <td>13761372385</td>\n",
       "      <td>洪元周</td>\n",
       "      <td>上海元周商贸有限公司</td>\n",
       "      <td>元周数码专营店</td>\n",
       "      <td>NaN</td>\n",
       "      <td>NaN</td>\n",
       "    </tr>\n",
       "    <tr>\n",
       "      <th>1</th>\n",
       "      <td>1</td>\n",
       "      <td>13818287427</td>\n",
       "      <td>盛秉杰</td>\n",
       "      <td>上海信风工艺礼品有限公司</td>\n",
       "      <td>信风模型旗舰店</td>\n",
       "      <td>NaN</td>\n",
       "      <td>NaN</td>\n",
       "    </tr>\n",
       "    <tr>\n",
       "      <th>2</th>\n",
       "      <td>2</td>\n",
       "      <td>18616635291</td>\n",
       "      <td>康菁菁</td>\n",
       "      <td>上海简安里服饰有限公司</td>\n",
       "      <td>江意旗舰店</td>\n",
       "      <td>NaN</td>\n",
       "      <td>NaN</td>\n",
       "    </tr>\n",
       "    <tr>\n",
       "      <th>3</th>\n",
       "      <td>3</td>\n",
       "      <td>18858379555</td>\n",
       "      <td>付计划</td>\n",
       "      <td>上海联琛服饰有限公司</td>\n",
       "      <td>hghg旗舰店</td>\n",
       "      <td>NaN</td>\n",
       "      <td>NaN</td>\n",
       "    </tr>\n",
       "    <tr>\n",
       "      <th>4</th>\n",
       "      <td>4</td>\n",
       "      <td>15221550017</td>\n",
       "      <td>周长松</td>\n",
       "      <td>上海梓澄贸易有限公司</td>\n",
       "      <td>巧帛旗舰店</td>\n",
       "      <td>NaN</td>\n",
       "      <td>NaN</td>\n",
       "    </tr>\n",
       "  </tbody>\n",
       "</table>\n",
       "</div>"
      ],
      "text/plain": [
       "   Unnamed: 0  Phone Number Boss Name  Company Name Shop Name Sales Type\n",
       "0           0   13761372385       洪元周    上海元周商贸有限公司  元周数码专营店    NaN  NaN\n",
       "1           1   13818287427       盛秉杰  上海信风工艺礼品有限公司  信风模型旗舰店    NaN  NaN\n",
       "2           2   18616635291       康菁菁   上海简安里服饰有限公司    江意旗舰店    NaN  NaN\n",
       "3           3   18858379555       付计划    上海联琛服饰有限公司  hghg旗舰店    NaN  NaN\n",
       "4           4   15221550017       周长松    上海梓澄贸易有限公司    巧帛旗舰店    NaN  NaN"
      ]
     },
     "execution_count": 86,
     "metadata": {},
     "output_type": "execute_result"
    }
   ],
   "source": [
    "xx.head()"
   ]
  },
  {
   "cell_type": "code",
   "execution_count": 67,
   "metadata": {},
   "outputs": [
    {
     "data": {
      "text/plain": [
       "True"
      ]
     },
     "execution_count": 67,
     "metadata": {},
     "output_type": "execute_result"
    }
   ],
   "source": [
    "df.shape[1] == len(mycolumns)"
   ]
  },
  {
   "cell_type": "code",
   "execution_count": null,
   "metadata": {},
   "outputs": [],
   "source": []
  }
 ],
 "metadata": {
  "interpreter": {
   "hash": "de0342d22f59080f5a2b049921cc024b05bf53d7a856e2b4ddc8580cbc73f413"
  },
  "kernelspec": {
   "display_name": "Python 3.9.7",
   "language": "python",
   "name": "python3"
  },
  "language_info": {
   "codemirror_mode": {
    "name": "ipython",
    "version": 3
   },
   "file_extension": ".py",
   "mimetype": "text/x-python",
   "name": "python",
   "nbconvert_exporter": "python",
   "pygments_lexer": "ipython3",
   "version": "3.9.7"
  },
  "orig_nbformat": 4
 },
 "nbformat": 4,
 "nbformat_minor": 2
}
