{
 "cells": [
  {
   "cell_type": "code",
   "execution_count": 1,
   "metadata": {},
   "outputs": [],
   "source": [
    "1+1"
   ]
  },
  {
   "cell_type": "code",
   "execution_count": 2,
   "metadata": {},
   "outputs": [],
   "source": [
    "a = 1"
   ]
  },
  {
   "cell_type": "code",
   "execution_count": 3,
   "metadata": {},
   "outputs": [],
   "source": [
    "b = 2"
   ]
  },
  {
   "cell_type": "code",
   "execution_count": 4,
   "metadata": {},
   "outputs": [],
   "source": [
    "a + b"
   ]
  },
  {
   "cell_type": "code",
   "execution_count": 5,
   "metadata": {},
   "outputs": [],
   "source": [
    "a = 3"
   ]
  },
  {
   "cell_type": "code",
   "execution_count": 6,
   "metadata": {},
   "outputs": [
    {
     "data": {
      "text/plain": [
       "5"
      ]
     },
     "execution_count": 6,
     "metadata": {},
     "output_type": "execute_result"
    }
   ],
   "source": [
    "a + b"
   ]
  },
  {
   "cell_type": "code",
   "execution_count": 1,
   "metadata": {},
   "outputs": [],
   "source": [
    "import sys"
   ]
  },
  {
   "cell_type": "code",
   "execution_count": 2,
   "metadata": {},
   "outputs": [],
   "source": [
    "import hashlib"
   ]
  },
  {
   "cell_type": "code",
   "execution_count": 10,
   "metadata": {},
   "outputs": [
    {
     "name": "stdout",
     "output_type": "stream",
     "text": [
      "f08c66c5d85dc0c804fd05c2fcef6625c3c0397175bc1d658217c3ec9eada4ba\n"
     ]
    }
   ],
   "source": [
    "str = 'A@1234xc'\n",
    "\n",
    "encoded_str = str.encode()\n",
    "\n",
    "obj_sha3 = hashlib.sha256(encoded_str)\n",
    "\n",
    "print(obj_sha3.hexdigest())"
   ]
  },
  {
   "cell_type": "code",
   "execution_count": 13,
   "metadata": {},
   "outputs": [
    {
     "ename": "TypeError",
     "evalue": "list.extend() takes exactly one argument (2 given)",
     "output_type": "error",
     "traceback": [
      "\u001b[0;31m---------------------------------------------------------------------------\u001b[0m",
      "\u001b[0;31mTypeError\u001b[0m                                 Traceback (most recent call last)",
      "\u001b[0;32m/var/folders/6k/lg2h42qn3l95hrk2nvs52xmw0000gn/T/ipykernel_86875/3711090005.py\u001b[0m in \u001b[0;36m<module>\u001b[0;34m\u001b[0m\n\u001b[1;32m      1\u001b[0m \u001b[0mx\u001b[0m \u001b[0;34m=\u001b[0m \u001b[0;34m[\u001b[0m\u001b[0;34m]\u001b[0m\u001b[0;34m\u001b[0m\u001b[0;34m\u001b[0m\u001b[0m\n\u001b[0;32m----> 2\u001b[0;31m \u001b[0mx\u001b[0m\u001b[0;34m.\u001b[0m\u001b[0mextend\u001b[0m\u001b[0;34m(\u001b[0m\u001b[0;36m0\u001b[0m\u001b[0;34m,\u001b[0m\u001b[0;36m1\u001b[0m\u001b[0;34m)\u001b[0m\u001b[0;34m\u001b[0m\u001b[0;34m\u001b[0m\u001b[0m\n\u001b[0m\u001b[1;32m      3\u001b[0m \u001b[0mx\u001b[0m\u001b[0;34m\u001b[0m\u001b[0;34m\u001b[0m\u001b[0m\n",
      "\u001b[0;31mTypeError\u001b[0m: list.extend() takes exactly one argument (2 given)"
     ]
    }
   ],
   "source": [
    "x = []\n",
    "x.extend(0,1)\n",
    "x"
   ]
  },
  {
   "cell_type": "code",
   "execution_count": null,
   "metadata": {},
   "outputs": [],
   "source": []
  },
  {
   "cell_type": "code",
   "execution_count": 40,
   "metadata": {},
   "outputs": [],
   "source": [
    "def countValidWords(sentence):\n",
    "    correct_token = []\n",
    "    punc = ['!',',','.']\n",
    "    word_list = sentence.split()\n",
    "    for word in word_list:\n",
    "        x = 0\n",
    "        p = 0\n",
    "        h = 0\n",
    "        for i in range(len(word)):\n",
    "            if word[i].isdigit():\n",
    "                break\n",
    "            elif word[i].isupper():\n",
    "                break\n",
    "            elif word[i] in punc:\n",
    "                p += 1\n",
    "                if i == len(word) - 1 and p <= 1:\n",
    "                    pass\n",
    "                else:\n",
    "                    break\n",
    "            elif word[i] == '-':\n",
    "                h += 1\n",
    "                if i < len(word) - 1 and i > 0 and h <= 1:\n",
    "                    if word[i-1].isalpha() and word[i+1].isalpha():\n",
    "                        pass\n",
    "                    else:\n",
    "                        break\n",
    "                else:\n",
    "                    break\n",
    "            x += 1\n",
    "        if x == len(word):\n",
    "            correct_token.append(word)\n",
    "\n",
    "    return len(correct_token)\n",
    "\n"
   ]
  },
  {
   "cell_type": "code",
   "execution_count": 41,
   "metadata": {},
   "outputs": [
    {
     "data": {
      "text/plain": [
       "49"
      ]
     },
     "execution_count": 41,
     "metadata": {},
     "output_type": "execute_result"
    }
   ],
   "source": [
    "countValidWords(\" 62   nvtk0wr4f  8 qt3r! w1ph 1l ,e0d 0n 2v 7c.  n06huu2n9 s9   ui4 nsr!d7olr  q-, vqdo!btpmtmui.bb83lf g .!v9-lg 2fyoykex uy5a 8v whvu8 .y sc5 -0n4 zo pfgju 5u 4 3x,3!wl  fv4   s  aig cf j1 a i  8m5o1  !u n!.1tz87d3 .9    n a3  .xb1p9f  b1i a j8s2 cugf l494cx1! hisceovf3 8d93 sg 4r.f1z9w   4- cb r97jo hln3s h2 o .  8dx08as7l!mcmc isa49afk i1 fk,s e !1 ln rt2vhu 4ks4zq c w  o- 6  5!.n8ten0 6mk 2k2y3e335,yj  h p3 5 -0  5g1c  tr49, ,qp9 -v p  7p4v110926wwr h x wklq u zo 16. !8  u63n0c l3 yckifu 1cgz t.i   lh w xa l,jt   hpi ng-gvtk8 9 j u9qfcd!2  kyu42v dmv.cst6i5fo rxhw4wvp2 1 okc8!  z aribcam0  cp-zp,!e x  agj-gb3 !om3934 k vnuo056h g7 t-6j! 8w8fncebuj-lq    inzqhw v39,  f e 9. 50 , ru3r  mbuab  6  wz dw79.av2xp . gbmy gc s6pi pra4fo9fwq k   j-ppy -3vpf   o k4hy3 -!..5s ,2 k5 j p38dtd   !i   b!fgj,nx qgif \")"
   ]
  },
  {
   "cell_type": "code",
   "execution_count": 90,
   "metadata": {},
   "outputs": [],
   "source": [
    "def bitwise(n):\n",
    "    mask = 1\n",
    "    while n > mask:\n",
    "        mask = mask*2+1\n",
    "    return mask-n"
   ]
  },
  {
   "cell_type": "code",
   "execution_count": 93,
   "metadata": {},
   "outputs": [
    {
     "data": {
      "text/plain": [
       "2"
      ]
     },
     "execution_count": 93,
     "metadata": {},
     "output_type": "execute_result"
    }
   ],
   "source": [
    "bitwise(5)"
   ]
  },
  {
   "cell_type": "code",
   "execution_count": 81,
   "metadata": {},
   "outputs": [],
   "source": [
    "def bitwiseComplement(n: int):\n",
    "\n",
    "    def dectobin (x: int):\n",
    "        bin = []\n",
    "        if x >= 8:\n",
    "            if bin == []:\n",
    "                bin = ['1','0','0','0']\n",
    "            else:\n",
    "                bin[0] = '1'\n",
    "            x -= 8\n",
    "        if x >= 4:\n",
    "            if bin == []:\n",
    "                bin = ['1','0','0']\n",
    "            else:\n",
    "                bin[1] = '1'\n",
    "            x -= 4\n",
    "        if x >= 2:\n",
    "            if bin ==[]:\n",
    "                bin = ['1','0']\n",
    "            else:\n",
    "                bin[-2] = '1'\n",
    "            x -= 2\n",
    "        if x >= 1:\n",
    "            if bin == []:\n",
    "                bin = ['1']\n",
    "            else:\n",
    "                bin[-1] = '1'\n",
    "            x -= 1\n",
    "\n",
    "        return ''.join(bin)\n",
    "\n",
    "    def bintodec(x: str):\n",
    "        dec = 0\n",
    "        if x[-1] == '1':\n",
    "            dec += 1\n",
    "        if len(x) >= 2:\n",
    "            if x[-2] == '1':\n",
    "                dec += 2\n",
    "        if len(x) >= 3:\n",
    "            if x[-3] == \"1\":\n",
    "                dec += 4\n",
    "        if len(x) >= 4:\n",
    "            if x[-4] == '1':\n",
    "                dec += 8\n",
    "    \n",
    "        return dec\n",
    "\n",
    "    ori = dectobin(n)\n",
    "    comp = ''\n",
    "    for i in ori:\n",
    "        if i == '1':\n",
    "            comp += '0'\n",
    "        else:\n",
    "            comp += '1'\n",
    "\n",
    "    return bintodec(comp)\n",
    "\n",
    "        \n"
   ]
  },
  {
   "cell_type": "code",
   "execution_count": 82,
   "metadata": {},
   "outputs": [
    {
     "data": {
      "text/plain": [
       "2"
      ]
     },
     "execution_count": 82,
     "metadata": {},
     "output_type": "execute_result"
    }
   ],
   "source": [
    "bitwiseComplement(5)"
   ]
  },
  {
   "cell_type": "code",
   "execution_count": null,
   "metadata": {},
   "outputs": [],
   "source": []
  }
 ],
 "metadata": {
  "kernelspec": {
   "display_name": "Python 3",
   "language": "python",
   "name": "python3"
  },
  "language_info": {
   "codemirror_mode": {
    "name": "ipython",
    "version": 3
   },
   "file_extension": ".py",
   "mimetype": "text/x-python",
   "name": "python",
   "nbconvert_exporter": "python",
   "pygments_lexer": "ipython3",
   "version": "3.9.7"
  }
 },
 "nbformat": 4,
 "nbformat_minor": 2
}
