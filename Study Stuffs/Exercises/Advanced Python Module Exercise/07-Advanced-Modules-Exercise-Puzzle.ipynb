{
 "cells": [
  {
   "cell_type": "markdown",
   "metadata": {},
   "source": [
    "___\n",
    "\n",
    "<a href='https://www.udemy.com/user/joseportilla/'><img src='../../Pierian_Data_Logo.png'/></a>\n",
    "___\n",
    "<center><em>Content Copyright by Pierian Data</em></center>"
   ]
  },
  {
   "cell_type": "markdown",
   "metadata": {},
   "source": [
    "# Advanced Modules Exercise Puzzle\n",
    "\n",
    "It's time to test your new skills, this puzzle project will combine multiple skills sets, including unzipping files with Python, using os module to automatically search through lots of files.\n",
    "\n",
    "## Your Goal\n",
    "\n",
    "This is a puzzle, so we don't want to give you too much guidance and instead have you figure out things on your own.\n",
    "\n",
    "There is a .zip file called 'unzip_me_for_instructions.zip', unzip it, open the .txt file with Python, read the instructions and see if you can figure out what you need to do!\n",
    "\n",
    "**If you get stuck or don't know where to start, here is a [guide/hints](https://docs.google.com/document/d/1JxydUr4n4fSR0EwwuwT-aHia-yPK6r-oTBuVT2sqheo/edit?usp=sharing)**"
   ]
  },
  {
   "cell_type": "code",
   "execution_count": 2,
   "metadata": {},
   "outputs": [],
   "source": [
    "import shutil\n",
    "\n",
    "shutil.unpack_archive('unzip_me_for_instructions.zip','extracted_instruction','zip')"
   ]
  },
  {
   "cell_type": "code",
   "execution_count": 5,
   "metadata": {},
   "outputs": [],
   "source": [
    "import os\n",
    "import re"
   ]
  },
  {
   "cell_type": "code",
   "execution_count": 22,
   "metadata": {},
   "outputs": [
    {
     "data": {
      "text/plain": [
       "'/Users/clcx/Documents/GitHub/My-Python-Learning/Study Stuffs/Exercises/Advanced Python Module Exercise'"
      ]
     },
     "execution_count": 22,
     "metadata": {},
     "output_type": "execute_result"
    }
   ],
   "source": [
    "os.getcwd()"
   ]
  },
  {
   "cell_type": "code",
   "execution_count": 33,
   "metadata": {},
   "outputs": [
    {
     "name": "stdout",
     "output_type": "stream",
     "text": [
      "719-266-2837\n"
     ]
    }
   ],
   "source": [
    "pattern = r'\\d{3}-\\d{3}-\\d{4}'\n",
    "result = []\n",
    "\n",
    "for fold,subfold,files in os.walk('extracted_instruction'):\n",
    "    for f in files:\n",
    "        full_path = fold + '/' + f\n",
    "        text = open(full_path,'r').read()\n",
    "        if re.search(pattern,text):\n",
    "            result.append(re.search(pattern,text))\n",
    "        else:\n",
    "            continue\n",
    "            \n",
    "for r in result:\n",
    "    if r != '':\n",
    "        print(r.group())\n"
   ]
  },
  {
   "cell_type": "code",
   "execution_count": 31,
   "metadata": {},
   "outputs": [
    {
     "name": "stdout",
     "output_type": "stream",
     "text": [
      "Folder:extracted_instruction\n",
      "Subfolder:['extracted_content']\n",
      "Folder:extracted_instruction/extracted_content\n",
      "Subfolder:['Three', 'One', 'Two', 'Five', 'Four']\n",
      "Folder:extracted_instruction/extracted_content/Three\n",
      "Subfolder:[]\n",
      "Folder:extracted_instruction/extracted_content/One\n",
      "Subfolder:[]\n",
      "Folder:extracted_instruction/extracted_content/Two\n",
      "Subfolder:[]\n",
      "Folder:extracted_instruction/extracted_content/Five\n",
      "Subfolder:[]\n",
      "Folder:extracted_instruction/extracted_content/Four\n",
      "Subfolder:[]\n"
     ]
    }
   ],
   "source": [
    "for fold,subfold,files in os.walk('extracted_instruction'):\n",
    "    print(f\"Folder:{fold}\")\n",
    "    print(f\"Subfolder:{subfold}\")"
   ]
  },
  {
   "cell_type": "code",
   "execution_count": null,
   "metadata": {},
   "outputs": [],
   "source": []
  }
 ],
 "metadata": {
  "anaconda-cloud": {},
  "kernelspec": {
   "display_name": "Python 3",
   "language": "python",
   "name": "python3"
  },
  "language_info": {
   "codemirror_mode": {
    "name": "ipython",
    "version": 3
   },
   "file_extension": ".py",
   "mimetype": "text/x-python",
   "name": "python",
   "nbconvert_exporter": "python",
   "pygments_lexer": "ipython3",
   "version": "3.9.7"
  }
 },
 "nbformat": 4,
 "nbformat_minor": 2
}
