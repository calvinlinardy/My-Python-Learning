{
 "cells": [
  {
   "cell_type": "code",
   "execution_count": 2,
   "metadata": {},
   "outputs": [],
   "source": [
    "from tkinter import *\n",
    "from tkinter import messagebox\n",
    "\n",
    "from selenium import webdriver\n",
    "from selenium.webdriver.support import expected_conditions as EC\n",
    "from selenium.webdriver.support.ui import WebDriverWait as WDW\n",
    "from selenium.common.exceptions import TimeoutException as TE\n",
    "from selenium.webdriver.common.by import By\n",
    "from selenium.webdriver.common.keys import Keys\n",
    "import time"
   ]
  },
  {
   "cell_type": "code",
   "execution_count": 7,
   "metadata": {},
   "outputs": [
    {
     "name": "stderr",
     "output_type": "stream",
     "text": [
      "/var/folders/6k/lg2h42qn3l95hrk2nvs52xmw0000gn/T/ipykernel_41905/3786156238.py:3: DeprecationWarning: executable_path has been deprecated, please pass in a Service object\n",
      "  driver = webdriver.Chrome(\n"
     ]
    }
   ],
   "source": [
    "# DRIVER\n",
    "\n",
    "driver = webdriver.Chrome(\n",
    "        executable_path=r\"/Users/clcx/Documents/Calvin/Random/chromedriver\")\n",
    "driver.set_window_size(1200,638)\n",
    "        \n",
    "shop_name = ''\n",
    "\n",
    "# buka web crm\n",
    "driver.get(\"https://crm.xcyunxt.com/xccrm/#/clue/index\")\n",
    "\n",
    "# set id pass\n",
    "usn = '15006106002'\n",
    "pwd = 'A@1234xc'"
   ]
  },
  {
   "cell_type": "code",
   "execution_count": 6,
   "metadata": {},
   "outputs": [],
   "source": [
    "\n",
    "def clickable(element: str) -> None:  # clickable\n",
    "    try:\n",
    "        element = WDW(driver, 5).until(EC.presence_of_element_located(\n",
    "            (By.XPATH, element)))\n",
    "        element.click()\n",
    "    except:\n",
    "        pass"
   ]
  },
  {
   "cell_type": "code",
   "execution_count": 4,
   "metadata": {},
   "outputs": [],
   "source": [
    "def start():\n",
    "    driver.get_screenshot_as_file('beginning2.png')\n",
    "    username = driver.find_element(By.NAME, 'username')\n",
    "    username.clear()\n",
    "    username.send_keys(usn)\n",
    "    password = driver.find_element(By.NAME, 'password')\n",
    "    password.clear()\n",
    "    password.send_keys(pwd)\n",
    "    driver.find_element(By.XPATH, '//*[@id=\"app\"]/div/div/form/button').click()\n",
    "\n",
    "    # pilih CRM\n",
    "    clickable('//*[@id=\"app\"]/div/div[1]/div[4]/div[1]/div[1]/img')\n",
    "    # buka bagian input data\n",
    "    # ganti focus ke tab baru\n",
    "    driver.switch_to.window(driver.window_handles[1])\n",
    "    driver.set_window_size(1200,638)\n",
    "    driver.get_screenshot_as_file('after switching tabs2.png')\n",
    "\n",
    "    # panah bawah\n",
    "    clickable('//*[@id=\"app\"]/div/div[1]/div[2]/div[1]/div/ul/div[2]/li/div/span')\n",
    "    driver.implicitly_wait(3)\n",
    "\n",
    "    # pilih isi data\n",
    "    #clickable('//*[@id=\"app\"]/div/div[2]/div[2]/div[1]/div/ul/div[2]/li/ul/div[7]/a/li/span')\n",
    "    clickable('//*[@id=\"app\"]/div/div[1]/div[2]/div[1]/div/ul/div[2]/li/ul/div[7]/a/li')\n",
    "    #clickable('//*[@id=\"app\"]/div/div[2]/div[2]/div[1]/div/ul/div[2]/li/ul/div[7]/a/li/span')\n",
    "    time.sleep(3)\n",
    "    messagebox.showinfo(message='Program is ready!')"
   ]
  },
  {
   "cell_type": "code",
   "execution_count": 4,
   "metadata": {},
   "outputs": [],
   "source": [
    "import os\n",
    "x= os.getcwd()"
   ]
  },
  {
   "cell_type": "code",
   "execution_count": 7,
   "metadata": {},
   "outputs": [
    {
     "data": {
      "text/plain": [
       "'/Users/clcx/Documents/GitHub/My-Python-Learning/Study Stuffs/Udemy Study/Python Bootcamp/Web Scraping/chromedriver'"
      ]
     },
     "execution_count": 7,
     "metadata": {},
     "output_type": "execute_result"
    }
   ],
   "source": [
    "x+\"/chromedriver\""
   ]
  },
  {
   "cell_type": "code",
   "execution_count": 25,
   "metadata": {},
   "outputs": [],
   "source": [
    "def clear():\n",
    "    try:\n",
    "        WDW(driver, 5).until(EC.presence_of_element_located(\n",
    "            (By.XPATH, '//*[@id=\"app\"]/div/div[2]/section/div/div/div[3]/div/div[2]')))\n",
    "        driver.find_element(\n",
    "            By.XPATH, '//*[@id=\"app\"]/div/div[2]/section/div/div/div[3]/div/div[2]/form/div[2]/div/div/div[1]/input').clear()\n",
    "    except:\n",
    "        print('NOTHING TO CLEAR')"
   ]
  },
  {
   "cell_type": "code",
   "execution_count": 11,
   "metadata": {},
   "outputs": [],
   "source": [
    "def input():\n",
    "    clickable('//*[@id=\"app\"]/div/div[2]/section/div/div/div[1]/div[1]/button[1]')\n",
    "    try:\n",
    "        WDW(driver, 5).until(EC.presence_of_element_located((By.XPATH, '//*[@id=\"app\"]/div/div[2]/section/div/div/div[3]/div/div[2]')))\n",
    "        driver.find_element(By.XPATH, '//*[@id=\"app\"]/div/div[2]/section/div/div/div[3]/div/div[2]/form/div[2]/div/div/div[1]/input').send_keys(shope_name_box.get())\n",
    "        # asal isi aja biar cursor pindah\n",
    "        driver.find_element(By.XPATH, '//*[@id=\"app\"]/div/div[2]/section/div/div/div[3]/div/div[2]/form/div[1]/div[1]/div/div/div/input').send_keys(' ')\n",
    "    except:\n",
    "        print('ERROR')"
   ]
  },
  {
   "cell_type": "code",
   "execution_count": 12,
   "metadata": {},
   "outputs": [
    {
     "name": "stdout",
     "output_type": "stream",
     "text": [
      "ERROR\n"
     ]
    }
   ],
   "source": [
    "try:\n",
    "    WDW(driver, 5).until(EC.presence_of_element_located(\n",
    "        (By.XPATH, '//*[@id=\"app\"]/div/div[2]/section/div/div/div[3]/div/div[2]')))\n",
    "    driver.find_element(By.XPATH, '//*[@id=\"app\"]/div/div[2]/section/div/div/div[3]/div/div[2]/form/div[2]/div/div/div[1]/input').send_keys(olshop_name)\n",
    "    # asal isi aja biar cursor pindah\n",
    "    driver.find_element(By.XPATH, '//*[@id=\"app\"]/div/div[2]/section/div/div/div[3]/div/div[2]/form/div[1]/div[1]/div/div/div/input').send_keys(' ')\n",
    "except:\n",
    "    print('ERROR')"
   ]
  },
  {
   "cell_type": "code",
   "execution_count": 37,
   "metadata": {},
   "outputs": [],
   "source": [
    "def check():\n",
    "    for i in range(2,6):\n",
    "        try:\n",
    "            WDW(driver, .5).until(EC.presence_of_element_located(\n",
    "            (By.XPATH, '/html/body/div['+str(i)+']/div/div[2]/div/div/div[2]/div/div[3]/span[2]')))\n",
    "            if ((driver.find_element(By.XPATH,'/html/body/div['+str(i)+']/div/div[2]/div/div/div[2]/div/div[3]/span[2]').text) == ''):\n",
    "                messagebox.showinfo(message='OK')\n",
    "                print('OK')\n",
    "            messagebox.showinfo(message='Already exist')\n",
    "            print(driver.find_element(By.XPATH,'/html/body/div['+str(i)+']/div/div[2]/div/div/div[2]/div/div[3]/span[2]').text)\n",
    "            clear()\n",
    "            break\n",
    "        except:\n",
    "            continue\n",
    "    webdriver.ActionChains(driver).send_keys(Keys.ESCAPE).perform()"
   ]
  },
  {
   "cell_type": "code",
   "execution_count": 27,
   "metadata": {},
   "outputs": [],
   "source": [
    "start()"
   ]
  },
  {
   "cell_type": "code",
   "execution_count": 42,
   "metadata": {},
   "outputs": [
    {
     "name": "stderr",
     "output_type": "stream",
     "text": [
      "2022-03-16 22:32:11.984 python[39257:4479885] Warning: Expected min height of view: (<NSButton: 0x7febb87655c0>) to be less than or equal to 30 but got a height of 32.000000. This error will be logged once per view in violation.\n"
     ]
    },
    {
     "name": "stdout",
     "output_type": "stream",
     "text": [
      "刘维韦\n"
     ]
    },
    {
     "name": "stderr",
     "output_type": "stream",
     "text": [
      "2022-03-16 22:32:14.316 python[39257:4479885] Warning: Expected min height of view: (<NSButton: 0x7febb873e690>) to be less than or equal to 30 but got a height of 32.000000. This error will be logged once per view in violation.\n"
     ]
    }
   ],
   "source": [
    "check()"
   ]
  },
  {
   "cell_type": "code",
   "execution_count": 43,
   "metadata": {},
   "outputs": [],
   "source": [
    "webdriver.ActionChains(driver).send_keys(Keys.ESCAPE).perform()\n",
    "\n",
    "\n",
    "clickable('//*[@id=\"app\"]/div/div[2]/section/div/div/div[1]/div[1]/button[1]')\n",
    "try:\n",
    "    WDW(driver, 5).until(EC.presence_of_element_located((By.XPATH, '//*[@id=\"app\"]/div/div[2]/section/div/div/div[3]/div/div[2]')))\n",
    "    driver.find_element(By.XPATH, '//*[@id=\"app\"]/div/div[2]/section/div/div/div[3]/div/div[2]/form/div[2]/div/div/div[1]/input').send_keys('伊之福旗舰店 ')\n",
    "    # asal isi aja biar cursor pindah\n",
    "    driver.find_element(By.XPATH, '//*[@id=\"app\"]/div/div[2]/section/div/div/div[3]/div/div[2]/form/div[1]/div[1]/div/div/div/input').send_keys('')\n",
    "except:\n",
    "    print('ERROR')"
   ]
  },
  {
   "cell_type": "code",
   "execution_count": 16,
   "metadata": {},
   "outputs": [],
   "source": [
    "    webdriver.ActionChains(driver).send_keys(Keys.ESCAPE).perform()\n"
   ]
  },
  {
   "cell_type": "code",
   "execution_count": 14,
   "metadata": {},
   "outputs": [
    {
     "data": {
      "text/plain": [
       "\"\\nfor i in range(2,6):\\n    try:\\n        WDW(driver, 2).until(EC.presence_of_element_located(\\n        (By.XPATH, '/html/body/div['+str(i)+']/div/div[2]/div/div/div[2]/div/div[3]/span[2]')))\\n        if ((driver.find_element(By.XPATH,'/html/body/div['+str(i)+']/div/div[2]/div/div/div[2]/div/div[3]/span[2]').text) == ''):\\n            print('OK')\\n        print(driver.find_element(By.XPATH,'/html/body/div['+str(i)+']/div/div[2]/div/div/div[2]/div/div[3]/span[2]').text)\\n        break\\n    except:\\n        continue\\n    \""
      ]
     },
     "execution_count": 14,
     "metadata": {},
     "output_type": "execute_result"
    }
   ],
   "source": [
    "'''\n",
    "for i in range(2,6):\n",
    "    try:\n",
    "        WDW(driver, 2).until(EC.presence_of_element_located(\n",
    "        (By.XPATH, '/html/body/div['+str(i)+']/div/div[2]/div/div/div[2]/div/div[3]/span[2]')))\n",
    "        if ((driver.find_element(By.XPATH,'/html/body/div['+str(i)+']/div/div[2]/div/div/div[2]/div/div[3]/span[2]').text) == ''):\n",
    "            print('OK')\n",
    "        print(driver.find_element(By.XPATH,'/html/body/div['+str(i)+']/div/div[2]/div/div/div[2]/div/div[3]/span[2]').text)\n",
    "        break\n",
    "    except:\n",
    "        continue\n",
    "    '''"
   ]
  },
  {
   "cell_type": "code",
   "execution_count": 15,
   "metadata": {},
   "outputs": [
    {
     "name": "stderr",
     "output_type": "stream",
     "text": [
      "2022-03-16 22:08:28.468 python[39257:4479885] Warning: Expected min height of view: (<NSButton: 0x7febb8751020>) to be less than or equal to 30 but got a height of 32.000000. This error will be logged once per view in violation.\n",
      "2022-03-16 22:08:30.636 python[39257:4479885] Warning: Expected min height of view: (<NSButton: 0x7febda599ac0>) to be less than or equal to 30 but got a height of 32.000000. This error will be logged once per view in violation.\n"
     ]
    },
    {
     "name": "stdout",
     "output_type": "stream",
     "text": [
      "刘维韦\n"
     ]
    }
   ],
   "source": [
    "# MAIN\n",
    "window = Tk()\n",
    "window.title('👽')\n",
    "window.geometry('360x80')\n",
    "\n",
    "start_button = Button(window, command=start, text='START', font=(14), bg='red')\n",
    "start_button.grid(row=1, column=1, sticky=W)\n",
    "\n",
    "shope_name_box = Entry(window, textvariable=shop_name, font=(14))\n",
    "shope_name_box.grid(row=2, column=1)\n",
    "\n",
    "input_button = Button(window, command=input, text='INPUT', font=(14), bg='red')\n",
    "input_button.grid(row=2, column=2)\n",
    "\n",
    "check_button = Button(window, command=check, text='CHECK', font=(14), bg='red')\n",
    "check_button.grid(row=2, column=3)\n",
    "\n",
    "window.mainloop()"
   ]
  },
  {
   "cell_type": "code",
   "execution_count": null,
   "metadata": {},
   "outputs": [],
   "source": []
  }
 ],
 "metadata": {
  "interpreter": {
   "hash": "de0342d22f59080f5a2b049921cc024b05bf53d7a856e2b4ddc8580cbc73f413"
  },
  "kernelspec": {
   "display_name": "Python 3.9.7 ('base')",
   "language": "python",
   "name": "python3"
  },
  "language_info": {
   "codemirror_mode": {
    "name": "ipython",
    "version": 3
   },
   "file_extension": ".py",
   "mimetype": "text/x-python",
   "name": "python",
   "nbconvert_exporter": "python",
   "pygments_lexer": "ipython3",
   "version": "3.9.7"
  },
  "orig_nbformat": 4
 },
 "nbformat": 4,
 "nbformat_minor": 2
}
