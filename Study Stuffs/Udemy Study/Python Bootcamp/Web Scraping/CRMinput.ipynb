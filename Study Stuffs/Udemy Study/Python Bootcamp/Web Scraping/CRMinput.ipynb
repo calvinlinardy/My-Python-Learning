{
 "cells": [
  {
   "cell_type": "code",
   "execution_count": 270,
   "metadata": {},
   "outputs": [],
   "source": [
    "from selenium import webdriver\n",
    "from selenium.webdriver.support import expected_conditions as EC\n",
    "from selenium.webdriver.support.ui import WebDriverWait as WDW\n",
    "from selenium.common.exceptions import TimeoutException as TE\n",
    "from selenium.webdriver.common.by import By\n",
    "from selenium.webdriver.common.keys import Keys\n",
    "import time\n",
    "import click"
   ]
  },
  {
   "cell_type": "code",
   "execution_count": 197,
   "metadata": {},
   "outputs": [],
   "source": [
    "from openpyxl import load_workbook\n",
    "import time"
   ]
  },
  {
   "cell_type": "code",
   "execution_count": 198,
   "metadata": {},
   "outputs": [],
   "source": [
    "def clear():\n",
    "    try:\n",
    "        WDW(driver, 5).until(EC.presence_of_element_located(\n",
    "        (By.XPATH, '//*[@id=\"app\"]/div/div[2]/section/div/div/div[3]/div/div[2]')))\n",
    "\n",
    "        driver.find_element(By.XPATH,'//*[@id=\"app\"]/div/div[2]/section/div/div/div[3]/div/div[2]/form/div[2]/div/div/div[1]/input').clear()\n",
    "        driver.find_element(By.XPATH,'//*[@id=\"app\"]/div/div[2]/section/div/div/div[3]/div/div[2]/form/div[1]/div/div/input').clear()\n",
    "        driver.find_element(By.XPATH,'//*[@id=\"app\"]/div/div[2]/section/div/div/div[3]/div/div[2]/form/div[6]/div[1]/div/div/div[1]/input').clear()\n",
    "        driver.find_element(By.XPATH,'//*[@id=\"app\"]/div/div[2]/section/div/div/div[3]/div/div[2]/form/div[6]/div[2]/div[1]/div/div/div/input').clear()\n",
    "    except:\n",
    "        print('NOT SHOWING')"
   ]
  },
  {
   "cell_type": "code",
   "execution_count": 199,
   "metadata": {},
   "outputs": [],
   "source": [
    "def clickable(element: str) -> None:\n",
    "    try:\n",
    "        element = WDW(driver, 10).until(EC.presence_of_element_located(\n",
    "            (By.XPATH, element)))\n",
    "        element.click()\n",
    "    except:\n",
    "        print('NOT SHOWING')"
   ]
  },
  {
   "cell_type": "code",
   "execution_count": 257,
   "metadata": {},
   "outputs": [],
   "source": [
    "def close_repetition():\n",
    "    try:\n",
    "        for i in range(3):\n",
    "            clickable('/html/body/div[2]/div/div[1]/button')\n",
    "            clickable('/html/body/div[3]/div/div[1]/button/i')\n",
    "            print('warning alert closed')\n",
    "            time.sleep(.5)\n",
    "    except:\n",
    "        print('NOT SHOWING')"
   ]
  },
  {
   "cell_type": "code",
   "execution_count": 201,
   "metadata": {},
   "outputs": [
    {
     "name": "stderr",
     "output_type": "stream",
     "text": [
      "/var/folders/6k/lg2h42qn3l95hrk2nvs52xmw0000gn/T/ipykernel_39329/1453602253.py:1: DeprecationWarning: executable_path has been deprecated, please pass in a Service object\n",
      "  driver = webdriver.Chrome(executable_path=r\"/Users/clcx/Documents/Calvin/Random/chromedriver\")\n"
     ]
    }
   ],
   "source": [
    "driver = webdriver.Chrome(executable_path=r\"/Users/clcx/Documents/Calvin/Random/chromedriver\")\n"
   ]
  },
  {
   "cell_type": "code",
   "execution_count": 202,
   "metadata": {},
   "outputs": [],
   "source": [
    "driver.get(\"https://crm.xcyunxt.com/xccrm/#/clue/index\")"
   ]
  },
  {
   "cell_type": "code",
   "execution_count": 203,
   "metadata": {},
   "outputs": [],
   "source": [
    "username = driver.find_element(By.NAME,'username')\n",
    "username.clear()\n",
    "username.send_keys('15006106002')\n",
    "password = driver.find_element(By.NAME,'password')\n",
    "password.clear()\n",
    "password.send_keys('A@1234xc')\n",
    "driver.find_element(By.XPATH, '//*[@id=\"app\"]/div/div/form/button').click()"
   ]
  },
  {
   "cell_type": "code",
   "execution_count": 204,
   "metadata": {},
   "outputs": [],
   "source": [
    "# pilih CRM\n",
    "clickable('//*[@id=\"app\"]/div/div[1]/div[4]/div[1]/div[1]/img')"
   ]
  },
  {
   "cell_type": "code",
   "execution_count": 205,
   "metadata": {},
   "outputs": [],
   "source": [
    "driver.switch_to.window(driver.window_handles[1])"
   ]
  },
  {
   "cell_type": "code",
   "execution_count": 206,
   "metadata": {},
   "outputs": [],
   "source": [
    "# panah bawah\n",
    "clickable('//*[@id=\"app\"]/div/div[1]/div[2]/div[1]/div/ul/div[2]/li/div/span')\n",
    "driver.implicitly_wait(3)"
   ]
  },
  {
   "cell_type": "code",
   "execution_count": 207,
   "metadata": {},
   "outputs": [],
   "source": [
    "# pilih isi data\n",
    "clickable('//*[@id=\"app\"]/div/div[1]/div[2]/div[1]/div/ul/div[2]/li/ul/div[6]/a/li')\n",
    "time.sleep(10)"
   ]
  },
  {
   "cell_type": "code",
   "execution_count": 263,
   "metadata": {},
   "outputs": [],
   "source": [
    "i = 6"
   ]
  },
  {
   "cell_type": "code",
   "execution_count": 264,
   "metadata": {},
   "outputs": [],
   "source": [
    "filepath = '/Users/clcx/Documents/Calvin/Clients Data/Winna/9.xlsx'\n",
    "wb = load_workbook(filepath)\n",
    "\n",
    "sheetRange = wb['Sheet1']\n",
    "\n",
    "olshop_name = sheetRange['D'+str(i)].value\n",
    "firm_name = sheetRange['C'+str(i)].value\n",
    "boss_name = sheetRange['B'+str(i)].value\n",
    "phone_number = sheetRange['A'+str(i)].value"
   ]
  },
  {
   "cell_type": "code",
   "execution_count": null,
   "metadata": {},
   "outputs": [],
   "source": []
  },
  {
   "cell_type": "code",
   "execution_count": 240,
   "metadata": {},
   "outputs": [],
   "source": [
    "clear()"
   ]
  },
  {
   "cell_type": "code",
   "execution_count": 208,
   "metadata": {},
   "outputs": [],
   "source": []
  },
  {
   "cell_type": "code",
   "execution_count": 265,
   "metadata": {},
   "outputs": [],
   "source": [
    "# tambah data baru\n",
    "clickable('//*[@id=\"app\"]/div/div[2]/section/div/div/div[1]/div[1]/button[1]')\n"
   ]
  },
  {
   "cell_type": "code",
   "execution_count": 266,
   "metadata": {},
   "outputs": [],
   "source": [
    "try:\n",
    "    WDW(driver, 5).until(EC.presence_of_element_located(\n",
    "        (By.XPATH, '//*[@id=\"app\"]/div/div[2]/section/div/div/div[3]/div/div[2]')))\n",
    "\n",
    "    driver.find_element(By.XPATH,'//*[@id=\"app\"]/div/div[2]/section/div/div/div[3]/div/div[2]/form/div[2]/div/div/div[1]/input').send_keys(olshop_name)\n",
    "    driver.find_element(By.XPATH,'//*[@id=\"app\"]/div/div[2]/section/div/div/div[3]/div/div[2]/form/div[1]/div/div/input').send_keys(firm_name)    \n",
    "    driver.find_element(By.XPATH,'//*[@id=\"app\"]/div/div[2]/section/div/div/div[3]/div/div[2]/form/div[6]/div[1]/div/div/div[1]/input').send_keys(boss_name)\n",
    "    driver.find_element(By.XPATH,'//*[@id=\"app\"]/div/div[2]/section/div/div/div[3]/div/div[2]/form/div[6]/div[2]/div[1]/div/div/div/input').send_keys(phone_number)\n",
    "except:\n",
    "    print('NOT SHOWING')\n",
    "time.sleep(2)"
   ]
  },
  {
   "cell_type": "code",
   "execution_count": 267,
   "metadata": {},
   "outputs": [
    {
     "name": "stdout",
     "output_type": "stream",
     "text": [
      "NOTED on 6\n"
     ]
    }
   ],
   "source": [
    "# kalo muncul alert catet ke excel + clear form\n",
    "try:\n",
    "    WDW(driver, 5).until(EC.presence_of_element_located(\n",
    "    (By.XPATH, '/html/body/div[4]/div/div[2]/div/div/div[1]')))\n",
    "    sheetRange['E'+str(i)].value = driver.find_element(By.XPATH,'/html/body/div[4]/div/div[2]/div/div/div[2]/div/div[3]/span[2]').text\n",
    "    sheetRange['F'+str(i)].value = driver.find_element(By.XPATH,'/html/body/div[4]/div/div[2]/div/div/div[2]/div/div[5]/span[2]').text\n",
    "    wb.save(filepath)\n",
    "    clear()\n",
    "    print('NOTED on '+str(i))\n",
    "except:\n",
    "    print('NOT SHOWING')"
   ]
  },
  {
   "cell_type": "code",
   "execution_count": 268,
   "metadata": {},
   "outputs": [
    {
     "name": "stdout",
     "output_type": "stream",
     "text": [
      "NOT SHOWING\n",
      "NOT SHOWING\n",
      "warning alert closed\n",
      "NOT SHOWING\n",
      "NOT SHOWING\n",
      "warning alert closed\n",
      "NOT SHOWING\n",
      "NOT SHOWING\n",
      "warning alert closed\n"
     ]
    }
   ],
   "source": [
    "close_repetition()"
   ]
  },
  {
   "cell_type": "code",
   "execution_count": null,
   "metadata": {},
   "outputs": [],
   "source": []
  },
  {
   "cell_type": "code",
   "execution_count": 269,
   "metadata": {},
   "outputs": [
    {
     "name": "stdout",
     "output_type": "stream",
     "text": [
      "duplicate alert closed\n"
     ]
    }
   ],
   "source": [
    "try:\n",
    "    WDW(driver, 5).until(EC.presence_of_element_located(\n",
    "    (By.XPATH, '/html/body/div[4]/div/div[2]/div/div/div[1]')))\n",
    "    driver.find_element(By.XPATH,'/html/body/div[4]/div/div[1]/button/i').click()\n",
    "    print('duplicate alert closed')\n",
    "except:\n",
    "    print('NOT SHOWING')\n",
    "time.sleep(2)"
   ]
  },
  {
   "cell_type": "code",
   "execution_count": null,
   "metadata": {},
   "outputs": [],
   "source": [
    "print(driver.find_element(By.XPATH,'/html/body/div[4]/div/div[2]/div/div/div[2]/div/div[3]/span[2]').text)\n",
    "print(driver.find_element(By.XPATH,'/html/body/div[4]/div/div[2]/div/div/div[2]/div/div[5]/span[2]').text)"
   ]
  },
  {
   "cell_type": "code",
   "execution_count": null,
   "metadata": {},
   "outputs": [],
   "source": [
    "try:\n",
    "    WDW(driver, 5).until(EC.presence_of_element_located(\n",
    "    (By.XPATH, '/html/body/div[4]/div/div[2]/div/div/div[1]')))\n",
    "    driver.find_element(By.XPATH,'/html/body/div[4]/div/div[1]/button/i').click()\n",
    "    print('duplicate alert closed')\n",
    "except:\n",
    "    print('NOT SHOWING')\n",
    "time.sleep(2)\n",
    "\n",
    "try:\n",
    "    for i in range(3):\n",
    "        driver.find_element(By.XPATH,'/html/body/div[2]/div/div[1]/button').send_keys(Keys.ESCAPE)\n",
    "        print('warning alert closed')\n",
    "        time.sleep(.5)\n",
    "except:\n",
    "    print('NOT SHOWING')"
   ]
  },
  {
   "cell_type": "code",
   "execution_count": 262,
   "metadata": {},
   "outputs": [
    {
     "name": "stdout",
     "output_type": "stream",
     "text": [
      "NOT SHOWING\n",
      "NOT SHOWING\n",
      "warning alert closed\n",
      "NOT SHOWING\n",
      "NOT SHOWING\n",
      "warning alert closed\n",
      "NOT SHOWING\n",
      "NOT SHOWING\n",
      "warning alert closed\n"
     ]
    }
   ],
   "source": [
    "clickable('//*[@id=\"app\"]/div/div[2]/section/div/div/div[3]/div/div[2]/form/div[7]/div/button[1]')\n",
    "sheetRange['G'+str(i)].value = 'OK'\n",
    "close_repetition()"
   ]
  },
  {
   "cell_type": "code",
   "execution_count": 9,
   "metadata": {},
   "outputs": [],
   "source": [
    "def plus_i():\n",
    "    global i\n",
    "    i += 1\n",
    "\n",
    "def minus_i():\n",
    "    global i\n",
    "    i -= 1\n"
   ]
  },
  {
   "cell_type": "code",
   "execution_count": 16,
   "metadata": {},
   "outputs": [],
   "source": [
    "plus_i()"
   ]
  },
  {
   "cell_type": "code",
   "execution_count": 17,
   "metadata": {},
   "outputs": [
    {
     "data": {
      "text/plain": [
       "5"
      ]
     },
     "execution_count": 17,
     "metadata": {},
     "output_type": "execute_result"
    }
   ],
   "source": [
    "i"
   ]
  },
  {
   "cell_type": "code",
   "execution_count": 1,
   "metadata": {},
   "outputs": [],
   "source": [
    "import os"
   ]
  },
  {
   "cell_type": "code",
   "execution_count": 2,
   "metadata": {},
   "outputs": [],
   "source": [
    "import pandas as pd"
   ]
  },
  {
   "cell_type": "code",
   "execution_count": 11,
   "metadata": {},
   "outputs": [
    {
     "name": "stdout",
     "output_type": "stream",
     "text": [
      "/Users/clcx/Documents/Calvin/CRM/Winna/9.xlsx\n",
      "/Users/clcx/Documents/Calvin/CRM/Winna/5.xlsx\n",
      "/Users/clcx/Documents/Calvin/CRM/Winna/.DS_Store\n",
      "/Users/clcx/Documents/Calvin/CRM/Winna/4.xlsx\n",
      "/Users/clcx/Documents/Calvin/CRM/Winna/14.xlsx\n",
      "/Users/clcx/Documents/Calvin/CRM/Winna/8.xlsx\n",
      "/Users/clcx/Documents/Calvin/CRM/Winna/13.xlsx\n",
      "/Users/clcx/Documents/Calvin/CRM/Winna/3.xlsx\n",
      "/Users/clcx/Documents/Calvin/CRM/Winna/2.xlsx\n",
      "/Users/clcx/Documents/Calvin/CRM/Winna/12.xlsx\n",
      "/Users/clcx/Documents/Calvin/CRM/Winna/1.xlsx\n",
      "/Users/clcx/Documents/Calvin/CRM/Winna/11.xlsx\n",
      "/Users/clcx/Documents/Calvin/CRM/Winna/10.xlsx\n",
      "/Users/clcx/Documents/Calvin/CRM/Winna/7.xlsx\n",
      "/Users/clcx/Documents/Calvin/CRM/Winna/6.xlsx\n"
     ]
    }
   ],
   "source": [
    "filepath = '/Users/clcx/Documents/Calvin/CRM/Winna'\n",
    "\n",
    "for fold,subfold,files in os.walk(filepath):\n",
    "    for xl in files:\n",
    "        pd_xl_file = pd.ExcelFile(filepath+'/'+xl)"
   ]
  },
  {
   "cell_type": "code",
   "execution_count": 2,
   "metadata": {},
   "outputs": [],
   "source": [
    "import pandas as pd"
   ]
  },
  {
   "cell_type": "code",
   "execution_count": 22,
   "metadata": {},
   "outputs": [],
   "source": [
    "df = pd.ExcelFile('/Users/clcx/Documents/Calvin/CRM/Winna/15.xlsx').parse('Sheet1')"
   ]
  },
  {
   "cell_type": "code",
   "execution_count": 23,
   "metadata": {},
   "outputs": [
    {
     "data": {
      "text/plain": [
       "(30, 6)"
      ]
     },
     "execution_count": 23,
     "metadata": {},
     "output_type": "execute_result"
    }
   ],
   "source": [
    "df.shape"
   ]
  },
  {
   "cell_type": "code",
   "execution_count": 24,
   "metadata": {},
   "outputs": [
    {
     "data": {
      "text/plain": [
       "14"
      ]
     },
     "execution_count": 24,
     "metadata": {},
     "output_type": "execute_result"
    }
   ],
   "source": [
    "df[df.columns[4]].count()"
   ]
  },
  {
   "cell_type": "code",
   "execution_count": null,
   "metadata": {},
   "outputs": [],
   "source": []
  }
 ],
 "metadata": {
  "interpreter": {
   "hash": "de0342d22f59080f5a2b049921cc024b05bf53d7a856e2b4ddc8580cbc73f413"
  },
  "kernelspec": {
   "display_name": "Python 3.9.7 ('base')",
   "language": "python",
   "name": "python3"
  },
  "language_info": {
   "codemirror_mode": {
    "name": "ipython",
    "version": 3
   },
   "file_extension": ".py",
   "mimetype": "text/x-python",
   "name": "python",
   "nbconvert_exporter": "python",
   "pygments_lexer": "ipython3",
   "version": "3.9.7"
  },
  "orig_nbformat": 4
 },
 "nbformat": 4,
 "nbformat_minor": 2
}
