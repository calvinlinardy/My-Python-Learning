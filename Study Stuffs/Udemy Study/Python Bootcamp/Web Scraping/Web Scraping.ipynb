{
 "cells": [
  {
   "cell_type": "markdown",
   "metadata": {},
   "source": [
    "## Web Scraping"
   ]
  },
  {
   "cell_type": "code",
   "execution_count": 2,
   "metadata": {},
   "outputs": [],
   "source": [
    "import requests"
   ]
  },
  {
   "cell_type": "code",
   "execution_count": 3,
   "metadata": {},
   "outputs": [],
   "source": [
    "# kita coba send request ke website nya\n",
    "res = requests.get(\"http://www.example.com\")"
   ]
  },
  {
   "cell_type": "code",
   "execution_count": 4,
   "metadata": {},
   "outputs": [
    {
     "data": {
      "text/plain": [
       "requests.models.Response"
      ]
     },
     "execution_count": 4,
     "metadata": {},
     "output_type": "execute_result"
    }
   ],
   "source": [
    "# kita udah dapet response\n",
    "type(res)"
   ]
  },
  {
   "cell_type": "code",
   "execution_count": 5,
   "metadata": {},
   "outputs": [
    {
     "data": {
      "text/plain": [
       "'<!doctype html>\\n<html>\\n<head>\\n    <title>Example Domain</title>\\n\\n    <meta charset=\"utf-8\" />\\n    <meta http-equiv=\"Content-type\" content=\"text/html; charset=utf-8\" />\\n    <meta name=\"viewport\" content=\"width=device-width, initial-scale=1\" />\\n    <style type=\"text/css\">\\n    body {\\n        background-color: #f0f0f2;\\n        margin: 0;\\n        padding: 0;\\n        font-family: -apple-system, system-ui, BlinkMacSystemFont, \"Segoe UI\", \"Open Sans\", \"Helvetica Neue\", Helvetica, Arial, sans-serif;\\n        \\n    }\\n    div {\\n        width: 600px;\\n        margin: 5em auto;\\n        padding: 2em;\\n        background-color: #fdfdff;\\n        border-radius: 0.5em;\\n        box-shadow: 2px 3px 7px 2px rgba(0,0,0,0.02);\\n    }\\n    a:link, a:visited {\\n        color: #38488f;\\n        text-decoration: none;\\n    }\\n    @media (max-width: 700px) {\\n        div {\\n            margin: 0 auto;\\n            width: auto;\\n        }\\n    }\\n    </style>    \\n</head>\\n\\n<body>\\n<div>\\n    <h1>Example Domain</h1>\\n    <p>This domain is for use in illustrative examples in documents. You may use this\\n    domain in literature without prior coordination or asking for permission.</p>\\n    <p><a href=\"https://www.iana.org/domains/example\">More information...</a></p>\\n</div>\\n</body>\\n</html>\\n'"
      ]
     },
     "execution_count": 5,
     "metadata": {},
     "output_type": "execute_result"
    }
   ],
   "source": [
    "# skrg coba kita inspect text nya\n",
    "# kalo kita ke websitenya pake browser\n",
    "# klik kanan terus view page source\n",
    "res.text"
   ]
  },
  {
   "cell_type": "markdown",
   "metadata": {},
   "source": [
    "hasil yang di atas itu sama kayak kalo kita view page source klik kanan di website nya, tapi ini berantakan, jadi kita harus rapihin pake beautiful soup"
   ]
  },
  {
   "cell_type": "code",
   "execution_count": 6,
   "metadata": {},
   "outputs": [],
   "source": [
    "import bs4"
   ]
  },
  {
   "cell_type": "code",
   "execution_count": 7,
   "metadata": {},
   "outputs": [],
   "source": [
    "# kita pake parser lxml\n",
    "# lxml itu library python buat handle xml ato html\n",
    "soup = bs4.BeautifulSoup(res.text,\"lxml\")"
   ]
  },
  {
   "cell_type": "code",
   "execution_count": 8,
   "metadata": {},
   "outputs": [
    {
     "data": {
      "text/plain": [
       "<!DOCTYPE html>\n",
       "<html>\n",
       "<head>\n",
       "<title>Example Domain</title>\n",
       "<meta charset=\"utf-8\"/>\n",
       "<meta content=\"text/html; charset=utf-8\" http-equiv=\"Content-type\"/>\n",
       "<meta content=\"width=device-width, initial-scale=1\" name=\"viewport\"/>\n",
       "<style type=\"text/css\">\n",
       "    body {\n",
       "        background-color: #f0f0f2;\n",
       "        margin: 0;\n",
       "        padding: 0;\n",
       "        font-family: -apple-system, system-ui, BlinkMacSystemFont, \"Segoe UI\", \"Open Sans\", \"Helvetica Neue\", Helvetica, Arial, sans-serif;\n",
       "        \n",
       "    }\n",
       "    div {\n",
       "        width: 600px;\n",
       "        margin: 5em auto;\n",
       "        padding: 2em;\n",
       "        background-color: #fdfdff;\n",
       "        border-radius: 0.5em;\n",
       "        box-shadow: 2px 3px 7px 2px rgba(0,0,0,0.02);\n",
       "    }\n",
       "    a:link, a:visited {\n",
       "        color: #38488f;\n",
       "        text-decoration: none;\n",
       "    }\n",
       "    @media (max-width: 700px) {\n",
       "        div {\n",
       "            margin: 0 auto;\n",
       "            width: auto;\n",
       "        }\n",
       "    }\n",
       "    </style>\n",
       "</head>\n",
       "<body>\n",
       "<div>\n",
       "<h1>Example Domain</h1>\n",
       "<p>This domain is for use in illustrative examples in documents. You may use this\n",
       "    domain in literature without prior coordination or asking for permission.</p>\n",
       "<p><a href=\"https://www.iana.org/domains/example\">More information...</a></p>\n",
       "</div>\n",
       "</body>\n",
       "</html>"
      ]
     },
     "execution_count": 8,
     "metadata": {},
     "output_type": "execute_result"
    }
   ],
   "source": [
    "# skrg hasilnya jadi udah rapih sama kayak di source web nya\n",
    "soup"
   ]
  },
  {
   "cell_type": "markdown",
   "metadata": {},
   "source": [
    "skrg kita pake **.select()** method buat grab element, kita coba grab title\n"
   ]
  },
  {
   "cell_type": "code",
   "execution_count": 9,
   "metadata": {},
   "outputs": [
    {
     "data": {
      "text/plain": [
       "[<title>Example Domain</title>]"
      ]
     },
     "execution_count": 9,
     "metadata": {},
     "output_type": "execute_result"
    }
   ],
   "source": [
    "soup.select('title')"
   ]
  },
  {
   "cell_type": "markdown",
   "metadata": {},
   "source": [
    "selalu dikasih dalam bentuk list, karena yang tag nya sama bisa aja lebih dari satu"
   ]
  },
  {
   "cell_type": "code",
   "execution_count": 10,
   "metadata": {},
   "outputs": [
    {
     "data": {
      "text/plain": [
       "<title>Example Domain</title>"
      ]
     },
     "execution_count": 10,
     "metadata": {},
     "output_type": "execute_result"
    }
   ],
   "source": [
    "# kita keluarin dari list\n",
    "title_tag = soup.select('title')[0]\n",
    "title_tag"
   ]
  },
  {
   "cell_type": "code",
   "execution_count": 11,
   "metadata": {},
   "outputs": [
    {
     "data": {
      "text/plain": [
       "bs4.element.Tag"
      ]
     },
     "execution_count": 11,
     "metadata": {},
     "output_type": "execute_result"
    }
   ],
   "source": [
    "type(title_tag)\n",
    "# inget ini bukan string"
   ]
  },
  {
   "cell_type": "code",
   "execution_count": 12,
   "metadata": {},
   "outputs": [
    {
     "data": {
      "text/plain": [
       "'Example Domain'"
      ]
     },
     "execution_count": 12,
     "metadata": {},
     "output_type": "execute_result"
    }
   ],
   "source": [
    "# skrg kita kalo mau ilangin tagnya pake .getText\n",
    "# ato bisa juga langsung .text\n",
    "title_tag.getText()"
   ]
  },
  {
   "cell_type": "code",
   "execution_count": 13,
   "metadata": {},
   "outputs": [
    {
     "data": {
      "text/plain": [
       "[<p>This domain is for use in illustrative examples in documents. You may use this\n",
       "     domain in literature without prior coordination or asking for permission.</p>,\n",
       " <p><a href=\"https://www.iana.org/domains/example\">More information...</a></p>]"
      ]
     },
     "execution_count": 13,
     "metadata": {},
     "output_type": "execute_result"
    }
   ],
   "source": [
    "# Sekarang coba tag = p\n",
    "soup.select('p')"
   ]
  },
  {
   "cell_type": "code",
   "execution_count": 14,
   "metadata": {},
   "outputs": [
    {
     "data": {
      "text/plain": [
       "'More information...'"
      ]
     },
     "execution_count": 14,
     "metadata": {},
     "output_type": "execute_result"
    }
   ],
   "source": [
    "soup.select('p')[1].getText()"
   ]
  },
  {
   "cell_type": "markdown",
   "metadata": {},
   "source": [
    "### Example Task 1 - Grabbing all elements of a class\n",
    "\n"
   ]
  },
  {
   "cell_type": "code",
   "execution_count": 15,
   "metadata": {},
   "outputs": [],
   "source": [
    "# skrg kita grab element dari class, kalo tadi kan dari tag"
   ]
  },
  {
   "cell_type": "markdown",
   "metadata": {},
   "source": [
    "<table>\n",
    "\n",
    "<thead >\n",
    "<tr>\n",
    "<th>\n",
    "<p>Syntax to pass to the .select() method</p>\n",
    "</th>\n",
    "<th>\n",
    "<p>Match Results</p>\n",
    "</th>\n",
    "</tr>\n",
    "</thead>\n",
    "<tbody>\n",
    "<tr>\n",
    "<td>\n",
    "<p><code>soup.select('div')</code></p>\n",
    "</td>\n",
    "<td>\n",
    "<p>All elements with the <code>&lt;div&gt;</code> tag</p>\n",
    "</td>\n",
    "</tr>\n",
    "<tr>\n",
    "<td>\n",
    "<p><code>soup.select('#some_id')</code></p>\n",
    "</td>\n",
    "<td>\n",
    "<p>The HTML element containing the <code>id</code> attribute of <code>some_id</code></p>\n",
    "</td>\n",
    "</tr>\n",
    "<tr>\n",
    "<td>\n",
    "<p><code>soup.select('.notice')</code></p>\n",
    "</td>\n",
    "<td>\n",
    "<p>All the HTML elements with the CSS <code>class</code> named <code>notice</code></p>\n",
    "</td>\n",
    "</tr>\n",
    "<tr>\n",
    "<td>\n",
    "<p><code>soup.select('div span')</code></p>\n",
    "</td>\n",
    "<td>\n",
    "<p>Any elements named <code>&lt;span&gt;</code> that are within an element named <code>&lt;div&gt;</code></p>\n",
    "</td>\n",
    "</tr>\n",
    "<tr>\n",
    "<td>\n",
    "<p><code>soup.select('div &gt; span')</code></p>\n",
    "</td>\n",
    "<td>\n",
    "<p>Any elements named <code class=\"literal2\">&lt;span&gt;</code> that are <span><em >directly</em></span> within an element named <code class=\"literal2\">&lt;div&gt;</code>, with no other element in between</p>\n",
    "</td>\n",
    "</tr>\n",
    "<tr>\n",
    "\n",
    "</tr>\n",
    "</tbody>\n",
    "</table>"
   ]
  },
  {
   "cell_type": "code",
   "execution_count": 16,
   "metadata": {},
   "outputs": [],
   "source": [
    "# coba kita pake article wikipedia steph curry\n",
    "# get the request\n",
    "res = requests.get(\"https://en.wikipedia.org/wiki/Stephen_Curry\")"
   ]
  },
  {
   "cell_type": "code",
   "execution_count": 17,
   "metadata": {},
   "outputs": [],
   "source": [
    "# bikin soup dari requestnya (rapihin)\n",
    "# create a soup from request\n",
    "soup = bs4.BeautifulSoup(res.text,\"lxml\")"
   ]
  },
  {
   "cell_type": "markdown",
   "metadata": {},
   "source": [
    "##### kita bakal ambil isi dari table of contents nya (Contents)\n",
    "kalo kita liat di wikipedia nya, terus inspenct atau F12, kita arahin ke isi content nya, kan class nya, ada toclevel1, tocnumber, toctext, btw toc itu table of content. kita kan perlu textnya, jadi class yang kita mau itu TOCTEXT"
   ]
  },
  {
   "cell_type": "code",
   "execution_count": 18,
   "metadata": {},
   "outputs": [
    {
     "data": {
      "text/plain": [
       "[<span class=\"toctext\">Early life</span>,\n",
       " <span class=\"toctext\">College career</span>,\n",
       " <span class=\"toctext\">Freshman season</span>,\n",
       " <span class=\"toctext\">Sophomore season</span>,\n",
       " <span class=\"toctext\">Junior season</span>,\n",
       " <span class=\"toctext\">Professional career</span>,\n",
       " <span class=\"toctext\">Golden State Warriors (2009–present)</span>,\n",
       " <span class=\"toctext\">Early years (2009–2014)</span>,\n",
       " <span class=\"toctext\">NBA championship and MVP (2014–2015)</span>,\n",
       " <span class=\"toctext\">MVP and historic season (2015–2016)</span>,\n",
       " <span class=\"toctext\">Back-to-back championships (2016–2018)</span>,\n",
       " <span class=\"toctext\">Fifth-straight NBA Finals (2018–2019)</span>,\n",
       " <span class=\"toctext\">Injury and comeback (2019–2021)</span>,\n",
       " <span class=\"toctext\">All-time 3-point record and All-Star Game MVP (2021–2022)</span>,\n",
       " <span class=\"toctext\">National team career</span>,\n",
       " <span class=\"toctext\">Player profile</span>,\n",
       " <span class=\"toctext\">Legacy</span>,\n",
       " <span class=\"toctext\">Off the court</span>,\n",
       " <span class=\"toctext\">Personal life</span>,\n",
       " <span class=\"toctext\">Public image</span>,\n",
       " <span class=\"toctext\">Business interests</span>,\n",
       " <span class=\"toctext\">Charity</span>,\n",
       " <span class=\"toctext\">Production company</span>,\n",
       " <span class=\"toctext\">Career statistics</span>,\n",
       " <span class=\"toctext\">NBA</span>,\n",
       " <span class=\"toctext\">Regular season</span>,\n",
       " <span class=\"toctext\">Playoffs</span>,\n",
       " <span class=\"toctext\">College</span>,\n",
       " <span class=\"toctext\">Awards and honors</span>,\n",
       " <span class=\"toctext\">NBA</span>,\n",
       " <span class=\"toctext\">College</span>,\n",
       " <span class=\"toctext\">NCAA records</span>,\n",
       " <span class=\"toctext\">Davidson College records</span>,\n",
       " <span class=\"toctext\">Other</span>,\n",
       " <span class=\"toctext\">See also</span>,\n",
       " <span class=\"toctext\">Explanatory notes</span>,\n",
       " <span class=\"toctext\">References</span>,\n",
       " <span class=\"toctext\">External links</span>]"
      ]
     },
     "execution_count": 18,
     "metadata": {},
     "output_type": "execute_result"
    }
   ],
   "source": [
    "# kita mau select berdasarkan class, jadi pake titik didepan\n",
    "soup.select(\".toctext\")"
   ]
  },
  {
   "cell_type": "code",
   "execution_count": 19,
   "metadata": {},
   "outputs": [
    {
     "name": "stdout",
     "output_type": "stream",
     "text": [
      "Early life\n",
      "College career\n",
      "Freshman season\n",
      "Sophomore season\n",
      "Junior season\n",
      "Professional career\n",
      "Golden State Warriors (2009–present)\n",
      "Early years (2009–2014)\n",
      "NBA championship and MVP (2014–2015)\n",
      "MVP and historic season (2015–2016)\n",
      "Back-to-back championships (2016–2018)\n",
      "Fifth-straight NBA Finals (2018–2019)\n",
      "Injury and comeback (2019–2021)\n",
      "All-time 3-point record and All-Star Game MVP (2021–2022)\n",
      "National team career\n",
      "Player profile\n",
      "Legacy\n",
      "Off the court\n",
      "Personal life\n",
      "Public image\n",
      "Business interests\n",
      "Charity\n",
      "Production company\n",
      "Career statistics\n",
      "NBA\n",
      "Regular season\n",
      "Playoffs\n",
      "College\n",
      "Awards and honors\n",
      "NBA\n",
      "College\n",
      "NCAA records\n",
      "Davidson College records\n",
      "Other\n",
      "See also\n",
      "Explanatory notes\n",
      "References\n",
      "External links\n"
     ]
    }
   ],
   "source": [
    "# karena ini list kita pake for loop terus ambil textnya\n",
    "for item in soup.select('.toctext'):\n",
    "    print(item.text) #bisa juga pake getText()"
   ]
  },
  {
   "cell_type": "markdown",
   "metadata": {},
   "source": [
    "### Example Task 3 - Getting an Image from a Website"
   ]
  },
  {
   "cell_type": "code",
   "execution_count": 21,
   "metadata": {},
   "outputs": [],
   "source": [
    "# skrg kita ambil gambar dari wikipedia Steph Curry juga\n",
    "# request nya sama kayak di atas jadi gausah send lagi"
   ]
  },
  {
   "cell_type": "code",
   "execution_count": 23,
   "metadata": {},
   "outputs": [],
   "source": [
    "# kita mau coba ambil image yang ada di dalem article nya"
   ]
  },
  {
   "cell_type": "code",
   "execution_count": 25,
   "metadata": {},
   "outputs": [
    {
     "data": {
      "text/plain": [
       "[<img alt=\"Page semi-protected\" data-file-height=\"512\" data-file-width=\"512\" decoding=\"async\" height=\"20\" src=\"//upload.wikimedia.org/wikipedia/en/thumb/1/1b/Semi-protection-shackle.svg/20px-Semi-protection-shackle.svg.png\" srcset=\"//upload.wikimedia.org/wikipedia/en/thumb/1/1b/Semi-protection-shackle.svg/30px-Semi-protection-shackle.svg.png 1.5x, //upload.wikimedia.org/wikipedia/en/thumb/1/1b/Semi-protection-shackle.svg/40px-Semi-protection-shackle.svg.png 2x\" width=\"20\"/>,\n",
       " <img alt=\"TechCrunch Disrupt 2019 (48834853256) (1).jpg\" data-file-height=\"2427\" data-file-width=\"1821\" decoding=\"async\" height=\"293\" src=\"//upload.wikimedia.org/wikipedia/commons/thumb/a/aa/TechCrunch_Disrupt_2019_%2848834853256%29_%281%29.jpg/220px-TechCrunch_Disrupt_2019_%2848834853256%29_%281%29.jpg\" srcset=\"//upload.wikimedia.org/wikipedia/commons/thumb/a/aa/TechCrunch_Disrupt_2019_%2848834853256%29_%281%29.jpg/330px-TechCrunch_Disrupt_2019_%2848834853256%29_%281%29.jpg 1.5x, //upload.wikimedia.org/wikipedia/commons/thumb/a/aa/TechCrunch_Disrupt_2019_%2848834853256%29_%281%29.jpg/440px-TechCrunch_Disrupt_2019_%2848834853256%29_%281%29.jpg 2x\" width=\"220\"/>,\n",
       " <img alt=\"Edit this at Wikidata\" data-file-height=\"20\" data-file-width=\"20\" decoding=\"async\" height=\"10\" src=\"//upload.wikimedia.org/wikipedia/en/thumb/8/8a/OOjs_UI_icon_edit-ltr-progressive.svg/10px-OOjs_UI_icon_edit-ltr-progressive.svg.png\" srcset=\"//upload.wikimedia.org/wikipedia/en/thumb/8/8a/OOjs_UI_icon_edit-ltr-progressive.svg/15px-OOjs_UI_icon_edit-ltr-progressive.svg.png 1.5x, //upload.wikimedia.org/wikipedia/en/thumb/8/8a/OOjs_UI_icon_edit-ltr-progressive.svg/20px-OOjs_UI_icon_edit-ltr-progressive.svg.png 2x\" style=\"vertical-align: text-top\" width=\"10\"/>,\n",
       " <img alt=\"Edit this at Wikidata\" data-file-height=\"20\" data-file-width=\"20\" decoding=\"async\" height=\"10\" src=\"//upload.wikimedia.org/wikipedia/en/thumb/8/8a/OOjs_UI_icon_edit-ltr-progressive.svg/10px-OOjs_UI_icon_edit-ltr-progressive.svg.png\" srcset=\"//upload.wikimedia.org/wikipedia/en/thumb/8/8a/OOjs_UI_icon_edit-ltr-progressive.svg/15px-OOjs_UI_icon_edit-ltr-progressive.svg.png 1.5x, //upload.wikimedia.org/wikipedia/en/thumb/8/8a/OOjs_UI_icon_edit-ltr-progressive.svg/20px-OOjs_UI_icon_edit-ltr-progressive.svg.png 2x\" style=\"vertical-align: text-top\" width=\"10\"/>,\n",
       " <img alt=\"\" class=\"thumbborder\" data-file-height=\"650\" data-file-width=\"1235\" decoding=\"async\" height=\"12\" src=\"//upload.wikimedia.org/wikipedia/en/thumb/a/a4/Flag_of_the_United_States.svg/23px-Flag_of_the_United_States.svg.png\" srcset=\"//upload.wikimedia.org/wikipedia/en/thumb/a/a4/Flag_of_the_United_States.svg/35px-Flag_of_the_United_States.svg.png 1.5x, //upload.wikimedia.org/wikipedia/en/thumb/a/a4/Flag_of_the_United_States.svg/46px-Flag_of_the_United_States.svg.png 2x\" width=\"23\"/>,\n",
       " <img alt=\"Gold medal – first place\" data-file-height=\"16\" data-file-width=\"16\" decoding=\"async\" height=\"16\" src=\"//upload.wikimedia.org/wikipedia/commons/thumb/d/d5/Gold_medal_icon_%28G_initial%29.svg/16px-Gold_medal_icon_%28G_initial%29.svg.png\" srcset=\"//upload.wikimedia.org/wikipedia/commons/thumb/d/d5/Gold_medal_icon_%28G_initial%29.svg/24px-Gold_medal_icon_%28G_initial%29.svg.png 1.5x, //upload.wikimedia.org/wikipedia/commons/thumb/d/d5/Gold_medal_icon_%28G_initial%29.svg/32px-Gold_medal_icon_%28G_initial%29.svg.png 2x\" title=\"Gold medal – first place\" width=\"16\"/>,\n",
       " <img alt=\"Gold medal – first place\" data-file-height=\"16\" data-file-width=\"16\" decoding=\"async\" height=\"16\" src=\"//upload.wikimedia.org/wikipedia/commons/thumb/d/d5/Gold_medal_icon_%28G_initial%29.svg/16px-Gold_medal_icon_%28G_initial%29.svg.png\" srcset=\"//upload.wikimedia.org/wikipedia/commons/thumb/d/d5/Gold_medal_icon_%28G_initial%29.svg/24px-Gold_medal_icon_%28G_initial%29.svg.png 1.5x, //upload.wikimedia.org/wikipedia/commons/thumb/d/d5/Gold_medal_icon_%28G_initial%29.svg/32px-Gold_medal_icon_%28G_initial%29.svg.png 2x\" title=\"Gold medal – first place\" width=\"16\"/>,\n",
       " <img alt=\"\" class=\"thumbimage\" data-file-height=\"888\" data-file-width=\"737\" decoding=\"async\" height=\"265\" src=\"//upload.wikimedia.org/wikipedia/commons/thumb/c/cb/Stephen_Curry_Davidson_cropped.jpg/220px-Stephen_Curry_Davidson_cropped.jpg\" srcset=\"//upload.wikimedia.org/wikipedia/commons/thumb/c/cb/Stephen_Curry_Davidson_cropped.jpg/330px-Stephen_Curry_Davidson_cropped.jpg 1.5x, //upload.wikimedia.org/wikipedia/commons/thumb/c/cb/Stephen_Curry_Davidson_cropped.jpg/440px-Stephen_Curry_Davidson_cropped.jpg 2x\" width=\"220\"/>,\n",
       " <img alt=\"\" class=\"thumbimage\" data-file-height=\"1229\" data-file-width=\"1912\" decoding=\"async\" height=\"141\" src=\"//upload.wikimedia.org/wikipedia/commons/thumb/c/c0/Stephen_Curry_defends_Allen_Iverson.jpg/220px-Stephen_Curry_defends_Allen_Iverson.jpg\" srcset=\"//upload.wikimedia.org/wikipedia/commons/thumb/c/c0/Stephen_Curry_defends_Allen_Iverson.jpg/330px-Stephen_Curry_defends_Allen_Iverson.jpg 1.5x, //upload.wikimedia.org/wikipedia/commons/thumb/c/c0/Stephen_Curry_defends_Allen_Iverson.jpg/440px-Stephen_Curry_defends_Allen_Iverson.jpg 2x\" width=\"220\"/>,\n",
       " <img alt=\"\" class=\"thumbimage\" data-file-height=\"2025\" data-file-width=\"1811\" decoding=\"async\" height=\"246\" src=\"//upload.wikimedia.org/wikipedia/commons/thumb/1/1a/Stephen_Curry_2.jpg/220px-Stephen_Curry_2.jpg\" srcset=\"//upload.wikimedia.org/wikipedia/commons/thumb/1/1a/Stephen_Curry_2.jpg/330px-Stephen_Curry_2.jpg 1.5x, //upload.wikimedia.org/wikipedia/commons/thumb/1/1a/Stephen_Curry_2.jpg/440px-Stephen_Curry_2.jpg 2x\" width=\"220\"/>,\n",
       " <img alt=\"\" class=\"thumbimage\" data-file-height=\"3050\" data-file-width=\"3299\" decoding=\"async\" height=\"203\" src=\"//upload.wikimedia.org/wikipedia/commons/thumb/7/7a/Stephen_Curry_close_up.jpg/220px-Stephen_Curry_close_up.jpg\" srcset=\"//upload.wikimedia.org/wikipedia/commons/thumb/7/7a/Stephen_Curry_close_up.jpg/330px-Stephen_Curry_close_up.jpg 1.5x, //upload.wikimedia.org/wikipedia/commons/thumb/7/7a/Stephen_Curry_close_up.jpg/440px-Stephen_Curry_close_up.jpg 2x\" width=\"220\"/>,\n",
       " <img alt=\"\" class=\"thumbimage\" data-file-height=\"2314\" data-file-width=\"3015\" decoding=\"async\" height=\"169\" src=\"//upload.wikimedia.org/wikipedia/commons/thumb/4/4c/John_Wall%2C_Stephen_Curry_%2816433225927%29.jpg/220px-John_Wall%2C_Stephen_Curry_%2816433225927%29.jpg\" srcset=\"//upload.wikimedia.org/wikipedia/commons/thumb/4/4c/John_Wall%2C_Stephen_Curry_%2816433225927%29.jpg/330px-John_Wall%2C_Stephen_Curry_%2816433225927%29.jpg 1.5x, //upload.wikimedia.org/wikipedia/commons/thumb/4/4c/John_Wall%2C_Stephen_Curry_%2816433225927%29.jpg/440px-John_Wall%2C_Stephen_Curry_%2816433225927%29.jpg 2x\" width=\"220\"/>,\n",
       " <img alt=\"\" class=\"thumbimage\" data-file-height=\"1351\" data-file-width=\"818\" decoding=\"async\" height=\"363\" src=\"//upload.wikimedia.org/wikipedia/commons/thumb/3/36/Stephen_Curry_dribbling_2016_%28cropped%29.jpg/220px-Stephen_Curry_dribbling_2016_%28cropped%29.jpg\" srcset=\"//upload.wikimedia.org/wikipedia/commons/thumb/3/36/Stephen_Curry_dribbling_2016_%28cropped%29.jpg/330px-Stephen_Curry_dribbling_2016_%28cropped%29.jpg 1.5x, //upload.wikimedia.org/wikipedia/commons/thumb/3/36/Stephen_Curry_dribbling_2016_%28cropped%29.jpg/440px-Stephen_Curry_dribbling_2016_%28cropped%29.jpg 2x\" width=\"220\"/>,\n",
       " <img alt=\"\" class=\"thumbimage\" data-file-height=\"2382\" data-file-width=\"3941\" decoding=\"async\" height=\"166\" src=\"//upload.wikimedia.org/wikipedia/commons/thumb/4/40/Stephen_Curry_%2833140701266%29.jpg/275px-Stephen_Curry_%2833140701266%29.jpg\" srcset=\"//upload.wikimedia.org/wikipedia/commons/thumb/4/40/Stephen_Curry_%2833140701266%29.jpg/413px-Stephen_Curry_%2833140701266%29.jpg 1.5x, //upload.wikimedia.org/wikipedia/commons/thumb/4/40/Stephen_Curry_%2833140701266%29.jpg/550px-Stephen_Curry_%2833140701266%29.jpg 2x\" width=\"275\"/>,\n",
       " <img alt=\"\" class=\"thumbimage\" data-file-height=\"3456\" data-file-width=\"5184\" decoding=\"async\" height=\"147\" src=\"//upload.wikimedia.org/wikipedia/commons/thumb/9/9f/Golden_State_Warriors_Point_Guard_Stephen_Curry_01.jpg/220px-Golden_State_Warriors_Point_Guard_Stephen_Curry_01.jpg\" srcset=\"//upload.wikimedia.org/wikipedia/commons/thumb/9/9f/Golden_State_Warriors_Point_Guard_Stephen_Curry_01.jpg/330px-Golden_State_Warriors_Point_Guard_Stephen_Curry_01.jpg 1.5x, //upload.wikimedia.org/wikipedia/commons/thumb/9/9f/Golden_State_Warriors_Point_Guard_Stephen_Curry_01.jpg/440px-Golden_State_Warriors_Point_Guard_Stephen_Curry_01.jpg 2x\" width=\"220\"/>,\n",
       " <img alt=\"\" class=\"thumbimage\" data-file-height=\"2158\" data-file-width=\"1446\" decoding=\"async\" height=\"298\" src=\"//upload.wikimedia.org/wikipedia/commons/thumb/3/3a/20140814_World_Basketball_Festival_Stephen_Curry_%28cropped%29.JPG/200px-20140814_World_Basketball_Festival_Stephen_Curry_%28cropped%29.JPG\" srcset=\"//upload.wikimedia.org/wikipedia/commons/thumb/3/3a/20140814_World_Basketball_Festival_Stephen_Curry_%28cropped%29.JPG/300px-20140814_World_Basketball_Festival_Stephen_Curry_%28cropped%29.JPG 1.5x, //upload.wikimedia.org/wikipedia/commons/thumb/3/3a/20140814_World_Basketball_Festival_Stephen_Curry_%28cropped%29.JPG/400px-20140814_World_Basketball_Festival_Stephen_Curry_%28cropped%29.JPG 2x\" width=\"200\"/>,\n",
       " <img alt=\"\" class=\"thumbimage\" data-file-height=\"3029\" data-file-width=\"1748\" decoding=\"async\" height=\"381\" src=\"//upload.wikimedia.org/wikipedia/commons/thumb/b/b6/Stephen_Curry_shooting.jpg/220px-Stephen_Curry_shooting.jpg\" srcset=\"//upload.wikimedia.org/wikipedia/commons/thumb/b/b6/Stephen_Curry_shooting.jpg/330px-Stephen_Curry_shooting.jpg 1.5x, //upload.wikimedia.org/wikipedia/commons/thumb/b/b6/Stephen_Curry_shooting.jpg/440px-Stephen_Curry_shooting.jpg 2x\" width=\"220\"/>,\n",
       " <img alt=\"\" class=\"thumbimage\" data-file-height=\"920\" data-file-width=\"613\" decoding=\"async\" height=\"255\" src=\"//upload.wikimedia.org/wikipedia/commons/thumb/1/17/Barack_Obama_and_Stephen_Curry.jpg/170px-Barack_Obama_and_Stephen_Curry.jpg\" srcset=\"//upload.wikimedia.org/wikipedia/commons/thumb/1/17/Barack_Obama_and_Stephen_Curry.jpg/255px-Barack_Obama_and_Stephen_Curry.jpg 1.5x, //upload.wikimedia.org/wikipedia/commons/thumb/1/17/Barack_Obama_and_Stephen_Curry.jpg/340px-Barack_Obama_and_Stephen_Curry.jpg 2x\" width=\"170\"/>,\n",
       " <img alt=\"\" class=\"thumbimage\" data-file-height=\"2829\" data-file-width=\"3507\" decoding=\"async\" height=\"177\" src=\"//upload.wikimedia.org/wikipedia/commons/thumb/5/5c/TechCrunch_Disrupt_San_Francisco_2019_-_Day_1_%2848835097887%29_%28cropped%29.jpg/220px-TechCrunch_Disrupt_San_Francisco_2019_-_Day_1_%2848835097887%29_%28cropped%29.jpg\" srcset=\"//upload.wikimedia.org/wikipedia/commons/thumb/5/5c/TechCrunch_Disrupt_San_Francisco_2019_-_Day_1_%2848835097887%29_%28cropped%29.jpg/330px-TechCrunch_Disrupt_San_Francisco_2019_-_Day_1_%2848835097887%29_%28cropped%29.jpg 1.5x, //upload.wikimedia.org/wikipedia/commons/thumb/5/5c/TechCrunch_Disrupt_San_Francisco_2019_-_Day_1_%2848835097887%29_%28cropped%29.jpg/440px-TechCrunch_Disrupt_San_Francisco_2019_-_Day_1_%2848835097887%29_%28cropped%29.jpg 2x\" width=\"220\"/>,\n",
       " <img alt=\"double-dagger\" data-file-height=\"14\" data-file-width=\"9\" decoding=\"async\" height=\"14\" src=\"//upload.wikimedia.org/wikipedia/commons/f/f9/Double-dagger-14-plain.png\" width=\"9\"/>,\n",
       " <img alt=\"double-dagger\" data-file-height=\"14\" data-file-width=\"9\" decoding=\"async\" height=\"14\" src=\"//upload.wikimedia.org/wikipedia/commons/f/f9/Double-dagger-14-plain.png\" width=\"9\"/>,\n",
       " <img alt=\"\" class=\"thumbimage\" data-file-height=\"1811\" data-file-width=\"1281\" decoding=\"async\" height=\"240\" src=\"//upload.wikimedia.org/wikipedia/commons/thumb/8/86/Stephen_Curry_%2816640524995%29.jpg/170px-Stephen_Curry_%2816640524995%29.jpg\" srcset=\"//upload.wikimedia.org/wikipedia/commons/thumb/8/86/Stephen_Curry_%2816640524995%29.jpg/255px-Stephen_Curry_%2816640524995%29.jpg 1.5x, //upload.wikimedia.org/wikipedia/commons/thumb/8/86/Stephen_Curry_%2816640524995%29.jpg/340px-Stephen_Curry_%2816640524995%29.jpg 2x\" width=\"170\"/>,\n",
       " <img alt=\"icon\" class=\"noviewer\" data-file-height=\"400\" data-file-width=\"400\" decoding=\"async\" height=\"28\" src=\"//upload.wikimedia.org/wikipedia/commons/thumb/7/72/Basketball_Clipart.svg/28px-Basketball_Clipart.svg.png\" srcset=\"//upload.wikimedia.org/wikipedia/commons/thumb/7/72/Basketball_Clipart.svg/42px-Basketball_Clipart.svg.png 1.5x, //upload.wikimedia.org/wikipedia/commons/thumb/7/72/Basketball_Clipart.svg/56px-Basketball_Clipart.svg.png 2x\" width=\"28\"/>,\n",
       " <img alt=\"\" class=\"noviewer\" data-file-height=\"1376\" data-file-width=\"1024\" decoding=\"async\" height=\"40\" src=\"//upload.wikimedia.org/wikipedia/en/thumb/4/4a/Commons-logo.svg/30px-Commons-logo.svg.png\" srcset=\"//upload.wikimedia.org/wikipedia/en/thumb/4/4a/Commons-logo.svg/45px-Commons-logo.svg.png 1.5x, //upload.wikimedia.org/wikipedia/en/thumb/4/4a/Commons-logo.svg/59px-Commons-logo.svg.png 2x\" width=\"30\"/>,\n",
       " <img alt=\"Edit this at Wikidata\" data-file-height=\"20\" data-file-width=\"20\" decoding=\"async\" height=\"10\" src=\"//upload.wikimedia.org/wikipedia/en/thumb/8/8a/OOjs_UI_icon_edit-ltr-progressive.svg/10px-OOjs_UI_icon_edit-ltr-progressive.svg.png\" srcset=\"//upload.wikimedia.org/wikipedia/en/thumb/8/8a/OOjs_UI_icon_edit-ltr-progressive.svg/15px-OOjs_UI_icon_edit-ltr-progressive.svg.png 1.5x, //upload.wikimedia.org/wikipedia/en/thumb/8/8a/OOjs_UI_icon_edit-ltr-progressive.svg/20px-OOjs_UI_icon_edit-ltr-progressive.svg.png 2x\" style=\"vertical-align: text-top\" width=\"10\"/>,\n",
       " <img alt=\"United States\" class=\"thumbborder\" data-file-height=\"650\" data-file-width=\"1235\" decoding=\"async\" height=\"26\" src=\"//upload.wikimedia.org/wikipedia/en/thumb/a/a4/Flag_of_the_United_States.svg/50px-Flag_of_the_United_States.svg.png\" srcset=\"//upload.wikimedia.org/wikipedia/en/thumb/a/a4/Flag_of_the_United_States.svg/75px-Flag_of_the_United_States.svg.png 1.5x, //upload.wikimedia.org/wikipedia/en/thumb/a/a4/Flag_of_the_United_States.svg/100px-Flag_of_the_United_States.svg.png 2x\" width=\"50\"/>,\n",
       " <img alt=\"United States\" class=\"thumbborder\" data-file-height=\"650\" data-file-width=\"1235\" decoding=\"async\" height=\"26\" src=\"//upload.wikimedia.org/wikipedia/en/thumb/a/a4/Flag_of_the_United_States.svg/50px-Flag_of_the_United_States.svg.png\" srcset=\"//upload.wikimedia.org/wikipedia/en/thumb/a/a4/Flag_of_the_United_States.svg/75px-Flag_of_the_United_States.svg.png 1.5x, //upload.wikimedia.org/wikipedia/en/thumb/a/a4/Flag_of_the_United_States.svg/100px-Flag_of_the_United_States.svg.png 2x\" width=\"50\"/>,\n",
       " <img alt=\"Edit this at Wikidata\" data-file-height=\"20\" data-file-width=\"20\" decoding=\"async\" height=\"10\" src=\"//upload.wikimedia.org/wikipedia/en/thumb/8/8a/OOjs_UI_icon_edit-ltr-progressive.svg/10px-OOjs_UI_icon_edit-ltr-progressive.svg.png\" srcset=\"//upload.wikimedia.org/wikipedia/en/thumb/8/8a/OOjs_UI_icon_edit-ltr-progressive.svg/15px-OOjs_UI_icon_edit-ltr-progressive.svg.png 1.5x, //upload.wikimedia.org/wikipedia/en/thumb/8/8a/OOjs_UI_icon_edit-ltr-progressive.svg/20px-OOjs_UI_icon_edit-ltr-progressive.svg.png 2x\" style=\"vertical-align: text-top\" width=\"10\"/>,\n",
       " <img alt=\"\" height=\"1\" src=\"//en.wikipedia.org/wiki/Special:CentralAutoLogin/start?type=1x1\" style=\"border: none; position: absolute;\" title=\"\" width=\"1\"/>,\n",
       " <img alt=\"Wikimedia Foundation\" height=\"31\" loading=\"lazy\" src=\"/static/images/footer/wikimedia-button.png\" srcset=\"/static/images/footer/wikimedia-button-1.5x.png 1.5x, /static/images/footer/wikimedia-button-2x.png 2x\" width=\"88\"/>,\n",
       " <img alt=\"Powered by MediaWiki\" height=\"31\" loading=\"lazy\" src=\"/static/images/footer/poweredby_mediawiki_88x31.png\" srcset=\"/static/images/footer/poweredby_mediawiki_132x47.png 1.5x, /static/images/footer/poweredby_mediawiki_176x62.png 2x\" width=\"88\"/>]"
      ]
     },
     "execution_count": 25,
     "metadata": {},
     "output_type": "execute_result"
    }
   ],
   "source": [
    "# kita bisa liat depannya itu ada tag \"img\" kita coba liat kalo kita search pake tag img\n",
    "image_info = soup.select('img')\n",
    "image_info"
   ]
  },
  {
   "cell_type": "markdown",
   "metadata": {},
   "source": [
    "kalo pake tag img doank itu terlalu luas, soalnya didalem webnya banyak logo2 juga yang termasuk img, jadi itu bukan yang kita mau, kita harus coba kerucutin lagi lebih kecil kayan liat class nya dll. untuk case ini kita bisa liat foto2 di artikelnya itu termasuk class \"thumbimage\", coba kita search pake class itu"
   ]
  },
  {
   "cell_type": "code",
   "execution_count": 26,
   "metadata": {},
   "outputs": [],
   "source": [
    "img_curry = soup.select('.thumbimage')"
   ]
  },
  {
   "cell_type": "code",
   "execution_count": 27,
   "metadata": {},
   "outputs": [
    {
     "data": {
      "text/plain": [
       "[<img alt=\"\" class=\"thumbimage\" data-file-height=\"888\" data-file-width=\"737\" decoding=\"async\" height=\"265\" src=\"//upload.wikimedia.org/wikipedia/commons/thumb/c/cb/Stephen_Curry_Davidson_cropped.jpg/220px-Stephen_Curry_Davidson_cropped.jpg\" srcset=\"//upload.wikimedia.org/wikipedia/commons/thumb/c/cb/Stephen_Curry_Davidson_cropped.jpg/330px-Stephen_Curry_Davidson_cropped.jpg 1.5x, //upload.wikimedia.org/wikipedia/commons/thumb/c/cb/Stephen_Curry_Davidson_cropped.jpg/440px-Stephen_Curry_Davidson_cropped.jpg 2x\" width=\"220\"/>,\n",
       " <img alt=\"\" class=\"thumbimage\" data-file-height=\"1229\" data-file-width=\"1912\" decoding=\"async\" height=\"141\" src=\"//upload.wikimedia.org/wikipedia/commons/thumb/c/c0/Stephen_Curry_defends_Allen_Iverson.jpg/220px-Stephen_Curry_defends_Allen_Iverson.jpg\" srcset=\"//upload.wikimedia.org/wikipedia/commons/thumb/c/c0/Stephen_Curry_defends_Allen_Iverson.jpg/330px-Stephen_Curry_defends_Allen_Iverson.jpg 1.5x, //upload.wikimedia.org/wikipedia/commons/thumb/c/c0/Stephen_Curry_defends_Allen_Iverson.jpg/440px-Stephen_Curry_defends_Allen_Iverson.jpg 2x\" width=\"220\"/>,\n",
       " <img alt=\"\" class=\"thumbimage\" data-file-height=\"2025\" data-file-width=\"1811\" decoding=\"async\" height=\"246\" src=\"//upload.wikimedia.org/wikipedia/commons/thumb/1/1a/Stephen_Curry_2.jpg/220px-Stephen_Curry_2.jpg\" srcset=\"//upload.wikimedia.org/wikipedia/commons/thumb/1/1a/Stephen_Curry_2.jpg/330px-Stephen_Curry_2.jpg 1.5x, //upload.wikimedia.org/wikipedia/commons/thumb/1/1a/Stephen_Curry_2.jpg/440px-Stephen_Curry_2.jpg 2x\" width=\"220\"/>,\n",
       " <img alt=\"\" class=\"thumbimage\" data-file-height=\"3050\" data-file-width=\"3299\" decoding=\"async\" height=\"203\" src=\"//upload.wikimedia.org/wikipedia/commons/thumb/7/7a/Stephen_Curry_close_up.jpg/220px-Stephen_Curry_close_up.jpg\" srcset=\"//upload.wikimedia.org/wikipedia/commons/thumb/7/7a/Stephen_Curry_close_up.jpg/330px-Stephen_Curry_close_up.jpg 1.5x, //upload.wikimedia.org/wikipedia/commons/thumb/7/7a/Stephen_Curry_close_up.jpg/440px-Stephen_Curry_close_up.jpg 2x\" width=\"220\"/>,\n",
       " <img alt=\"\" class=\"thumbimage\" data-file-height=\"2314\" data-file-width=\"3015\" decoding=\"async\" height=\"169\" src=\"//upload.wikimedia.org/wikipedia/commons/thumb/4/4c/John_Wall%2C_Stephen_Curry_%2816433225927%29.jpg/220px-John_Wall%2C_Stephen_Curry_%2816433225927%29.jpg\" srcset=\"//upload.wikimedia.org/wikipedia/commons/thumb/4/4c/John_Wall%2C_Stephen_Curry_%2816433225927%29.jpg/330px-John_Wall%2C_Stephen_Curry_%2816433225927%29.jpg 1.5x, //upload.wikimedia.org/wikipedia/commons/thumb/4/4c/John_Wall%2C_Stephen_Curry_%2816433225927%29.jpg/440px-John_Wall%2C_Stephen_Curry_%2816433225927%29.jpg 2x\" width=\"220\"/>,\n",
       " <img alt=\"\" class=\"thumbimage\" data-file-height=\"1351\" data-file-width=\"818\" decoding=\"async\" height=\"363\" src=\"//upload.wikimedia.org/wikipedia/commons/thumb/3/36/Stephen_Curry_dribbling_2016_%28cropped%29.jpg/220px-Stephen_Curry_dribbling_2016_%28cropped%29.jpg\" srcset=\"//upload.wikimedia.org/wikipedia/commons/thumb/3/36/Stephen_Curry_dribbling_2016_%28cropped%29.jpg/330px-Stephen_Curry_dribbling_2016_%28cropped%29.jpg 1.5x, //upload.wikimedia.org/wikipedia/commons/thumb/3/36/Stephen_Curry_dribbling_2016_%28cropped%29.jpg/440px-Stephen_Curry_dribbling_2016_%28cropped%29.jpg 2x\" width=\"220\"/>,\n",
       " <img alt=\"\" class=\"thumbimage\" data-file-height=\"2382\" data-file-width=\"3941\" decoding=\"async\" height=\"166\" src=\"//upload.wikimedia.org/wikipedia/commons/thumb/4/40/Stephen_Curry_%2833140701266%29.jpg/275px-Stephen_Curry_%2833140701266%29.jpg\" srcset=\"//upload.wikimedia.org/wikipedia/commons/thumb/4/40/Stephen_Curry_%2833140701266%29.jpg/413px-Stephen_Curry_%2833140701266%29.jpg 1.5x, //upload.wikimedia.org/wikipedia/commons/thumb/4/40/Stephen_Curry_%2833140701266%29.jpg/550px-Stephen_Curry_%2833140701266%29.jpg 2x\" width=\"275\"/>,\n",
       " <img alt=\"\" class=\"thumbimage\" data-file-height=\"3456\" data-file-width=\"5184\" decoding=\"async\" height=\"147\" src=\"//upload.wikimedia.org/wikipedia/commons/thumb/9/9f/Golden_State_Warriors_Point_Guard_Stephen_Curry_01.jpg/220px-Golden_State_Warriors_Point_Guard_Stephen_Curry_01.jpg\" srcset=\"//upload.wikimedia.org/wikipedia/commons/thumb/9/9f/Golden_State_Warriors_Point_Guard_Stephen_Curry_01.jpg/330px-Golden_State_Warriors_Point_Guard_Stephen_Curry_01.jpg 1.5x, //upload.wikimedia.org/wikipedia/commons/thumb/9/9f/Golden_State_Warriors_Point_Guard_Stephen_Curry_01.jpg/440px-Golden_State_Warriors_Point_Guard_Stephen_Curry_01.jpg 2x\" width=\"220\"/>,\n",
       " <img alt=\"\" class=\"thumbimage\" data-file-height=\"2158\" data-file-width=\"1446\" decoding=\"async\" height=\"298\" src=\"//upload.wikimedia.org/wikipedia/commons/thumb/3/3a/20140814_World_Basketball_Festival_Stephen_Curry_%28cropped%29.JPG/200px-20140814_World_Basketball_Festival_Stephen_Curry_%28cropped%29.JPG\" srcset=\"//upload.wikimedia.org/wikipedia/commons/thumb/3/3a/20140814_World_Basketball_Festival_Stephen_Curry_%28cropped%29.JPG/300px-20140814_World_Basketball_Festival_Stephen_Curry_%28cropped%29.JPG 1.5x, //upload.wikimedia.org/wikipedia/commons/thumb/3/3a/20140814_World_Basketball_Festival_Stephen_Curry_%28cropped%29.JPG/400px-20140814_World_Basketball_Festival_Stephen_Curry_%28cropped%29.JPG 2x\" width=\"200\"/>,\n",
       " <img alt=\"\" class=\"thumbimage\" data-file-height=\"3029\" data-file-width=\"1748\" decoding=\"async\" height=\"381\" src=\"//upload.wikimedia.org/wikipedia/commons/thumb/b/b6/Stephen_Curry_shooting.jpg/220px-Stephen_Curry_shooting.jpg\" srcset=\"//upload.wikimedia.org/wikipedia/commons/thumb/b/b6/Stephen_Curry_shooting.jpg/330px-Stephen_Curry_shooting.jpg 1.5x, //upload.wikimedia.org/wikipedia/commons/thumb/b/b6/Stephen_Curry_shooting.jpg/440px-Stephen_Curry_shooting.jpg 2x\" width=\"220\"/>,\n",
       " <img alt=\"\" class=\"thumbimage\" data-file-height=\"920\" data-file-width=\"613\" decoding=\"async\" height=\"255\" src=\"//upload.wikimedia.org/wikipedia/commons/thumb/1/17/Barack_Obama_and_Stephen_Curry.jpg/170px-Barack_Obama_and_Stephen_Curry.jpg\" srcset=\"//upload.wikimedia.org/wikipedia/commons/thumb/1/17/Barack_Obama_and_Stephen_Curry.jpg/255px-Barack_Obama_and_Stephen_Curry.jpg 1.5x, //upload.wikimedia.org/wikipedia/commons/thumb/1/17/Barack_Obama_and_Stephen_Curry.jpg/340px-Barack_Obama_and_Stephen_Curry.jpg 2x\" width=\"170\"/>,\n",
       " <img alt=\"\" class=\"thumbimage\" data-file-height=\"2829\" data-file-width=\"3507\" decoding=\"async\" height=\"177\" src=\"//upload.wikimedia.org/wikipedia/commons/thumb/5/5c/TechCrunch_Disrupt_San_Francisco_2019_-_Day_1_%2848835097887%29_%28cropped%29.jpg/220px-TechCrunch_Disrupt_San_Francisco_2019_-_Day_1_%2848835097887%29_%28cropped%29.jpg\" srcset=\"//upload.wikimedia.org/wikipedia/commons/thumb/5/5c/TechCrunch_Disrupt_San_Francisco_2019_-_Day_1_%2848835097887%29_%28cropped%29.jpg/330px-TechCrunch_Disrupt_San_Francisco_2019_-_Day_1_%2848835097887%29_%28cropped%29.jpg 1.5x, //upload.wikimedia.org/wikipedia/commons/thumb/5/5c/TechCrunch_Disrupt_San_Francisco_2019_-_Day_1_%2848835097887%29_%28cropped%29.jpg/440px-TechCrunch_Disrupt_San_Francisco_2019_-_Day_1_%2848835097887%29_%28cropped%29.jpg 2x\" width=\"220\"/>,\n",
       " <img alt=\"\" class=\"thumbimage\" data-file-height=\"1811\" data-file-width=\"1281\" decoding=\"async\" height=\"240\" src=\"//upload.wikimedia.org/wikipedia/commons/thumb/8/86/Stephen_Curry_%2816640524995%29.jpg/170px-Stephen_Curry_%2816640524995%29.jpg\" srcset=\"//upload.wikimedia.org/wikipedia/commons/thumb/8/86/Stephen_Curry_%2816640524995%29.jpg/255px-Stephen_Curry_%2816640524995%29.jpg 1.5x, //upload.wikimedia.org/wikipedia/commons/thumb/8/86/Stephen_Curry_%2816640524995%29.jpg/340px-Stephen_Curry_%2816640524995%29.jpg 2x\" width=\"170\"/>]"
      ]
     },
     "execution_count": 27,
     "metadata": {},
     "output_type": "execute_result"
    }
   ],
   "source": [
    "img_curry"
   ]
  },
  {
   "cell_type": "code",
   "execution_count": 28,
   "metadata": {},
   "outputs": [
    {
     "data": {
      "text/plain": [
       "13"
      ]
     },
     "execution_count": 28,
     "metadata": {},
     "output_type": "execute_result"
    }
   ],
   "source": [
    "len(img_curry)"
   ]
  },
  {
   "cell_type": "code",
   "execution_count": 29,
   "metadata": {},
   "outputs": [],
   "source": [
    "# kita coba ambil foto pertama yang pas dia sophomore\n",
    "curry2008 = img_curry[0]"
   ]
  },
  {
   "cell_type": "code",
   "execution_count": 30,
   "metadata": {},
   "outputs": [
    {
     "data": {
      "text/plain": [
       "bs4.element.Tag"
      ]
     },
     "execution_count": 30,
     "metadata": {},
     "output_type": "execute_result"
    }
   ],
   "source": [
    "type(curry2008)"
   ]
  },
  {
   "cell_type": "code",
   "execution_count": 31,
   "metadata": {},
   "outputs": [
    {
     "data": {
      "text/plain": [
       "<img alt=\"\" class=\"thumbimage\" data-file-height=\"888\" data-file-width=\"737\" decoding=\"async\" height=\"265\" src=\"//upload.wikimedia.org/wikipedia/commons/thumb/c/cb/Stephen_Curry_Davidson_cropped.jpg/220px-Stephen_Curry_Davidson_cropped.jpg\" srcset=\"//upload.wikimedia.org/wikipedia/commons/thumb/c/cb/Stephen_Curry_Davidson_cropped.jpg/330px-Stephen_Curry_Davidson_cropped.jpg 1.5x, //upload.wikimedia.org/wikipedia/commons/thumb/c/cb/Stephen_Curry_Davidson_cropped.jpg/440px-Stephen_Curry_Davidson_cropped.jpg 2x\" width=\"220\"/>"
      ]
     },
     "execution_count": 31,
     "metadata": {},
     "output_type": "execute_result"
    }
   ],
   "source": [
    "# kerucutin lagi\n",
    "# kita mau nya itu cuma src\n",
    "curry2008"
   ]
  },
  {
   "cell_type": "code",
   "execution_count": 32,
   "metadata": {},
   "outputs": [
    {
     "data": {
      "text/plain": [
       "'//upload.wikimedia.org/wikipedia/commons/thumb/c/cb/Stephen_Curry_Davidson_cropped.jpg/220px-Stephen_Curry_Davidson_cropped.jpg'"
      ]
     },
     "execution_count": 32,
     "metadata": {},
     "output_type": "execute_result"
    }
   ],
   "source": [
    "# kayak dictionary penggunaannya. tinggal masukin keynya 'src'\n",
    "curry2008['src']"
   ]
  },
  {
   "cell_type": "code",
   "execution_count": 33,
   "metadata": {},
   "outputs": [],
   "source": [
    "# kalo di notebook ada cara gampang buat liat image\n",
    "# pake cell markdown pake <img src= https://*masukin linknya*>"
   ]
  },
  {
   "cell_type": "markdown",
   "metadata": {},
   "source": [
    "We can actually display it with a markdown cell with the following:\n",
    "\n",
    "    <img src='https://upload.wikimedia.org/wikipedia/commons/thumb/c/cb/Stephen_Curry_Davidson_cropped.jpg/220px-Stephen_Curry_Davidson_cropped.jpg'>"
   ]
  },
  {
   "cell_type": "markdown",
   "metadata": {},
   "source": [
    "<img src= '//upload.wikimedia.org/wikipedia/commons/thumb/c/cb/Stephen_Curry_Davidson_cropped.jpg/220px-Stephen_Curry_Davidson_cropped.jpg'>"
   ]
  },
  {
   "cell_type": "code",
   "execution_count": 34,
   "metadata": {},
   "outputs": [],
   "source": [
    "# skrg coba kita download ke local drive kita"
   ]
  },
  {
   "cell_type": "code",
   "execution_count": 36,
   "metadata": {},
   "outputs": [],
   "source": [
    "# send request dulu ke link imagenya\n",
    "img_link = requests.get('https://upload.wikimedia.org/wikipedia/commons/thumb/c/cb/Stephen_Curry_Davidson_cropped.jpg/220px-Stephen_Curry_Davidson_cropped.jpg')"
   ]
  },
  {
   "cell_type": "code",
   "execution_count": 37,
   "metadata": {},
   "outputs": [
    {
     "data": {
      "text/plain": [
       "b'\\xff\\xd8\\xff\\xdb\\x00C\\x00\\x04\\x03\\x03\\x04\\x03\\x03\\x04\\x04\\x03\\x04\\x05\\x04\\x04\\x05\\x06\\n\\x07\\x06\\x06\\x06\\x06\\r\\t\\n\\x08\\n\\x0f\\r\\x10\\x10\\x0f\\r\\x0f\\x0e\\x11\\x13\\x18\\x14\\x11\\x12\\x17\\x12\\x0e\\x0f\\x15\\x1c\\x15\\x17\\x19\\x19\\x1b\\x1b\\x1b\\x10\\x14\\x1d\\x1f\\x1d\\x1a\\x1f\\x18\\x1a\\x1b\\x1a\\xff\\xdb\\x00C\\x01\\x04\\x05\\x05\\x06\\x05\\x06\\x0c\\x07\\x07\\x0c\\x1a\\x11\\x0f\\x11\\x1a\\x1a\\x1a\\x1a\\x1a\\x1a\\x1a\\x1a\\x1a\\x1a\\x1a\\x1a\\x1a\\x1a\\x1a\\x1a\\x1a\\x1a\\x1a\\x1a\\x1a\\x1a\\x1a\\x1a\\x1a\\x1a\\x1a\\x1a\\x1a\\x1a\\x1a\\x1a\\x1a\\x1a\\x1a\\x1a\\x1a\\x1a\\x1a\\x1a\\x1a\\x1a\\x1a\\x1a\\x1a\\x1a\\x1a\\x1a\\x1a\\x1a\\xff\\xc0\\x00\\x11\\x08\\x01\\x08\\x00\\xdc\\x03\\x01\"\\x00\\x02\\x11\\x01\\x03\\x11\\x01\\xff\\xc4\\x00\\x1d\\x00\\x00\\x02\\x02\\x02\\x03\\x01\\x00\\x00\\x00\\x00\\x00\\x00\\x00\\x00\\x00\\x00\\x06\\x07\\x05\\x08\\x03\\x04\\x00\\x01\\x02\\t\\xff\\xc4\\x00E\\x10\\x00\\x01\\x03\\x02\\x05\\x02\\x04\\x03\\x05\\x06\\x05\\x02\\x05\\x04\\x03\\x00\\x01\\x02\\x03\\x04\\x05\\x11\\x00\\x06\\x12!1\\x07A\\x13\"Qa\\x14q\\x81\\x08\\x152\\x91\\xa1#B\\xb1\\xc1\\xd1\\xf0\\x16$3b\\xe1R\\xf1%Cr\\x82\\x92\\x17&4\\xa25D\\xc2\\xff\\xc4\\x00\\x1c\\x01\\x00\\x01\\x05\\x01\\x01\\x01\\x00\\x00\\x00\\x00\\x00\\x00\\x00\\x00\\x00\\x00\\x05\\x02\\x03\\x04\\x06\\x07\\x01\\x00\\x08\\xff\\xc4\\x00?\\x11\\x00\\x01\\x02\\x04\\x04\\x02\\t\\x04\\x00\\x04\\x04\\x06\\x03\\x01\\x00\\x00\\x01\\x02\\x03\\x00\\x04\\x11!\\x05\\x121AQa\\x06\\x13\"q\\x81\\x91\\xa1\\xb1\\xf02\\xc1\\xd1\\xe1\\x14#B\\xf1\\x073R\\x92\\x15$4b\\x82\\xa25Cr\\xb2\\xff\\xda\\x00\\x0c\\x03\\x01\\x00\\x02\\x11\\x03\\x11\\x00?\\x00\\xa7\\x8d\\xa0\\xe9AI\\n\\x05$q\\xc9\\xda\\xdd\\xc7\\xa63\\xc5\\xa7\\xbdP\\x90\\x984\\xd8\\xafM\\x9c\\xf1\\xbbq\\xa3\\xb0\\xa7\\\\U\\xc6\\xdeQsrm\\xfd\\x8cY\\x8a\\x17\\xd9n\\x85\\x94!\\xb7;\\xaf\\x19\\xc5\\x9aY\\x03\\xc44J;\\xc1\\xd7\\x8f7\\x0bt\\x8d\\x88\\xbd\\xbc\\xbe\\xf68\\x91\\xa8}\\xa2\\xf2\\x87K\\xe9\\xcfR\\xba\\'\\x96aP\\xdb\\t\\xd2\\xb9\\x81\\xb0\\xec\\x97Or\\xa7\\x15\\xbd\\xf6\\x07|:\\xa9\\x82\\xaf\\xf2\\x93\\xe2m\\xe9\\xa9\\xf2\\x03\\x9cD\\r*\\x956\\x1f6\\x80|\\x9d\\xf6F\\xcc\\xb5\\x08\\xc9\\xaa\\xf5:\\xa7\\x0f\\xa7\\x94Cei\\x99\\xa5\\xd9\\xae\\'\\xfd\\xac\\x83d\\xed\\xeb\\xbf\\x1bc\\x17U\\xb2\\xff\\x00M\\xa8t8y\\x7f\\xa5\\rM\\x9b-\\x87\\xb5N\\xaa\\xcd{S\\x8f\\x11a\\xf2\\x00z\\x01\\xb7\\xa78]f\\xce\\xa9\\xe6l\\xfb0\\xbfX\\xab<J\\x88\\xbbjY*\\xb1#rO\\x17\\xd8Xc\\x1eZ\\x98\\xe3\\xf1U\\x18\\xe9\\x08K\\xca\\x08=\\xcd\\xf7:\\x8f8el\\xac\\xf6\\xdcQ>\\xdeC\\xefX^t\\xa6\\xc2\\xfc\\xcf\\xe2 \\x9f\\xcb\\xcf2\\xaf;\\t\\xd4\\xb1k\\xea\\xb9\\xdb\\x9d\\x87}\\xf8\\xf5\\xc6\\xad6`\\xa3U\\x19\\x94\\x95%E\\t!G\\x9d\\x8aT>]\\xed\\xf9`\\xd6\\xa9\\x11\\xcd\\x02\\xed\\xf8\\xa9o\\xccR\\xb4\\x96\\xd2\\x08\\xecm\\xc9\\xb2\\xbf!\\xeb\\x85\\xb3\\xaf\\xb9&a\\xbb\\r\\x11\\xa8\\xec\\x11a\\xa7\\x9b\\x8b\\xfc\\xbf\\\\p$m\\x1e\\n\\xac`\\xf0K\\xde,\\x85\"\\xfe!)F\\xb3\\xb5\\xbb\\x9f\\xd3\\xe5\\x83\\x9c\\xa9\\x9a\\xab\\x8c\\xd1\\x15N\\xf8\\xe3\\xf0H\\x05\\xb4\\xb4\\xe8\\x05\\x00\\x10H\\xb5\\xf8<\\xfa\\xe2\\x0eK\\x0b\\xf0B\\x1bV\\xa4\\xa6\\xe9\\xbe\\x84\\x91\\xc5\\xf6\\xed\\xc7\\xb6%\\xb2E\\x1aeEij,\\x05\\xcf\\x93!\\xc5\\x06\"6\\xd9t\\x12=\\x00\\xff\\x00\\xb7\\xbe\\x1dJ\\x12\\xa3qa\\n\\xebV\\xdfi\\x06\\x9d\\xd1\\x00\\xc3\\xee!/!\\xc6\\x90\\xee\\xa5p\\x15\\xba\\xd5{\\xff\\x00\\xc7\\xf4\\xc4\\xfeQ\\xccP\\xe9\\x99\\x86$\\x991\\xb5hX\\xd7\\xac~\\x11{\\x92F\\xff\\x001\\xf2\\xf78:\\xcc\\xbd\\x00\\xea<H\\xaa\\xa9\\xbd\\x94\\x1d\\x87\\x07@QHBB\\x88\\xb1\\xe1\\t\\xf9\\xff\\x00\\x1c\\'\\x1ei\\xc6&H\\x8f!\\xa7P\\xf2Ue\\xb6\\xa1s\\xcd\\x88<X\\xdc\\x8f~\\xf8q\\xbc@\\xa9\\na\\xb5\\x829P\\xc3a\\xa4\\xd48E\\x0c9:\\xb1\\xd4\\xe7k\\xb4\\xe6iP\\x9f\\xb3*]\\xdfm\\x0eyT-\\xc1\\xf6\\xf7\\xb8\\xc2\\x89\\x89\\xeaa\\xf4\\xe8i+\\xb1\\x16\\xbd\\x88=\\xc0\\xf7\\xfe?,xz*\\x03ED%\\x16>k\\x9b\\x82x\\xf5\\xb6\\xdf\\xcb\\x07\\xb9+)B\\x80\\xc35\\x8c\\xc9\\x18\\xcb\\x90\\xbb*$g\\x15\\xa5!7:]p\\x8f\\xc5\\xec;\\x92{b;s\\'\\x0ej\\x89\\xd3\\xb8^\\xb15\\xf2gW\\x99Q\\xa8\\xa4Vk\\xc1\\x88\\x14\\nk\\xf2Wt\\x97\\x13\\x05\\xa2\\x01&\\xdf\\xbd\\xc0\\x1b\\xf7 \\xf1\\xce\\'\\xe0\\xf4\\x7f:\\xbc\\x85&DjC\\x17\\xff\\x00\\xcb\\x99RB\\x96\\x13c\\xe9p;\\xfex+\\x91\\x9b*^\\x13\\x0cEp\\xc6\\r\\xa2\\xe8K$\\xb6\\xd8I\\xef\\xa0Z\\xdb\\xfdN\\xd7\\xe7\\x12Q\\x1b\\xab=w\\xd2\\x89\\x1at\\x12\\xa2\\xb3\\xb0\\x1e\\xbb\\xd8\\x11\\xee-\\xdf|\\x07{\\x10X5\\xb2k\\xe3\\xfa\\x89H\\x93\\x07z\\xd2\\x173:3\\x9b#\\xb4\\x87\\xa0\\xd0\\x111\\x04^\\xd1g\\xa1\\xf5Xo\\xb0\\xb8;\\x93\\xc7\\xb6;\\xe9~h\\x8d\\x92\\xba\\x93OVb\\xa3EJ\\x9bJ\\xdaX\\x9f\\x1c)Q\\xd7k\\xf8\\x80\\xab\\xb8\\xb5\\xae\\x06\\xde\\xd8a\\xae\\xa3Te\\xddz\\x85\\x8a\\xaeC\\x8a:O\\xb8\\xb5\\xbb{\\x9cg\\x95V\\xa6\\xe6h\\xa2\\x9b\\x9d\\xe9\\xad\\xd5c*\\xc1^\\'\\x95mX\\xfe$8\\x0e\\xa4\\xfev\\xf5\\xf4\\xc3Bs\\xac\\x05*\\xa2\\x81\\xf3\\xf5\\xb4:%\\xb2():\\x8b\\xde\\x199\\xbf\\xae\\xd4\\x88\\xf0d)\\xda\\x8b\\x0f\\'O\\xfa\\x17K\\xa1i\\xb7\\xfd\\x07\\x91\\xbflR\\\\\\xdbX\\x8d^\\xaf\\xcd\\xa9\\xc4\\x88\\xd4F\\x1ep\\x944\\x84\\xf9R{s\\xc7<\\x7f\\x1c\\x18\\xe6\\xae\\x8cT\\xa9Uv\\xceQe\\xea\\xfd2U\\xcb\\x0e6\\xdd\\x96\\xc9\\xb6\\xe8t\\xf0\\x9b_\\x93\\xb1\\xc6\\xcd7\\xa3+\\x8aP\\xac\\xd9SDT\\xa4\\x1d1 \\x90\\xb7,M\\xecV|\\xa3\\xe9|-\\x95\\xc9J\\x8c\\xe9V\\xbe~B\\x0c1\\x87\\xe2\\xb8\\xd9\\rK\\xb3P7\\xdb\\xfd\\xc6\\xdf4\\x86_\\xd9O1\\xb7-uZ\\x14\\xc8l\\x96\\xd9\\x88\\x87\\x15v\\xc1\\n\\xf3Z\\xea\\'\\xbe\\xff\\x00\\xa6\\x1e\\xd5J\\x8d\"D\\xd8\\xd1_\\xa7\\xd3\\xe4&8\\xb2\\x12\\x14\\x95\\x01\\xbe\\xc1)\\x03\\xe7\\x80\\xfe\\x8fSr];+\\xcb\\x8b\\x96\\xa9\\xcd\\xd3+\\x00\\x835\\xe7\\x9f.:\\xf9O\\xe17?\\xb9\\xe8\\x00\\xb5\\xefq\\xdf\\x1dW\\xb3;-KS0h\\x8e7Q\\x92\\x03h}jHBll\\xa5\\x0bo|\\x08ya\\xf7\\xd4\\xb4\\xa6\\xde\\xbf\\x88,\\x99\\t\\x8c2\\xb2\\xd3\\x03\\xb4\\x9f\\x9eQ\\x8a\\xb9J\\xff\\x00\\x14\\xe6\\xf8\\xb1\\xd3Ha\\x10\\x18h-\\xe7Yl\\x15\\x00\\t\\xb2\\x00\\xda\\xc0\\xed|u\\x9f\\xba\\x87\\x97\\xban\\xeb\"\\xaa\\x97~!\\xe0\\x03q\\xd8@[\\xea@\\x1b\\x94\\x83\\xb0\\xb5\\x88\\x05F\\xc3m\\xb0]Lq\\x9a%=\\xd4\\xebu\\xda\\x82\\x88/\\xe9\\x17\\xd2x\\xb5\\x86\\xf8V1\\x90(\\xd5\\xcc\\xf9+3f\\'\\xdeq\\x97\\xd4\\x10\\xc4e\\xa4\\x1d6\\xb6\\xc7W\\xbfa\\xc7~py\\x853%(\\x1c\\x06\\xb5\\xe1\\x15\\xc9\\xc9y\\xa7\\xe6\\xf28\\x8c\\xbc+aN<\\xeb\\x025l\\xd5\\x95\\xb3\\xa3kNX\\xa7. l\\xea1\\xeakW\\xc5\\xa8\\x1f\\xc4vHI\\xff\\x00\\xdaO\\xc8b\\xc4}\\x9fz\\xd9\\xd3\\x9e\\x94t~D)%\\xd85X\\xb3]S\\xb4\\xe4\\xd9\\xd9U\\x07\\xd7\\xa4\\x87S`\\x06\\x93p\\x90I\\x00h\\xf6\\x17\\x15\\xcd\\xd4\\xdal\\xe6\\xc5*\\x99\\x01\\x86\\xdbf\\xd6Z\\x9b\\xb2\\xd2\\xbb\\xecPR6\\xb78\\x85\\xc9\\xfd#\\x8dB\\xcdmH\\x97\\'\\xef$\\xae*\\xfcx\\xbf\\x0e\\x00HW\\x0b\\xdf\\xb0\\xb1\\x1e\\xd7\\xc4d\\xe2)p\\x1c\\xc2\\xf7\\xa5\\xfe\\xf1\\xc7p\\x956\\xa0\\xa0j*+\\xb5 \\xdd\\xff\\x00\\xb6\\x1fP\\x9e\\xa8\\x19\\x94\\x9c\\x99\\x97\\x91GR\\xbc\\xb0\\xdf\\x94\\xf2\\xa5(m\\xcb\\xc9\\xf2\\x03\\xc8\\xfc\\x04\\x03\\xea7\\xc2\\x8f\\xedA\\xd4<\\xb9\\xd4\\xd8\\xd4\\x1c\\xd3K\\xa3K\\xa0\\xd6\\x82U\\x1e\\xa2\\xd4\\x96\\xc0\\xb9\\xf4K\\x83g\\x13~\\x14=8\\x178h\\xca\\xcb\\xd1$M\\x8b\\x19TH\\xccR\\x99Q+\"BN\\xde\\xb6\\xf7\\xef\\x88\\x9e\\xac\\xe4ws\\xa4\\nU6\\x93IC\\x91\\xa1\\x9dd\\xb0\\xa0\\x90\\x94\\xd8ms\\xb7\"\\xff\\x00L1+>]}\\tP\\x14\\xafu \\x84\\xf6\\x14\\xd32\\xcapl!\\x05;\\xab\\xb0\\xaa\\x1d\\x1b\\xcb\\x99)\\x83)\\x8a\\x94\\x07\\x16\\x99\\x0bJt\\xb6\\xa6B\\xc9l\\x13\\xdc\\x90A\\xb6\\x16\\xd6\\x8e\\xbd\\xdc\\xb3\\x87\\xd5E\\xcb\\xfa\\xfe\\xee\\xde\\xff\\x00\\\\5\\xea\\x9d-\\x89\\x14\\x88\\xcf\\xc7\\x10d]7R\\x96V\\x17c\\xe8G?\\xd7\\x1b9V\\xa5O\\xc8TtR\\xa4eg*\\xef\\xa9jy\\xc9>\",\\xa2\\xad\\x80\\x01D\\x11`\\x00\\xb7\\xb6-j*Js!5\\xee\\x8ar\\x14\\x85\\xab*\\x95Jq\\x85}k:V34\\x95?U\\x9d%\\xd58\\xb3\\xe5\\n \\x11\\xbf~\\xe7nO\\xa7\\xb6\"\\\\s\\xe2<0\\x94>\\xa2N\\xe0\\x8b\\x92A\\xe0\\'m\\xb7\\xfa_\\x1b\\xb4%K\\x9c\\x17\\x10K\\x01\\xd4l\\x01G\\x94\\xa4rok\\xdb\\xf0\\x8f\\xaf\\xb6\\n!\"\\x0c#y\\xb3\\x1d\\xa8\\xbd\\xbf\\x91\\n\\r\\xb6\\x00\\xb0\\x04\\xa8\\x8b\\x9e?\\\\2]P4\\x00G\\x8aB\\x8dI5\\x8d\\xfe\\x88\\xf4\\xd4\\xf5\\n\\xb1+\\xeff\\x1dr\\x9fNJV\\xf3az\\x14\\xfa\\x95r\\x94_\\xf7@\\x01W#~\\x06-\\x14\\xae\\x9de\\x18\\xd4\\x95\\xa1\\xac\\xb3\\n\\x96Btie>b?\\xf5s\\xbf|\\x04\\xf4R\\xb57\\xee\\xe7\\xa5e\\xfa,_\\x81q\\xd7~!Ed(xi\\xda\\xe7\\xbd\\xedkXz\\xe0\\xc1Y\\x96\\xa1]\\x8e\\xef\\xde\\x14W\\xe9\\x8b)\\xb8w]\\xd1~\\xc2\\xfd\\x8f\\xcb\\x15\\x89\\xd7\\xdd.\\x90\\xa5i\\xb5M\\xa2\\xc5#*\\xd2\\x99\\x0bRjO(D\\xe7J7\\xddJ}\\xb8\\xcf4\\xa8\\xe1%I\\n\\xd8\\x81\\xc8\\xb8\\x1c\\xfexM\\xce\\x8a[0\\x92\\xf2B\\x10\\xa6A *\\xda\\x92{\\x9d\\x85\\xfbza\\xd7\\x9f\\x94\\x8ad\\x8457\\xc4X\\x92\\x92\\x12\\x80-bo\\xeds\\xc1\\xb7\\xcb\\x00\\x958\\x94\\xf9\\xf2\\xa1\\xbdUy\\xc8\\x8c6\\xcaX\\x11\\xd8\\x00\\xba\\xbd#\\x82M\\x82x;\\x0e\\xd8\\xb0K!\\xc5\\xcb\\xa5\\xdd\\x8e\\xf0\\x16l%\\xa7\\xd4\\xd8\\xb7/(\\x1f\\x9a\\x95\"\\x9b\\xab\\xc3\\xba\\x1b\\x04X\\x0f:\\xc8\\xf7\\xde\\xe3\\xfe=qv>\\xcf\\xb4\\xca\\'MzqG\\xa8F1\\x9d\\xcd\\x154\\x07\\xa6Mz\\xd6e\\x06\\xe44\\x8b\\xf0-\\xcf\\xa9\\xe7\\x15\\x8a\\x9b;/\\xbc\\xf2Yc(\\n\\x98B\\n\\n\\x9f\\x91\\xdb\\x82=\\x00\\xbf\\xeb|=hT\\xfaM_-!\\xb5\\x1f\\x85\\x88\\xd2\\x0bin3\\xe5I@\\xdch\\xd4;[\\xbe!O\\xaf+ZC\\xf8{A\\xd7\\xc0U-{\\xc5\\x85\\x95\\xd4\\x95L\\x8c\\xe9rlG\\x1c\\xd8\\x82\\x85\\x80JO\\xb6*\\xcf\\xda\\x83\\xa6\\x14\\x08\\x94\\xa8\\xd9\\xeb.\\xca\\x01\\xd9\\x0e\\x04M\\x8cmk\\xaa\\xfc\\x0e/s\\xb7\\xcb\\x05k\\xa7\\xe5\\xf9\\xef\\xc4SN=\\x0cEm-!\\xb4>5\\xadI\\xeet\\x93a\\xf3\\xe7\\x0b\\x9e\\xb5L\\\\\\x9ac\\x14\\x1a\\x85@\\xc6\\x8c\\x87\\xbe#\\xc3d\\x15-i\\x17\\xb5\\x89\\xdb\\xd7|\\x0b\\x93\\xcc\\xa9\\x81sX;\\x886\\x9e\\xa35\\x05\\x07\\x0e>\\x9b\\xc26\\x89\\x94\\xab\\xb5\\xf4\\xb5&\\r*C\\xf4\\xf2\\xef\\xed$\\xe9(@HV\\xfe\\xdbn6\\xef\\x86\\xccB\\xd3\\x8f9\\xa0:\\x94\\x85\\x86\\xda\\xd4\\x02ZJS\\xb0\\x04};\\r\\xf1\\x01\\x97\\xf3c\\xb4\\x96#\\xd22\\xf4o\\x02\\x9e\\\\\\xd4\\xb5\\x13\\xa9F\\xfb\\x15\\x1b\\xedr\\x0f\\xb6&r\\xf47\\'\\xcfC%(\\xb3\\xab(G\\x8c\\x8d|\\xde\\xde[\\xef\\xc7\\x18!\\x88\\xa5DkM\\xfeR\\x02\\xc9\\xa6\\xb5\\x86\\x16N\\xa0A\\xaa\\xbe\\xa4\\xccJ|-!\\xc7\\x14\\xb3\\xa5\\xc7\\x9c\\'m\\x01;\\x84\\xfaz\\xfa\\xe2\\xd7\\xe5>\\x9dQY\\xa5#\\xe2\\xe2\"BV\\x91\\xa4\\xba\\xdf\\x9c\\xdb\\xba\\xaf\\xfc0\\x85\\xe9\\xa47S!\\n\\x98\\xea\\x1du\\xb9\\n\\x01j\\x1a\\x17m\\xbc\\xa8\\x04\\x00\\x91\\xf3\\xbf\\xd7\\x16\\x86\\x0c\\xc2c\\xb4\\xdf\\x99%)\\x00\\x15nm\\xef\\x8a\\x14\\xdb\\x88qtQ\\xb7\\xa4\\x1eJ\\x16\\x96\\xea\\x9b@\\xfdC\\xa7\\x19^B\\x89r\\x89\\x15\\xe4\\xdf{\\xa4\\x8b\\xfc\\xed\\x81\\xf9]&\\xc9o\\x15%Td\\xb0o\\xb8m\\xf5\\xa7W\\xd2\\xf6\\xc3\\x16B\\xdfR?f.05%\\xb7P\\xf2VT@\\xbf\\x1c\\xdb\\x03\\x88\\r\\xf6\\x93\\x13\\x18\\x05\\xcb(\\xc4%k\\xa1\\xb9ZN[\\xa8\\xff\\x00\\x85\\\\\\x99J\\xa99\\x15A\\xa4|b\\x94\\xd9p\\x0f) \\xdf\\xbf\\xa6)L\\xd1*4\\xc7\\x98\\x96V\\x97\\x9aqISk\\xe5\\n\\x04\\xa4\\x83\\xf5\\x1f\\x96/\\xbf\\x8a\\xea\\xd2\\x1bd\\xb8\\xa5o}\\xf1T\\xba\\xab\\x95\\xa6F\\xeaUq\\xba|\\x17\\xdd\\x0b(\\x98Cm\\x13\\xa1.\\'r\\xabv*\\x06\\xd8.\\xcb\\xe9S\\x9c\\x01\\x1b\\xc6\\x81\\xd0\\xd9\\x85K\\xb8\\xe4\\xab\\x8b\\xec\\x9e\\xd0\\xae\\xd4\\xb1\\xf3\\xac.b6\\xf8}2c\\xba\\xb6\\x1dF\\xc1\\xc6\\xf6P\\xb1\\xbf\\xd7\\xe5\\x89\\x06\\xea\\xd5O\\x1d+y\\xc6T\\xb0G\\xed\\x14\\xd5\\xd6\\x0f\\xa8\\x1c_\\xfa\\xe0\\x8e\\x9b\\x9035E-\\xaa\\x9f\\x96\\xeao\\xa1f\\xc0\\x86m{\\xfc\\xcf\\xcf\\x19\\x07N3|y\\x8e6\\xe6[\\x9f\\xe5%J!\\x02\\xc0\\xdf~\\xfe\\xbb}q).\\x91\\xf4\\x9bF\\x890p\\x87\\xd4:\\xf5 \\x91\\xc4\\xa7\\xf3\\x1a\\xf4\\xba\\xa3\\xb0\\x8a\\x96\\xb7\\x1fzK\\x84\\xa9\\xc7TlI?\\xd8\\xc1|\\x0c\\xd9\\x194\\xf9\\x13%\\xb4\\xca\\x9d\\x0b\\x08IqA\"\\xfb~\\xf5\\xbb\\xdb\\x033r\\x8dz\\x95v\\xea\\xd4Y\\xac6\\x1b\\xd6\\xb2\\xb6\\xbf\\x0f\\xa1\\'\\xb7\\xfcb&\\x9b%\\xba=i1\\x9eC\\xa5\\xa9\\x08*[j@:@\\xdfU\\x8f\\x1f<u\\xb7AVZ\\xc4\\x0cfY\\x89\\xd9\\x05\\xaa^\\x8aP\\x15\\x14\\xa1\\xd3\\x85!\\x85A\\xea;(\\xa9\\x08\\x93c\\xc2i\\xd7\\x01S)\\x8e\\xa5:Q\\xe8\\xa5\\x12\\x06:\\xacH\\x85.\\xa5\\x1aL\\xda\\x82\\xb5!\\xf4\\xa0!+!n\\xf7\\xb0\\xb7k\\x8c\\x05\\xd6s\\r*4\\xa5\\x08-M\\x12T\\x90\\x14\\xe3\\xa0\\x00\\x13\\xe8??\\xcb\\x04\\x9fy\\xc5\\xa2QXZR\\x99R\\xa5\\xb8\\x16\\xdbnn\\xab[s\\xea;\\xdb\\xfb\\xb4\\x87NP\\x08\\xf7\\x8c\\xb2JY\\xe9\\xb7:\\x94\\x8a\\xa8\\xe9\\xb7\\xcaGu\\xac\\xc9\\x97b\\xd4\\xd2\\xcb\\xbe:\\xde\\t\\x1aRPT\\n\\x87\\x1eN/\\x8cU\\xfc\\xc5Z\\xa6\\x96\\x96\\xcbB[Z\\x01p\\x95X\\xb4;\\x05\\x01\\xecq\\x1c\\xbf\\x82\\x99=\\xd9\\xfe)D\\xf5\\xa7\\xca\\x1fn\\xed\\xa6\\xdc{\\xd8_\\x1e\\xd1L\\x9e\\xc7\\x8d6C\\xe9\\x9c\\xb7\\r\\xd6\\xa6\\xc1\\xb5\\xaf~0\\x80\\xe52\\x91\\xb4XGG\\\\u%\\xa9\\xabZ\\xc4\\x1d\\xe3VoP\\x11V\\x8e\\xb8\\xd5\\xe8\\xf1\\x1dJF\\x94--\\xe9Z\\r\\xf6\\xf9\\x8c\\x01U*\\x12\\xc4\\x90)vTt\\xa4\\x00\\xa4\\x84\\x10\\xa3\\xbd\\xf9\\xfc\\xbe\\x98`M\\x9fB\\x9c\\xdf\\x81R\\xa5 \\xb6\\x12\\xaf\\x19\\xf7Sgw\\xdbkw?\\xd3\\x0b:\\xf4\\x0f\\xbb\\'\\x96\\xa9\\xb2\\xa3\"\"\\xd0\\x97ZL\\x81u\\x80\\xad\\xf7\\xb08\\xb1\\xe1\\x98\\x87P\\nTlt\\x8a\\x0e9\\xd1\\x19\\xa6\\x80q\\xa2\\x08\\xad8\\x1eZ\\xfe`v\\xbf\\x94\\xd9\\xcbU\\x07\\x1a\\xa5,;\\r\\xef2Vv%&\\xf6I\\xfd\\x05\\xbd}q\\x11\\xe1\\xc7`\\xb6dks`\\x10\\xc2u\\x15,\\xefm\\xbb}9\\xb7\\xd4\\xf9\\xaef\\xa9\\xee;\\xa4Dm\\x96Z\\xdd\\xb0B\\x94S\\xf5\\xf6#\\xf5\\xc1\\xaeD\\xca\\x933\\xc58\\xcb\\xc9\\xd1\\x9cZ\\xe3\\'MP\\xadIS\\xcaY\\xdc\\x94\\x8eR\\x8b[\\x8b\\x0f\\xad\\xf0A\\xf7P\\xc3}c\\x86\\xc3\\x7f\\x9f;\\xa2\\x8a\\x86\\x94\\xa5e\\x1a\\xc1\\x8fL\\xea\\x15YT\\xa9\\xd9e\\xa8\\xb1\\xa0L\\x0e\\xa6@in\\xa9!\\x0c\\xa8X\\xa8\\xe9\\xe3q\\xc7\\xa5\\xb0\\xf8\\xa3\\xa7-\\xbf\\x19\\xba|\\xa5J\\x93!\\x8d-\\x99\\x0b:Q\\xab\\x81\\xa5=\\xf7\\xf5\\xf5\\xc2\\x03\\xa6\\xae\\xb3D\\xcf\\x06\\x94\\xc4\\'jS\\xe6\\x03\\xa9k\\x16\\xd7\\xe1\\x8b\\x94_\\xf7G\\xf1\\xb5\\xf1c%GyOG\\x902\\xccu\\xf8iB\\xdd\\xd3 \\xdd\\xa5|\\xaf\\xdbo|U\\xe7\\xd2\\xa7\\x1d\\xa8\\x03)\\xbf}w\\xb4X\\xa4\\xf3)\\xac\\x83j\\xc4\\xdc\\x1e\\x93\\xe4\\t2\\xd3+4\\xc5\\x19\\x86\\xa4\\x83d)\\xf5\\x14\\xa1\\xa1~\\x00\\x04\\x0b\\xfb\\xe07\\xa9\\x9ff\\x0c\\xa3Ubd\\xcc\\x91\\xaa\\x97TKe\\xdf\\x86K\\x84\\xb6\\xed\\xb7\\xb7r>\\x9b\\xef\\x8d\\x95g\\xba\\x9d63+\\x91\\x96\\x1fx=!i\\x0c\\xb2\\xf2I\\xd28V\\xff\\x00\\xc3\\xdb\\x12\\x0e\\xe6\\xe7\\x0bn=1\\x0f\\xd3\\x9aR.\\xa6\\xdcU\\x96\\x81~\\x0f\\xa7\\xa5\\xb1\\xd4:\\xa4\\x90\\x94\\xa8\\xdbK\\x9a\\xc4\\x95\\xc8\\xb0A$\\\\\\xdf\\xe1\\x8an\\xed02>\\x1f1V\\x1a\\xa4\\xc7ikI\\x8e\\xc8\\xd4\\xbb\\x02\\x7ft|\\xaf|0r,\\xca=\\ri\\x83\\x97\\xdf\\xa8NT\\xd0\\xa9A\\x99,\\x04 \\xa4\\x9d\\xd6\\x94\\xdc\\xecO|\\x03\\xe7\\xb6\\xf2\\xed?7U\\x1cd\\xb9>b\\xa5\\x97T^\\xd9\\x86S\\xb9\\xd3\\xa7\\x95\\xa8\\xdcw\\xb0\\x18\\xd3\\xe9\\xeem\\rf\\x05f<\\xc6\\xcc\\x97#\\xa0)\\x92\\xb4\\xa7R\\xad\\xb1\\xd8m\\xe9\\xe9\\xdb\\xf2\\xb0\\xb8\\x95=/]\\xc8\\xf9\\xca+m\\x1f\\xe1\\xe6\\x85M(a\\x9379O\\x13eCb\\x04H\\xc69\\x1a\\x84v\\xb4\\xa9j\\xff\\x00\\xa4\\xaf\\xdf\\xfa\\xe0~\\xb7\\n\\x8b.\\xa8%\\xd7&*\\xa7TQ\\xd4\\xa6\\x98p\\x94 \\x01\\xdb\\xd8~\\xb6\\xc0<\\xd7fWsuB\\xa1J\\x8b-\\xd4\\xcf+J#\\x05\\x92\\xee\\x94\\x8b\\xdbm\\xbb\\xf3\\xc6\\x1ey\\x1b\\'\\xc1\\xa0e\\xcaZs6^\\xfb\\xceuM \\xb8Z\\x04\\x16B\\xc0\\xb0\\xd5\\xed\\xc7=\\xf0%\\xec\\xb2)J\\x87\\xd4v\\x04\\x082]rye\\x1f\\xd0\\x0e\\xbbZ\\x15\\x88\\x89\\x01\\xf5\\'\\xee\\x96]a\\xe0RB\\x12B\\x90\\xa2U`\\x95\\x1b\\xde\\xdcp,9\\xc5\\x8e\\xa2}\\x9b\\xda]%\\xa7\\xa2V\\xea?}=\\xa5\\xc7\\x03\\xd1Ba\\xeb>b\\x84\\xacy\\xc9\\x17\\xe7\\x8b\\xf6\\xc2c=\\xd1\\xf2\\xad\\x06Z\\xde\\xcb\\x0e\\xc8\\x86\\xed6R\\x1c\\x91\\x19\\xd4\\x95\\x05$(\\x15\\x00\\xa3\\xf2>\\xdd\\xb1xi\\x0b\\x999\\x9a|\\xeat\\x99-P\\x9da\\x97XL4\\x8b:\\x95\\xa4\\x1f:\\xb9\\xef\\xdb\\x02q\\x19\\x87\\x16\\xda\\x0bd\\x81\\xcf^:\\xef\\x12\\xe5\\xe5\\x10\\xcel\\xd4\\xcd\\xe9\\xedZ\\xf9B\\xdf\\xa7\\xb96\\xa7F\\xcc/\\xd3\\xebl|C\\xcc\\x1b\\x97\\x97\\xbaH\\xb7\\x94\\xa4\\xf7\\xc3\\xd0\\xb0\\xdc&\\xbcG\\xc2R\\x907\\xdb\\x1aN\\x01\\x16R_m\\x16\\x0b\\x1anM\\xc8\\xb7\\xae%\\xb45Pg\\xc3\\x7fIB\\xb7U\\xf88\\xab\\n\\xb8\\xa2T/\\x1ey\\x7fM\\x05\\x13\\n\\x1c\\xfb\\xd46\\x93\\x1aK0\\xebH\\x8a\\xdcq\\xe2:a\\xa3[\\x8d\\xa4w$p68\\x08\\xe9\\xbey\\xa9f\\xf9+0\\xaa\\xd3\\xe7\\xc6\\xd7\\xa4\\t\\xd1\\x9b\\x00\\xfc\\x94\\x94\\x83\\xf2\\xbe\\x1c\\x19\\xaf/!\\xc8\\xef1M\\t\\x8a\\x97\\x10RC6h\\xac\\x1eB\\x88\\xe4|\\xf1\\x15\\xd3\\x8c\\x84\\x8a\\x13J.\\xbc\\x9b\\xf8\\xb7J\\x11\\xb2R?\\x99\\xc4\\x82T\\xa1\\x96\\xa6\\xbe\\x14\\x82\\xc8u\\x96\\xd9\\xce\\x94\\x8az\\xc0oS\\xb3\\xe2\\xb2I\\x8d\\x18\\xcaU6L\\xa1\\x7f\\x88\\xf0C\\x81\\t\\xb8\\x05[\\xf9G=\\xff\\x00#\\x81\\x9a^k\\xaaR3\\xac\\n\\xd7\\x8b33S\\xa6S4\\xca,\\x01\\xe6[k+\\x8e\\xa5\\r\\x87\\x95D\\xdf\\xfd\\xa4\\xe1\\xdd\\xd4\\x9c\\x92\\xdei\\x8d\\x12:\\x86\\xb6Yz\\xef\\xa5I\\n\\xd6\\xc9\\xb5\\xc5\\x8f;\\x84\\xe3;us\\x95\\xddb\\x97K\\x8b\\x11\\xaaLf\\x90\\x96\\xd9Lt\\xd8\\x8bnO\\xbf8\\'*z\\x85\\xe6\\n\\xa1\\x17\\xbd\\xfey\\xc7\\x19\\x9b+Oa\\xb0\\xaa\\x82\\x08$\\x8f\\x87B!)\\\\\\xeb3/\\xc8\\xaa\\x07i\\x95\\xe8m\\xba\\xdc\\x11\\x19-+Hl\\xb6\\xa5\\x17num\\xabQ\\x03\\xe4/\\x8dJ_]b\\xb5\\x15\\xda\\x1b\\x14\\xaa\\xedA\\xf7V\\\\Q\\x0e\\x05\\xb8\\xd92<O-\\x89;\\xa4\\x01\\xbfp\\x0e\\x0b\\xbe\\xd0uX\\x10hp*\\x14\\x88\\xd1b6\\xf3\\x96\\x93\\xa9 \\\\\\xdb\\xcb\\xc0\\xf5\\x16\\xbe\\x13C\\xac5\\xca\\xecY\\x0b\\x84\\xcd?/@@)}\\x8aLP\\xd1}\\xc1\\xc9[\\xa7\\xce}l\\x08\\x1b\\xe0\\xd0\\x98\\x98\\xed-DP[B\\x7f\\x03\\xda,\\xb8:d\\xf1<\\xb2\\x9f\\xc3Qz\\xddd\\x0bPp$\\xf7z\\xc3\\x8e\\x7fW\\xe2\\xcdj\\xa1 \\xd3\\xebQ\\xcb\\xae\\xb6\\xa6\\xa0\\xcba6\\xd4\\x92\\x08\\xb5\\x94@N\\xdb\\xdf\\xbd\\x88\\xb6\\xf8Ifl\\xd4\\xf5J\\xa5\"s\\x91\\x18\\x8f)\\xe2\\n\\xd4\\xe2\\x93\\xb5\\x8e\\xc9\\xb2{`~l\\x99\\x13\\x97\\xae\\xadQ\\x08Y\\xf3\\x06\\xd6IP\\x07\\x8f.\\xff\\x00\\xae\\xfb\\xe35\\x17)V\\xf3\\x1a\\xf4\\xd0h\\xd5*\\x89_\\x01\\x98\\xe4\\xa7\\xe7\\xabo\\xe3\\x88.\\xcc\\x97E\\x14G\\xcf\\x13\\x1aV\\x1f\\x82\\xe1\\xf88.\\x12\\x07\\x12M\\x80\\xe1SKZ#\\xaa\\xb3e\\xd5\\xc1Dhp\\xe9\\xc9U\\x8a\\xcbH+Q\\xf9\\x15v\\xbf\\xe5\\x8fT\\xcazb\\x85x\\xae\\x17\\x9d;\\x12\\xb5\\\\\\xde\\xdb\\xfc\\xbf\\x86\\x18\\xd1:\\x1b\\x9e]e\\xe5\\xc8\\xa1\\xb5Ni\\xa4\\xa9N;.J\\x12\\x94\\xd8o\\xb0$\\xf7\\x1f\\xf3\\x82\\x98_g\\n\\xa7\\xc6\\xa6\\x05C0\\xd2#H\\x11\\xc3\\xce\\xb7\\x1d\\xb5\\xbc\\xeaRok$\\x10M\\xc8\\xe7\\t\\x1dk\\x89\\xca\\x90i\\xc8~\\x80\\x86\\x13\\x89\\xf4{\\r\\xa9i\\xd4\\x03\\xff\\x00oh\\xfaV\\x14\\xc9u):P\\x92n\\x9b\\x12W{\\xfb\\xfe\\x9f\\xae21\\x98\\xa5\\xc2PP]\\xc0\\xd8)*\\xd3a\\x7f\\xae\\x19y\\xa3\\xa3h\\xcb\\x997\\xef\\xc1Xv\\xa4\\xf8#SMF\\tm\\xbb\\x83`\\xa5\\xdc\\x9b\\x81\\xc8\\xdb\\x13=\\r\\xc8\\x14\\x99\\xec\\xbdU\\xcc\\xb9}9\\x81\\xc7\\x16\\x9f\\x85i\\xe7R\\x96\\x99H\\x1c\\x84\\x13e\\xa8\\xfa\\x91\\xb6\\xd6\\xef\\x86\\xf2\\xb8\\x1c\\t\\x02\\x84\\xf1\\xfdW\\xe6\\xd0\\x99\\x9e\\x90a\\xad\\xc8.s\\xfc\\xc4\\x83\\x96\\x94\\xa1\\'\\xff\\x00*|\\xe3\\n9Kk0\\xa0\\xa6C\\xde\\n\\xae<5\\x04\\x975+\\xdc\\xf7\\xbf\\xd3\\n,\\xe7:tj\\xf3\\xecFq\\x94\\x86\\x92\\x94\\xa8.F\\x83\\xaa\\xde\\x85\\'\\xb5\\xb1kz\\xcfQ\\xe9}\\x1e\\xa5\\xf7-.\\x82\\xf5/3\\xb9\\xe7W\\xc1\\xb3`\\xd8\\xb7\\xef\\x81\\xb6\\xfd\\xad\\x8a\\xb7[\\xc9\\x11\\xa6\\xcfS\\xe8\\x85!\\xe0\\xb4\\x83\\xa9\\xca\\xa2\\x19?\\xfcH\\xbe&K\\x0c\\x8e\\x7f56\\xe5p}\\x8f\\x98\\x8a\\xd4\\xe4\\xd3\\x98\\xfe\\x1c\\x15\\x87\\xa0\\xa4\\x85\\n\\x85Z\\x83\\x91\\x00\\x83\\r\\xe6\\xf2\\x1eR\\x99&\\xa1K\\xa5Rj.Ii\\xb54\\xdb\\xaf\\xb2CaV\\xdc\\x85b\\x0f\\xec\\xea\\x8c\\xd3\\x93s~g\\xff\\x00\\n\\xc2m\\xa5M\\x84\\xa8\\x89rSd\\xc7R\\xd2\\xed\\xf5\\x926\\x01;\\xef\\xf4\\x17\\xbe\\x1b\\xcb\\xce\\x0e@\\x84\\xda\\x1fq\\xf0\\xb7.\\x16_BP\\xa5o\\xe8\\r\\xbb\\xed\\x89&\\xa3\\x81Gv:\\xc3q\\x15-^t#\\xcaJ\\x08\\xd8\\x1f\\x90\\xdc\\xe1\\x05\\xd5!*@5\\n\\xd6\\xe4\\xfec+\\x99\\x97i!4\\x02\\xa0\\xda\\xde\\xf1\\x1b\\x94\\xba!\\x02Nd\\x89\\x9b\\x9c\\xce\\xa2\\xb5\\x98B\\xd6\\xb7\\x1an\\x1a\\x18\\x8e\\xe2\\xd5pt\\x0f\\xc5a\\xd8\\xfdq\\xb5\\x98*\\xbf\\xe0I\\x93b\\xd7\\xa6S\\xa3\\xba\\xfb\\xbf\\xb8JU\\xd8\\xef\\xb9\\xbd\\x81\\xf6\\xc4]vJ\\xb2\\xb6\\\\\\x97_\\xa5\\xa08\\xb6\\x1bKQ\\x1bo\\xfe\\xa5\\x1d)\\xf6\\xdc\\x9ch\\xd3\\xfe\\xcft\\xfc\\xd2\\x84U\\xb3\\xd4\\xe9\\xf3j\\x92\\xac\\xea\\xfc7\\xf4\\xb6\\xd9#\\xf0\\xa5;\\xdc\\x0b\\xf2y\\xc2Yu\"\\xefT\\x01`\\x05+\\xe1Xe\\x80\\xe2+\\xd5jo\\x7fx\\xc3\\x16\\xb9J\\xad\\xc8r\\xa3J\\xa84\\xf1c\\xf1>\\xda\\xd4H\\x1b\\x13\\xb7\\xaf\\x1b[\\x19%=S\\xaa\\xc1\\x94\\xe5\\n\\x86*\\xd2\\x03wj:V\\x12J\\x85\\xf4\\xa9W7\\xb5\\xf7\\xc4\\xd8\\xfb-\\xe5x\\xf4\\x17\\x9d\\xcb\\xf9\\x82\\xb1\\x02\\xb4\\xc8+aj|xB\\xc3\\x82\\x8bn\\x0e\\xd7\\xef\\x88\\xde\\x93\\xd4df\\xf9U\\x8c\\xb35\\x0e\\x89\\xb4\\xc0\\x8f\\x8a\\xf8)\\x02\"\\x14\\t\"\\xebX\\xf3\\xd8\\x94\\x91a\\xe9\\x82r\\xe9fiTE\\xbb\\xe9\\xe9O\\xef\\x0brva\\x84\\x12\\xe0\\xe5Q\\xc7\\xc6+\\x06t\\xe9\\xd6p\\xcb\\xb1\\xe5\\xd6s\\xa59\\xf8\\x86J\\x94|g\\x82J\\n\\x89\\x04\\x81m\\xfb}?LF\\xd1X\\rR\\xa0@\\x04,\\xb8\\x92\\xeb\\xed\\xf3pw\\xb1\\xbf\\xb9\\xe3\\xf9b\\xec\\xf5\\xab\\xa3\\x94\\t\\xd9b2\\x1f\\xaa\\xfd\\xd8\\xf0 \\xa2\\x14W\\\\x-\\x1f\\xbc\\xa2VI\\xbd\\x86\\xe7\\x93\\x84\\xbcZ\\x17O\\xe0K\\x90\\xcb\\xf4\\xaa\\xa4\\xe9V\\x08\\xf1\\xde\\x96t\\x8bv\\t\\x02\\xc0`\\xab\\x93\\x8dK\\x9c\\x8a\\xb9\\x1d\\xdf\\x9fx\\xaf\\x7f\\x0e\\xeb\\xa7?\\x1d\\xcf\\xcf\\xb4\"U\\x9c%\\xe5<\\xedL\\xa8\\xd2\\x10\\xdb\\xaa\\xa7\\xa8\\xa44\\xaf\\xc0\\xe2Up\\xa4\\x1f@H\\x07\\xe9\\xde\\xc3\\x16\\xc5\\xcc\\xc0\\xf2\\xf2\\xd49\\x91\\x9aP\\x96P\\x16\\xb2\\xcao\\xe1\\xaa\\xd7\\xd8\\x1el\\x7f\\x86\\x16\\x8ft\\xf3+Rj2s\\x1bq\\xe4\\xcd}\\xa6\\x0b\\x8dFyWm\\xbb~\\xf0\\x1d\\xed\\xdb\\xd3\\x04\\xa9\\x8d&\\xb9\\x95\\xa11\\xe3.$\\xf9!*[\\xb1\\x16\\xa4lG\\xa7{\\x02=0\\x1a}\\xe6\\xa6\\x82T\\x81\\xa6\\xff\\x00\\xda\\x0cH%\\xd9u\\x10\\xbd\\x0f\\xcf\\x08\\x8d\\xafUh\\xd5\\xbacTw\\xd4\\xa59<\\xa7\\xe2\\x1dK\\x16uD\\x1b\\x90H\\xd9\"\\xf6\\xc3w\\xa4\\xd9\\xda\\xa9A\\xf8l\\xa8\\xfaR\\xed3@D48\\xa3v\\x85\\x8d\\x92\\x92\\x0f\\xe16\\x1b{\\xed\\x84\\xc5\\x1f#\\xbd\\x98\\x96\\xfai\\xb5\\x08\\xb0i\\x94\\xb7t;-\\xf5\\x12\\xa7\\xdeW!)\\xdbQ\\xb7&\\xf6\\x17\\xeep\\xf3\\xcayS/\\xd3\\xdf\\xa4\\x96\\xab\\xb3\\'\\xd4\\xd9ZJHg\\xf6j#\\xf7y\\xd8s\\x88\\x8bu\\xa6\\xa5\\x96\\xd9\\x1a\\xfa\\x1a[[w\\x88y\\xc2\\xa7f\\x12\\xbdijm\\xce\\x1b\\x90\\xa5J[L\\xa6\\xa0\\xd2Yp,\\x9d\\t>R;s\\xbe%\\x13$6\\x14\\x01\\xb1\\xf4\\xbf\\x18\\x8f\\xa9)m\\x04\\xba\\x01:@\\xe3\\xd3\\x1a\\x9f\\x1d\\xe3$)\\xb77\\xb5\\xb8\\xc5#9\\x1a\\xc1\\x12\\xd7Z3\\x01h\\x94y+\\x92\\x95\\x12o\\xb7\\xa65\\xa31.,w\\x97\\x06_\\xc2\\xbc\\xa0B\\\\R\\x02\\xc2O\\xa8\\x07\\x93\\x8diu\\x07a\\xd3\\x9eq\\xb4\\x97\\x1cJ<\\x88\\x16\\x1a\\x8fo\\xd7\\x00\\x15V\\xfa\\x90\\x86\\xaf\\x0e\\x95Jy\\x85\\x02\\xa5)Ub\\x97mn\\x12\\x92\\xd6\\x91\\xf5\\'\\x13\\xd9XqT\\x87\\x9ad\\xa94*\\x00W}\\xe0\\xba\\x8a\\x8a\\xba\\x94\\x98\\x93\\xab\\x8e\\xd6_\\x8b\\x7f\\x12\\\\\\x84\\xb6\\x87\\x1e\\'\\xb6\\x84\\x00\\x94\\x81\\x85fe\\xab\\xe6\\x19\\x99\\xb6j\\xa9MH~:\\x1f\\xf0ZG\\x8a\\x94\\xb6\\x90\\x9d\\x89)\\xe4\\x92o\\xbd\\xf1\\xd0\\xab\\xe7J\\x13R\\xaa\\x95\\x88\\x0cS \\xb4\\x82\\x13\\xfeu\\xb7\\\\+\\xed\\xa9IBR\\x016\\x02\\xfd\\xce\\x04\\xb2ng\\x99*$\\xe6kK[s\\x92\\xb5\\xbc\\xb3\\xe2\\x83\\xafY&\\xfb{\\x9e0f]$\\xd5GQ\\xc6%8\\x80\\x85T\\x11\\xe0)\\xdf\\x11}_\\xa7Vk\\x90#B\\x8e\\xf5\\xdeq\\xc2\\\\B\\xde!\\xb4\\x90\\r\\xc9<\\xdb\\x8f\\xae\\x15t\\xaa\\\\\\x9c\\xa4\\xdc\\xe8\\xb2]\\x8e\\xe82\\x02\\x9b\\x0c\\x82\\x1b\\xb9H\\xb9\\xf3\\x00v\\xdb\\xd3\\x8e0\\xe6~\\xb9\\x1c\\t\\xaa\\x90\\xc4\\x8a\\x8bHin<\\x88\\x85!i\\t\\x1a\\xbf\\x11\\xc2J\\xad\\x9a\\x9c\\xabGr\\xac\\xebM\\xa7\\xe2e\\xa9\\xc6\\x98M\\xb6\\x00\\x80\\x90\\x08\\xefa\\xbf\\xb98\"\\x8c\\xe1\\xa2\\x8d\\xaa+\\x06\\xfa8\\x96\\xd3\\x8b\\xa5\\xe5\\x1b\\x80\\xaf /\\r\\xce\\x8bgJFO\\xad\\xd4\\x1d\\xcd\\x8d4\\xfd6\\\\Uy\\x97\\x18<\\xbf\\x19\\x0b\\x05)\\x1b\\x12\\x02\\x85\\xc1\\xed\\xc6\\x192\\xfa\\xf3\\x06uB$<\\xafD\\xab\\xca\\xd1Tep\"6\\xfac%\\xc4!!(gk\\x9b\\xa9[\\xabm\\xeflU\\xcaEpK\\x8a\\xa7\\xdeN\\x85\\x15i\\x0c\\xa7\\xf7w\\xf5\\xe4\\x93\\xeb\\xc0\\xc4\\xdd&\\xb1:\\x9dT\\x87Q\\xa2:\\x18\\x99\\x05\\xf4\\xbc\\xcc\\x9d\\x01ZV\\x90E\\xd2\\x0e\\xca\\xb7\\xbe\\xd8R\\x1f[\\t\\xa0\\x14\\xbe\\xb4\\xbf\\xef\\x94h\\xd38\\x16\\x1d\\x8a\\xba\\xa9\\xc2\\n\\x96E\\x81$&\\xb4\\xa0\\xa8\\x17\\x1bWzi\\x169\\x8c\\xdf\\xd4\\x18\\xd4z\\x88w.\\xc0\\xa0R<G\\xd52\\xa1Z\\x90\\xb4\\xb4\\xb2\\xb7\\n\\xc6\\x9dD\\x15\\x91\\xf8F\\x90E\\x85\\xb0\\tV\\xeb\\xb6v\\x975\\xd55Y\\x8a\\xc2E\\xd2\\x17\\n\\x9c\\x84\\x05s\\xb8+\\xd4\\xa1\\xde\\xc4X\\xef\\x80L\\xc9\\x9b3\\x06r\\x92&\\xe6\\x9a\\xac\\x8a\\xc4\\x84\\xfe\\x0f\\x1a\\xc9m\\xad\\xff\\x00u\\x00Y=\\xf8\\x18\\x1a\\x9b%1\\xdbI\\x92\\xf1\\x04\\xdc%\\xa6\\x91r\\xaem\\xb7\\xf3\\xc2\\x1c\\x99t\\x90\\x94,\\xfa\\x0fo\\xc9\\x8fH\\xf4zU\\x94\\x97&\\xd9l\\xab\\x80\\x04\\x81\\xe2\\xba\\x92|\\xbb\\xa1\\x81S\\xea\\x06j\\xaf\\xd3\\x91\\x02\\xb1]\\x9f:\\x10:\\xbc\"\\xa4\\xe9Q\\x1bo`\\t\\xdbm\\xce\\x1e\\x7fgf$/,\\xc9u\\xe7\\x1em\\x0b\\x93d\\x02,\\xa4%;Xs\\xb1\\xfeC\\x14\\xce|\\x9a\\xa3\\xe9\\xff\\x00,UL\\x8cv\\nq\\xdf\\xdb/\\xe4\\x94\\xdc\\xfa\\xfe\\xb8\\xbb\\x9d\\x04\\xa7\\x9a?K\\xf2\\xf3\\x0f)kyQ\\xbcGT\\xe1\\xba\\xca\\x94no\\xef\\xbe\\x1b \\xaa\\x8aY\\xa9\\xf3\\xf5\\x8a\\xb7L\\x1fe\\x89\\x04\\xca\\xcb\\xb5\\x95*Uj\\x00\\x02\\xdc\\x07\\x88\\xbd\"\\xb4\\xfd\\xb2\\xe93r\\xa7T!\\xd5\\xe1Mq\\x1f{D\\xd4\\x14\\xa4\\x05\\x04\\x94\\xdc\\x14\\x8f\\xa0\\x1f\\xa6*\\xfb\\xeb\\x93Qp\\xbe\\xe2\\x1e\\x94\\xa2\\x00\\xf1\\x16\\xb5\\x93\\xb7m\\xb1\\xf4k\\xedC\\xd3h\\xbdG\\xc8\\xbfx\\x19\\x8a\\x872\\x88\\xda\\xden\\xc9\\x048\\x00$\\xa4\\xdf\\x8f\\x9f8\\xf9\\xba\\x842\\xebh^\\x86\\x1c*\\x04\\x958M\\xc9\\xb9\\xc5\\x93\\x0eZKE\\x1b\\xa7\\xd8\\xdcF\\x196^I\\x19\\x94hy\\xdb\\x86\\x91j\\xe5\\xd5cS\\xf3#n.\\xa5#0HK\\x89\\x03\\xe2\\r\\x9bd\\x93k\\x8d\\xac\\xa3\\xfc1\\x933\\xf5\"J+\\xd546\\xd2\\x96\\x10\\xd0m\\xb4\\xa1\\'b\\xa0F\\xe0\\xfa[\\n\\xaa\\x0eP\\x9fZ\\xad\\xc4T\\xa9J\\x94\\xe8q+m\\x84+\\xf6i\\xf4R\\xfdp{\\x9d[\\x8bA\\x9f\\r\\xa9\\r6\\xb7_n\\xef-$l\\x06\\xd7\\xbf\\xd0~[`\\x0b\\xa8B\\\\\\tM\\xc9\\xee\\x1e\\xbf;\\xe0\\xe2\\x96T\\rE \\xca\\xa1V\\x93\\x99\\xa8\\xa2\\x9fC\\xb1\\t\\x99\\x0c\\xb8\\x0f>\\x13n&\\xf6\\x18f\\xd3s\\x0ehMY4\\xf6\\xe9M;\\x10 \\xa8\\xbd\\xe0\\x16\\xf4\\x1e\\xc1*\\'\\xcd\\xc0\\xed\\x85}\\x1d\\xfa.Zz\\x84\\xa9\\xf2\"DL\\x94\\x94\\xa4\\xac\\xd9KR\\x8f\\x96\\xc3\\xb9&\\xdb\\xfc\\xf0\\xcd\\xcc\\xd9\\xb51\\xe9\\xe3\\xc1\\x94\\xe4iHl+\\xc4f?\\x89cnU|2\\x12\\xa4\\x9b\\x8b\\x1e\"&\\xb4\\x84\\xd4\\x00o\\x11\\xf4\\xcc\\xf5\\x9ej\\x13\\xa5\\xc0\\x9bL\\x8e\\xa8\\xeaQH\\x0c\\xc7)S\\x08\\xe3V\\xbdVQ\\xf6\\xb6\\x02:\\x1fH\\x9b\\x94s/T\\xaa\\x92C\\xbe+\\xcbn$)\\x0b\\x00x\\x89\\nZ\\x9c)O;\\x15\\x01~0CA\\xce,=Nq\\x08\\xa8Hr@\\x01%\\xf7\\x9b\\xf0\\xd6O<z_\\xbf\\xbe;\\xacf\\xb8\\xfd?\\x90\\xd5RM\\x1d\\xc9\\xaf\\xd4\\xa2\\xf8\\x8aR\\xc0o\\xc2@\\xdc\\x14\\x03\\xf8\\x81\\xe6\\xf8\\x91.\\xa7\\xcb\\xa5-\\x0b\\xd2\\x9d\\xde\\xb0\\x89\\x90\\xc8E]U\\x81\\xacd\\xab5V\\x87O\\x8f-\\xd4H}\\xa7H\\x1a\\x9dY%\\x06\\xf7\\xdc\\xf1\\x80Y\\x8e\\xc2\\x82\\xd3\\xe8u\\x956]s\\xfd_\\x0f{\\xfa\\x9d\\xb0\\xd4\\xca\\xf5\\xe5f\\xac\\x9b\\x16ML-m\\xd5\\x01u\\xa0\\xe8\\xd2\\xa6\\xc2\\x8e\\xc4\\xfc\\x86\\x10\\xb9\\xb52hU9t\\xda\\xd4\\x90\\xe3\\xb1\\x97\\xe2\\xb6\\xb0t\\xa5m\\x83q\\xf3\\xef|AT\\xb2\\xc3\\xa5*\\xd7\\xe5a\\x97\\x1d\\x0e\\x7f1\\x1a\\x18&j\\xb1\\x15\\xba\\x9a\\xc3\\x8aIa\\xb2\\x1a\\xd2\\xa3p\\xb4\\x9b\\x82?\\\\e\\x99\\xd59\\xb0\\xa82)92\\x8cj\\x95\\xb7R\\xf3kx3\\xa1Q\\xc1\\xf4Q\\xf2\\x90\\x01\\x03c}\\xf8\\xc2\\xa5\\xea\\xd2_s\\xc0\\x0b\\xd4\\xb7\\x9d\\xd0\\x80\\xd9\\x02\\xf7\\xec\\t<\\xd8\\xec98e\\xd2zmVDY\\xd33eA\\x8c\\x97\\x16Rt\\xc4nQ\\xb4\\xd7\\xd1\\xa7\\xf1\\xb5\\x1d \\xa9;\\xde\\xca^\\x9f]\\xf0RM\\xb3*\\xb5\\x15iN\\xff\\x00XBZq\\xf5\\xa5\\xb6Fe\\x1d\\xa9_OX\\x8d\\xa5\\xd4Q\\x01\\xb8\\x11\\x03\\n\\x97%-\\xa5\\x95Cmw*s\\xf1\\x15+\\xb2\\xbb\\xff\\x00,>zSIy\\xfa\\xa2\\xa68\\xb8\\xce\\xc6\\x8e\\x81o\\x05\\xd0\\xad.\\x1f\\xddRA\\xb0#\\xb8\\xc2\\xba}2\\x9c\\x1b\\x8f\\x07*\\xbd6\\x1e\\xa6\\x91\\x13\\xe3\\x1fZT\\xf5\\x8e\\xca \\x80,Os\\xc9\\xc5\\xa1\\xc9YV\\x06Q\\xcat\\xfaU!\\x84G\\x8e\\xc3c\\x81\\xe6Z\\xce\\xeaR\\x8frI\\xbd\\xce+8\\x83\\xd9TRnO\\xb7\\xcd\\xa2\\xc57\\x86\\x7f\\xc2\\xa5P\\xb7\\xcf\\xf3\\x17\\xb0\\xd0\\x0e\\x7f\\xaaD\\x94\\xd3t)\\n\\xba\\x92v\\xe3\\x02r\\x16\\xaa[\\xa1\\xd7\\x90\\xa4\\xc6Y\\xb7\\x88x\\x1b\\xf7\\xc1,\\xc5\\x12\\xa0\\x12I\\xf5\\xb63\\xa5\\xc6\\x9d\\x82\\xb6\\x9f@[dYIP\\xb88\\xaf\\xa9\\xb0\\xbb\\xe9\\x03\\xd9s\\xa9N\\x95\\x06\"\\xdaz<\\xa6\\xd3\\xa9\\xc4\\x14\\xab\\xf0\\x10y\\xc6\\xbdi\\xc9-4C*\\nI\\x1c\\x15\\x01\\x80Z\\x9cYtz\\xc1M!\\xe4\\xb2\\xc2\\xd4JRF\\xa4\\xb7\\x7fO\\xe9\\x8c5\\xca\\xb5N<GV\\xf4\\xf6\\x1f>\"\\x12\\x92\\xb0\\xa4\\xa7r7 \\x0f\\xae\\x1fg\\xb4{\\x1a\\x9bAV\\xe5*\\xb4\\x94\\x9a\\xd7h.\\x89\\x97\\xa3\\xe6\\n[\\x91k\\x11\\xa0\\xcfQXq1\\xa5 \\xba\\xd8#\\x82S\\x7f5\\x8f\\x17\\xc5i\\xea\\xbeZ\\xa9\\xe4\\x1c\\xd6\\xdcz[\\x8d\\xa2\\x9dR\\xbb\\x88\\xf0\\xe3\\xe8\\xb1&\\xc5\\t\\x17\\xe0_\\x0e*\\xdei\\x8f\\x97r\\xeaf1TCM\\x06\\xf5|RV\\x14I\\xe4\\xda\\xc7\\x9flR|\\xff\\x00\\xd5\\xec\\xe3\\x9c\\xe6\\xe8\\xaa\\xd4\\x9fv,w\\x17\\xe0\\x12\\x80\\x95%\\x04\\xf6#\\x81kcE\\xc20\\xf7\\x1f\\xa1\\x04\\x005:\\xff\\x00x\\xadb3\\t\\x97QS\\xa0\\xe6:\\r\\x0f\\xf6\\xe3\\x0ezNd\\xa1\\xe5\\xd8R\\xfe\\xfb\\x92\\xd3*\\x92\\xda\\x9bSm\\xb9\\xe2:\\xa0E\\xbbn76\\xbe 2\\xb5V\\x14\\xbaZ\\xe8\\x11(\\xe14w\\x16Ci-\\x12\\xa6\\xeev\\xd2y\\xd3\\xf5\\xdf\\x08\\x882\\xa6\\xcb\\x7f\\xfc\\xa3.9$\\xa8\\'[\\xca\\x16\\xbf\\xb9\\x1f\\xc7\\xd0a\\x91D\\x8a\\xe3o\\xa6Uz\\xa9)QA\\xd2\\xcc*j\\xfc\\x17$9\\xff\\x00JM\\xee\\x10\\r\\xb7\\xd8m\\x8d\\x8f\\xa3\\xf8,\\x84\\xba\\x16R\\n\\xca\\x85\\x0ea\\xdf\\xa5iO2b\\x85\\x89\\xe2\\xf3N\\xba\\xd9\\n\\xc8Pj)\\xae\\xdf6\\x11\\xee=%\\xea>`\\xa8A\\x9c\\xda\\xd6\\xf3_\\xe9\\x84\\x84\\xa56\\xf5\\xb7\\xbf\\x18)B\\x80B?fP\\x9d\\xc0\\x00~_\\xd3\\xeb\\x89(Q \\xd6\\xf57\\x0c\\x06*`\\x13\\xf0\\xff\\x00\\x12e\\x90=\\x1ct&\\xc0\\xec6\\xb9\\xe3\\x9cE>\\xa5Gp\\xb2\\xe3g\\xc4G\\x90\\xa1G\\x9fS~\\x07\\xa5\\xbf\\x9e2\\x9e\\x90\\xe1\\x0fa3\\x85\\nM\\x10~\\x93\\xc4~\\xa3\\xea>\\x82\\xe3\\xecc\\x98v`\\xb1\\xd6\\'\\xeb\\x1b\\x83\\xf8;yGK}A \\x93}\\'\\x8e\\xd7\\xfe\\xf6\\xfac\\x0f\\x8a\\x1a*\\xf0\\xb4\\xa5\\xc3\\xfb\\xe4\\xea \\xdf\\x9f@=\\x07\\xcb\\x13\\xb0\\xb26g\\xaaBT\\xe84I\\xafE\\xbf\\x95\\xd6\\xd0lG;\\x7f<G\\xd5\\xb2fb\\x82\\xa1\\xe3S_\"\\xdc6\\x8f\\x10_\\xfe>\\xbf\\xa6*\\x89u\\xbc\\xd4*\\xf9\\xc6-\\xefbr\\x80\\xf5}bk\\xc2\\xa3\\xf3\\x10\\xea\\x08\\xb3\\x8e8\\xe2\\xfc\\xd7J\\x94?\\x1b\\x9b\\xf1\\xf9\\xdb\\x17\\x0b\\xa3\\xf9\\x92$\\xec\\xa1N\\x8b\\x19\\xc4)\\xe8\\xcc%\\xa5\\xb6\\x83\\xf8T\\x91\\xc7\\xcf\\x14\\xd4\\xc6\\x93OyJ\\x9a\\xdb\\x91\\x88)\\x1f\\xb4O\\xed\\x16E\\xac\\x91\\x7fn\\xdf\\xd7\\x1bi~\\xaa\\xd49\\x02\\x8dT\\x97F\\x90\\xb1t\\xb8\\xca\\xcaum\\xc1\\xf5\\x18\\x96\\x90\\x92u\\xb4Vq\\xcc0\\xe32c\\xab=\\xa4\\xd4\\x8eu\\xdb\\xc6,\\x9f\\xda\\x0b?F\\xa0\\xf4\\xe72E\\x91%\\x08y\\xf6<\\x06\\x9a+\\xf3)j6\\xb0\\xb7||\\xed\\n^\\x84\\x02\\xb56\\xa0\\x9b( 6A?\\xfb\\xac\\x7f\\x966\\xeb\\xd3*\\xf5YJ5\\x89\\xd2\\xa7\\xb8\\xd2\\xac\\x9f\\x1dJ_m\\xec\\x0f\\xf0\\xc4HQm)B\\xc3\\t)\\x16\\xfd\\xae\\xa0m\\xdb\\x8e\\xd6\\xc5\\xbeRY,$\\xde\\xb5\\x8f\\x9b\\xe7^.9\\x94\\x8ae\\xb7\\x8e\\xf1\\xf4\\xb9\\xee\\x85f\\xba\\x15\\x86R\\x89D\\x97\\x01(\\x00\\xf8rH}\\xd3\\xb5\\xc9R\\x93c}\\xfb\\x8eq_:\\x8f\\x97\\xea\\xcd\\xd7\\xc4z\\xe5:Li\\xad\\x84\\xa8C\\x0c)n\\xbc/\\xbaP\\x94\\x8b\\xab\\xb0\\x00_\\x8b\\xf1\\x8bwAnt\\xd7\\x1b\\xa6V*\\xd58\\xd4\\xd0\\xab\\x93\\t\\xf2\\xc3\\x8aWk\\xb8\\x9b*\\xc0\\xf6\\x07\\x06\\xb4\\tF\\rN\\\\7\\xde3T\\xc3%q&\\xca\\x01\\xc7\\xc2ob\\x85/\\x93\\xff\\x008\\xae\\xa1\\xc4\\xa9\\xc4\\x92m\\xe0=\\xa8}<bk\\x92\\xcf\\xb4\\x95\\n\\xeb\\xf9\\x8a\\xbb\\x93~\\xcc\\xd5\\xdc\\xf5W\\xa7\\xd6\\xb3\\xe4\\x07\\xa8\\x14x\\xc5\\x0bC/\\xbbi\\x05\\xa4\\x0f+hB\\x7f\\x016\\x17*\\xe0\\x13\\xb5\\xf7\\x1b\\x99\\x90L\\xa4Fx\\xd3\\xa0\"bU\\xaa\\xe8p\\x9b\\xa5)\\'m\\xb9\\xed\\x8b5S\\xcf\\xd9s/D.f\\n\\xec\\x08\\xd2\\xc1%m\\xa1EkR\\xbd\\x03i\\xb9\\'\\x08\\xb5\\xcc^o\\xabL\\x8f\\x96X\\x94\\xe0\\x96\\xb2\\xecV\\xa5F,8\\x94\\x9en\\x15k\\x1ev\\x07\\x8cO\\x9dm}ZJEi\\xb7.C_\\x9a\\xc2$\\x1d\\x01\\xd5)\\xc5P\\x9d\\xe1;\\x97\\x9aw3\\xe6HI\\x93\\r\\xa8\\xa8\\xda\\xed\\xb3t\\xa5d\\x9bX\\x93\\xeb\\xc6\\'>\\xd2\\xfd7\\xaee\\x8a\\x9a]\\x8d\\x1d\\xf9\\xf4\\xd9\\xc8JXq\\x08QJ\\x14,<3k\\xe9\\x1c\\r\\xf0WS\\xa0\\xab\\xa4?\\x03W\\xce\\x94\\xc92\\xd4\\x1dK\\x8cS\\xa0<\\xdf\\x8d)hPP\\n\\'d\\xa2\\xe3\\xccy<b\\xd0eL\\xf3B\\xea\\x1e_3\\xe8\\xae\"G\\xec\\xc2\\xa4B}?\\xb5av\\xb9C\\x8d\\x9d\\xc1\\x07\\xbf\\x06\\xdb\\x13\\x8e\\xc96\\xe23.\\x94\\xe5\\xcb\\xbbQ\\t\\xc4\\x1cK\\x8a\\x00\\x1a\\xf3\\x84VR\\xa1Rc\\xd3\\xe9\\xdfzR\\x94\\xe4\\xf6c!\\x80D\\x95\\x06\\xd0\\x12\\x9d\\xc8@\\xb6#3GO\\xb2\\xc6o\\xd4\\xeelSP\\x1bN\\xc2Z\\xdd\\xd1t\\x8fo\\xde\\xf9\\x01\\xf3\\xc3\\x934V2>Oe\\xd7>\\x02,\\xaa\\x8a\\xc1tG\\x02\\xe4\\x15ou\\x13\\xb2G\\xb7\\xe9\\x8a\\xb5\\x9a\\xf3c\\x95\\xaa\\x83\\xcf\\xadE\\xb4\\xa9d\\xa56\\xf2\\xa0\\x7f\\xd2\\x13\\xd8\\x0fL1>\\xeb\\r\\xd2\\xa9\\x05]\\xfe\\xf1i\\xe8\\xd7Gf\\xf1E\\x15,\\x947\\xc6\\x97=\\xd5\\xf7\\xa1\\x8fQNW\\xe9\\xdb\\xce/\\xa7\\x94\\xc5\\xaa\\xa0\\x92R+u\\x17>\"A\\xb7\\xef4\\x83\\xe5f\\xfc\\\\\\x02\\xafq\\x81d\\xcar\\\\\\xe7\\'LZ\\x9e\\x90\\xea\\x95\\xa9\\xc7\\x0e\\xa5(\\xfa\\x92{\\xe3JL\\xddOi\\'\\xccG \\xed\\x89\\x0c\\xaf@\\xaaf\\xca\\xbczu\\x06(\\x91$\\x82\\xb7\\x16\\xb5im\\x96\\xc7.8\\xb3\\xc0\\x1d\\xff\\x00LV]uo\\xa8&\\x971\\xbb\\xc8\\xe1RX,\\xaa\\xba\\xb0\\x10)rxs\\'\\xfbp\\x8f1jn4\\xe2A\\xd5d:\\x95\\x83a\\xb0\\x06\\xf7\\xdb\\xfb\\xdb\\x17O/\\xcd\\x15*$7\\x9bZV\\x97YB\\xb5\\x03\\xec1M\\xb33\\x19b\\x97\\xaa\\x05\\x06T\\xba\\xbdE\\xa7/&\\xa5p\\x88\\x8b\\xe6\\xe9e\\xbb\\\\\\x80H\\xf3\\x95o\\xbe\\xdb\\xe1\\xd7\\xd0|\\xe4&B]\\x06s\\x84H\\x8e52\\x14\\x7f\\x13f\\xff\\x00\\xcf\\xb6\\x19\\x98`hu\\xf3\\x8a\\xafKd\\xcc\\xf6\\x1e\\x89\\xb6\\x92FC\\xb8\\xa1\\xa1\\xde\\x9a\\xf9\\xd0\\xf1\\x10\\xd6\\x9bvUd\\xec8\\x16\\x1c\\xe2=\\xe9%\\r,)$\\x83\\xcd\\xbbb^\\xa1\\x19n;v\\xcd\\xd3m\\xf6\\xc0\\x95M2\\x10\\xb5\\xa5\\xab\\x8b\\xec\\t\\x16\\xdf\\xd3\\x00\\x1dOVm\\x19\\xa4\\xb0J\\xc0\\xac\\rV\\x9e\\x0e\\xca:\\x02\\x93\\xa7r\\x0e\\x00\\xf3\\xae`C,E\\xa70\\xe5\\xa5It8@P\\xd9\\x08\\xe4\\x9f\\xa9\\x1f\\x9e\\x19\\x7f\\xe1\\xe7\\xdc\\x1e#\\xder\\xad\\xc5\\xce\\x10\\x99\\xc2\\x07\\x87\\x98\\xe5IB\\x9c\\xf1\\x94\\x9d6Q\\xb8@\\x1c\\x00;_\\x9c9&\\x80\\xb5\\x8c\\xda\\xf8E\\xdb\\x04i3S\\xc8N\\xc9\\xbf\\x96\\x9e\\xb1\\xe9\\xba\\x81f\\nt6\\xcb\\x8d\\xbc\\xe2\\x8a\\x9bu\\xb0\\xb4+\\x7f\\xde\\x07l\\x0b\\xe6n\\x8b\\xc5\\xad0\\xb9\\xf9M\\xd6!\\xbe\\xab-\\xd8\\x0f\\xac\\xa5\\xbb\\x9et\\x9e\\xc0\\xfa\\x1d\\xb0u\\x97\\xe9\\xf9n\\xba\\x884\\xf6\\xab\\x0f\\xd0\\xab`\\xf9Z\\xab2\\x0cY\\n\\'p\\x87\\xd1\\xb2/\\xb6\\xcbO\\xd7\\x1ess\\x15<\\x9f=\\x96\\xe7\\xc5r4\\xa6\\xc1e\\xf6\\xd6vR\\t\\xd9I\\xb6\\xc4w\\x04b\\xd9+;9\\x86\\xaf;j\\xa0<\\xea\\x93\\xf6\\xf3\\xbcX\\xf1,>G\\x18W\\xf0o#\\xb5sE\\n\\x1e\\xf0w\\x1c\\xd2O\\x03\\x15\\xbe\\xb5\\x95*yFXf\\xb1\\x01\\xd8\\x8f<\\xad\\r)\\xd2T\\x147*P_\\x07\\x9e\\x01\\xbe<\\xb5Um\\x92\\x1c\\xd0\\xf4\\x99*oDx\\xac\\xedtw\\xb9\\xfd\\xd4\\x9b\\x8b\\xe2\\xcf9\\x98b\\xbd\\x06\\x9f\\x1e\\xab\\x1d\\x99\\xd1&\\x80\\xdb\\xcc<\\x80Ro\\xb5\\xf7\\xe3\\x01\\xb5\\xde\\x89P\\xb3\\x0f\\xc5/*\\xcb]-\\xe6\\xd7wa\\x10\\x0bn\\x1d\\x88\\xb2\\x8f\\x9a\\xd6\\x1b\\x0e\\x07\\xa65\\x9c\\x1b\\xa7\\x0c\\xa8\\x06\\xa6\\x13\\x90\\xf1\\x17My\\xee=c\\x15\\xc6\\xff\\x00\\xc3\\xe7Z\\xab\\xd2\\xa6\\xa3\\x81\\xd7\\x85\\x8f\\xe6\\x9d\\xf0\\xa7\\x8d\\x9b\\'\\x07\\x03Q\\xe5xO\\xea\\x01\\x0cS\\x96\\x1aa\\xafu,l\\xa2=\\xb9\\xc5\\xa2\\xe8\\xf4*\\x17\\xdd\\rf\\x9a\\x8c&*\\x95\\xb7TY\\t\\x94Aj>\\x95[V\\x9e\\x14\\xa3\\xcd\\xcf\\x17\\xdb\\xbe\\x14y?\\xa2\\xd3\\xab9w4\\xd5)\\x92\\xe3R\\x9e\\xa0:\\x96V\\xdc\\x88\\xe4\\xb8\\xfa\\xf4\\x05(\\xa5Cd\\xdbn\\xdd\\xf9\\xc1\\x17IiS\\'e\\x89i\\nue\\xb9\\n\\x08i\\n\\x03U\\xed~x\\xf5\\xbf{\\xe2\\x7fL\\x1cf\\x7f\\x08VU\\x85)\\nI\\xb5\\xc5\\xf9\\xee;\\xad\\x15\\x1c\\x113\\xd8|\\xea\\xdaMQ\\x9c\\x14\\x9d\\x89\\xa1\\xa9\\x07{p\\xd6\\x1c\\xb9\\xe3\\xad\\xe9\\xa3\\xcbi\\xaaZ\\x1b\\x91\\'\\xc2\\xf0\\x96\\xc7\\x8a\\x1b\\xb2\\xcf\\x01)\\x03{\\r\\xfd0\\xbf\\x91\\xd5\\xc9\\xb5U\\x86\\xe3%\\x98\\xee-*\\x08\\x96\\xcaH!{\\xdd \\x1e\\xf6\\xef\\x8c\\xbd\\x0c\\xa6\\xd2\\xdd\\xa9\\xe7\\x1c\\xc9\\x99K+\\x99\\x0e\\xa4\\xec\\x18\\xc9|\\x85\\xfc+(H\\xb9\\t\\xecI<\\xdb\\x8007\\xd7Y\\x94\\x86\\xda\\xa7O\\xcb\\x8bk\\xc6}\\xf0u\\xb6\\x9d\\x01`\\x9em\\xb6\\xdbc\\x1aB\\x03d!)\\xd7~\\xff\\x00\\xc4Z\\xba\\xa5\\x94\\x95zD.c\\xad\\xc5\\xad\\x03\\x12\\xb2\\x15\\xf7\\xa3i\\xbcy\\x16\\x05N$\\xf3\\xf2?\\xcb\\x1b\\xbd9\\xe9D\\xdc\\xe4\\x91R\\xaaMU\\x16\\x8f\\xafK\\x0e>\\xd1[\\xb2w\\xb1)O\\xa7\\xcf\\xe7\\x80\\x1at&\\xf3\\x84\\xb8\\xb1\\xa5\\xcbb!q\\x7f\\xb1yM\\xea^\\xab\\x0b$\\xa7\\x8e\\xc3\\x93\\x8b\\x11+\\xa8u\\x19\\x94\\n$XS\\x18\\x84\\xbau\\xa3\\xa8\\xb2\\xc8\\xf3\\x104\\x90\\x9b\\x0e\\xfe\\x9e\\xf8na\\x19\\x05+C\\xbf\\xa7\\x94Yp\\xfc{\\x10\\x91\\x95S2\\xfa\\x13bnG/\\x9aD,_\\xb1^N\\x9bQ\\x94\\xfdc>MuO\\x05)\\x11\\xe3\\xb4\\xdbJB\\x8f%D\\x93\\x7fK\\x0ba}\\x9a~\\xc5\\xf5X\\x95\\x87\\x91\\x95\\xeb\\xad\\xcf\\xa7\\x10\\x14\\x87_j\\xcb\\'\\xb8;\\xdbm\\xb0\\xd5^q\\xaf\\xd3[\\x8f\\xf1\\xa5\\x89\\xaaP%%m\\x84\\xad?K~x\\xc6\\xbc\\xda\\x97\\xf4\\xb9&\\xa1g\\x147\\x08uF\\xdd\\xb7\\xb5\\xac}\\xb1\\xc1=4\\x82\\n\\x1c#\\xd7\\xd0\\x82>\\xf1X\\\\\\x8bn\\xadN;RTj{\\xccJ\\xbd\\xd5\\xaa\\x8c\\x1aS\\x15Vh\\xcbJ\\xdep\\x06\\x99qV\\xd8\\xee\\t\\xda\\xe3\\xf2\\xbe\\'h9\\xd6\\xab\\x98\\xaa4\\x89O\\xc2D\\x07e;\\xe0\\xb8\\x81\\xa8\\'\\xc3Q\\x1ek\\xaa\\xdd\\xc5\\xad\\xeap\\x0f>\\xab2\\x9a\\xb6aF\\x95\\x97\\\\O\\xfa\\xae%\\xe7\\xac\\xe2\\xdc\\xff\\x00\\xa4#\\xb6\\xdb`\\xdb \\xcb\\x91^\\xcd\\x14\\xb4\\xc8\\'\\xc2n\\xce\\x04(\\x0b#H\\xdc\\x0fk\\x9cLHPZm\\xbf\\nA9\\x84\\x1e\\xa9EGc\\xb4:dQ\\x9b\\x92\\xe2\\\\\\x0c\\xa3\\xc4\\xd5pJ\\x06\\xfe\\xf7\\xb60U\\xa0FK\\xa9uC\\\\\\x82\\x8f.\\xb1t\\x828?1\\x89E\\x15\\x85\\xac\\xad\\xb5\\xa1(\\xdc\\x0b\\xee\\xa3\\xdb|\\x0eW\\'j\\x9b\\x14>\\x03-\\xb8\\xb2\\x9b\\xea\\xfc6\\xe3\\xf9\\xe2\\xd1@Mb\\x8e9\\xc4:2\\xbcZ\\xbdArf \\xcc\\x94\\x13`\\xb9CZ\\x80>\\x97\\xe0|\\xb05\\x99*Q:x\\x87a\\xd2P\\xd3uY\\xed\\xa5.8\\x06\\xed\\xb4./~\\xc4\\xef\\x83\\xfa\\xadj6Z\\x8d.|\\xb5!LD\\x8aV\\xaf0:\\xcfa\\x7f}\\xb1W$\\xd6%f:\\xd4\\xca\\xb5U`\\xad\\xc5\\x97\\x15s\\xe5B{\\x0f\\xa0\\xb6\\x03\\xe23B]\\x00\\x0f\\xa9Q~\\xe8\\xae\\x081\\'U2\\xf8\\xfeZ=N\\xc3\\xc3\\xf1\\x1b\\x15\\x99\\xcaSD\\xa9d\\xef\\xf8\\xb5\\\\\\x9f\\xaf|/\\xa5KS\\xb2\\x8a\\x94\\x14v\\xe5\\\\\\x11\\x827\\xa6&\\xa5\\xa8\\xc5p\\xa1\\x90l\\t\\x07\\xccp?WkJB\\x12\\x92\\xe1$\\x0b\\x04\\xdc\\xa8\\x9e\\x00\\x1d\\xc9\\xc5>\\xb9\\xd6I\\xf9\\xe9\\x1b\\xec\\x83Ig\\xb2E\\xe35\\x13-O\\xcd\\xf5\\xf8\\x94\\xaa#a\\xd9/\\xf9\\xbcE\\x1b!\\x96\\xd3\\xf8\\x9cY\\xec\\x91\\xde\\xf8\\x9d\\xcc\\xf9\\xa2\\x1d\\n\\x0b\\xb9G I&\\x8eU\\xff\\x00\\x89Tmg*\\x8e\\x8eN\\xdc4-\\xe5O~pC\\x9aZ\\xff\\x00\\xe9NJ\\x8f\\x95b\\x94\\xa33W\\x98D\\x8c\\xc0\\xfaO\\x99\\x86\\x88\\x05\\x11Ry\\x02\\xdb\\xab\\x8b\\xed\\xd8\\xe1L\\x80\\x10AM\\x92O\\x04l?\\xe0\\xe0\\x97\\xfd*r\\x93\\xdb:\\xf2\\xe5\\xdf\\xc7\\xca\\x13*F*\\xaf\\xe2\\x15vR{\\x03\\xfdD\\x7fY\\xe5_\\xa0\\x7f\\xe5\\xa9\\x14\\xcb\\x1d\\x92\\xca\\x92R,\\x13\\xc0\\xbd\\xae/\\x89\\xbamFE&|y\\xf4\\xe7<7\\xd8PSj\\x02\\xdfC\\xecF\\xd8\\x84\\xd7\\xa4\\xda\\xd6\\x03\\xd8\\x1b\\xe3\"\\x1e\\xd2\\xaby\\x94\\xa3\\xc0I\\xe3\\xdf~\\xf8\\x84\\xd9\\']\\x0c\\x18u\\xbe\\xb4QB\\xa0\\xc5\\xc4\\xc9\\xd9\\xe66l\\xa17&5\\x9b\\x94\\x91i\\x0c\\x93\\xbbk\\xfe\\x98\\x94j:\\x96\\xa2\\xec\\x92\\x95\\\\\\xf6\\x1cb\\xa3Pk\\xf3r\\xfc\\xf1*\\x97(\\xb2\\xf6\\xc1[]+\\xf6U\\xf9\\x18we^\\xb0R*\\x8aLJ\\xd3\\xa2\\x8f8\\x83\\xa7\\xc4\\xff\\x00I\\xcf\\x92\\xbfw\\xe4p\\xc3\\xb2\\xe7\\xeaN\\x91\\x8db\\xdd\\x19~MjrU9\\x90omG\\xeb\\x9f\\x9c3\\xe4\\xcab;\\x0fH\\x90\\xa0\\xd3l\\xa0\\xa9J\\'`\\x00\\xc5M\\xae\\xd4\\xd3W\\xab\\xcd\\x9eA\\x01\\xe7T\\xb6\\xc5\\xff\\x00w\\xb6\\x19=N\\xea+/\\xb4\\xba-\\x19\\xd2\\xe0_\\xff\\x00\\x90\\xf2M\\xd3nt\\x83\\xdf\\xdc\\x8c\\'%?\\xa5\\x1a\\x10\\x06\\xa3\\xb7;~XS-\\x14v\\x95\\xacX\\xfa-\\x859*\\xda\\x9fpP\\xafN\\xef\\xdceB\\x9b[Z^\\x17[\\x8a\\xb5\\x96M\\xad\\xc1\\xc1\\xdc,\\xd5N~\\x90\\xc6Z\\xea\\x1br%\\xd1\\x02t\\xc4\\xa9\\xb3\\xe6\\x93L=\\x8e\\xff\\x00\\xea5\\xea\\x9d\\xed\\xdb\\x0b\\x98\\x8b\\x07\\xc2+ h7\\xda\\xfb\\xfd~x\\x97\\xa9\\x10\\xfcB\\xa4+m?07\\xc3\\x8d,\\xa0\\xf7\\xea\\x0e\\x87\\xf7\\xfd\\xc4Z\\xa7%P\\xf9J\\x17[\\x1a\\x82,A\\xe2\\x0e\\xc7\\xd0\\xe8A\\x16\\x89\\x1c\\xed\\x93\\xea\\x19M\\x14g\\x8c\\x86j\\x94\\x97\\xd3\\xaa\\rN!\\xd6\\xc4\\x84\\xde\\xfb\\x1e\\xca\\x1d\\xc1\\xe3\\x1e(uu\\xc5\\xaf\\xcce\\xc2P%\\x10\\xa4\\\\~\\xf0\\x18\\x90\\xc89\\xba-1\\x122\\xdeno\\xe32\\x85]\\xc2\\x97\\x9a&\\xea\\x88\\xe9\\xb5\\x9fl\\xdb\\xcaG\\x7f\\\\Ag\\x1c\\xbd\\'*f\\xa94\\xd7\\x96\\x1fq\\xb7\\x10\\xb8\\xf2\\x1b\\xe1\\xd4\\x14\\xdd\\x0b\\x1f1m\\xb0\\xf2\\xd2,\\xe3_I=\\xf4\\xe5\\xf8;\\x8eb#2\\\\Z\\xd5%7uP\\x90\\xaaP(T^\\x9b)\\'\\xea\\x1d\\xc4X\\xd0HO\\xa86\\xc1\\xff\\x00\\x13@`;YCnE\\x91\\x1c<\\xb6\\x83\\xe9\\x1f\\xf5\\x04\\x9f=\\x8e\\xe0\\x1b\\xe2?\\xa1\\xcfLS\\xf5y\\x0e\\xb2\\xe1[e\\x0b\\xbf\\x8f\\xe1\\xa5\\xb2\\xab\\xfe$\\xdf{mlk\\xb1 \\xa1\\x0by\\xe4\\x95:U\\xa9V\\x07bN\\xf6\\xf4\\xe3\\x0b\\x8c\\xe0\\xb9\\xbf\\xe2\\x08\\xb4\\xb8\\xd54Q\\xdb\\x98\\xb0\\xef\\xc4:\\xe2\\x90\\x8b^\\xc4y\\x05\\xce\\xe7\\x8bw\\x18\\xb9\\xe1\\x18\\xb3nao\\xc8\\xbe{D\\x0c\\x87\\xb8\\xd4\\x8f\\rDe\\xdd2\\xc0\\xd5,\\xfbX\\xa3\\x02\\xc8$,w\\x8a$\\x8e\\xed<\\xa0\\xef\\xa5if/T:\\x81\\xf7\\x95L3\\x146\\xa5|-\\x85\\x9dR\\x8f\\xe26\\xb9U\\x80\\xb0\\xf9\\x93\\x82\\xce\\xa8G\\xcb#\\xa7\\xef\\xcc\\xa2S\\x9d\\x8f>J\\xd9)u\\xf5)N$_\\x84\\x85\\x1f*~V\\xc2n\\x7f\\xff\\x00if\\xe4\\xd4)J\\x13~\\x1e0\\x0e\\x14\\x8d>8\\xd8([\\x91q\\xc6\\x1a\\x19\\xd2}.\\xb9G\\xa5G\\xa68\\xd8\\x9fQSo\\xcd\\x8f\\xe1\\xe81\\x90\\x94\\x93\\xa1W?\\x8a\\xfb[\\xe7\\x8a\\xf2\\xef\\x91`V\\x80}\\xa2\\xa0\\xd2\\xd2RF\\xf7>p\\xa2\\x9e\\xe2\\xf2\\xcc\\x082!%\\xb5\\xccK\\x8b\\tJ\\xc7\\xe1?\\x87W\\xa1\\xb1$\\xef\\xdf\\xe5\\x86\\x97Be\\xcbM\\x1es\\xce\\xcbdF\\x86\\xa5\\x85%\\xd4\\x02T\\xb2M\\x88\\'\\xf9zag\\x9a\\xa9\\xf3\\x96\"\\x17\\\\S\\x08Yu\\xc3\\xe8PM\\xecO\\xc8\\x7f\\x1c8\\xfa*\\xe45\\xc7\\x93E\\x88\\x1a\\xf8\\xeb\\xeb[\\x8e\\xb1\\xe3\\xa4\\x8d;Y;\\x03qm\\xfdq!\\xd9\\x84\\x06B\\xb5$\\xfc\\xac6\\xda\\n^\\x00\\xd9\"\\r\\x95\\x95d:\\xda\\xa7I\\xa9\\xb2\\xa8\\x12\\xd1\\xad\\xa5\\xa0\\x05\\xa8\\x92;\\xe1~\\xf7O\\xaajy\\xc5G}\\xe5\\xb6\\xa5\\x12\\x92\\x928\\xf7\\xdbc\\xdf\\xeb\\x865ft\\x9aB\\xdbfM.L\\x97\\x94\\x9dMxQ\\x14\\xdbd\\x1e/a\\xa5<w\\xc4x\\x811\\xf4\\xa5\\xd5\\xbc\\xea\\x1eX\\xd4\\xe8mGHY;\\x81k\\xf1\\xb0\\xfab\\x13!\\xc7\\xd5\\xfc\\xab\\xf7\\\\\\xc4\\x97\\xdce\\x91U\\x9bw\\xc4-Q9]\\x99\\xc8W\\x89Ei\\xa4\\xa6\\xcbBi\\xa9[\\xdfWN\\xe3\\x9cu+\\xa92\\xbaqEo5\\xd2\\xd9K\\xf1c\\xcbm\\x87Y\\x90\\x8d:\\x99Y\\x00\\xa9*\\xe4\\x11k\\xfd8\\xc4\\x9a\\xba)UT\\xe7\\x0f\\xc0\\x94\\x92\\xa3\\xa8)\\x04w\\xf7\\xf9\\x9f\\xcf\\x00?jx\\x95,\\xaf\\x93r\\xed\\x01\\xfay\\x8a\\x992\\x83\\xa0\\x94\\xdf\\xc4)I\\x16\\x03\\xbd\\xaf\\xdb\\xd4a\\xf9Eg\\x99m(\\xd6\\xb7\\xee\\x8fL\\xb8\\x952\\xae\\xb3J\\x1fh\\xb79;\\xa84\\xde\\xa0\\xd2\\x15&\\x80\\xe9D\\x86\\x80\\x12#\\xb8<\\xed*\\xd7\\xf9\\x10m\\xb1\\x1bc\\xdc\\xd7T\\xb91\\x14\\xeaR\\xe1\\x0e_\\xcd\\xb8\\xe3\\xbe)/M\\xba\\x81T\\xc9\\xb1X\\xaa\\xc0B\\xbe6\\x03Vu\\xb5[C\\xec\\x95\\x7f\\xa6}}G\\xbe,\\x1e]\\xeb\\x952\\xb4\\xb0\\xaa\\xd4Q\\x01\\xf4ju\\xa2\\x14J\\x1d\\x16\\xe7{\\x1d\\xaev\\x18\\xb8\\xad\\x1c\"\\x94\\xdee\\n\\x01s\\x1b]l\\xcc\\nI\\x8dIl\\x05\\xad\\xf6\\xc3\\xb2l\\x7f\\nRN\\x9d\\xbd\\xce\\x12\\x15\\xb9\\xaaf\\x031\\x9a%\\n\\x94n\\xa5\\x0f\\xddl\\x1e>\\xb86\\xad\\xd5\\xd5\\x98%\\xd5\\xebJ*m\\x12\\xc0C\\x03\\xbaZ\\x00%#\\x7f^~\\xb8X\\xe6iHMU\\xd8\\xe9U\\x846\\xfc\\x1dG\\x83\\x8c\\xfaq\\xf10\\xf1Q\\x15\\x1bG\\xd4}\\x18\\xc3\\x93\\'*\\xd4\\xb5.\\x91U\\x7f\\xfa\\xdf\\xc8\\x90< \\x82\\x8e\\xb1\\xf0cM\\x904\\xdb\\x9f\\xa6\\x0c:iFk0g\\xea+R\\xd0\\x97#E\\x92e\\xbe\\x0f\\x05\\xb6\\x86\\xad\\xfe\\xa0a\\x7f\\x97\\x9d\\xbd?Z\\xb7\\x1c\\xed\\xe9\\xeb|2\\xbaS%,\\xd4\\xb3,\\xb4\\xec\\xb8\\xd4)KI\\xde\\xc2\\xe2\\xdf\\xc6\\xd8a\\x84\\xd5\\xe4\\xf0\\xaf\\xb4I\\xc6s\\xb5+0Q\\xad\\x08\\x07\\x99\\xb7\\xde\\x02\\xf3\\xadI\\xdc\\xdb\\x98+\\xb5\\x97.\\xa7\\x97,\\xaa\\xe6\\xf6\\xd2xM\\xfd\\x00\\x00}0 \\x92B\\xc8\\xb9\\xbf\\x7f\\x9e\\x08h\\x8ex\\xb2\\xeaHX+J\\xe4)<\\xd8s\\xdb\\xf4\\xc4\\x0b\\xe91\\xe4\\xb8\\xc9\\xb6\\xa4\\xa8\\xde\\xea\\xe7\\x9e?<qj\\xab\\x85[\\xc1\\xf9D\\x86\\x13\\xfc:E\\x92\\x05;\\xa9\\x1cJ\\xefm*\\xe0v\\xb1\\x03\\xf4\\xc7Ee#V\\xf7\\xe0y\\xf8\\xf4\\xdb\\x1d\\xa0\\x91\\xb9\\xb5\\xbb\\xda\\xdf\\xdd\\xf6\\xc7z\\x0f\\xee(\\x95\\x109\\x16\\xb0\\xf4\\xc2416\\xd5\\x8e!\\xe2\\xd9\\x1aB\\x96\\x00\\x16 \\x9e\\x7f,l\\xc7\\x90\\x1dQ\\x0e\\x0f5\\xacuo\\x7f|j\\xa9%\\xc0BRB\\x86\\xe2\\xc7q\\xeb\\x8ca:\\x9b\\x00\\x80\\x12\\x91\\xdfo\\xa5\\xb0\\xa0\\xbai\\t)J\\x84I\\xad\\xe5\"\\xc9U\\xd4lt\\x83\\xb0\\x1e\\xe7\\x1a\\xae\\xb8K\\x9a\\xf9\\x1d\\xbb\\x8ccK\\xd6*\\x0e\\x0b\\xa6\\xc0%:\\xb8\\x03\\xf5\\xc7\\x87\\x16\\xbd\\xec\\x91\\x7f]\\xae}v\\xf6\\xc7T\\xa2\\xaa\\x83\\xa4%(\\xa1\\x8c\\xe1a\\xa5\\x02\\xa5\\x00I\\xed\\xc5\\xb1.\\xcb\\xc1\\xf8\\x0e)*\\xb9H\\x1bn\\r\\xf1\\x06\\xa2\\x16\\x9dD\\x0b\\x00H$\\xf1\\xbf\\xf4\\xc6\\xcd9a2\\x14\\x87\\x1c\\xf28\\x9d$\\x11\\x86\\xc8\\xdc\\x0f\\xc46\\xebuMw\\x11\\xe9z\\x84vIN\\xadw$\\x1d\\xc9\\xb7\\xae\\x18U\\x15\\x8c\\xd1\\x91(u\\x85%NN\\xa1\\xba\\x98RV\\xa1\\xba\\x98]\\xcbd\\xfc\\x95\\xb6\\xfb\\xf9\\xb0\\xbd\\x9a>\\x0e9mi\\xbf\\x84\\xda\\x95`}\\xb6\\xc3\\x03\\xa4\\xe8\\xf8\\xf4Vh\\x0e\\x12\\x13R\\xa4,\\xb7\\xea]ljI\\xbf\\xcfF$\\xb4C\\x95ln-\\xdf\\xa8\\xf9\\xce\\x03\\xe2\\x94m\\x84\\xcd\\x0f\\xfe\\xb5W\\xff\\x00\\x13e\\x7f\\xea`1\\xe0\\x13\\x1d\\xf2\\x13m\\xee;~\\x9f\\xcf\\xdf\\x04\\x19+!L\\xea.p\\xcb\\xacR$C\\x892\\x9e\\xb5\\xbe\\xb9R\\x99\\x0f%\\xb6l\\x02\\x8aPO\\x99{\\x8d#\\x8d\\xc9<`6\\\\\\xe0\\xa8\\x0f\\x94\\xa9\\n\\xd9C\\xd4\\x1fO\\xe9\\x86\\x07Fs\\x12r\\xbev\\xa2\\xccu\\xc4\\xa5\\x95\\xb8\\xdcW\\x15\\xea\\x1c!7\\xf4\\xc32\\xc2\\x8f$\\xedQ\\xe5\\xfb\\x88\\xf8\\xec\\xab\\x8f\\xe1/\\xa1\"\\xaa)4\\xef\\xa48k\\xbff\\xcaE7\\xe3\\xb3\\x14\\x89*\\xacK\\x8c\\x92\\xfd\\xa6\\x14\\xb6\\xdd\\x905]`\\x0b+q{l6\\x1bau\\x91:i:|\\x99\\x99\\x8f1!\\x03\\xefdx\\x88l x\\x89\\n7\\xd4ObE\\xb6\\x1c\\x0cZ\\x1c\\xfa\\xd2\\xeb\\xa9\\x8b\\x95b\\xeaO\\xde\\x7f\\xb4\\x9a\\xeaO\\xfaq\\x10\\xa0W\\xefu\\x1b |\\xcf\\xa61\\x9a\\'\\xc2\\xba\\x02[\\xd4\\x84\\x80\\x12R\\x82\\x12\\x07\\xa0\\xc1i\\xa90\\xc7\\xf2\\xd3Zo\\xbf\\xbc|\\xd7)0MK\\x86\\xf1Z\\xb3wA\\xdd\\xaf\\xb4\\xda \\xab\\xc0J\\x92\\xb0V\\xa4\\xec\\x80E\\x85\\xbd\\xf6\\xc1\\xefN\\xf2dn\\x8ce\\x19Sj\\tC\\xd2XmN\\xbd%\\xa1e(\\x01{\\x12{\\xf00\\xe5j\\x0b\\xcf\\x90\\x96\\xda \\x0eul\\x06\\x17\\xddL\\x8e\\xa9y\\x93\"\\xe5\\x06\\xd6\\x95}\\xf3U\\x0f\\xcbm\\'\\x7f\\x85\\x8f\\xfbU\\x83\\xec\\xad6\\xfa\\x1cEj]\\xc5\\x10\\x94\\xd4\\x8fJ\\xc4\\xa5L!j\\xedk\\xf6\\x86\\xc5\\x112eQ\"\\xaa\\xb6\\xca\\x13.K!\\xc9,Z\\xe9l\\xa8\\\\\\xa2\\xc7\\xd2\\xf6\\xf7\\xb1\\xc2\\xcf2t\\x12\\x15Z\\xa8\\xb9TZ\\x9b\\x94x\\xeb\\x171\\x90\\xc7\\x88\\x90\\xab\\x9b\\x90n,=\\xb0k\\x9c\\xe7T\\xd6\\x88t\\xda\\x04\\x8f\\x82\\x939\\xdd\\x0b\\x90\\x94\\x85)\\xb6\\xc7\\xe2)\\xbd\\xc0>\\xf68\\x16\\x9d\\x90j\\x13\\xa58\\xf7\\xf8\\x872nl\\x03s\\xd7\\xa4[\\xd3q\\x8bWX\\x96\\xbf\\xcb\\x06\\xa2\\xd5\\x164\\x8a\\xe9GYs\\x08\\xee\\x9d}\\xba\\xa8\\x92)\\xea\\x83\\xd5\\xea\\x1c\\xfa]z\\x18\\xd3\\xf10!)\\xe6%(m\\xb2?\\x13K\\'\\xf7M\\xd3\\xfe\\xe1\\xc6\\x17YK\\xaa4\\xde\\xa1u\\x96WU\\xba\\xd35\\xac\\xbd\\x92hM\\xbd\\x12\\x93\\x06jK\\xbe3\\xee\\x02\\x84\\xb4\\xdbI\\x04\\xb8P\\x82\\xa5\\xa9I\\x06\\xcbP\\xf9\\xe1C\\xd5\\x15}\\xe3\\x94\\xf2\\xceu\\xa7\\xb4\\xdb\\xb2\\x12\\x87 \\xd5\\x94\\x86\\x82uHl]+6\\xe3Rt\\x9f|of\\xea\\x12cU\\xb2\\xed$\"\\xed\\xd2(1\\x17\\xa0\\x1b\\x80\\xe3\\xa8\\x0bp\\x9e\\xc1EJ&\\xfd\\xf6\\xf9`\\xaa\\\\\\xad\\xb2\\x81]|!\\x92\\x9bP\\x1bk\\xfa\\x82\\xda\\x8c\\xae\\x9c\\xd4$f\\t\\x99S9\"E\\x17W\\x8a\\x10\\x9a\\x1c\\xc2\\xe2[\\xd4N\\x9b\\x16\\xd2/~\\xd7\\xef\\xbe\\xd8\\xee\\x1cjl\\xe4\\xd0\\x18\\xcb\\x89\\x96\\xec\\x12\\x92\\xeb2f\\xf9]w^\\xe7\\xf6b\\xe1\\x00[arq\\x0bL\\xa64\\xc55\\xf6\\x98l\\xa7\\xc4IA\\xd09\\xb8?\\xdd\\xb6\\xc1nG\\xa7\\x965\\x9b~\\xce\\x1b)i\\xae\\xc0\\x927\\xdb\\xb6\\x03b\\xb3\\x1dC9RMO\\xb4h}\\n\\xc3?\\x8a\\x9c\\\\\\xea\\xc0\\xc8\\xd5\\xfb\\xd4~\\x9f-| \\xadh\\xff\\x00B+ %\\xa6\\xddm\\n#\\xfd\\xbec\\x7f\\xc8aI\\x98%\\xa9UJ\\x92\\xec\\xa4x\\xaf\\x13\\xc7\\xbf\\xe9\\xf3\\xc3j\\x9c\\xb4\\xfc\\x13\\xb2\\xd4|\\xed\\x85\\xadW\\xf5\"\\xdf\\xcb\\n\\x00\\xd0\\x9a\\xe4\\xdb\\xf9\\x8e\\x92\\xbb\\xdf\\x93}\\xb7\\xc51\\xbc\\xd9\\xa3\\xe8,$QN\\x13\\xb5\\x07\\x8f\\xc1\\x04\\xd4e\\x16\\xa9q\\x91\\x7f2\\xaeo\\xeb\\x867M\\x0f\\x9b<\\x85\\x05\\'\\xc3\\xcbj\\xbd\\xcd\\x87\\x99\\xd00\\xbc\\x87`\\xdc}\\x1e\\x1a\\xac\\xd8\\xdb\\x93\\x83\\xde\\x8f$NOR\\x16\\x91\\xb3y\\x7fH\\x1a\\xaf\\xbf\\x8d\\x7f\\xe5\\x87\\xe5RT\\xf7;\\xfb\\x18\\x1f\\x8d\\xff\\x00\\xd1\\xba\\xb3\\xc5>\\xabL\\x01\\xd0\\xd4\\x96\\xeas\\xd5m\\xcc\\xd3\\xdb\\xdc\\xe3\\rD\\x13U\\x94\\x14\\x9b\\xfe\\xd1;\\x01\\xdf|{\\xa4)j\\xabH$\\xd8*r\\x80\\x07\\x9b\\xef\\xfd1\\xedHS\\xf5\\x87J\\x94tx\\xcaY:\\xb8\\x03m\\xfd1\\x18\\xfdT\\xe3\\x06Oe\\xe2\\xaf\\xfbDb\\x93\\xe1\\xc5`)J\\tR\\xbdv\\xb7\\xd7\\x1aimd\\x05\\x14\\xd8\\xea6;\\xf7\\xff\\x00\\xbe3\\xba\\xa1P\\x9ao\\xbb,~\\x10\\x13\\xabQ\\xbd\\xb6\\xb7=\\x80\\xf9\\xe0\\xed\\xee\\x98\\xe6\\xcanZ\\x91\\x98\\xea\\x94)\\x14\\xfaC\\rkqRV\\x84,$\\xd8_\\xc2\\'_$r\\x01\\xc2\\xdbC\\x8b\\x1d\\x84\\xd7}>z\\xc3\\x13\\x13\\xd2\\xf2!!\\xf5\\x84\\xa9ZT\\x81Rv\\x1c`\\x05\\xd6\\xd4\\xe5\\x99\\xb8$\\xed\\xf3?<yCa+Jv\\x02\\xc7{\\xe2\\xc9C\\xfb8RY\\xaae\\x9f\\xbd\\xab\\xd3*pk\\x08p,\\xb0\\xc2#\\x10\\xb0\\xd7\\x8a\\x8d\\'\\xccBJR\\xbb\\xf2x\\xdf\\x9c{\\x9b\\xd1\\x8c\\x9d\\x0f$\\xf5\\x05\\xf8\\xd4\\xf7\\x9d\\xa9\\xd0%?\\xe1\\xc8rs\\xba\\xc3-\\xb6\\xdb\\xdal\\x08H\\xba\\x14\\xa1p\\x9b\\xf7\\xbd\\xf0e\\x18D\\xd9\\xb9\\xa0\\x1c\\t\\xfcV(\\xcf\\x7f\\x888Kg#iZ\\xfb\\x80\\x03\\x87\\xf5\\x10}\"\\xb4\\xa9\\x9f>\\x91mF\\xe4v\\xb0\\xf9c\\x1a\\xd2\\xa4)\\x1a\\x8f\\x98\\x0b\\x9d\\xf8\\xff\\x00\\x8c\\\\\\xc9\\xbd\\x17\\xe9l\\x83H\\xa65Hz\\x0c\\xda\\xcb\\x0e;\\t\\xe6\\xa5\\xbe\\xe1\\xf2!*Q%J);(lF\\xfb\\xe0\\x07/}\\x9dhUJ]bNf\\xcc\\xb2!9O\\xa9\\xbd\\x04.9m\\r7\\xa1zR\\xa5\\xeb\\x06\\xe5Z\\x92m{\\r@c\\x8b\\xc2&\\x82\\x80\\xa0=\\xc7\\xf3Hr_\\xfcA\\xc2\\x1cl\\xad\\xc0\\xa4\\xd2\\x96\"\\xa4\\xd7qBl7\\xfb\\xc5o\\x17A\\x07{+\\xf8\\x7fg\\x19[HL\\x86\\x8a\\xc6\\x9d\\xed\\xc5\\x8d\\xbd\\xce\\x1b\\xcf\\xfd\\x9d3\\\\\\xac\\xd9V\\xa1\\xd1\\x95\\r\\xc8\\xf4\\xe0\\xda\\xcc\\xf9N\\xa9\\xa48\\x95\\x82P\\x00\\tQ*\\xb2w\\x00Xm\\xbe\\xe3\\x02\\x19\\xdf\\xa7\\xb5\\xec\\x8d&4,\\xcc\\xc0nK\\xcd\\x95\\xc7q\\x95\\xf8\\x89u\\x00\\xd8\\xd9@v\\xef}\\xc5\\xc7\\xb6\\x06\\xbf.\\xfbc2\\xd0G\\x87\\xde-\\x12\\xdd!\\xc2\\xa7\\\\KL\\xbe\\x92\\xa5\\n\\xd2\\xb7\\xd2\\xbe|F\\xa3x\\x18\\xaf;\\xfeQ\\xd2W}v@W\\xa0$_\\x8e~\\xb82\\xe9\\x9c\\xb1\\x07:Q\\\\PR\\x00wA\\x00\\xf0\\x92\\x8b\\x9f\\x9d\\xcap\\tWR\\x97\\x19\\xbb\\xa6\\xe7\\xc5H$\\xab\\xdb\\x9c\\x14\\xe57S\\x130@|\\xdd!\\xa9I&\\xfd\\xbc\\xa4v\\xfexi\\x95\\x04-&\\xbb\\xd6%\\xcf\\xb4\\x17 \\xb6\\xf8\\x85{@|\\xf6P\\xa9\\xcf\\xc6h\\x10\\x0c\\xa7\\xb6\\xbe\\xd6J\\xd4\\x00\\xfe\\x18\\x99\\x99\\xa9\\x8aD\\x95\"\\xe2C\\x1e\\x08B\\x87ek\\xd5\\xc7\\xd3\\x11T\\xc5|}B|\\xe3`\\x95\\xc8qH\\xb7\\x98\\x0f1?\\xcf\\xf8czz\\xafA\\x92t\\xa5^4\\xb6\\xc0W\\xe6q\\xc5\\x0e\\xd0\\x114\\x9c\\xddZN\\xd4\\xfbCf\\x07\\xda\\x130\\xd0\\xba\\x91\\n\\xa0\\x8c\\xb934\\xc5\\xacR\\xa3\\xc3\\x10\\xa16\\xb5\\xc8\\x05\\xbdD\\xa9\\xab$\\x82nTT\\x93a\\xde\\xe3\\x0e\\x15}\\xa9\\xf2\\r9\\xe5D\\xcd\\x8cf\\x1c\\xabSJB\\x95\\x06\\xa7D}.\\xfd4%A_C\\xc6\\x02\\xfe\\xccY\\xad1)\\xb3\\xe1Ny)f3\\xba\\x99J\\x9b\\xba\\xc6\\xbely\\xb6\\x1f\\x19\\xbb\\'\\xe5,\\xff\\x00H#7\\xd1\\xe1U\\x18B\\x14\\x1bu\\xf6\\x02\\x9cj\\xfc\\x94(\\x8b\\xa4\\xfc\\xb1m\\x97}O2\\x14\\xa0\\x0f}}\\xea}\\xbc\\xa3\\xe6\\x0e\\x93\\xca1!\\x8b\\xb8\\xc0o*E4;x\\xc2\\x1b2\\xfd\\xb3\\xe8\\xe1.5\\x91(2\\xe7\\xb9c\\xa6]L\\x88\\xed\\'\\xdc6\\x9b\\xadC\\xd8\\xe9\\xc07Fs~a\\xeaO\\xda*\\x99V\\xaf\\xd4L\\xe9\\x10(\\xf3\\x9e!\\xb4\\x046\\xd2\\x08KiJS\\xfb\\xa2\\xeb\\x1c\\xde\\xe4\\xefr/\\x89N\\xaf\\xfd\\x91\\xd8\\xa3\\xd0Y\\xa9\\xf4\\x9d\\x15:\\x8c\\xa6\\xd6<x\\x0f>\\x1d[\\xa8#\\xf1!F\\xd6\\xb7\\xa6$>\\xc7y\\x06\\xad@\\x99\\x9c3\\x1ej\\xa7=Gq\\x05\\xbacm\\xccImhm\\xbb\\xba\\xe1\\xb1\\xecT\\xa4\\xef\\xfe\\xdcI\\x0e\\x83\\xd9\\xd0\\xf0\\xd3\\xc7z\\xf7\\xfbD\\x0e\\xb2I\\xb9E\\xf5#\\xb4m}~wE\\x95y\\xb6\\xe4f\\xe6\\x01 \\xfc\\x1cBm~\\n\\xbb\\xff\\x00~\\xb8\\x9e\\x8e\\x1cK@6\\xdba\\x1d\\xb4.\\xe0\\xfb\\xf1\\x88\\x1c\\xa2\\xa3Q\\x8f2\\xb0\\xef\\x98\\xcf}Jj\\xe3\\xff\\x00(\\x1d)\\xfd\\x06\\'~\\r\\x81\\xf8[\\xd1\\xec\\x83\\xa4~C\\x08E~\\xae?8\\x18\\x00x\\x18\\xa0J\\xfb2\\xe6\\xd8\\x19c3\\xd1\\xdd]>m>\\xadN\\\\\\xa4|+\\xaa\",\\xa6\\xb7JE\\xc0\\xd5pT6\\x1c\\x01\\x82\\xbao@\\'g\\xd6\\xe2\\xe6TW\\xe0\\xd3\\xe2\\xd5b1f\\x15\\x1dn-\\xb4\\x86R\\x9b\\x12,/q\\xc6,\\xb3+\\x11\\xdf\\x1a\\x7f\\x0e\\xadi\\xda\\xfb\\x8e\\x7f1\\x88\\xda34\\xeatz\\x95\\x0e\\x98\\xbb\\x08Ww@;\\xb7\\xa8\\xebJG\\xe7\\x8e\\x97\\x1d\\x06\\xa0\\xc3\\xc9BH\\xa7\\xcf\\x95\\x8a\\xe1\\xd4.\\x8f\\xc4\\xe9\\xc51\\x12\\xa4\\xe6\\x13Q\\x96\\xf2\\xf4\\xa1\\x84C\\xf0\\xc1\\x017*;\\x9e6\\xfc\\xf0\\x08\\xf3\\xea\\xa4\\xd0)\\xae \\x10\\xe4\\xa9%\\xd5\\x83\\xb5\\xf8\\xb6\\r\\xfa\\xcf\\x99\\xd7\\x99\\xf3\\x1c\\xbf\\t\\xedlEH\\x8a\\xce\\x93\\xb6\\xbd\\xb5\\x1f\\xce\\xff\\x00\\x96\\x003\\xc8K\\x1fuCm:Cl$\\x81\\xff\\x00\\x18\\xabN:\\xa7\\x9e\\xa95\\xda>\\x95\\xe8\\x8e\\x160\\xfc=\\x96\\x14.\\xb2V\\xaf+}\\xbcbvD\\xf7QM\\x94\\xc3\\x01\\x05\\x0e\\xa4\\xa8\\x91\\xc9\\x04ol\\x02Q\\xf4\\xf8\\xf3\\x8a\\x80V\\x94\\x81n\\x05\\x86\\x0bYw]2AX\\xb1J-c\\xf2\\xef\\x80\\xeaS\\x82\\xf3\\xd5\\xbf\\x1c\\x0e;\\xe0z\\x05\\xcf\\xcf\\xbc\\\\\\xa5\\x10\\x12\\x85\\xa4\\r\\xc4L5Se15\\xba\\x92HH%AW\\xb1\\xf4\\xf5\\xb6\\x19\\x1fg\\xe2\\xb9+\\xcf\\xac\\x10\\xab\\xca\\xcb\\xee[P\\xfcV%XL@q\\xd9\\xe4BCE\\xc4\\xa1eJ\\xb1\\xfc@p>\\x98\\xb0\\x9d\\r-3\\x9b\\x18\\x8a\\xd8\\xd3\\xf1\\xf0_\\x8a\\xbd\\xee\\tZv\\x16\\xf6\\xc4\\xc9`\\x12\\xfaG\\x1by\\x88\\x11\\xd2L\\xadaO\\x04\\x8a\\x92+\\xfe\\xd2\\x0f\\xda\\x15T\\xa4\\xe8\\xab:\\noi\\x85{\\xfao\\x89\\xce\\x9bd\\xc9\\x9dF\\xcc\\x8f\\xd2\\xa9\\xb3\\x98\\xa7\\xb8\\xfaV\\xa5Hy*V\\x86\\xc1\\xba\\x8aR?\\x12\\xb7\\xd97H\\xe6\\xe4[\\x11\\xf1\\xe1*-VR\\xd6\\x14\\x0bN9\\xc8\\xb1\\xb8I\\x16\\xfc\\xfb`\\xa7\\xa0u\\x0f\\xbb\\xfa\\x8f\\x96\\x90\\x85\\x10\\xe3\\xf2\\xddeb\\xe7p[\\'\\xff\\x00\\xf3\\x8fJ!+\\x98BW\\xa1 y\\xfc\\xe5\\x08\\xc5f\\x1dg\\x0e\\x98~\\\\\\xd1IEA\\xd7@N\\x9e\\x10\\xca\\xcd\\xfd\\x15\\xca\\x19/\\'K\\xade\\x1a\\x94\\xa9\\xd5\\xca\\x05B*f\\xbe\\xa9\\x81\\xcdK/3\\xad\\x0bBl\\x94))XP\\x00\\x026\\xbd\\xf0\\xfb\\xce\\xb0\\x1b\\xcd\\x94l\\xc9\\x95.\\x90\\xfc\\xea:\\xf4\\x03\\xea\\xe0Z\\x01\\xfa)#\\xf3\\xc2\\xd6\\xa3LK\\xf0z\\xe9GB?\\xfe\\xdbS\\xd2\\x12;\\xae\\x1b+\\xbf\\xff\\x00&\\xc9\\xc3I(\\xa5\\xb5\\x99i\\xd5)\\x15\\x14\\xb3S\\x9dO\\xf8X\\xf1V\\xf2S\\xe3\\xa1\\'\\xc4*JO\\x98\\x91~F\\xc0\\x1ch\\x08\\x96e\\xa0B\\x13@xG\\xccS\\xb8\\x94\\xdc\\xe0mo\\xb8V\\xa4\\x92A&\\xa6\\xf9O\\x94/\\xb2\\x15U\\xdc\\xc1\\xd2\\x9e\\x96U\\xc8&DI\\x10\\xda\\x91\\xea\\x95\\x84\\xae+\\x80\\xfay\\x94v\\xc4K3|ZW\\xda\\x1dd\\xeaC\\x0e\\xc9H\\t\\xdc\\xf9i\\xc9\\xbf\\xd6\\xe3\\x13]80\\xa8q\\xb3\\xd6_\\xab\\xc8b\\x9b\\x0e\\x85\\x9a\\x1d\\x92\\xd2\\x9eu(CL<\\xb4Kou\\x10\\x00\\xf3\\x9c\\'\\x9d\\xea\\x96Z\\xa5\\xd3\\xba\\xdfMv\\xa2\\xa7\\xea9\\x8e\\\\\\xc4R\\x9b\\x8f\\x15\\xc7\\xd1!*d\\xb6\\x95\\x07P\\x92\\x80.{\\xa8Xc\\xae9\\x91#7\\xc3H\\x91+(\\xec\\xeb\\xce\\xf5\\x08*5\\x06\\x80\\x13b\\xa0v\\xe5\\r\\xc8\\x8f\\xad\\x85\\xf4/\\xe2\\x15\\xa9\\xf7\\x1aq\\xb5\\x13\\xca\\xafM]\\xff\\x00P?L\\n\\xcf\\xeaNT\\xa2\\xf5\\x0f\\xa9\\x1d>\\xcf\\xb5\\x86(\\x14\\xda\\xbc\\x86\\x9f\\x8b9RC>\\x1b\\xce\\xc6d):\\x94\\nP\\xab\\x80\\xb4\\xa8\\xed{\\x8f@s5\\xd6\\x8e\\x91\\xccc(M\\xaaUj\\x9fye\\xb6\\xb5Dm\\x14\\xb9\\xa9\\xd2\\xe9g\\xc2PP\\r\\xe9V\\xd7\\x02\\xe6\\xde\\xf8\\x1f\\xc9\\xfdC\\xca\\xd9\\xcc\\xf56\\x91\\x9dj,\\xe5t\\xe7U\\x15\\xc6vS\\xa8\\t\\x0c\\xaa:c\\x84\\xeb_\\x93\\xc4H@U\\xb8\\xf3m\\xc5\\xf0\\x9e\\xbd\\xb2\\xb0\\x90\\xa0I\\xe7\\xad\\xa1\\xf1\\x85O\\x06\\xddur\\xcb\\xca\\x91rA\\x14%u\\x04T^\\x83[yCC#\\xd2k\\xb4,\\xff\\x00\\x9ai9\\x86\\xbd30\\xc6\\xaa\\xd2\\xe2\\xca\\xa6T_KM\\xb9\\xa1\\xbdm\\xad\\'\\xc2B\\x13\\xa8\\x17\\x1b:\\x80\\x17\\xb8?(\\xcc\\x99[\\x9fP\\xa6tQ\\xda\\x84\\x97d\\xcf\\x94\\xd4\\xa4Ly\\xd5\\xeb[\\xba\"8\\x15\\xa8\\x9d\\xc9+JI>\\xa3\\x1e\\xe9Y\\xda\\x85;\\xadYr\\x87\\x97\\xea\\xf1\\xeaB\\x16[\\x93\\x15\\xc7YXR\\x1dYS\\x0bJR\\xa1\\xe5R\\x82Z*6&\\xd7\\xb77\\xc7\\x8c\\x9fE\\x97G\\xae\\xf4\\xba\\x8dWe1\\xea4\\xdaebS\\xcc\\xeaJ\\xfc0\\xa7\\x1aBH \\x91\\xc3\\xbd\\xb0\\xf0P\\x16\\xac\\x07y\\xa5\\xa0\\xd5\\xd4\\xd0\\x90\\x0e\\x94\\xb5\\x08\\xad9\\xd2\\xb0\\x82\\xeb\\xdeN\\x81\\x95\\xaa\\xcd\\xb9\\x01\\xa5\\xb2\\xa9\\xd5\\x99\\x85\\xd4\\xf8\\x84\\xa6\\xc0\\xa1\\xc4\\x04\\x83\\xc0\\tv\\xd6\\x1b\\x0c\\x01&J\\xe2\\xc3~Cj:\\xd0\\xe2\\xacE\\xaf\\xb068o}\\xa3\\xa5\\xa2\\xa1\\x972\\rQ\\'Q\\x9e\\xb7\\x9f]\\x8f6m\\xb4\\xdf\\xff\\x00\\xd4a.\\xfa\\x93\\xf7\\\\\\xb5\\x14\\xd9EJ\\xb5\\xc1\\xb9:O\\x18\\xa3bM!\\xa9\\x95\\x04\\n\\n\\x8fa\\x1fI\\xf4I\\xe7&\\xb0)r\\xe9\\xa9\\xa9\\x17\\xe4\\xaa{Z5\\xa8\\xcaL\\x1a(qcR\\x88\\xd4H\\xefq\\x7f\\xae;\\xa8\\x07\\x13Om\\x04\\xf9<@\\xb1\\xb7\\x06\\xdb\\xff\\x00\\x7f<k\\x0f\\xda*\\x14\\x14\\x0f\\xd9\\xb4\\xd8y\\xf26\\xbd\\xc6\\xc0\\xf6\\xdf\\x135\\x96R)\\x11]E\\x92\\x10lTy\\xdc\\xec\\x7fL\\x0bVP\\xaa\\xf1\\x8b\\x85B\\x1cO3\\xfd\\xa3g.f\\x9a\\x9eR\\x89X\\x9dCm\\x97\\xe5&\\x1e\\xa4\\xb6\\xea\\xec\\x82PnnG\\x1b_\\x0e^\\x92}\\xa3\\xa3\\xf5\\x16\\x88iy\\x8e\\xa1\\x07(V\\x19\\x1a\\x04\\to!\\x08}\\'\\xff\\x00;\\xc6U\\x86\\x91\\xc6\\x91\\xbd\\xf9\\xc2:\\x87\\x17\\xe3]r:\\xd0?\\xcc\\xb0\\xf3\\x04v\\xdd;_\\t\\xd9\\x94F\\xddK\\xcdI*Ad\\xde\\xda\\x01:\\x89\\xec??\\xa0\\xe7\\x16\\x1c)\\xd4\\xa9*mQ\\x8f\\xf4\\xef\\x08L\\xc4\\xca&ScJ\\x1f\\xb7\\xde>\\xa7Rs\\x8d\\x16\\x0cV\\xda\\xa6\\xd4W\\x98\\x16@\\xf1$0\\xf0q\\x17\\xe0\\r\\\\[\\xd8`\\x99R\\xe9\\xd5\\x9aS\\xa8\\xa9\\x06\\xbe\\x1d\\xe4\\x94\\xbc\\xca\\xd7\\xdb\\xd0\\xf7\\xc7\\xc9\\xdc\\x9f[\\xce\\x19Z\\xb1L\\x8b\\x95\\xeb\\xef\\x96gNj3P\\xdeqJhjP\\x01ZO\\x95&\\xfbma\\xf9b\\xdd\\xb43vX\\x92_\\xcd\\xb1&\\xf8\\xe3\\xca\\xa7\\xb5x\\xac\\x91\\xecS{|\\xb0qe\\xb4\\x0c\\xa4\\xdb\\x81\\x8c]\\xd9g\\x19VU\\x08\\xb5\\xb4\\xe5\\xd3#\\xc3j51\\xc6[\\x8e\\xd2l\\xda\\x12\\xad\\x92\\x060L\\xafC\\x8a\\xf7\\x86\\xeb\\xa8*\\xb5\\xff\\x00\\x15\\xb1[)\\xfdQiOZ\\x1b\\xc1\\xd5\\x0eR\\xdb\\x84\\x91\\xdf\\x8f\\x96\\x00\\xf3\\xc7\\xda&SU\\xc2\\xd6^i\\xb7\\xa2\\xb6\\xcaR\\xa5\\xf8e@\\xaf}V?\\xa7\\xd3\\x1e\\x08R\\x87g\\xd2#P\\'\\xea\\x8b4dl\\x9b\\xdc\\x94\\x9d\\x89\\xc0\\x8ep\\xa9C\\xcb\\x14\\x9a\\xc5i\\xb7T\\x9a\\x8c\\x86\\xd0\\x90\\x85\\x1d\\x8d\\x85\\x93o~\\xe7\\xe41$\\xfdD\\xb4\\x8b\\xaf`.H\"\\xfba7\\xd4i\\x13\\xf35U1\\xa9,=.<\\x14\\xf8\\x92\\x10\\xd2uZ\\xfd\\xc8\\x1b\\xf1n=p*q\\xe0\\xd3y\\x8e\\xf1o\\xe8\\xde\\x1c\\'\\xe7\\xd2\\x1c4Bn\\xaa\\xf0\\xe1\\xe3\\xa4-\\x19\\x8b\\xf1\\xb5xQ]\\x05A\\xa4\\x87\\xddQ\\xdfs\\xc5\\xfe\\xb8\\x88\\xea\\x19?}\\xb6\\x15{\\x06\\xc5\\x85\\xad\\xdf\\x06\\x94\\xb8\\x0e\\xc7\\xacOrSn6\\xbd\\x08H\\x0e6S\\xb7\\xc8\\xef\\x81\\x1e\\xa3\\xc7\\xd19\\x87\\x82n\\n\\x08\\xdbk\\xef\\x8a\\xaaUU\\x01\\xac}%$\\xf2L\\xea@\\xd0\\'\\xdcV01\\'\\xc3\\xcb\\xb2\\xde6\\xbb\\x8b\\xd2\\x91{\\xef\\xe9\\x81F\\xa5)1\\xa5!\\xa2\\x03\\x8eo\\xaa\\xc6\\xf6\\xef\\xfa\\\\\\xfd1#6Hr\\x97N\\x86\\xdd\\xbc\\xd7Z\\x80\\xf78\\x1e\\x9fUj\\x94_J\\xc3\\x97q\\x1a\\x13\\xe1\\x8fm\\xf9\\xed\\xb9\\xc4\\x96\\xdb\\xccl \\xaa\\xd4\\x89f\\xd4\\xe2\\xcd\\x05\\x7fB\\x0e\\xba{MJV\\xe3\\xca\\x1a\\xd2S\\xb7\\xf3\\xfa\\xe1\\x95\\x92\\'\\n&b\\xa3LZ\\xb4%\\xba\\x9a8\\xe4$\\xf9y\\xfa\\xfe\\xb8Tt\\xdf0\\x82\\xc6\\x89\\r\\x96\\xb5\\xac$\\x05\\r\\xc18<\\xa9L\\xf8E4\\xdc\\x7f\\xf5[q.\\xa4\\x83a\\xa8\\x10\\x7f\\x96\\x1b%M\\xbc\\t\\xd8\\xc5vy\\x1f\\xc6U\\x03\\xe9Zm\\xddO\\xdcJ\\xe7Zb\\xa9\\xb9\\xd33GI)m\\xb7\\xdd)\\xf4\\xb17O\\xe8\\xac\\x0ct\\xa2P\\xa7\\xf5W\\'\\x05\\xa4\\xa4\\xa2\\xaa\\x84\\x90w\\xfcaH\\xfexjun\\x18\\xff\\x00\\x127Pf\\xcab\\xadKbHP\\xe0\\xa8\\xa0$\\x9f\\xcd?\\xae+\\xe2\\xc3\\xc2\\xb4\\xc1i\\xc7\\x18y\\x0fY\\xb7YyM\\xa9$wJ\\x81\\x04\\x11\\xea1 \\x7f\\xcb\\xcd\\xd7\\x82\\xab\\xe4b&\\x18\\x0e)\\x83\\xa9\\xa2n\\xb6\\xe9\\xdcJr\\x9fZ\\xc5\\xe7\\xea$\\xaa_N\\x98\\xcf\\xb9\\x82]I\\xb9\\x15\\x0c\\xc7Om\\x98\\x94\\x95iJ\\xdcq\\xb6\\x94\\xdaJE\\xf5(\\x1dB\\xe6\\xc0$\\x0c\"\\xb3GU\\xeb\\x19\\xa5\\xdc\\xa3.\\x9c\\xc1\\xca\\xb5\\n;\\x0ba\\xa7\\xdb}\\x12\\x1eQRP\\x14wF\\x80\\x9b#\\x8b\\x1eO\\xcb\\x01\\x0bt\\xbc\\xf2\\xe5Iq\\xd9r^\\xdd\\xc7\\xa5<\\xa7\\x9dQ\\xff\\x00r\\xd4J\\x95\\xf58\\xc4\\xc2\\\\z\\xa0\\xd2\\xdc \\xa1\\xb6H\\x16\\xda\\xc4\\xe0\\x8c\\xde4\\xe3\\x83\\xabde\\x07}\\xf5\\xf9\\xf9\\x8a\\x96\\x0f\\xd1\\tI\\n;2z\\xc5\\x80u\\xfa~\\x9aS.\\xfe:\\xf0\\x88l\\xc2\\x95Wk\\xd2\\xaaU\\xf7\\x15T\\xa8\\xa9_\\xb7\\x97,\\x05\\xba\\xb4\\x81a\\xbd\\xb6\\x02\\xc0\\x00,\\x00\\xda\\xc3\\x18b0]F\\xa2|\\xe7\\xf1[\\xb7\\xd7\\x1b\\xb5\\x87P\\xb9ox<%!$\\x8d\\xee~x\\xee\\x9e\\xd5\\xd9Q*\\xdc\\x8e;[\\xb6\\x018\\xf3\\x8e\\xf6\\xd6I\\xef\\x8d\\x1d\\x94\\xa1\\x89t\\xa5\\xb4\\x84\\x8bX\\nz\\x08\\x8a\\x90\\xd9Kj[Z\\xc6\\x80I\\xf7\\x17\\xc6\\xedV\\xc02Ue\\xb6\\x1bI)X\\xb8P\\'\\x8bc\\x1aP^b@\\xbe\\xa5\\x12@\\x03\\xf8~\\x98\\xc7%\\xd0\\xef\\xc3*\\xe2\\xc5\\x9d;\\x9fO\\xf9\\xc2\\x00\\x00q\\x89u\\xcc\\xa1\\xca\\xb1\\x92#*\\xa6\\xcb\\x8d.\\x93&U:\\\\e\\x97#\\xc9\\x86\\xb2\\xd3\\x8c\\xecG\\x95C\\x8d\\x89\\x04[pm\\x83\\x8c\\xa7\\xd6:\\xeeR\\xce\\xb23=}\\x12s|\\x89\\x14\\xcf\\xbb\\xc2\\xa4LK.4\\x9dz\\x81M\\x91\\xa0\\xee\\x0f\\x94\\x04\\xde\\xf7\\xe7\\x90\\x87\\x8a\\xbc\\x05\\x04\\xd8\\x90,\\x14o\\xdb\\x18\\xcb\\x9f\\xb2ie:\\xbc\\xc0\\xdc\\xdbk\\x1b\\xff\\x00\\x7fLJ\\x97\\x99\\x98`\\x8c\\x8a\\xb7\\r\\x8c\\n\\x9d\\xc2d\\xb14(L\\xb6\\x15Q\\x96\\xba*\\x95\\xad\\x8e\\xa2\\x0c:\\x87\\x99\\xa9\\xd5\\xec\\xb1\\xd3:-6\\xa0\\xd5E\\xeaU!\\xc4\\xd4T\\xca\\x8f\\xec\\x9fV\\x90[ \\xd8\\x85\\x0b\\x1eG\\x16>\\xf8\\x0c\\x9a\\x03\\x14\\x8f2@\\xd6\\x1cq@\\xab\\xb1\\x16\\xdc\\xe3Y\\x8f\\xff\\x00\\x92Q\\x06\\xc5L\\x90\\nO6>\\xbe\\xb8\\xdf\\xacF2\\xe9\\xd52\\xd9:#\\xd3\\xd4\\xed\\xefkw\\xc3\\x93\\x0f\\xaai\\xdc\\xe4R\\xb4\\xe7\\x1d\\xc3\\xe4\\x1a\\xc1eQ,\\x85U)\\xa9\\xa9\\xe6I\\xfb\\xd3\\xc2\"\\xf2\\xc3\\xcc8\\xdb\\xb3$\\x1d*\\x90\\xb5hY\\xdc\\xde\\xdb_\\xd0\\x0e11/\\xc1^\\\\y\\xb6\\x94\\xa5\\x98\\xea\\x17\\xee.\\x0fl\\x0e\\xe5\\xf5\\xba\\xed\\x11\\x08e:\\xd2\\xd3\\x84\\x106\"\\xe3\\x9e?\\xbb\\xe0\\x81\\x92\\x17H\\xaa6A\\xdd=\\x87|Dr\\xa1D\\xc1\">\\x95\\xd7q\\xf3\\xd62e\\xe2\\x13R\\x84\\xe1P!/\\x03r}F\\xfb\\xe0\\x0f<S\\x17\\x173\\xc9\\xf8+i\\x94\\n\\xf7\\x1c\\x05\\x12n\\x05\\xbdv\\xfc\\x8d\\xb0w\\x97\\xd4\\xb7$\\xc0\\xd5\\xe5)q\\'\\x90>\\x98\\x8a\\xea\\x9d9\\xc40\\x99\\x8c\\xb4\\xa7^\\x8c\\xf1l\\xd9zn\\x85\\x9d\\xaf\\xf5\\xdb\\xeb\\x82\\x12OuS\\x00*\\xd5\\xb4U\\xfaI.&\\x18Zw\\x02\\xa3\\xc0\\xfe+\\x0b7 \\x98\\x91\\xfe9\\x0f\\xb9\"\\\\s\\xe3\\xb4VF\\x90\\xb4\\xf9\\x81\\xd3\\xbd\\xb7I\\xc7\\xd6\\x0c\\xa2\\xfcl\\xc3\\x94\\xe8\\xd5R\\xd6\\xd5*{\\x12J\\\\E\\x88\\xd6\\xdaI\\x04\\x1e\\xf78\\xf9E\"|\\xf1\\x1d\\xcf\\x15\\xa6[i(!\\xc2\\xe1\\xf2\\x81m\\xf7\\xb0\\x03\\xbd\\xfd}\\xf1\\xf4\\x9f\\xec\\xeb\\x99\\x98\\xact3#J\\xf8\\x94\\xbc\\xa6\\xe9m\\xc6qEz\\x88SWl\\xdc\\xff\\x00\\xec\\xc5\\xa5b\\x82\\x8a\\xd0F\\x03\\x8c\\xa54AF\\xb1\\'S\\xe9\\x9d\\x01\\xba\\x8cj\\x8aa4\\xd3\\xe9QB\\x94\\x94\\x81t\\x9e\\xe7\\xfb\\xef\\x8aW\\xd4|\\xe5M\\xc8\\x19\\xce\\xad@\\x89\\xd2\\xaa\\x05Q\\xa8\\x8f\\x10%>\\xc4\\x99+r\\xfb\\xdc\\xac,~V\\xdb\\x17\\x8b5\\xd7\\xa3;\\x141\\x1aSK}DY-,j\\x03\\x14\\xcb\\xaeL\\xc6\\x97\\xd4j\\x8a\\xc7\\xe2\\r\\xb4\\x95\\x91\\xbd\\xd4\\x12/r;\\xe1\\xb6B\\x90j\\x84\\xd6+\\x0f]1`k2\\xfe\\x19O\\x99%)\\xd0\\x91\\xa8\\x8e\\x07s\\xf4\\xc2@\\xe6\\x8a\\xbd\"\\xa2\\xec\\xca%Fe6L\\xb7\\x00uq\\xdd(+l\\x9b\\xd8\\xfba\\xc3Y\\xa7\\xaa\\xba\\xeb\\xed\\x87\\xdcg\\xc4p\\x9f\\xc3p\\xa0\\x0f\\x07\\xdb\\xfaaS\\x99\\xb2\\xec\\xaaL\\xe7\\xdc\\x9be\\xa0%>\\x1a\\xd0\\xab\\xa4\\xff\\x00~\\x98\\x07\\x88\\xa9\\xc4\\xa9*\\x00\\x807\\xe7\\xe1\\x1b\\x1fB\\x8c\\x88m\\xc6\\xd6\\xa0\\xa5\\xabT\\x9e\\x03K\\x1dx\\xc7\\xb7\\xab\\x12\\xeaU\\t\\xd2\\xa7\\xcb~k\\xc9\\xd0<g\\x9c.(\\x81\\x7f\\xde;\\xe0\\x1f\\xa8DH\\x89\\x17A\\x05HW<[\\x12\\xd0\\xe2;)\\xa9ii\\xcd\\x0br\\xcbI\\xdco\\xbf#\\xeb\\x81*\\xa3\\x85\\xd4.4\\xa3gR\\xad6&\\xf7\\xf9`>e-y\\x95S\\x1a\\xcc\\x84\\xb2\\x10\\xf8(\\xfe\\x9a[\\x95)\\x02\\xf1\\x1dR\\xd6\\x1cu~d\\x8b\\'\\x7fn\\xd8\\x18\\xab\\xbc\\x87\\xeb\\xd1\\x1aX\\xf2-\\xcf=\\xd5\\xb7\\xe5\\x89\\xeb|3\\xcbJ\\xc0R\\x93}>\\x87\\x10L3\\xf1\\xd9\\x91\\x1d\\xbc6\\xc2\\xaf}\\xf6\\xf7\\xc19r3\\x95\\x1d\\x81\\x87\\xf1\\x85\\x15\\xb0\\x86F\\xa5I\\x1e\\xb0eB\\x82\\xfb\\x15x\\xf0R\\tR\\xd6\\x90v\\xb8\\xd8\\xf3\\x86O\\x87\\xe3\\xd6V\\x8b\\\\\\'r-\\xdb\\x8c\\x0eFl5:\\x9b4\\x00H!.w\\x04\\x11\\xfdpd\\xcb_\\xe6]t\\xdbQ^\\x91\\xbfs\\x81n+1\\xedi\\x1e\\x9cXM)\\xc0\\x8f\\x1a\\xc3\\x033\\xbe\\x9a\\xcfNr\\xa5E\\xb3\\xad\\xdaz\\xdf\\xa5\\xc8W{\\x8b)7\\xfc\\x8e\\x10oF\\xf0s\\x1cwH\\x00:\\xe9P\\xbe\\xe3\\x8c8\\xf2$\\x81\\x982\\xd7Qr\\xf0Y.1\\xe1\\xd5\\xa1&\\xfb\\x956\\x08r\\xdf0\\x93\\x85-J\\xceff\\x10\\xdd\\x94\\x96\\x86\\xf6P\\xdb\\x12f*\\xa2\\x97x\\x8fk}\\xa0F\\x02\\x83,\\xe4\\xc4\\xaf\\xfaI>\\n\\x19\\xc7\\xaa\\x88\\xf0\\x82D8B\\xb4\\xa8\\x80\\x08\\xb8\\xf9\\xdf\\xd7\\x19\\xd0\\xd0k\\xc5s`R\\xd9W\\xa6\\xf8\\xe3\\xcc\\x93\\x15\\xb5\\x82\\x01J\\xb9\\xef\\x7fA\\x8fU%x4\\xf9*\\n\\xd3v\\xbb\\x7f{\\xe2\\x12\\xab\\xf5q\\x87\\xf3f \\r\\xed\\x02r\\xb5%\\xa4\\xea\\xff\\x00Qj\\xd4lo\\xb9\\xe7\\x9cKS\\xd8\\xb3\\n*\\x1em\\x16\\xe6\\xf7\\xf9b&ZN\\xb6E\\xb5n.\\x0e\\xdcz\\xfe\\x98\\x9e\\x82\\x8f\\x0e\\xe3\\x83\\xa7p~XQ\\x04\\x80)\\xf3\\xce\\n>h\\xd8\\x88h\\xe7X\\x91rJ\\x82\\xb9\\xbfk\\xf1\\x8dG\\xd1\\xe6B\\x14\\x92\\xa2\\x92wP\\xdc\\x02v\\xff\\x00\\xb6$\\x19\\x01(|\\x83{\\xb9`N4\\xe4\\xb5\\xa6KZTJUe\\x01\\xbf#\\x9b|\\xf1\\xe4\\xf1\\x89\\x08=\\xa3\\x1e\\xd2G\\xc2\\xfa&\\xdb\\x83\\xc60\\xa2\\xc22\\x90\\t\\x16U\\xaf\\xb7~?\\xa6=9\\xa9(PI\\x00(_~m}\\xff\\x00\\x8e8\\x93\\xa5/\\xa8l@J\\x89R\\xaf\\xc7\\xae9`\\x9a\\xe9\\xf3\\xe6\\xf0\\xa1\\xa4j\\xc6!U8\\x817?\\x88\\x1c\\x17\\xc7\\x82\\x999c:<\\xe5\\xf51\\x97\\xdcP$_\\x7f\\xec\\x8f\\xcf\\x02\\x94\\xd6\\xb5Tu(\\x80\\x12.\\x01\\xb186\\x92\\x04n\\x91u:~\\x92P\\x980\\xe2%C\\x90\\xa7%2\\x08\\x07\\xe5|N\\x95HS\\xe1\\'j\\xfb@>\\x90\\xbcZ\\x94V]{#\\xcd@}\\xe0.\\x87\\x15\\xb8P\\x90\\xc2\\x14H\\xbe\\xeaA\\xfc[o~\\xf8\\xd9rK\\xae\\xc9q\\x11\\x94\\x03j\\x01+\\xb2u\\x03\\xb5\\xbf<\\x0feh\\x93S\\x08:\\xfb\\x8b@}>D\\x93\\xb2Q\\xff\\x00>\\x98\\x9ai%\\xd4\\x86YZ\\x8a\\xde\\xb9\\x07\\xd0\\r\\xaf\\xfcq\\x19\\xd4\\xd1d|\\xf6\\x83)\\tP\\xcf\\xcb\\xca7\\xf2\\x9b^$\\xb8Z@\\x08+\\n\\x16\\xec\\x05\\xf0Q\\x9b)nMfLvP\\x03\\x92\\x18R[J\\x93\\xca\\x80\\xb8\\x1f?\\xe9\\x88|\\xaf\\x15\\rT#E\\xd4\\xa4\\xf8H\\x1f\\x84n\\xb3\\xc9\\xc16`\\xab\\xb6\\xa8S\\x12\\xe3\\xe8\\x8b\"\\x18\\x0f4\\xa7\\x1c\\tI\\x00\\xdc\\xa6\\xe7\\xbd\\xb1\\xcb\\x83Q\\xac\\x03\\x9eYT\\xd8\\xa6\\x94\\xf4\\'_\\xccT\\xb7j\\x05\\xf7\\x9c\\x7f1\\xa9\\xc7\\x03+Q\\x11[I#_k\\x81\\xe8G\\xf7\\xde\\xd8\\xfd\\x98\\xbe\\xd2Y\\'\\xa7y*\\xa7@\\xcf\\x95\\xc7(\\xa157\\x1e\\x80WM\\x90\\xe2\\x03kH$]\\x086\\xf3\\x02m\\xef\\x8a\\xfb\\\\\\xa8\\xd3\\xaa\\x19\\x96\\\\\\x9a*\\x83\\xb1$()Z[R4\\xa9I\\x1e O\\x17\\x1a\\xaf\\xc7\\xbe0.*\\x14\\xd2\\xd4V\\xa4(,\\x95YJ>\\xbf\\xf3\\xdbk\\x9ch\\xad :\\xd2J\\xf7\\xf0\\x8f\\x99qi\\x92\\x99\\x87e\\xd0B\\x92\\x14hu\\xa8\\xda\\xfaE\\xdb\\xcc\\x1fi\\x1e\\x97W\\x18\\xff\\x00\\xed\\xdc\\xf3IzQ! \\xc8m\\xc8\\xe4_\\x93w\\x10\\x9f\\xe3\\x8a\\xd3\\x9a]T\\xfa\\xfc\\xe91Y\\xfb\\xc1\\x97\\\\\\xd4\\x87\\xbcSb-\\xda\\xdc\\xfa\\xfdp\\x8a\\xa8\\xb2\\x88\\xf5x\\xf2Uo\\xd9<\\x97whXi\\xdc\\x8b[\\x9e1\\x99\\xda\\xb5v\\xba\\xf3\\x92\\xe3J\\x92\\xc3\\x04\\xe9m\\tJ\\xac\\x00\\x1d\\xb4\\xed\\x87\\x93.\\x86\\xcdD\\x03\\xeb3\\x08\\xfa:\\xcf\\x95\\xc7\\x15\\xa8\\x12\\x94l\\x00\\x1676\\xdb\\xf3\\xef\\x88\\xd9\\xf4\\x84\\xd5\\xea\\x063\\xe8/\\xb4\\xb1\\xe1\\xa9\\xa06R{\\x92\\x7fL\\x0b\\xc5\\xea}\\x19\\xb0>3\\xc7mN\\xac\\x00\\x96\\x99Z\\xd4\\xa0?\\xda\\x07\\xcb\\x13\\x91\\xfa\\x81K2\\xbcX\\xc9y\\xa5-\\xc4\\x8dN\\xb4Q\\xe5\\x1d\\x80>\\xf8\\x0e\\xb4g\\x05;A$8\\xa6\\xd6\\x16\\x93B4\\x8e\\x9c\\xe94d,?E\\xa8-\\x84\\x10G\\x83%\\xbd@\\x0f@\\xa1\\xbd\\xbec\\tN\\xa0t\\xf6\\xb1I\\x99&S)bKIU\\xc8a^k\\xf76<\\xfd1gr\\xedY\\x9a\\xf3/\\x98\\x8e\\xdfC\\x8aI\\xb9;\\x10x\\xc0?Q\\xa0)\\xd5%\\xb0F\\xa5\\x7f\\xb7\\xf8c=p\\xb8\\xcb\\x84WC\\xf3\\xf3\\x1a\\xf6\\x11\\xd2)\\xd6\\xdc\\n+\\x06\\xa3q\\xb7\\xa4Si\\xee)K*%CW>\\xc7\\xb5\\xef\\x8c\\x995\"Em\\xd5\\xadWHl\\x80M\\xb88#\\xea\\x00e\\x0f8\\xc3\\x8d\\xb7\\xf1,\\xa8\\xb6\\x17k(\\xdb\\xd4\\xdb\\x7f\\xae!22Di\\xb3\\x1eq\\x03\\xf6m&\\xde\\xe7\\xd3\\xf3\\xc5\\x85$\\x19r\\xa1\\x1a33+\\x9c\\x98mE4\\xadO\\xa1\\x86=1\\xa1\"\\x92\\xce\\xa1\\xa4\\\\\\xb6@\\xde\\xe4\\x1d\\xb1+\\x16\\xa0\\xf0bS\\x12P\\x15)\\x84\\xea@\\xb7\\xfa\\x89\\xff\\x00\\xab\\xe7\\xdb\\x11\\xd9}N1\\x16Lu\\x10\\xe3\\xa8!\\xf4\\x83\\xce\\xe6\\xc6\\xdf\\\\m\\xc3\\xd7%\\xe5\\xcd \\x97\\x1a;\\xd8Z\\xe8\\xb6\\xff\\x00>p2\\xbb\\xc4\\xe7\\xc0*XV\\x80\\xdb\\xe7\\xa4Mt\\x8e\\xba\\xd5\\x07\\xa8\\xd4y2\\x94\\x03/\\xba\\xa8S5\\x01\\xa4\\xa1\\xeb\\x82\\x0f\\xd6\\xd8\\x88\\xcd\\xf9yY[>\\xd7\\xa9\\xcf\\xa0\\x91\\x16AC$\\x9b]\\x17:O\\xd4X\\xfdq\\xa7\\x98\"\\x02\\xd3R`\\'K\\xc6\\xc5\\x0e \\xd8\\xdcn\\x92>\\xa2\\xf8cu\\x8dM\\xe6zFN\\xcf\\x11JT\\xc5j\\x0blMW\\xa4\\xa6\\x86\\x95\\x13\\xdcw\\xff\\x00\\xe2q=\\'\\xac\\x97#\\xfd&\\xbe\\x06\\xc7\\xd6\\x9ep1k\\xeaq6\\x9e\\x1fK\\xc9(<\\x94\\x9e\\xd2|\\xc6\\x7f(\\x19i\\xd0\\xe24\\xa7J\\x80\\xe4$\\xf0\\x7f\\xbe\\xf8\\x88\\xccS\\x9bi\\x94E\\x0b\\xbb\\x8e\\xa8j\\xf3~\\x14\\x8d\\xf1\\x9a\\x1b\\xc1.\\xb2\\xb5\\x1f)\\xbbK\\x07m\\xc6\\xe3\\x115\\x80\\x87e:\\xe2\\xb4\\x94\\xaa\\xc9\\x06\\xfe_\\xa6\\x06R\\xf519\\x86\\x80z\\xfa\\x0fx\\xd2y\\xcf\\x11\\xe4\\xad!+\\x1c\\xfa\\x91\\xb6\\xd7\\xc4\\xfb\\x16C \\x81\\xc2{\\x1d\\xfeV\\xc4\\x12\\x12<T\\xa4$\\x1f6\\xc1$\\xdfa\\x89\\x89\\xaa-\\xc2\\x05+\\xbe\\xd6\\xb06\\xb6\\x15\\x96\\xd4\\xd0|\\xa4L~\\xe5)\\x11\\xa8\\xd5\\xd5\\x14\\x14X\\x15\\xbd~l~\\x9e\\xb8\\xc5%\\xb4\\xac\\xb6\\xb1\\xbe\\x93kq\\xc8\\xc6\\xcb(\\ta\\x84$n\\x12Tx\\xf5\\xc7\\x97\\x9bHJlBA\\xff\\x00u\\xce\\x10TA\\xec\\xfbG\\x82\\xa8\\xa8\\x89xiQ\\xb8\\xb7\\xef\\x00\\xa3\\xf8{\\xff\\x00\\xce24Aq\\xe4\\x04\\x8b\\x86\\xce\\xaeu_\\xfb8\\xe3\\xe0%h\\xb0\\n\\xf5\\x1e\\x9f<zJ4I-(\\xeaHA\\x04\\x14\\xf3q\\xed\\x85\\xd6\\xa2\\x83\\xe7\\xacK\\xaff=S\\x14\\xa4IP\\xb5\\x8a\\x93\\xaa\\xfe\\xde\\xd87\\xcchE?\\xec\\xe1T\\x92\\xe7\\x95\\xda\\xe6cm)\\x17\\xfcM0?\\x85\\xd3\\x7f\\xae\\x01\\xc3\\xa2-\\x9dP\\xb2R\\xd5\\xce\\x9b\\xec=0\\xc4\\xea\\xa4$\\xb7\\xd3|\\x89\\x94\\xd4\\xf31_E\\x1du\\x17\\x8b\\x8a\\xb2|W\\x9c\\x1an{_J\\xb7\\xff\\x00v\\'\\xcb\\x0c\\xa1K\\xe0)\\xe2H\\x1e\\xd5\\x8a\\xce6\\xa0\\xa5\\xcb\\xa0\\xd8\\x15\\xd4\\xf7!%F\\xbc\\xaa\\x13\\nh\\x12S) $~\\xcc\\x80\\x8b\\xf1\\xb0\\xc1}6\\x19\\x92\\xf3lS\\xd8[\\xaf.\\xc9Cm\\xa4\\xadJ\\xf9\\x01s\\x8d\\x9e\\x96t\\x93\\xefm\\x0eW\\xeaa\\xa6/\\x7f\\x87\\x88\\x90Vm\\xea\\xe1\\xd8}\\x01\\xc5\\xa4\\xca\\xb9j\\x8d\\x96\"\\x86h0\\x19\\x88mb\\xef\\xe2q\\x7f5\\x9d\\xce\\x07>\\xe0\\xccR\\x98\\x1d\\x8bt\\xa6R]\\xb0\\x19\\x05j\\xf2O\\x9e\\xfe\\x00\\xf7\\xc2G,\\xf4{0\\xb9YnuQq\\xe8\\xd1\\x88\\x046\\xe9\\xf1\\x1dW\\xfe\\xc4\\x9d\\xbe\\xa4|\\xb1_>\\xd2\\xf4\\xca\\xc6]\\xeaq\\xa6T$\\xaeM \\xb6\\x89P\\xdbB<48\\xd2\\x85\\x8f\\x1b\\x15\\x05\\x05s}\\xb1~\\xe7\\x9b.\\xe9P\\xe7\\x15\\xeb\\xedSCn}.\\x83[\\r%n\\xc5uQ\\x16{\\xe9X*\\x02\\xff\\x004\\xfe\\xb8\\x99\\x84\\xba\\x118\\x9c\\xc2\\xbfh\\xcb\\xf1\\xac^{\\x12\\x97QZ\\xb2\\x8ah-a\\xb7\\x13\\xe7\\x14\\xbe#5D\\xa5\\x7f\\x0c\\xb3\\x1a\\xfby\\x01\\x1c\\x0e\\xc4\\xf7\\xc4\\xaa\"\\xd5\\x8aP\\xa7\\xa5\\xbcR\\x81\\xab\\xcaI\\xb7k\\x7f\\xdf\\x04\\xc8`\\x00\\x92N\\x85(\\x93\\xba\\xb9=\\xfe`~\\x7f<qA?\\x86\\xe9\\xd4F\\xe4\\x0b\\x8d\\xbdO=\\xc64\\x80w\\x1b\\xc6^E-\\x11\\xb4G)\\xce\\xcd\\x8f\\x1b4\\xc5\"3\\x84\\xf8\\x8f\\xb6\\x14\\x95X\\xd8\\\\\\xdb\\xb5\\x8d\\xfdy\\xd8\\xe0\\xaa\\xab\\x91\\x93\\x06s\\xac\\xc0\\xac\\xba\\xd4Ae2\\x90\\x12F\\x82.,{\\xf3\\xcf\\xf3\\xbe\\x07\\xa62\\x97u%IXR\\x86\\xe4\\x8d\\xbd7\\xfd\\x0e9\\x0b8\\xc9\\x81\\x15\\xa8\\xcf \\xbaZ\\xbaA/\\x0b\\x81sa\\xbf\\xa7\\xfca\\x0b\\x04\\xdd&\\x86:(\\r\\x0f\\xb4Y\\xef\\xfe\\x99\\xd4i+.\\xe4\\xfc\\xd8\\xf4%\\xa8l\\xd4\\xe6[\\x9a\\x90=.@U\\xbf\\x85\\xb0\\x11VWV#\\xcb~\\x98\\xba\\x85\\x12\\xa5\\x1d;=1\\xaaxAB}\\x8a\\x95\\xcf\\xbd\\xbb\\xe0\\xeb,\\xe7H\\xb9\\x87&3\\\\h\\x16\\x94\\xb8jR\\xd2G\\x9d+N\\xcaI\\x1e\\xb7\\x18\\x1a\\xa0\\xd5 \\xc8u\\xfa\\xb4\\xdf\\x1eC\\x1f\\x89j\\x92t\\xb2\\t\\xb7\\x95 \\xfe-\\x87#\\x01\\x81q\\xb5\\x10oO\\x18\\x9b\\x9c) \\xfe\\xbf^\\x90{\\xd0\\xaf\\x8b\\x81T\\x93\\x02\\xa7S\\x8f.L\\x90\\x1c\\xf0[V\\xe8\\xb7;\\r\\xbb\\xe1\\xb5\\x9a\\xf2\\xd7\\xc6\\xc8j\\\\t\\x95-\\xa5Y\\xc4_\\x94\\xe1\\x7f\\xd3\\xda\\xa6Yz\\xbb\\x05\\xfaXzD\\xe7\\x14\\xa4\\x85D\\x80\\xa40\\xc8)\\xdfZ\\xed\\xbf\\x18t\\xad.I:\\xc2\\x83h\\x03\\x9bn~\\x98\\xa9b\\r\\x05>kz\\xde,\\x123*BB\\x81\\xd2\\xd1\\xf3\\xe7\\xaa\\xf4\\xf7\\xa3\\xf5\\x02\\xa9\\x1d\\xf0P\\x91!Z}H;\\xde\\xe7\\xd8\\xe2>\\x83\\x185Qq\\x97@\\x08y\\t\\xb6\\x9d\\xb7\\x1f\\xd3\\x9c_\\xb9T\\nFm\\xa78\\x8a\\x8d:5M\\xa2\\xa56\\xe3o\\xb0\\x92R\\xa1\\xb1\\xb1\\xb5\\xc1\\xe3pqTz\\xb7\\xd3I\\x99\\x06\\xa0f\\xd3\\xa3\\xb8\\xe5 \\xae\\xec:<\\xdaS\\xdd\\xb5\\x1eA\\x1f\\xa8\\x18JV\\xac\\x81\\xb2)\\xb4m\\xbd\\x1c\\xc7%g\\x1c\\x12\\xcb\\x19\\x1c\\x02\\xd7\\xd6\\x82\\x96\\xd2\\xfb\\xd2\\x02\\x95[\\x93D\\x92\\xd6\\xa4\\x15<\\xca\\x8aA\\xb5\\xc3\\x8d\\x9e\\xc7\\xdf\\x8c\\x18\\xd1\\xaa\\x90\\xe7\\xff\\x00\\x98\\xa7(\\x87-u\\xc7\\'t\\xfe{\\x11\\xef\\x81%9\\x1e\\xac\\xc4w\\x90\\xa4\\xb8mm$[\\x7f\\xe3\\x8d\\xe8\\xd4\\xc6\\x19\\xf0\\xdd.&+\\x80\\x8d%N\\xe9?Kc\\x84\\nQQx\\x98m\\xa7QSc\\xca\\x08&<\\x88\\xd2R\\xcb\\xc7\\xc1id\\x96V\\x7f\\x01Q\\xe5\\x04\\xf6\\xfe\\x18ddfQ\\x99ze\\x9b2\\x8c\\xe6\\x82\\x1e\\x84\\xbf\\xbd\\xa04\\xb3\\xbe\\x9f\\xfc\\xd0\\x9f]\\xb5q\\xeb|\\x04=\\xf0\\xceG@\\x96\\xe3\\x0e\\xb4\\xe8\\x00\\xa5diW\\xe7\\xb5\\xf0I\\xd2X\\x89\\xa5\\xf5\\n\\x85\\xf0\\x8e\\xadPe<\\xb8\\xaf\\xc6Z\\xca\\xc0C\\x89#\\xcb\\xed\\xb6\\x1e\\x94\\xa2]\\x08?\\xd5o\\x03o\\xc4T\\xb1Z*EJ\\x16S}\\xb1\\xde\\x8b\\xfa\\xdcx\\x98[Cq\\xc8\\x8e|\\x14\\xc25\\xa5gJ\\x8fr\\x0e2\\xa9>\\x12\\xa7GRod\\xf8\\x8d\\x827\\xd2O\\x18\\x90\\xcdt\\xf7\\xa99\\x8a\\xaf\\x03H\\xff\\x00)%\\xc6\\x80X\\xb8\\x1aTF\\xfbm\\x885=.L\\x84\\xb9 \\xa4\\x10\\xde\\x84\\xe8\\xee?\\xb1\\x88\\xebH&\\x87\\xba,\\x8d\\x90\\xfaC\\xa9\\xd1@\\x1f\\xbcy\\xa7k~[E:\\x86\\x8b\\x83}\\xed\\xf9|\\xb1;ToX\\x8e\\xc9JlUr\\x9bq\\x8d:\\\\d6\\xb5\\xad;\\xafI\\xf3\\x13o\\xa0\\xbe3Hp?8\\x96\\xc1Pe \\x0b\\\\s\\xfcF\\x19Q\\xa0\\xa6\\xd0\\x97U\\x9d\\xea\\x8d\\x84`\\x92\\x92\\x95\\xb6\\x8d\\x81\\xbd\\x80\\x03\\xfac\\xb9I+\\x1a\\x8e\\x83\\xdd[\\xf3\\xb7\\x03\\x1e\\\\!D\\xa9D\\xa9@\\x92\\x9d\\xf1\\xc7d\\xa42\\x9dh%Dw\\x00\\x03q\\x8e\\x0b\\xd3\\x8f\\xceq\\xd0\\r\\xa9\\x1a\\x0b\\xf3,\\x15qq`6\\xc6\\xccS\\xaah\\x04]%\\x1b\\x81\\xe9\\xc60\\x04\\x8dw\\x16\\x1a\\xb6\\t>\\xdc\\xe3b=\\xfe!\\x9d\\xacBT\\x92/\\xbd\\xb0\\xa4\\xa4(s\\x89\\x0b\\xfaLxTo\\x16\\\\x\\x83\\xcd\\xe2\\xb8\\xdbJO\\x04\\xeaX\\x06\\xdfC\\x86\\x0fVik\\xcc\\xddN\\x9bC\\x8eP~\\x16\\x1cx\\xad\\x05\"\\xe9\\xbbM6H?\\\\\\ne\\xc8f^o\\xa32\\xad\\xf5\\xd4X\\x06\\xe0\\xf0\\x14\\r\\xff\\x00L\\x11\\xca\\xcc*WW\\xebu&\\xc9W\\xfe#$\\xa4\\x86T\\xe0(\\n)\\x1eT\\xef\\xc0\\xf7\\xc4\\x94\\x10\\x86-bT9h?qZ\\xc4A[\\xe4\\xeb\\x95\\x97\\x0f\\xfb\\x8aG\\xb01\\'\\xd3\\xc9\\xd5Z}rD\\x0c\\xc2\\xd3MJl\\x02\\x954\\tJ\\xd3k\\x02.y\\xd8_\\x16\\x16\\x1a\\xc2\\x98B\\xaeI\\xb7\\xd3\\x08<\\xcafB\\xa9\\xc6\\xccnG[1R\\xa0\\x85]\\xbd:B\\xbf{~\\xdb\\xe1\\xd7F\\x94\\x1f\\x80\\xd2\\xd0\\xbd@\\xa0\\x1b\\xfbz\\xe2,\\xdaF|\\xd5\\xd7\\xde1\\xb7Ff\\x856\\xb4lTR\\xa4\\x82n@\\xf5\\xbd\\xb0\\xb5\\xeb\\x1d15n\\x99V\\x13a\\xe2G\\xd1!\\x1e\\xb7J\\x87\\x1f\\xae\\x19\\x92\\xbc\\xed\\\\\\x03\\xc7$Z\\xd8\\x14\\xae\\xc5T\\xfa\\x05b&\\x9f\\x11ODu)\\x1b\\x10U\\xa0\\xd8~x\\x8e\\xca\\x82\\x1d\\x04Ct\\xcc\\xd1\\x11G\\x13\\rc\\xf0\\xb6\\x14\\x0e\\xfd\\xc8\\xf6\\xbf\\xe9\\xfac\\xca)\\xce>\\xee\\xad$\\x8d&\\xd7\\x06\\xd7\\xfe\\x1f_\\x9e;S\\xf9\\x99I\\r}\\xc6\\xe2\\x16\\xa0n5#}\\xac{\\xfc\\xb1\\xb7\\n\\x9f\\x9djo2\\xd4l\\xbf=,\\xeaA}I\\t\\n\\r\\xdf\\xcc\\xab/\\x95i\\xbd\\x80\\xe4\\xdb\\x1a\\xaez\\x0c\\xc4\\x88\\xcf\\x8a/\\x966h\\xb9VMn\\xb0\\xc5.\\x9c\\xcb\\x93*2\\x94\\x12\\xc4H\\xe0\\xad\\xc5\\xfb\\xdb\\xb0\\xdbu\\x1b$rN\\'\\xa7tJTy\\xd2c\\xd5\\xab\\x14H\\x93\\x18p\\xb6\\xeb\\t\\xa8x\\x85\\xa5\\x0eR\\xa2\\x80R\\x087\\xda\\xfba\\x9b\\xd1\\xae\\xbb\\xd2\\xb2Fj\\xab\\xd0\\xd7\\x94\\xe2ej\\x14\\xa6<&%\\xb8\\xa7]\\x98\\xb9M\\x80\\x12$\\xb8\\x94\\xdc\\xeb\\xf3~\\x10\\x12\\x95\\x1d\\xb98\\x19\\xea\\xafEk1\\xb3\\xac\\xe9\\x19A\\xb6j4\\x9a\\x88L\\xe6\\x9dV\\xb4\\x90]\\x1a\\x8aN\\xf7;\\xf7;\\xef\\x81\\xafNu$(\\x9b\\x1f\\x9c \\x94\\xbc\\x8a\\xdcI\\xa2o\\xdd\\xfa\\x85F@\\xce&\\x99\\x97\\xea\\xf0j\\xd2\\x11\\x02\\x9a\\xa4\\x02\\xc0\\xd2\\xb5\\x14k$\\x10t\\x83\\xc9\\xde\\xde\\xf8*\\xc9\\xbdV\\xa1e\\xd8\\xb1\\xd9\\xaeRi9\\x8aK\\x04%2^\\x96\\xfa\\x13\\xa7V\\xc44\\xa4\\xd8\\x1fa\\xdf\\x08\\xaa]JL\\x19@S\\x07\\x88\\xc3\\xa8\\xd3%/$(\\x14\\x83b7\\x1e\\xfbc\\x04\\xe7\\xdbbJ\\xdbJJT\\x15\\xe4U\\xacm\\xf8\\xb8\\'\\xd0\\x8fO\\xd3\\x06\\x1ea\\x0e\\x92U\\xbc\\x08J\\xcaFQ\\xb4}\\r\\xa7\\xf5\\x81\\xb9\\xd1\\xe9\\x10r;T\\xaa\\xa4\\xb9\\x8e!r\\xbe\\xeeea\\xb81\\x82\\x86\\xaf\\x10\\xac&\\xea \\x91`0\\xe3UN\\x03J\\x11\\xddp\\x07nvP\\xe4\\x13\\xb5\\xb1\\xf2\\xd7\\xa6=A\\x9f\\x95\\xf3,\\'bH\\ti\\xdb\\xa1!K\\xd8\\x15^\\xd7\\xf5\\x04\\xedn\\xd7\\xbe>\\x88\\xaf<\\xb5\\x982\\x9d\\x0e\\xb2\\x9a3\\xeb\\x8b>\\x13O5!\\xa0\\x147\\x1b\\x8dC\\x82\\x08?\\x91\\xc57\\x19g\\xf8B\\x97\\x13Js\\xfdE\\x8f\\x08\\xff\\x00\\x98Yh\\xfb\\xd3\\xde$\\xf3\\x0eV\\xcc\\xac\\xbe\\xd5W\\xa7u(\\x81\\xe4\\x92\\xa7\\xa1L*\\r\\xb86\\xf2\\xa4\\x8f\\xc2m\\xdc\\xdc\\\\\\xf6\\xc6\\x8b\\x93\\xa8\\xbdV\\xcb\\xf5h\\xd1g4\\x99\\xec\\x83\\x1e\\xa5O\\x90\\xa4\\xb6\\xf49)\\xec\\xa4\\x93\\xc0#\\x91pG\\x07\\x10\\x91s\\xdb\\xd0\\xd6\\x00p\\xbb\\x18\\xed\\xa5\\xe0[ZO\\xa1W\\n\\xf9\\xed\\x8a\\xb3\\xd4\\xf1\\xf76|\\x95\\\\q\\x98\\x15eT\\x82\\xddZ\\x1c\\x0b\\x08B\\xc8P\\xe5\\xb5\\x05\\r$\\xa1{\\x1f6\\x9b+\\xcbpDHd\\x9as\\xa85\\xa9\\x16\\xe1^\\xfe\\x11hyo\\xca\\xa1.\\xa8\\xdd\\xb2(@\\xedR\\xbb\\xe9ZmZw\\xc4\\xddO.\\xc7\\x88\\xf3\\xad\\xa9\\x96\\x0f\\x86HR\\x98V\\x93q\\xb5\\xf6\\xd8\\x8cGF\\xcat\\xf9\\x0e\\x15\\xc8{\\xc7Q7)$\\xa4\\xff\\x00\\x1cD\\xe5\\x1e\\xa0\\xb6\\xe0f\\x97\\x98\\xcbl>\\xe0\\xb3\\x12of\\x9d=\\xd3\\xfe\\xc5\\x7f\\xb4\\xf3\\x82\\x8a\\x9c\\x05\\xc7X~ \\xd2\\x9b\\xdc\\x14\\x8cy\\xc6^\\x96_V\\xedDnxn(\\xce(\\xc0[\\x0e\\xd4\\x1d\\xf9\\xf0#c\\xca6\\x1ei\\x9a|%\\xb5\\x1a\\x1b\\xa9\\x88\\xd8\\xb8\\r\\x1dJU\\xce\\xe6\\xc7\\x1bY*\\xa7&\\x87\\x9dr\\xe4\\xd8\\xcaq\\x98?x6\\x03/y\\x0bj\\xbf\\xa0\\xe2\\xff\\x00\\x96!X\\xabp\\x87\\xd4\\xe3*\\xee\\xb6\\xfc\\xa4v\\x18\\x9d\\x81N\\x95X\\x91\\x19\\xbayv\\xb3-\\xb7\\x03\\xac\\xc7\\x0c\\xfe\\xd4\\xa8w\\x1a==N\\xc3\\xbe\\x10\\xda\\xcbn\\x0265\\x89S\\x08\\teh{E\\x02\\t<\\xc5;\\xbcj#g9\\xd4\\x13P\\xcd\\xf5\\xf9\\xc5\\xe44\\xb7\\xe6\\xba\\xad*6\\xd5uz}p:\\xe2\\x9br\\xe2\\xc5\\x0b\\xef\\x7f7\\xeb\\xe9\\x82L\\xf3\\x93\\xe9\\xf9\\x7f2J\\x8a*?x\\xcci)\\\\\\xd0\\xd8\\xf26\\xf9\\x1a\\x96\\xdaH\\'PM\\xed}\\xb7\\xbe\\xdb`u\\xd7\\x18\\x94\\xcb\\x0f]\\n[K-h\\xd3\\xa7\\xcb\\xc5\\xc0\\xf6\\xc7^J\\x82\\xd4i}\\xfe|\\xde\\x11\"\\xa6U,\\xd9f\\xa54\\x14\\xb56\\xb7\\xc3\\x19#\\xbd\\xf0\\xad\\xbe5\\x00V,\\tP\\xdb\\x1d4\\x7fb\\xe8C\\x9a\\x96\\xad\\xee\\x0f\\'\\xb7\\xe5\\x8d$\\xd0\\xe1\\x15%v:T|\\xb6^\\xa0\\xaf\\xa67\\x16\\xd7\\xc27fR\\x12\\x13p\\x95Z\\xd8\\x8d\\x9b8\\xa015Y4I\\xb9\\xe5\\x18\\xcb\\x96l \\xad*;\\x93\\xa7\\x93\\x8cj\\xd4\\xa4\\x90\\xab\\x9b\\x8d\\x81\\xde\\xe4\\xfbc\\xab_\\xccnW\\xdb~=\\xf1\\x95\\xb4\\xd8\\xdc\\x04\\x8d\"\\xfbX\\xfe\\x9c\\xe1\\xd2R\\x90)\\x0b\\xb0\\x8fQ\\xdb\\xd2\\n\\xd6Rv\\xdd<\\x1d\\xb8\\xc7M<[\\x96\\x95i%:\\xfc\\xc0s\\xb8\\xc6\\'_\\xf1Ub\\tP \\xab\\xcb\\xdb\\xbf\\xcf\\x1b\\x10\\xd2\\x96|I.m\\xb8Kw\\x1c\\xfd0\\xca\\x94\\x9dL!B\\x80\\x93\\xbc\\x16d`\\xdc\\x1c\\xc2j2\\x08-\\xd1\\xe1\\xbdQ\\x90\\xb1\\xc2BE\\x90/\\xeaI\\xb0\\x1e\\xa7\\x11\\xdd0\\xaa9\\x13<\\xb75\\xd0\\\\u-:\\xb3\\xbd\\xfc\\xc5&\\xe4\\xdf\\xb6\\xf8\\xe4\\xb5.\\x91\\xd3W_\\xb9L\\x9c\\xcbT1\\x92n/\\xf0\\xf1E\\xd7ob\\xea\\x80\\xff\\x00\\xdb\\x8d~\\x9b\\xc7\\x93;3\\xb8\\x98Q\\xe7Jy\\xa8\\x8bPD \\x92\\xb5\\x0e,u$\\x8e\\xfe\\x98\\x9c\\xd3t\\xc8\\x81c\\xaf\\x9f\\x7f \"\\xb7:\\xb4\"Bviw\\x01%?\\xed\\xd7\\xff\\x00bG\\x846\\xb3\\rFVc\\x8c\\xe4Y\\xcbB#9\\xe5X\\xd3r\\x05\\xff\\x00\\x8e\\n\\xf2d\\x94F\\x8a\\xdc$\\xbc\\xd3\\x89m\\x00\\xb7\\xa5\\xf4\\xb8\\xaf\\x0f\\x84\\x95[{\\xdb\\x01\\x9f\\xe1J\\x8b\\xd1\\xdeqT\\x1c\\xd6\\x14\\xb3\\xe7d\\xf8\\x03X\\xf6!\\x93\\xfdq\\x8a\\x85\\xd3\\xb9\\xb9s;\\xc9\\xcc\\xd4l\\xb7\\x99\\xa3.\\xa4\\xd2\\x19\\x97\\x18\\xb8\\x851\\xe5\\x00\\x05\\x14\\xa6(QP\\xe7e\\x0f\\x9d\\xb0E\\xfc=JmU\"\\xd7\\x1d\\xa4\\xfd\\x8caC\\x14\\x97\\xa8M\\xefm\\x0c9\\xd4J\\x9b:/a\\x8d\\x03\\x1c.\\xc0\\x93r\\x9d\\xce\\x9f}\\xf6\\xfa\\xe3<W\\x89\\x05.%hRTR\\xb4\\xa96P=\\xc1\\x07\\x1d\\xba\\n\\\\A\\xe2\\xc7o\\xe9\\x8a\\xa6\\x8a\\x06\\x08\\n\\x83H\\xa92\\xb2\\x07\\xd9\\xd9\\x8a\\x94\\xeauN\\xa5\\x9e[\\x9c\\xd3\\xee4\\xea\\x89\\x8a\\x10\\x95\\x83e\\x04\\x8b\\x1d\\xae{\\xdc\\xdb\\x1by\\x9f\\xa7\\x95\\\\\\x8b\\x93\\xbe\\xf8\\xe8\\xc6n^l\\xcb\\xe9\\x92\\x87\\x1a\\x8a\\xf2O\\xc53r\\x02\\x99\\x03k\\xfa\\xe8 _\\xb0\\xc3\\x033t\\x06\\x15\\x7f2T\\xaa\\x07(\\xe6:\\x9ae\\xbc\\xa7|fk)\\x8e\\xd2\\xca\\xb9)O\\xc2*\\xdd\\xff\\x00x\\xfa\\xf7\\xc4\\x9eC\\xe9=[\\xa7\\x93\\xde\\x95G\\xc9u\\xd5\\x97,\\x03\\x13s\"\\x9ff\\xe0\\xdc/J\"\\xa7\\xcc/\\xb17\\xb5\\xf1\\xa8\\xb6\\xe6it\\xa9&\\xf4\\x1f\\xd4)\\xea\\x7fqBu\\xbc\\xaf\\x9a\\xe9^\\x1f\\x81\\x1ay\\xdf\\xa7\\x10s\\x16Y\\x91\\x98L\\x15C\\xaeG\\x8by\\xcc\\xa9\\x01\\x1e2\\xd2\\x9b\\xaa\\xc9\\x17\\x1a\\xfeG\\x9d\\xb0\\xb7\\xca\\xddF\\xead\\x9a3-\\xd1]\\xa7\\xcd\\xa7\\xc5\\xff\\x00.\\xc2\\xabQ\\x9cq\\xf4% y\\x02\\x82M\\xd28\\x1b\\xfa\\xe2\\xc7>\\xdep\\x90\\xb2\\xda\\xb2:\\x04rI?\\xf8\\x84\\x9f1>\\xde\\x10\\xdb\\x9eq\\xdcZnh\\x89\\x1d\\xb6\\xa3e6\\xa26\\x05\\xc3M\\xaeI\\x02\\xe7\\xd7N\\xe7\\x00\\x1a\\x93\\x99k5\\x14\\x8a\\x1d\\x89\\xa8\\x1e\\x10x\\xce\\xca\\x12\\x14B\\xeb\\xdd\\xfb\\x8a\\'7\\xa7U\\x10\\xf2#\\xd0j\\x91\\xdfqgIC\\xed\\xa2*\\x92\\x8e\\xfb\\xdc\\xdd_ 0\\xbe\\xac\\xc4\\xd4\\x97c\\xbc\\x97Z\\xa8A>\\x13\\xad\\xbe,T\\x81a`{\\x94\\xd8\\xed\\xe9\\xef\\x86\\x07\\xc5\\xc8\\x0e5\\x1b\\xef\\x06\\xa3\\x90\\xe0J\\x17}JQ\\'b\\xa5\\xf0\\x0f|Ou\\x8e\\x8fG\\x8e\\xcd\\x0e\\xa8\\xcb\\x8a~\\xb4\\xe3A\\x12T\\xf4\\x92C\\xb6\\x07}6\\xb0\\x1e\\xf8=/6\\xefX\\x96\\x9d\\xedf\\xd0\\xd3\\xe7\\xe6\\x03=.\\x90\\x92\\xb4\\x8aR+\\xe2\\xee\\x95\\xa1\\xe1\\xf8\\x82\\xc1\\x16\\x1c\\x1f\\xcb\\xfb\\xb6.\\x07\\xd9K7\\xd5sM\\x1b2\\xe5GgHL\\nk\\x8cI\\x82<k%\\x84\\xbb\\xac\\xb8\\xdf\\xb2J\\x93\\xa8|\\xed\\x8a\\xa3\\xf7\\x1f\\xdeY\\x99\\xbaU=JCO\\x12\\xadn+Pm\\xbd\\xca\\x94m\\xe8?Q\\xef\\x86m?3\\xa3,\\xd2\\xc4\\x1c\\xa2\\xe3\\xd4\\xd8n\\x8b\\xbf\\'o\\x16J\\x92\\x08\\xd4\\xb5\\x0f\\x96\\xc9\\xe0\\x0f\\xae\\x08Ma\\xed\\xcf\\xb2Zv\\xc3\\x8f\\xe2!14\\xe4\\x9b\\xa9q\\xbdb\\xd5fy+\\xcbq\\xd4js\\x1c\\x96\\x95\\xa9I\\x1e\\x11B\\xf4\\xfd\\x08\\xe3\\x15\\xe3\\xa95\\x15U\\xe4\\xa2_\\x86\\xb4\\xb2\\xd2\\xbc4\\xebX\\'\\x8b\\xde\\xc0\\x01\\xdb\\x8fo\\x96\\x07r\\xe6hv\\xb7\\x99Xr\\xa2\\xea\\xdc\\x0f2\\xe31PTN\\xa3k\\x95+\\xd7\\xb8\\x1f\\x96\\'3\\x92R\\x9a\\x19R@Q\\x0f$\\x9b\\xa4\\x90\\x9blI=\\xbbv\\xc51r\\r\\xe1x\\xa3hl\\xd6\\xb4\\xb9\\xf2\\x8d\\x93\\x0bj_\\x19\\xe8\\xbc\\xcc\\xd3\\xa8\\xfejs\\x0bWj\\x11n\\xe8_Ia:\\x1cmM\\x97\\x1a\\xd3\\xfbF\\xf6\\xb1\\xb8\\xff\\x00\\x9eF\\'r\\xdfP\\xe6et\"%g\\xc6\\xa9P\\xd4t\\xa1\\xd2\\x9f\\xda\\xc7\\xdf\\x83\\xce\\xa4\\x8d\\xff\\x00\\xbd\\xb1\\x02\\xd3\\xc9u\\x86\\xd6\\x0e\\xab&\\xc6\\xd6\\xdc_\\x9f`1\\xa3-&\\x14\\x83\\xa9\\xaf\\x19\\x97\\x0f\\x99\\xa3{+{\\x9fa\\xbd\\xcf\\xd7\\x16\\xb7\\xe5\\xda\\x99NG\\x05~q\\x8c\\xcb\\x0e\\xc5&\\xf0\\xa7z\\xe9U\\xd0\\xee6=\\xe3\\xe56\\xa1\\x87\\x9a\\xd9\\x8f\\\\a\\xa9T\\x17\\x119\\x12\\nP\\xcf\\x86o\\xe2-D\\x04\\xa3\\xeaH\\x18:\\xcc\\x15\\xc6\\xbaV\\xaa\\xa6O\\xc9d\\x8a\\xaa\\x80\\x8b[\\xae\\xac\\x10\\xf3\\xcaO\\xe3a\\x81\\xff\\x00\\x94\\xd0P7\\xe5J\\xb0\\xb9\\xb5\\xb1W2\\xaeb\\xa9d\\n\\xf4\\x0c\\xc1\\x96\\x0b2\\x1a\\x89)\\xb9F#\\xe4\\x98\\xcf-\\x07RR\\xe2A\\x07\\x90;\\xef\\xeb\\x86\\xa5\\';@\\xea,\\x89r\\xe4\\xb8\\x88\\xd5\\xb9\\x0e-\\xd9\\x0c\\x13\\xa7R\\x89$\\xa9#\\xb8\\'\\xb7lU\\xa6\\xa4\\x97\"\\x82\\xb4_\\x9e\\xe0~\\xf8\\xc6\\xe7\\x81\\xf4\\x9eW\\xa4n\\xa1\\x89\\xae\\xceQ\\\\\\x84\\xd9j\\xa8\\xa1\\x1f\\xea\\t\\xa5hw:\\x1a\\x03\\x13\\x91k\\x0cL\\n\\x13\\xc7\\x83$\\x8d\\x9f\\x17\\xb16\\xee1\\xd4\\xd9\\x8d\\xc6SMU\\xe0\\x87[P\\x05\\x0e4n\\x95\\x7f\\xe9P\\xdc\\x1cDI\\x88\\xf45\\x10H-\\xf66\\xe0\\x0f\\xaf\\xf7|r4\\xf7\\x19AB\\\\Ia[-\\xb5\\xee\\x95o\\xfa`\\x11\\xa6\\xb1\\xa7\\xf5\\x08\\'24\\xf9\\xa1\\xda7\\xcdF/\\x91\\x10\\x7f\\xca\\xa3M\\xec\\xe1+\\xf3z\\xdcv\\xc7q\\x97=MhK\\x8c\\xc8!;\\x1f\\x12\\xe7\\xdf\\x9ck\\xb8\\xd32\\xeeb\\x1f\\td_\\xc1p\\xdb\\xff\\x00\\x8a\\xad\\xbf\\xd7\\x11\\xcb}\\xd8k)\\x94\\n\\x14;\\xda\\xde\\xf8\\xf1\\xd2\\xd0\\xa0\\x84\\xd2\\xde\\xb7\\x89\\xdf\\x0eG\\x86J\\xdb\\xb1?\\x88\\x8f\\xe1\\xff\\x00\\x18\\xe2Z(\\xd0\\xa2,H\\xb8\\xbf8\\x8cf\\xb4\\xb0\\xa4\\x8f\\x15.)$\\xfe%{Z\\xd7\\xfac}5\\x95;d\\xa9\\xb4\\xad*\\x16\\xd8\\xfe\\x80\\x9f\\x9e9}\\xc46P\\xe0\\xd0\\x08\\xdbe\\x92\\xea\\x93\\xa8\\xe9H7Q\\xb5\\xbf\\xed|a\\x9d1-\\xa5jd\\x80\\xdb(%\\x03\\x90\\xad\\x8f\\xf2\\xfe8\\xf4\\xb7\\xcb\\xcc\\x84\\xa7SI\\xe1A\\x1b\\xda\\xc3pN3QiG0\\xe6:-\\x1d:Jj\\x13\\xe3\\xc5;\\xede\\xb8\\x01?As\\x84\\x04\\x97\\x14\\x059C*)m*q\\xcd\\x12*{\\x86\\xb13\\xd55\\nS\\x99?/\\x0b\\xa5TZ\\x03\\n\\x94\\x0e\\xc0H\\x94L\\x87\\x07\\xff\\x00\\xbaF0t\\xd9\\x9c\\xef&\\xa7R\\x1d4\\xa89K\\x98\\xa6\\xd0%:\\xda\\x92\\x9dH\\x04\\x90\\x0e\\xa1\\xfc1\\x1b\\xd5\\x1a\\xa9\\xad\\xf536\\xce&\\xe9v\\xa0\\xeaZ<\\x9f\\r\\n\\xf0\\xd0\\x07a\\xe5@\\xf9\\x0c/\\xf3nd\\xab\\xd02\\xca\\xe3\\xe5\\xd9\\xefS]\\xac<\\xa4Hq\\x95\\x96\\xd6\\xa6R\\r\\xdb\\xd67\\t$\\xefn~X,\\xdew&\\x82Y45\\xb1\\xe5\\xfd\\xa2\\xa1\\x89\\x1f\\xe1\\xfa*\\xb2\\xf0\\x04\\x94\\xd5@\\xf1Q\\xcc}I\\xa40\\xb3\\xaf\\xdaK3\\xe4\\x97\\x9e\\xa2\\xb9\\x9ej\\x95Z\\xfaTP\\xf3\\x90\\xdeK\\x8d\\xc6\\xdf~\\xdaT\\xa1o{`\\x01\\xcf\\xb4Vy\\xa9\\xc2\\xf1\\x19\\xceU\\x97%\\x17\\x12\\x9d\\x0e\\xa8\\x05\\xf9\\x85\\xae\\x13\\xf8O\\xe5\\x84\\xfcz\\x16\\x94\\x94\\xaa\\xe5DYEF\\xdb\\x11\\xb0=\\xb13\\x02\\x9d\\x1e\\x9e\\x92\\xe2\\x91\\xe2L\\xb6\\xa1s\\xa5)\\n\\xb5\\xf8\\xdc\\x9b\\x1e\\xfc\\\\_\\xb1\\xc5\\xf1\\xa6\\xd4\\xda\\x00Q*<N\\xf1\\xf3\\x1b\\x8f\\x15\\xaf2@H\\xe5\\xf2\\xf1w:\\x01\\xd4\\xb7sm6M2\\xaf#\\xc5\\xab\\xd3\\xca|E*\\xd7u\\n\\x17\\x0b\\xb0\\xf7\\xb8>\\x98y\\xa9I[j\\x07u\\x01q\\xb6>wt\\xb72Th]G\\xa2=He\\xe9\\xb2%\\xc9\\xf8c\\x12>\\xeay\\n\\xd8\\xdb\\xe5k\\x9f@\\x0f\\xbe>\\x8bSP\\x99\\x01\\xb5\\xdfr\\x8b\\x14\\x9fQ\\x8c\\xf7\\x1a\\x95\\x12\\xf3Y\\x93\\xa2\\xaf\\x16\\xc99\\x9e\\xbeX)Z\\xa6\\xc7\\xed\\n~\\xa0Bv5}\\x99\\xa9\\xca\\xd4\\x1a\\xfcW\\x98O\\x8a\\x9a\\x93\\t\\xf15$\\xda\\xc9XPP\\x1cocc\\xdb\\x00\\x99\\xf3*|t\\x08\\x15\\\\\\x83\\x1c\\xd1$!\\xe4\\x99Twtx+\\xfd\\xe2\\x94\\xae\\xc0\\x90@6 \\xdc\\xf1k\\xe0\\xff\\x00\\xed\\x03\\x1et,\\x94\\xddn\\x86\\xd0zU2@\\x0e!N\\xa9\\xb4\\x96\\x9c\\xf2\\x92JH\"\\xc6\\xdf\\x9e*\\xeb9\\x9a\\xbe\\xd5V3\\xb5Z\\xc7\\xc4xn\\x15\\xa2$W\\x8b\\xa9\\xd0,HR\\x8a\\xb6\\x16#\\xb5\\xc9\\x1e\\xd8/\\x85\\xcc-\\xc6\\x00 vm\\xcf\\xf7\\x03gAK\\x99\\x82\\x8d\\xf6\\xa9\\xa7\\xce\\xe8\\xb0\\xd5\\x9f\\xf0\\xd4(\\xec\\xb5J\\xa6\\xc2\\x93-\\xd4\\x8b\\xad!zPm\\xbe\\xfa\\xbdq)E\\xe9\\xeci\\x90\\x10\\xfb\\xc9ejY&\\xe1v\\x1fK\\x9b\\xe1{\\x93\\xf2.n\\xcc\\xeeT$e\\x1a<\\xd9\\xf0\\x9e\\x90V\\x89JSL0\\x9b\\xfe&\\xf5)b\\xe4\\x11\\xbe\\x90w\\xc3J\\x8f\\xd1\\x0e\\xa01\\x05!\\xfa\\xf5.\\x88\\xb5\\x12\\xaf\\x85L\\xd5\\xae\\xde\\xe4\\x84Z\\xe6\\xdc\\r\\xb1\\xc3 \\xe0MP\\xe1\\xbf\\xcdt\\x85\\x7f\\xc54J\\x91\\xa7\\xce\\x11\\x13R\\xe9nS\\x96\\x97\\xd1\\x06\\x88\\xdcw\\x16A/\\x9b\\x90\\x80\\r\\xf0\\xa5\\xa2\\xfd\\x9f\\x9d\\xce\\x12*\\x13\\xb3\\xe4\\xf94\\xfc\\xa6\\xd4\\x92\\xd4yKj\\xcbsI\\xb7\\x97R\\x80\\x03\\xfd\\xc6\\xe0o\\x8ec\\x98\\x82\\x85\\xa9\\xa5\\x02\\x83K~ \\x8c\\xf5\\n2\\xf1\\xfd\\xc3\"\\x93\\xd0>\\x8f\\xe5\\xf6\\x9f\\x84\\xf4|\\xce\\xa7\\xe6\\xd9\\t\\xa8.\\xa4\\x16T\\x81\\xc0\\nH\\t\\t\\xefk[\\x8c.s\\xc7\\xd9J\\x9c\\x9a|\\xaa\\xa7Mk\\x92\\xaa\\x89\\x82\\xb0\\x97\\xa9\\x15$!2\\x05\\xbd\\x1c\\x04j\\xdb}\\xc6\\xe3\\xbe\\xf8\\xe69\\x84\\xa3\\x14\\x9bJ\\xaa\\x16w\\xe2}\\xe0Z\\xa5Y\\x14\\x14\\xb1\\x85M?\\xa5\\x19\\xb6=F=M\\xa8\\xadj\\x88\\xb4,\\x14\\xc8@H\\xb5\\x88\\t\\x04\\x80v\\xd5q\\xe8{`\\xb35R\\xd4i\\x95\\x01\\xe5[n2\\xa0\\x85\\xa0\\x85X\\x8f\\xc4.;\\x82?<s\\x1c\\xc3\\xf8\\x8c\\xca\\xdf,\\xba\\xaf\\xaa\\xb1{\\xe8;\\x8ai\\xc9\\x89!\\xf4-$\\x91\\xcc[\\xda\\x12\\x94\\xf9d\\xa8\\x05%F\\xd7\\xefrv7;\\xf3\\xdf\\xfb\\x18\\x92}\\x84\\xa9%\\xa7\\x12\\xa5\\x13\\xbf\\x98Xw\\xe4\\xf7\\xef\\xbe9\\x8eb\\xe44\\xace*\\xb2\\xc8\\xe7\\x10\\x8d8\\xa8ohRu\\xa0\\xde\\xfb\\\\+\\xf3\\xe4\\xed\\xc5\\xbd\\xfd1\\x81\\xf8%\\xb572\\x02\\x96\\x95\\\\\\xa9\\xb5\\xb4,\\xa4\\x7f\\xea\\xb7\\xa5\\xbd\\xfd\\xf1\\xccs\\x0b\\xd550\\x92J\\x08 \\xdcA\\xf6T\\xea\\xab\\xcd\\xad0sBS\\xaa\\xfaS$\\x80\\x01;\\x0f7\\xf5\\xf6\\xc3\\x01\\xd8\\xb1*m%\\xeaZ\\xd2W\\xc9Cj\\xfc\\xae/\\xb1\\xe7|s\\x1c\\xc5K\\x19\\x93f^\\x8e\\xb6(O\\x94o}\\x04\\xc7\\xa7\\xf1\\x048\\xcc\\xc2\\xb3d\\xa5\\x0e\\xe7\\xbc\\xef\\xef\\xce#\\x14\\x1cJ\\xca]I\\n\\xb6\\xe0\\xf1\\x7f\\\\n7%KB\\x1a}\\tu\\xbb\\xd9Ip\\xef\\xf9\\xf6\\xc71\\xccV\\xc9:\\xc6\\xc7\\xf5$V5^\\xa6\\xb2\\xa5x\\x8c\\xb6\\x97\\xaeO\\xe1Y\\n\\x1e\\xbcs\\x8c\\x90\\xa1\\xb4\\xcb\\xa9R\\x1fu\\x16U\\xb4\\xb8\\x9b\\x8b\\xf1\\xcf\\xf0\\xbe9\\x8eaEJ\\xea\\xc5L \\n\\xd6&4%\\xb4\\xa9)\\xda\\xc4[\\x9e\\x7f\\xbf\\xcf\\x05=$H_S\\xb2\\xd9\\xd4?c!o\\xeaRvICK#\\xf5\\x03\\x1c\\xc70\\xb9C\\xfc\\xe4\\x8e~\\xd0\\x1b\\x13\\xff\\x00\\xe3\\xa6\\x0f\\xfd\\x8b\\xff\\x00\\xf90\\xb7\\x98\\xa5\\xcb\\x9a\\xfb\\xcaQ+uZ\\xd5\\xb5\\xb5\\\\\\xea\\'os|\\x0b\\xe7\\xe0\\x912\\x05;\\xccS\\x16\"T\\xe0\\xd6O\\x9d\\xcf7\\x1f-?\\x9fm\\xb1\\xccs\\x05\\xf0^\\xd4\\xe2k\\xb0?=b\\xa1\\xd3\\xf7\\x14\\xce\\x04R\\x9d\\t\\x10=\\x0e\\x14\\x89/!\\x9ali\\x13\\x1et\\x9d\\r0\\xc2\\x9e:\\xbd\\x02S\\xb9?\\xf1\\xe9|\\x11\\x0e\\x91\\xf5\\x00G\\x12\\x1e\\xc8\\xd9\\x824}\\x94\\\\\\x91Nq\\xb4\\xa4{\\xeaH\\x03\\xbd\\x8f\\xfd\\xf1\\xccs\\x07\\xa7\\xe7\\x9d\\x94\\xfa\\x00\\xf1\\xfe\\xf1\\x87\\xe1\\xd8c\\x13a\\x05d\\xdc\\xd3\\xe5\\xa1\\xc9\\xf6^\\xe9\\xc4\\xcaVh\\xaaf\\x1c\\xd0\\xc7\\xc0\\xae\\x0cO\\x83\\xa74\\xe5\\x8a\\xf5\\xban\\xe3\\xa0\\x0fD\\x80\\x8b\\xff\\x00\\xb9C\\xd7\\x16\\xf6\\x92tJ^\\xad%Cs\\xa7\\xe5\\x8ec\\x98\\xaa\\xcd\\xcc\\xael\\x85\\xb9\\x07f$Z\\x90\\na\\xba\\xd3\\x9e\\xbfh\\x8b\\xce\\xf4\\x16\\xf3\\x16O\\xccT\\xb9\\x08\\x0bfd\\x07\\x9b)>\\xba\\t\\x07\\xf3\\x03\\x1f/\\xa9i\\x98\\xec\\xc4\\xb3Kbd\\xa9\\x0e\\xae\\xc9KHZ\\xdcZ\\xaeN\\x94\\x80\\t7\\xb7\\x00\\x1eN9\\x8ebn\\x0c\\xa2\\x948G/\\xbc\\x07u\\xa4\\xcc\\x14!\\\\~{E\\xf0\\xfb$\\'6d\\xac\\xbf\\x9e\\xa4\\xe7\\xdaM^\\x95N}\\xf8\\x92)\\xac\\xcd\\x88\\xea59\\xe1)/\\x147\\xa6\\xe0y[\\xb9\\xb6\\xff\\x00L1\\x9f\\xeal9\\x8f-\\xd3\\x99\\xa2\\xb5s\\xf8\\x0b\\xa1\\x1a}\\xb4\\xa8\\x02>\\xb8\\xe69\\x85NL\\xb8\\xeeT\\x9b\\x006\\xef\\xa4\\x13\\xc3\\xf0\\xe6?\\x98\\xa3r\\r6\\xe1\\xdd\\x1f\\xff\\xd9'"
      ]
     },
     "execution_count": 37,
     "metadata": {},
     "output_type": "execute_result"
    }
   ],
   "source": [
    "# liat contentnya\n",
    "# ini adalah binary code, bentukan img di computer\n",
    "img_link.content"
   ]
  },
  {
   "cell_type": "markdown",
   "metadata": {},
   "source": [
    "**tapi untung nya python bisa baca binary**"
   ]
  },
  {
   "cell_type": "code",
   "execution_count": 44,
   "metadata": {},
   "outputs": [],
   "source": [
    "# kita open new file (alias create)\n",
    "# habis ketik nama filenya, kalo mau di path beda sama script masukin pathnya\n",
    "# mode nya wb (write binary)\n",
    "f = open('Curry Sophomore.jpg','wb')"
   ]
  },
  {
   "cell_type": "code",
   "execution_count": 45,
   "metadata": {},
   "outputs": [
    {
     "data": {
      "text/plain": [
       "25687"
      ]
     },
     "execution_count": 45,
     "metadata": {},
     "output_type": "execute_result"
    }
   ],
   "source": [
    "# terus kita write filenya pake content image binarynya\n",
    "f.write(img_link.content)"
   ]
  },
  {
   "cell_type": "code",
   "execution_count": 46,
   "metadata": {},
   "outputs": [],
   "source": [
    "# terus jangan lupa close\n",
    "f.close()"
   ]
  },
  {
   "cell_type": "markdown",
   "metadata": {},
   "source": [
    "<img src = 'Curry Sophomore.jpg'>"
   ]
  },
  {
   "cell_type": "markdown",
   "metadata": {},
   "source": [
    "### Example Project - Working with Multiple Pages and Items\n",
    "\n",
    "Let's show a more realistic example of scraping a full site. The website: http://books.toscrape.com/index.html is specifically designed for people to scrape it. Let's try to get the title of every book that has a 2 star rating and at the end just have a Python list with all their titles.\n",
    "\n",
    "We will do the following:\n",
    "\n",
    "1. Figure out the URL structure to go through every page\n",
    "2. Scrap every page in the catalogue\n",
    "3. Figure out what tag/class represents the Star rating\n",
    "4. Filter by that star rating using an if statement\n",
    "5. Store the results to a list"
   ]
  },
  {
   "cell_type": "code",
   "execution_count": 49,
   "metadata": {},
   "outputs": [],
   "source": [
    "# kita bakalan get title dari semua buku yang ratingnya 2 stars"
   ]
  },
  {
   "cell_type": "code",
   "execution_count": null,
   "metadata": {},
   "outputs": [],
   "source": [
    "# kita harus cari tau gimana kita bisa access semua pagenya\n",
    "# pake for loop\n",
    "# ini structure linknya, didalemnya ada pagenya"
   ]
  },
  {
   "cell_type": "markdown",
   "metadata": {},
   "source": [
    "    http://books.toscrape.com/catalogue/page-1.html"
   ]
  },
  {
   "cell_type": "code",
   "execution_count": 51,
   "metadata": {},
   "outputs": [],
   "source": [
    "# kita bisa pake .format buat gonta ganti pagenya\n",
    "base_url = 'http://books.toscrape.com/catalogue/page-{}.html'"
   ]
  },
  {
   "cell_type": "code",
   "execution_count": 52,
   "metadata": {},
   "outputs": [
    {
     "data": {
      "text/plain": [
       "'http://books.toscrape.com/catalogue/page-1.html'"
      ]
     },
     "execution_count": 52,
     "metadata": {},
     "output_type": "execute_result"
    }
   ],
   "source": [
    "# tinggal masukin nomor pagenya\n",
    "base_url.format('1')"
   ]
  },
  {
   "cell_type": "code",
   "execution_count": 53,
   "metadata": {},
   "outputs": [],
   "source": [
    "# skrg kita get request pagenya\n",
    "res = requests.get(base_url.format('1'))"
   ]
  },
  {
   "cell_type": "code",
   "execution_count": 50,
   "metadata": {},
   "outputs": [],
   "source": [
    "# kita bisa liat kalo arahin ke bintangnya, diatas itu ada class star-rating\n",
    "# terus liat setiap buku itu ada class product_pod"
   ]
  },
  {
   "cell_type": "code",
   "execution_count": 54,
   "metadata": {},
   "outputs": [],
   "source": [
    "# skrg kita grab products(buku) dari get requestnya\n",
    "soup = bs4.BeautifulSoup(res.text,\"lxml\")"
   ]
  },
  {
   "cell_type": "code",
   "execution_count": 55,
   "metadata": {},
   "outputs": [
    {
     "data": {
      "text/plain": [
       "[<article class=\"product_pod\">\n",
       " <div class=\"image_container\">\n",
       " <a href=\"a-light-in-the-attic_1000/index.html\"><img alt=\"A Light in the Attic\" class=\"thumbnail\" src=\"../media/cache/2c/da/2cdad67c44b002e7ead0cc35693c0e8b.jpg\"/></a>\n",
       " </div>\n",
       " <p class=\"star-rating Three\">\n",
       " <i class=\"icon-star\"></i>\n",
       " <i class=\"icon-star\"></i>\n",
       " <i class=\"icon-star\"></i>\n",
       " <i class=\"icon-star\"></i>\n",
       " <i class=\"icon-star\"></i>\n",
       " </p>\n",
       " <h3><a href=\"a-light-in-the-attic_1000/index.html\" title=\"A Light in the Attic\">A Light in the ...</a></h3>\n",
       " <div class=\"product_price\">\n",
       " <p class=\"price_color\">Â£51.77</p>\n",
       " <p class=\"instock availability\">\n",
       " <i class=\"icon-ok\"></i>\n",
       "     \n",
       "         In stock\n",
       "     \n",
       " </p>\n",
       " <form>\n",
       " <button class=\"btn btn-primary btn-block\" data-loading-text=\"Adding...\" type=\"submit\">Add to basket</button>\n",
       " </form>\n",
       " </div>\n",
       " </article>,\n",
       " <article class=\"product_pod\">\n",
       " <div class=\"image_container\">\n",
       " <a href=\"tipping-the-velvet_999/index.html\"><img alt=\"Tipping the Velvet\" class=\"thumbnail\" src=\"../media/cache/26/0c/260c6ae16bce31c8f8c95daddd9f4a1c.jpg\"/></a>\n",
       " </div>\n",
       " <p class=\"star-rating One\">\n",
       " <i class=\"icon-star\"></i>\n",
       " <i class=\"icon-star\"></i>\n",
       " <i class=\"icon-star\"></i>\n",
       " <i class=\"icon-star\"></i>\n",
       " <i class=\"icon-star\"></i>\n",
       " </p>\n",
       " <h3><a href=\"tipping-the-velvet_999/index.html\" title=\"Tipping the Velvet\">Tipping the Velvet</a></h3>\n",
       " <div class=\"product_price\">\n",
       " <p class=\"price_color\">Â£53.74</p>\n",
       " <p class=\"instock availability\">\n",
       " <i class=\"icon-ok\"></i>\n",
       "     \n",
       "         In stock\n",
       "     \n",
       " </p>\n",
       " <form>\n",
       " <button class=\"btn btn-primary btn-block\" data-loading-text=\"Adding...\" type=\"submit\">Add to basket</button>\n",
       " </form>\n",
       " </div>\n",
       " </article>,\n",
       " <article class=\"product_pod\">\n",
       " <div class=\"image_container\">\n",
       " <a href=\"soumission_998/index.html\"><img alt=\"Soumission\" class=\"thumbnail\" src=\"../media/cache/3e/ef/3eef99c9d9adef34639f510662022830.jpg\"/></a>\n",
       " </div>\n",
       " <p class=\"star-rating One\">\n",
       " <i class=\"icon-star\"></i>\n",
       " <i class=\"icon-star\"></i>\n",
       " <i class=\"icon-star\"></i>\n",
       " <i class=\"icon-star\"></i>\n",
       " <i class=\"icon-star\"></i>\n",
       " </p>\n",
       " <h3><a href=\"soumission_998/index.html\" title=\"Soumission\">Soumission</a></h3>\n",
       " <div class=\"product_price\">\n",
       " <p class=\"price_color\">Â£50.10</p>\n",
       " <p class=\"instock availability\">\n",
       " <i class=\"icon-ok\"></i>\n",
       "     \n",
       "         In stock\n",
       "     \n",
       " </p>\n",
       " <form>\n",
       " <button class=\"btn btn-primary btn-block\" data-loading-text=\"Adding...\" type=\"submit\">Add to basket</button>\n",
       " </form>\n",
       " </div>\n",
       " </article>,\n",
       " <article class=\"product_pod\">\n",
       " <div class=\"image_container\">\n",
       " <a href=\"sharp-objects_997/index.html\"><img alt=\"Sharp Objects\" class=\"thumbnail\" src=\"../media/cache/32/51/3251cf3a3412f53f339e42cac2134093.jpg\"/></a>\n",
       " </div>\n",
       " <p class=\"star-rating Four\">\n",
       " <i class=\"icon-star\"></i>\n",
       " <i class=\"icon-star\"></i>\n",
       " <i class=\"icon-star\"></i>\n",
       " <i class=\"icon-star\"></i>\n",
       " <i class=\"icon-star\"></i>\n",
       " </p>\n",
       " <h3><a href=\"sharp-objects_997/index.html\" title=\"Sharp Objects\">Sharp Objects</a></h3>\n",
       " <div class=\"product_price\">\n",
       " <p class=\"price_color\">Â£47.82</p>\n",
       " <p class=\"instock availability\">\n",
       " <i class=\"icon-ok\"></i>\n",
       "     \n",
       "         In stock\n",
       "     \n",
       " </p>\n",
       " <form>\n",
       " <button class=\"btn btn-primary btn-block\" data-loading-text=\"Adding...\" type=\"submit\">Add to basket</button>\n",
       " </form>\n",
       " </div>\n",
       " </article>,\n",
       " <article class=\"product_pod\">\n",
       " <div class=\"image_container\">\n",
       " <a href=\"sapiens-a-brief-history-of-humankind_996/index.html\"><img alt=\"Sapiens: A Brief History of Humankind\" class=\"thumbnail\" src=\"../media/cache/be/a5/bea5697f2534a2f86a3ef27b5a8c12a6.jpg\"/></a>\n",
       " </div>\n",
       " <p class=\"star-rating Five\">\n",
       " <i class=\"icon-star\"></i>\n",
       " <i class=\"icon-star\"></i>\n",
       " <i class=\"icon-star\"></i>\n",
       " <i class=\"icon-star\"></i>\n",
       " <i class=\"icon-star\"></i>\n",
       " </p>\n",
       " <h3><a href=\"sapiens-a-brief-history-of-humankind_996/index.html\" title=\"Sapiens: A Brief History of Humankind\">Sapiens: A Brief History ...</a></h3>\n",
       " <div class=\"product_price\">\n",
       " <p class=\"price_color\">Â£54.23</p>\n",
       " <p class=\"instock availability\">\n",
       " <i class=\"icon-ok\"></i>\n",
       "     \n",
       "         In stock\n",
       "     \n",
       " </p>\n",
       " <form>\n",
       " <button class=\"btn btn-primary btn-block\" data-loading-text=\"Adding...\" type=\"submit\">Add to basket</button>\n",
       " </form>\n",
       " </div>\n",
       " </article>,\n",
       " <article class=\"product_pod\">\n",
       " <div class=\"image_container\">\n",
       " <a href=\"the-requiem-red_995/index.html\"><img alt=\"The Requiem Red\" class=\"thumbnail\" src=\"../media/cache/68/33/68339b4c9bc034267e1da611ab3b34f8.jpg\"/></a>\n",
       " </div>\n",
       " <p class=\"star-rating One\">\n",
       " <i class=\"icon-star\"></i>\n",
       " <i class=\"icon-star\"></i>\n",
       " <i class=\"icon-star\"></i>\n",
       " <i class=\"icon-star\"></i>\n",
       " <i class=\"icon-star\"></i>\n",
       " </p>\n",
       " <h3><a href=\"the-requiem-red_995/index.html\" title=\"The Requiem Red\">The Requiem Red</a></h3>\n",
       " <div class=\"product_price\">\n",
       " <p class=\"price_color\">Â£22.65</p>\n",
       " <p class=\"instock availability\">\n",
       " <i class=\"icon-ok\"></i>\n",
       "     \n",
       "         In stock\n",
       "     \n",
       " </p>\n",
       " <form>\n",
       " <button class=\"btn btn-primary btn-block\" data-loading-text=\"Adding...\" type=\"submit\">Add to basket</button>\n",
       " </form>\n",
       " </div>\n",
       " </article>,\n",
       " <article class=\"product_pod\">\n",
       " <div class=\"image_container\">\n",
       " <a href=\"the-dirty-little-secrets-of-getting-your-dream-job_994/index.html\"><img alt=\"The Dirty Little Secrets of Getting Your Dream Job\" class=\"thumbnail\" src=\"../media/cache/92/27/92274a95b7c251fea59a2b8a78275ab4.jpg\"/></a>\n",
       " </div>\n",
       " <p class=\"star-rating Four\">\n",
       " <i class=\"icon-star\"></i>\n",
       " <i class=\"icon-star\"></i>\n",
       " <i class=\"icon-star\"></i>\n",
       " <i class=\"icon-star\"></i>\n",
       " <i class=\"icon-star\"></i>\n",
       " </p>\n",
       " <h3><a href=\"the-dirty-little-secrets-of-getting-your-dream-job_994/index.html\" title=\"The Dirty Little Secrets of Getting Your Dream Job\">The Dirty Little Secrets ...</a></h3>\n",
       " <div class=\"product_price\">\n",
       " <p class=\"price_color\">Â£33.34</p>\n",
       " <p class=\"instock availability\">\n",
       " <i class=\"icon-ok\"></i>\n",
       "     \n",
       "         In stock\n",
       "     \n",
       " </p>\n",
       " <form>\n",
       " <button class=\"btn btn-primary btn-block\" data-loading-text=\"Adding...\" type=\"submit\">Add to basket</button>\n",
       " </form>\n",
       " </div>\n",
       " </article>,\n",
       " <article class=\"product_pod\">\n",
       " <div class=\"image_container\">\n",
       " <a href=\"the-coming-woman-a-novel-based-on-the-life-of-the-infamous-feminist-victoria-woodhull_993/index.html\"><img alt=\"The Coming Woman: A Novel Based on the Life of the Infamous Feminist, Victoria Woodhull\" class=\"thumbnail\" src=\"../media/cache/3d/54/3d54940e57e662c4dd1f3ff00c78cc64.jpg\"/></a>\n",
       " </div>\n",
       " <p class=\"star-rating Three\">\n",
       " <i class=\"icon-star\"></i>\n",
       " <i class=\"icon-star\"></i>\n",
       " <i class=\"icon-star\"></i>\n",
       " <i class=\"icon-star\"></i>\n",
       " <i class=\"icon-star\"></i>\n",
       " </p>\n",
       " <h3><a href=\"the-coming-woman-a-novel-based-on-the-life-of-the-infamous-feminist-victoria-woodhull_993/index.html\" title=\"The Coming Woman: A Novel Based on the Life of the Infamous Feminist, Victoria Woodhull\">The Coming Woman: A ...</a></h3>\n",
       " <div class=\"product_price\">\n",
       " <p class=\"price_color\">Â£17.93</p>\n",
       " <p class=\"instock availability\">\n",
       " <i class=\"icon-ok\"></i>\n",
       "     \n",
       "         In stock\n",
       "     \n",
       " </p>\n",
       " <form>\n",
       " <button class=\"btn btn-primary btn-block\" data-loading-text=\"Adding...\" type=\"submit\">Add to basket</button>\n",
       " </form>\n",
       " </div>\n",
       " </article>,\n",
       " <article class=\"product_pod\">\n",
       " <div class=\"image_container\">\n",
       " <a href=\"the-boys-in-the-boat-nine-americans-and-their-epic-quest-for-gold-at-the-1936-berlin-olympics_992/index.html\"><img alt=\"The Boys in the Boat: Nine Americans and Their Epic Quest for Gold at the 1936 Berlin Olympics\" class=\"thumbnail\" src=\"../media/cache/66/88/66883b91f6804b2323c8369331cb7dd1.jpg\"/></a>\n",
       " </div>\n",
       " <p class=\"star-rating Four\">\n",
       " <i class=\"icon-star\"></i>\n",
       " <i class=\"icon-star\"></i>\n",
       " <i class=\"icon-star\"></i>\n",
       " <i class=\"icon-star\"></i>\n",
       " <i class=\"icon-star\"></i>\n",
       " </p>\n",
       " <h3><a href=\"the-boys-in-the-boat-nine-americans-and-their-epic-quest-for-gold-at-the-1936-berlin-olympics_992/index.html\" title=\"The Boys in the Boat: Nine Americans and Their Epic Quest for Gold at the 1936 Berlin Olympics\">The Boys in the ...</a></h3>\n",
       " <div class=\"product_price\">\n",
       " <p class=\"price_color\">Â£22.60</p>\n",
       " <p class=\"instock availability\">\n",
       " <i class=\"icon-ok\"></i>\n",
       "     \n",
       "         In stock\n",
       "     \n",
       " </p>\n",
       " <form>\n",
       " <button class=\"btn btn-primary btn-block\" data-loading-text=\"Adding...\" type=\"submit\">Add to basket</button>\n",
       " </form>\n",
       " </div>\n",
       " </article>,\n",
       " <article class=\"product_pod\">\n",
       " <div class=\"image_container\">\n",
       " <a href=\"the-black-maria_991/index.html\"><img alt=\"The Black Maria\" class=\"thumbnail\" src=\"../media/cache/58/46/5846057e28022268153beff6d352b06c.jpg\"/></a>\n",
       " </div>\n",
       " <p class=\"star-rating One\">\n",
       " <i class=\"icon-star\"></i>\n",
       " <i class=\"icon-star\"></i>\n",
       " <i class=\"icon-star\"></i>\n",
       " <i class=\"icon-star\"></i>\n",
       " <i class=\"icon-star\"></i>\n",
       " </p>\n",
       " <h3><a href=\"the-black-maria_991/index.html\" title=\"The Black Maria\">The Black Maria</a></h3>\n",
       " <div class=\"product_price\">\n",
       " <p class=\"price_color\">Â£52.15</p>\n",
       " <p class=\"instock availability\">\n",
       " <i class=\"icon-ok\"></i>\n",
       "     \n",
       "         In stock\n",
       "     \n",
       " </p>\n",
       " <form>\n",
       " <button class=\"btn btn-primary btn-block\" data-loading-text=\"Adding...\" type=\"submit\">Add to basket</button>\n",
       " </form>\n",
       " </div>\n",
       " </article>,\n",
       " <article class=\"product_pod\">\n",
       " <div class=\"image_container\">\n",
       " <a href=\"starving-hearts-triangular-trade-trilogy-1_990/index.html\"><img alt=\"Starving Hearts (Triangular Trade Trilogy, #1)\" class=\"thumbnail\" src=\"../media/cache/be/f4/bef44da28c98f905a3ebec0b87be8530.jpg\"/></a>\n",
       " </div>\n",
       " <p class=\"star-rating Two\">\n",
       " <i class=\"icon-star\"></i>\n",
       " <i class=\"icon-star\"></i>\n",
       " <i class=\"icon-star\"></i>\n",
       " <i class=\"icon-star\"></i>\n",
       " <i class=\"icon-star\"></i>\n",
       " </p>\n",
       " <h3><a href=\"starving-hearts-triangular-trade-trilogy-1_990/index.html\" title=\"Starving Hearts (Triangular Trade Trilogy, #1)\">Starving Hearts (Triangular Trade ...</a></h3>\n",
       " <div class=\"product_price\">\n",
       " <p class=\"price_color\">Â£13.99</p>\n",
       " <p class=\"instock availability\">\n",
       " <i class=\"icon-ok\"></i>\n",
       "     \n",
       "         In stock\n",
       "     \n",
       " </p>\n",
       " <form>\n",
       " <button class=\"btn btn-primary btn-block\" data-loading-text=\"Adding...\" type=\"submit\">Add to basket</button>\n",
       " </form>\n",
       " </div>\n",
       " </article>,\n",
       " <article class=\"product_pod\">\n",
       " <div class=\"image_container\">\n",
       " <a href=\"shakespeares-sonnets_989/index.html\"><img alt=\"Shakespeare's Sonnets\" class=\"thumbnail\" src=\"../media/cache/10/48/1048f63d3b5061cd2f424d20b3f9b666.jpg\"/></a>\n",
       " </div>\n",
       " <p class=\"star-rating Four\">\n",
       " <i class=\"icon-star\"></i>\n",
       " <i class=\"icon-star\"></i>\n",
       " <i class=\"icon-star\"></i>\n",
       " <i class=\"icon-star\"></i>\n",
       " <i class=\"icon-star\"></i>\n",
       " </p>\n",
       " <h3><a href=\"shakespeares-sonnets_989/index.html\" title=\"Shakespeare's Sonnets\">Shakespeare's Sonnets</a></h3>\n",
       " <div class=\"product_price\">\n",
       " <p class=\"price_color\">Â£20.66</p>\n",
       " <p class=\"instock availability\">\n",
       " <i class=\"icon-ok\"></i>\n",
       "     \n",
       "         In stock\n",
       "     \n",
       " </p>\n",
       " <form>\n",
       " <button class=\"btn btn-primary btn-block\" data-loading-text=\"Adding...\" type=\"submit\">Add to basket</button>\n",
       " </form>\n",
       " </div>\n",
       " </article>,\n",
       " <article class=\"product_pod\">\n",
       " <div class=\"image_container\">\n",
       " <a href=\"set-me-free_988/index.html\"><img alt=\"Set Me Free\" class=\"thumbnail\" src=\"../media/cache/5b/88/5b88c52633f53cacf162c15f4f823153.jpg\"/></a>\n",
       " </div>\n",
       " <p class=\"star-rating Five\">\n",
       " <i class=\"icon-star\"></i>\n",
       " <i class=\"icon-star\"></i>\n",
       " <i class=\"icon-star\"></i>\n",
       " <i class=\"icon-star\"></i>\n",
       " <i class=\"icon-star\"></i>\n",
       " </p>\n",
       " <h3><a href=\"set-me-free_988/index.html\" title=\"Set Me Free\">Set Me Free</a></h3>\n",
       " <div class=\"product_price\">\n",
       " <p class=\"price_color\">Â£17.46</p>\n",
       " <p class=\"instock availability\">\n",
       " <i class=\"icon-ok\"></i>\n",
       "     \n",
       "         In stock\n",
       "     \n",
       " </p>\n",
       " <form>\n",
       " <button class=\"btn btn-primary btn-block\" data-loading-text=\"Adding...\" type=\"submit\">Add to basket</button>\n",
       " </form>\n",
       " </div>\n",
       " </article>,\n",
       " <article class=\"product_pod\">\n",
       " <div class=\"image_container\">\n",
       " <a href=\"scott-pilgrims-precious-little-life-scott-pilgrim-1_987/index.html\"><img alt=\"Scott Pilgrim's Precious Little Life (Scott Pilgrim #1)\" class=\"thumbnail\" src=\"../media/cache/94/b1/94b1b8b244bce9677c2f29ccc890d4d2.jpg\"/></a>\n",
       " </div>\n",
       " <p class=\"star-rating Five\">\n",
       " <i class=\"icon-star\"></i>\n",
       " <i class=\"icon-star\"></i>\n",
       " <i class=\"icon-star\"></i>\n",
       " <i class=\"icon-star\"></i>\n",
       " <i class=\"icon-star\"></i>\n",
       " </p>\n",
       " <h3><a href=\"scott-pilgrims-precious-little-life-scott-pilgrim-1_987/index.html\" title=\"Scott Pilgrim's Precious Little Life (Scott Pilgrim #1)\">Scott Pilgrim's Precious Little ...</a></h3>\n",
       " <div class=\"product_price\">\n",
       " <p class=\"price_color\">Â£52.29</p>\n",
       " <p class=\"instock availability\">\n",
       " <i class=\"icon-ok\"></i>\n",
       "     \n",
       "         In stock\n",
       "     \n",
       " </p>\n",
       " <form>\n",
       " <button class=\"btn btn-primary btn-block\" data-loading-text=\"Adding...\" type=\"submit\">Add to basket</button>\n",
       " </form>\n",
       " </div>\n",
       " </article>,\n",
       " <article class=\"product_pod\">\n",
       " <div class=\"image_container\">\n",
       " <a href=\"rip-it-up-and-start-again_986/index.html\"><img alt=\"Rip it Up and Start Again\" class=\"thumbnail\" src=\"../media/cache/81/c4/81c4a973364e17d01f217e1188253d5e.jpg\"/></a>\n",
       " </div>\n",
       " <p class=\"star-rating Five\">\n",
       " <i class=\"icon-star\"></i>\n",
       " <i class=\"icon-star\"></i>\n",
       " <i class=\"icon-star\"></i>\n",
       " <i class=\"icon-star\"></i>\n",
       " <i class=\"icon-star\"></i>\n",
       " </p>\n",
       " <h3><a href=\"rip-it-up-and-start-again_986/index.html\" title=\"Rip it Up and Start Again\">Rip it Up and ...</a></h3>\n",
       " <div class=\"product_price\">\n",
       " <p class=\"price_color\">Â£35.02</p>\n",
       " <p class=\"instock availability\">\n",
       " <i class=\"icon-ok\"></i>\n",
       "     \n",
       "         In stock\n",
       "     \n",
       " </p>\n",
       " <form>\n",
       " <button class=\"btn btn-primary btn-block\" data-loading-text=\"Adding...\" type=\"submit\">Add to basket</button>\n",
       " </form>\n",
       " </div>\n",
       " </article>,\n",
       " <article class=\"product_pod\">\n",
       " <div class=\"image_container\">\n",
       " <a href=\"our-band-could-be-your-life-scenes-from-the-american-indie-underground-1981-1991_985/index.html\"><img alt=\"Our Band Could Be Your Life: Scenes from the American Indie Underground, 1981-1991\" class=\"thumbnail\" src=\"../media/cache/54/60/54607fe8945897cdcced0044103b10b6.jpg\"/></a>\n",
       " </div>\n",
       " <p class=\"star-rating Three\">\n",
       " <i class=\"icon-star\"></i>\n",
       " <i class=\"icon-star\"></i>\n",
       " <i class=\"icon-star\"></i>\n",
       " <i class=\"icon-star\"></i>\n",
       " <i class=\"icon-star\"></i>\n",
       " </p>\n",
       " <h3><a href=\"our-band-could-be-your-life-scenes-from-the-american-indie-underground-1981-1991_985/index.html\" title=\"Our Band Could Be Your Life: Scenes from the American Indie Underground, 1981-1991\">Our Band Could Be ...</a></h3>\n",
       " <div class=\"product_price\">\n",
       " <p class=\"price_color\">Â£57.25</p>\n",
       " <p class=\"instock availability\">\n",
       " <i class=\"icon-ok\"></i>\n",
       "     \n",
       "         In stock\n",
       "     \n",
       " </p>\n",
       " <form>\n",
       " <button class=\"btn btn-primary btn-block\" data-loading-text=\"Adding...\" type=\"submit\">Add to basket</button>\n",
       " </form>\n",
       " </div>\n",
       " </article>,\n",
       " <article class=\"product_pod\">\n",
       " <div class=\"image_container\">\n",
       " <a href=\"olio_984/index.html\"><img alt=\"Olio\" class=\"thumbnail\" src=\"../media/cache/55/33/553310a7162dfbc2c6d19a84da0df9e1.jpg\"/></a>\n",
       " </div>\n",
       " <p class=\"star-rating One\">\n",
       " <i class=\"icon-star\"></i>\n",
       " <i class=\"icon-star\"></i>\n",
       " <i class=\"icon-star\"></i>\n",
       " <i class=\"icon-star\"></i>\n",
       " <i class=\"icon-star\"></i>\n",
       " </p>\n",
       " <h3><a href=\"olio_984/index.html\" title=\"Olio\">Olio</a></h3>\n",
       " <div class=\"product_price\">\n",
       " <p class=\"price_color\">Â£23.88</p>\n",
       " <p class=\"instock availability\">\n",
       " <i class=\"icon-ok\"></i>\n",
       "     \n",
       "         In stock\n",
       "     \n",
       " </p>\n",
       " <form>\n",
       " <button class=\"btn btn-primary btn-block\" data-loading-text=\"Adding...\" type=\"submit\">Add to basket</button>\n",
       " </form>\n",
       " </div>\n",
       " </article>,\n",
       " <article class=\"product_pod\">\n",
       " <div class=\"image_container\">\n",
       " <a href=\"mesaerion-the-best-science-fiction-stories-1800-1849_983/index.html\"><img alt=\"Mesaerion: The Best Science Fiction Stories 1800-1849\" class=\"thumbnail\" src=\"../media/cache/09/a3/09a3aef48557576e1a85ba7efea8ecb7.jpg\"/></a>\n",
       " </div>\n",
       " <p class=\"star-rating One\">\n",
       " <i class=\"icon-star\"></i>\n",
       " <i class=\"icon-star\"></i>\n",
       " <i class=\"icon-star\"></i>\n",
       " <i class=\"icon-star\"></i>\n",
       " <i class=\"icon-star\"></i>\n",
       " </p>\n",
       " <h3><a href=\"mesaerion-the-best-science-fiction-stories-1800-1849_983/index.html\" title=\"Mesaerion: The Best Science Fiction Stories 1800-1849\">Mesaerion: The Best Science ...</a></h3>\n",
       " <div class=\"product_price\">\n",
       " <p class=\"price_color\">Â£37.59</p>\n",
       " <p class=\"instock availability\">\n",
       " <i class=\"icon-ok\"></i>\n",
       "     \n",
       "         In stock\n",
       "     \n",
       " </p>\n",
       " <form>\n",
       " <button class=\"btn btn-primary btn-block\" data-loading-text=\"Adding...\" type=\"submit\">Add to basket</button>\n",
       " </form>\n",
       " </div>\n",
       " </article>,\n",
       " <article class=\"product_pod\">\n",
       " <div class=\"image_container\">\n",
       " <a href=\"libertarianism-for-beginners_982/index.html\"><img alt=\"Libertarianism for Beginners\" class=\"thumbnail\" src=\"../media/cache/0b/bc/0bbcd0a6f4bcd81ccb1049a52736406e.jpg\"/></a>\n",
       " </div>\n",
       " <p class=\"star-rating Two\">\n",
       " <i class=\"icon-star\"></i>\n",
       " <i class=\"icon-star\"></i>\n",
       " <i class=\"icon-star\"></i>\n",
       " <i class=\"icon-star\"></i>\n",
       " <i class=\"icon-star\"></i>\n",
       " </p>\n",
       " <h3><a href=\"libertarianism-for-beginners_982/index.html\" title=\"Libertarianism for Beginners\">Libertarianism for Beginners</a></h3>\n",
       " <div class=\"product_price\">\n",
       " <p class=\"price_color\">Â£51.33</p>\n",
       " <p class=\"instock availability\">\n",
       " <i class=\"icon-ok\"></i>\n",
       "     \n",
       "         In stock\n",
       "     \n",
       " </p>\n",
       " <form>\n",
       " <button class=\"btn btn-primary btn-block\" data-loading-text=\"Adding...\" type=\"submit\">Add to basket</button>\n",
       " </form>\n",
       " </div>\n",
       " </article>,\n",
       " <article class=\"product_pod\">\n",
       " <div class=\"image_container\">\n",
       " <a href=\"its-only-the-himalayas_981/index.html\"><img alt=\"It's Only the Himalayas\" class=\"thumbnail\" src=\"../media/cache/27/a5/27a53d0bb95bdd88288eaf66c9230d7e.jpg\"/></a>\n",
       " </div>\n",
       " <p class=\"star-rating Two\">\n",
       " <i class=\"icon-star\"></i>\n",
       " <i class=\"icon-star\"></i>\n",
       " <i class=\"icon-star\"></i>\n",
       " <i class=\"icon-star\"></i>\n",
       " <i class=\"icon-star\"></i>\n",
       " </p>\n",
       " <h3><a href=\"its-only-the-himalayas_981/index.html\" title=\"It's Only the Himalayas\">It's Only the Himalayas</a></h3>\n",
       " <div class=\"product_price\">\n",
       " <p class=\"price_color\">Â£45.17</p>\n",
       " <p class=\"instock availability\">\n",
       " <i class=\"icon-ok\"></i>\n",
       "     \n",
       "         In stock\n",
       "     \n",
       " </p>\n",
       " <form>\n",
       " <button class=\"btn btn-primary btn-block\" data-loading-text=\"Adding...\" type=\"submit\">Add to basket</button>\n",
       " </form>\n",
       " </div>\n",
       " </article>]"
      ]
     },
     "execution_count": 55,
     "metadata": {},
     "output_type": "execute_result"
    }
   ],
   "source": [
    "soup.select('.product_pod')"
   ]
  },
  {
   "cell_type": "code",
   "execution_count": 56,
   "metadata": {},
   "outputs": [],
   "source": [
    "products = soup.select('.product_pod')"
   ]
  },
  {
   "cell_type": "code",
   "execution_count": 57,
   "metadata": {},
   "outputs": [],
   "source": [
    "# sekarang kita coba terapin sistem nya"
   ]
  },
  {
   "cell_type": "code",
   "execution_count": 58,
   "metadata": {},
   "outputs": [],
   "source": [
    "# pertama kita harus tau gimana cara ngecek kalo product itu 2 stars\n",
    "\n",
    "# kita coba pake contoh product pertama\n",
    "example = products[0]"
   ]
  },
  {
   "cell_type": "code",
   "execution_count": 59,
   "metadata": {},
   "outputs": [
    {
     "data": {
      "text/plain": [
       "<article class=\"product_pod\">\n",
       "<div class=\"image_container\">\n",
       "<a href=\"a-light-in-the-attic_1000/index.html\"><img alt=\"A Light in the Attic\" class=\"thumbnail\" src=\"../media/cache/2c/da/2cdad67c44b002e7ead0cc35693c0e8b.jpg\"/></a>\n",
       "</div>\n",
       "<p class=\"star-rating Three\">\n",
       "<i class=\"icon-star\"></i>\n",
       "<i class=\"icon-star\"></i>\n",
       "<i class=\"icon-star\"></i>\n",
       "<i class=\"icon-star\"></i>\n",
       "<i class=\"icon-star\"></i>\n",
       "</p>\n",
       "<h3><a href=\"a-light-in-the-attic_1000/index.html\" title=\"A Light in the Attic\">A Light in the ...</a></h3>\n",
       "<div class=\"product_price\">\n",
       "<p class=\"price_color\">Â£51.77</p>\n",
       "<p class=\"instock availability\">\n",
       "<i class=\"icon-ok\"></i>\n",
       "    \n",
       "        In stock\n",
       "    \n",
       "</p>\n",
       "<form>\n",
       "<button class=\"btn btn-primary btn-block\" data-loading-text=\"Adding...\" type=\"submit\">Add to basket</button>\n",
       "</form>\n",
       "</div>\n",
       "</article>"
      ]
     },
     "execution_count": 59,
     "metadata": {},
     "output_type": "execute_result"
    }
   ],
   "source": [
    "example"
   ]
  },
  {
   "cell_type": "code",
   "execution_count": 60,
   "metadata": {},
   "outputs": [
    {
     "data": {
      "text/plain": [
       "bs4.element.Tag"
      ]
     },
     "execution_count": 60,
     "metadata": {},
     "output_type": "execute_result"
    }
   ],
   "source": [
    "type(example)"
   ]
  },
  {
   "cell_type": "code",
   "execution_count": 62,
   "metadata": {},
   "outputs": [
    {
     "data": {
      "text/plain": [
       "False"
      ]
     },
     "execution_count": 62,
     "metadata": {},
     "output_type": "execute_result"
    }
   ],
   "source": [
    "# cara pertama, kita jadiin string terus check class nya pake IN\n",
    "'star-rating Two' in str(example)"
   ]
  },
  {
   "cell_type": "code",
   "execution_count": 64,
   "metadata": {},
   "outputs": [
    {
     "data": {
      "text/plain": [
       "True"
      ]
     },
     "execution_count": 64,
     "metadata": {},
     "output_type": "execute_result"
    }
   ],
   "source": [
    "# buku ini ratingnya 3 stars kita coba cek\n",
    "'star-rating Three' in str(example)"
   ]
  },
  {
   "cell_type": "code",
   "execution_count": 70,
   "metadata": {},
   "outputs": [
    {
     "data": {
      "text/plain": [
       "[<p class=\"star-rating Three\">\n",
       " <i class=\"icon-star\"></i>\n",
       " <i class=\"icon-star\"></i>\n",
       " <i class=\"icon-star\"></i>\n",
       " <i class=\"icon-star\"></i>\n",
       " <i class=\"icon-star\"></i>\n",
       " </p>]"
      ]
     },
     "execution_count": 70,
     "metadata": {},
     "output_type": "execute_result"
    }
   ],
   "source": [
    "# cara kedua, check pake class nya\n",
    "\n",
    "# NOTE kalo ada spasi ganti pake '.' titik\n",
    "example.select('.star-rating.Three')"
   ]
  },
  {
   "cell_type": "code",
   "execution_count": 71,
   "metadata": {},
   "outputs": [
    {
     "data": {
      "text/plain": [
       "[]"
      ]
     },
     "execution_count": 71,
     "metadata": {},
     "output_type": "execute_result"
    }
   ],
   "source": [
    "example.select('.star-rating.Two')"
   ]
  },
  {
   "cell_type": "markdown",
   "metadata": {},
   "source": [
    "kita bisa liat dia bakal munculin isi classnya, jadi cara ngeceknya itu pake list kosong"
   ]
  },
  {
   "cell_type": "code",
   "execution_count": 72,
   "metadata": {},
   "outputs": [
    {
     "data": {
      "text/plain": [
       "True"
      ]
     },
     "execution_count": 72,
     "metadata": {},
     "output_type": "execute_result"
    }
   ],
   "source": [
    "# ini artinya bukan\n",
    "[] == example.select('.star-rating.Two')"
   ]
  },
  {
   "cell_type": "code",
   "execution_count": 77,
   "metadata": {},
   "outputs": [
    {
     "data": {
      "text/plain": [
       "False"
      ]
     },
     "execution_count": 77,
     "metadata": {},
     "output_type": "execute_result"
    }
   ],
   "source": [
    "# atau\n",
    "len(example.select('.star-rating.Two')) != 0"
   ]
  },
  {
   "cell_type": "code",
   "execution_count": 73,
   "metadata": {},
   "outputs": [
    {
     "data": {
      "text/plain": [
       "False"
      ]
     },
     "execution_count": 73,
     "metadata": {},
     "output_type": "execute_result"
    }
   ],
   "source": [
    "# ini artinya iya\n",
    "[] == example.select('.star-rating.Three')"
   ]
  },
  {
   "cell_type": "code",
   "execution_count": 78,
   "metadata": {},
   "outputs": [
    {
     "data": {
      "text/plain": [
       "True"
      ]
     },
     "execution_count": 78,
     "metadata": {},
     "output_type": "execute_result"
    }
   ],
   "source": [
    "# atau\n",
    "len(example.select('.star-rating.Three')) != 0"
   ]
  },
  {
   "cell_type": "code",
   "execution_count": 74,
   "metadata": {},
   "outputs": [
    {
     "data": {
      "text/plain": [
       "<article class=\"product_pod\">\n",
       "<div class=\"image_container\">\n",
       "<a href=\"a-light-in-the-attic_1000/index.html\"><img alt=\"A Light in the Attic\" class=\"thumbnail\" src=\"../media/cache/2c/da/2cdad67c44b002e7ead0cc35693c0e8b.jpg\"/></a>\n",
       "</div>\n",
       "<p class=\"star-rating Three\">\n",
       "<i class=\"icon-star\"></i>\n",
       "<i class=\"icon-star\"></i>\n",
       "<i class=\"icon-star\"></i>\n",
       "<i class=\"icon-star\"></i>\n",
       "<i class=\"icon-star\"></i>\n",
       "</p>\n",
       "<h3><a href=\"a-light-in-the-attic_1000/index.html\" title=\"A Light in the Attic\">A Light in the ...</a></h3>\n",
       "<div class=\"product_price\">\n",
       "<p class=\"price_color\">Â£51.77</p>\n",
       "<p class=\"instock availability\">\n",
       "<i class=\"icon-ok\"></i>\n",
       "    \n",
       "        In stock\n",
       "    \n",
       "</p>\n",
       "<form>\n",
       "<button class=\"btn btn-primary btn-block\" data-loading-text=\"Adding...\" type=\"submit\">Add to basket</button>\n",
       "</form>\n",
       "</div>\n",
       "</article>"
      ]
     },
     "execution_count": 74,
     "metadata": {},
     "output_type": "execute_result"
    }
   ],
   "source": [
    "# sekarang kita cari cara buat grab titlenya\n",
    "example\n",
    "\n",
    "# titlenya ada di tag 'a'"
   ]
  },
  {
   "cell_type": "code",
   "execution_count": 75,
   "metadata": {},
   "outputs": [
    {
     "data": {
      "text/plain": [
       "[<a href=\"a-light-in-the-attic_1000/index.html\"><img alt=\"A Light in the Attic\" class=\"thumbnail\" src=\"../media/cache/2c/da/2cdad67c44b002e7ead0cc35693c0e8b.jpg\"/></a>,\n",
       " <a href=\"a-light-in-the-attic_1000/index.html\" title=\"A Light in the Attic\">A Light in the ...</a>]"
      ]
     },
     "execution_count": 75,
     "metadata": {},
     "output_type": "execute_result"
    }
   ],
   "source": [
    "example.select('a')"
   ]
  },
  {
   "cell_type": "code",
   "execution_count": 76,
   "metadata": {},
   "outputs": [
    {
     "data": {
      "text/plain": [
       "'A Light in the Attic'"
      ]
     },
     "execution_count": 76,
     "metadata": {},
     "output_type": "execute_result"
    }
   ],
   "source": [
    "# kita butuh 'a' yang kedua, terus grab tag title di dalemnya\n",
    "example.select('a')[1]['title']"
   ]
  },
  {
   "cell_type": "code",
   "execution_count": 81,
   "metadata": {},
   "outputs": [],
   "source": [
    "# skrg kita setup semuanya\n",
    "# kita tau totalnya ada 50 page\n",
    "\n",
    "two_stars_title = []\n",
    "\n",
    "for n in range(1,51):\n",
    "\n",
    "    scrape_url = base_url.format(n)\n",
    "    res = requests.get(scrape_url)\n",
    "\n",
    "    soup = bs4.BeautifulSoup(res.text,'lxml')\n",
    "    books = soup.select('.product_pod')\n",
    "\n",
    "    for book in books:\n",
    "        if len(book.select('.star-rating.Two')) != 0:\n",
    "            two_stars_title.append(book.select('a')[1]['title'])\n"
   ]
  },
  {
   "cell_type": "code",
   "execution_count": 82,
   "metadata": {},
   "outputs": [
    {
     "data": {
      "text/plain": [
       "['Starving Hearts (Triangular Trade Trilogy, #1)',\n",
       " 'Libertarianism for Beginners',\n",
       " \"It's Only the Himalayas\",\n",
       " 'How Music Works',\n",
       " 'Maude (1883-1993):She Grew Up with the country',\n",
       " \"You can't bury them all: Poems\",\n",
       " 'Reasons to Stay Alive',\n",
       " 'Without Borders (Wanderlove #1)',\n",
       " 'Soul Reader',\n",
       " 'Security',\n",
       " 'Saga, Volume 5 (Saga (Collected Editions) #5)',\n",
       " 'Reskilling America: Learning to Labor in the Twenty-First Century',\n",
       " 'Political Suicide: Missteps, Peccadilloes, Bad Calls, Backroom Hijinx, Sordid Pasts, Rotten Breaks, and Just Plain Dumb Mistakes in the Annals of American Politics',\n",
       " 'Obsidian (Lux #1)',\n",
       " 'My Paris Kitchen: Recipes and Stories',\n",
       " 'Masks and Shadows',\n",
       " 'Lumberjanes, Vol. 2: Friendship to the Max (Lumberjanes #5-8)',\n",
       " 'Lumberjanes Vol. 3: A Terrible Plan (Lumberjanes #9-12)',\n",
       " 'Judo: Seven Steps to Black Belt (an Introductory Guide for Beginners)',\n",
       " 'I Hate Fairyland, Vol. 1: Madly Ever After (I Hate Fairyland (Compilations) #1-5)',\n",
       " 'Giant Days, Vol. 2 (Giant Days #5-8)',\n",
       " 'Everydata: The Misinformation Hidden in the Little Data You Consume Every Day',\n",
       " \"Don't Be a Jerk: And Other Practical Advice from Dogen, Japan's Greatest Zen Master\",\n",
       " 'Bossypants',\n",
       " 'Bitch Planet, Vol. 1: Extraordinary Machine (Bitch Planet (Collected Editions))',\n",
       " 'Avatar: The Last Airbender: Smoke and Shadow, Part 3 (Smoke and Shadow #3)',\n",
       " 'Tuesday Nights in 1980',\n",
       " 'The Psychopath Test: A Journey Through the Madness Industry',\n",
       " 'The Power of Now: A Guide to Spiritual Enlightenment',\n",
       " \"The Omnivore's Dilemma: A Natural History of Four Meals\",\n",
       " 'The Love and Lemons Cookbook: An Apple-to-Zucchini Celebration of Impromptu Cooking',\n",
       " 'The Girl on the Train',\n",
       " 'The Emerald Mystery',\n",
       " 'The Argonauts',\n",
       " 'Suddenly in Love (Lake Haven #1)',\n",
       " 'Soft Apocalypse',\n",
       " \"So You've Been Publicly Shamed\",\n",
       " 'Shoe Dog: A Memoir by the Creator of NIKE',\n",
       " 'Louisa: The Extraordinary Life of Mrs. Adams',\n",
       " 'Large Print Heart of the Pride',\n",
       " 'Grumbles',\n",
       " 'Chasing Heaven: What Dying Taught Me About Living',\n",
       " 'Becoming Wise: An Inquiry into the Mystery and Art of Living',\n",
       " 'Beauty Restored (Riley Family Legacy Novellas #3)',\n",
       " 'Batman: The Long Halloween (Batman)',\n",
       " \"Ayumi's Violin\",\n",
       " 'Wild Swans',\n",
       " \"What's It Like in Space?: Stories from Astronauts Who've Been There\",\n",
       " 'Until Friday Night (The Field Party #1)',\n",
       " 'Unbroken: A World War II Story of Survival, Resilience, and Redemption',\n",
       " 'Twenty Yawns',\n",
       " 'Through the Woods',\n",
       " 'This Is Where It Ends',\n",
       " 'The Year of Magical Thinking',\n",
       " 'The Last Mile (Amos Decker #2)',\n",
       " 'The Immortal Life of Henrietta Lacks',\n",
       " 'The Hidden Oracle (The Trials of Apollo #1)',\n",
       " 'The Guilty (Will Robie #4)',\n",
       " 'Red Hood/Arsenal, Vol. 1: Open for Business (Red Hood/Arsenal #1)',\n",
       " 'Once Was a Time',\n",
       " 'No Dream Is Too High: Life Lessons From a Man Who Walked on the Moon',\n",
       " 'Naruto (3-in-1 Edition), Vol. 14: Includes Vols. 40, 41 & 42 (Naruto: Omnibus #14)',\n",
       " 'More Than Music (Chasing the Dream #1)',\n",
       " 'Lowriders to the Center of the Earth (Lowriders in Space #2)',\n",
       " 'Eat Fat, Get Thin',\n",
       " 'Doctor Sleep (The Shining #2)',\n",
       " 'Crazy Love: Overwhelmed by a Relentless God',\n",
       " 'Carrie',\n",
       " 'Batman: Europa',\n",
       " 'Angels Walking (Angels Walking #1)',\n",
       " 'Adulthood Is a Myth: A \"Sarah\\'s Scribbles\" Collection',\n",
       " 'A Study in Scarlet (Sherlock Holmes #1)',\n",
       " 'A Series of Catastrophes and Miracles: A True Story of Love, Science, and Cancer',\n",
       " \"A People's History of the United States\",\n",
       " 'My Kitchen Year: 136 Recipes That Saved My Life',\n",
       " 'The Lonely City: Adventures in the Art of Being Alone',\n",
       " 'The Dinner Party',\n",
       " 'Stars Above (The Lunar Chronicles #4.5)',\n",
       " 'Love, Lies and Spies',\n",
       " 'Troublemaker: Surviving Hollywood and Scientology',\n",
       " 'The Widow',\n",
       " 'Setting the World on Fire: The Brief, Astonishing Life of St. Catherine of Siena',\n",
       " 'Mothering Sunday',\n",
       " 'Lilac Girls',\n",
       " '10% Happier: How I Tamed the Voice in My Head, Reduced Stress Without Losing My Edge, and Found Self-Help That Actually Works',\n",
       " 'Underlying Notes',\n",
       " 'The Flowers Lied',\n",
       " 'Modern Day Fables',\n",
       " \"Chernobyl 01:23:40: The Incredible True Story of the World's Worst Nuclear Disaster\",\n",
       " '23 Degrees South: A Tropical Tale of Changing Whether...',\n",
       " 'When Breath Becomes Air',\n",
       " 'Vagabonding: An Uncommon Guide to the Art of Long-Term World Travel',\n",
       " 'The Martian (The Martian #1)',\n",
       " \"Miller's Valley\",\n",
       " \"Love That Boy: What Two Presidents, Eight Road Trips, and My Son Taught Me About a Parent's Expectations\",\n",
       " 'Left Behind (Left Behind #1)',\n",
       " 'Howl and Other Poems',\n",
       " \"Heaven is for Real: A Little Boy's Astounding Story of His Trip to Heaven and Back\",\n",
       " \"Brazen: The Courage to Find the You That's Been Hiding\",\n",
       " '32 Yolks',\n",
       " 'Wildlife of New York: A Five-Borough Coloring Book',\n",
       " 'Unreasonable Hope: Finding Faith in the God Who Brings Purpose to Your Pain',\n",
       " 'The Art Book',\n",
       " 'Steal Like an Artist: 10 Things Nobody Told You About Being Creative',\n",
       " 'Raymie Nightingale',\n",
       " 'Like Never Before (Walker Family #2)',\n",
       " 'How to Be a Domestic Goddess: Baking and the Art of Comfort Cooking',\n",
       " 'Finding God in the Ruins: How God Redeems Pain',\n",
       " 'Chronicles, Vol. 1',\n",
       " 'A Summer In Europe',\n",
       " 'The Rise and Fall of the Third Reich: A History of Nazi Germany',\n",
       " 'The Makings of a Fatherless Child',\n",
       " 'The Fellowship of the Ring (The Lord of the Rings #1)',\n",
       " \"Tell the Wolves I'm Home\",\n",
       " 'In the Woods (Dublin Murder Squad #1)',\n",
       " 'Give It Back',\n",
       " 'Why Save the Bankers?: And Other Essays on Our Economic and Political Crisis',\n",
       " 'The Raven King (The Raven Cycle #4)',\n",
       " 'The Expatriates',\n",
       " 'The 5th Wave (The 5th Wave #1)',\n",
       " 'Peak: Secrets from the New Science of Expertise',\n",
       " 'Logan Kade (Fallen Crest High #5.5)',\n",
       " \"I Know Why the Caged Bird Sings (Maya Angelou's Autobiography #1)\",\n",
       " 'Drama',\n",
       " \"America's War for the Greater Middle East: A Military History\",\n",
       " 'A Game of Thrones (A Song of Ice and Fire #1)',\n",
       " \"The Pilgrim's Progress\",\n",
       " 'The Hound of the Baskervilles (Sherlock Holmes #5)',\n",
       " \"The Geography of Bliss: One Grump's Search for the Happiest Places in the World\",\n",
       " 'The Demonists (Demonist #1)',\n",
       " 'The Demon Prince of Momochi House, Vol. 4 (The Demon Prince of Momochi House #4)',\n",
       " 'Misery',\n",
       " 'Far From True (Promise Falls Trilogy #2)',\n",
       " 'Confessions of a Shopaholic (Shopaholic #1)',\n",
       " 'Vegan Vegetarian Omnivore: Dinner for Everyone at the Table',\n",
       " 'Two Boys Kissing',\n",
       " 'Twilight (Twilight #1)',\n",
       " 'Twenties Girl',\n",
       " 'The Tipping Point: How Little Things Can Make a Big Difference',\n",
       " 'The Stand',\n",
       " 'The Picture of Dorian Gray',\n",
       " 'The Name of God is Mercy',\n",
       " \"The Lover's Dictionary\",\n",
       " 'The Last Painting of Sara de Vos',\n",
       " 'The Guns of August',\n",
       " 'The Girl Who Played with Fire (Millennium Trilogy #2)',\n",
       " 'The Da Vinci Code (Robert Langdon #2)',\n",
       " 'The Cat in the Hat (Beginner Books B-1)',\n",
       " 'The Book Thief',\n",
       " 'The Autobiography of Malcolm X',\n",
       " \"Surely You're Joking, Mr. Feynman!: Adventures of a Curious Character\",\n",
       " 'Soldier (Talon #3)',\n",
       " 'Shopaholic & Baby (Shopaholic #5)',\n",
       " 'Seven Days in the Art World',\n",
       " 'Rework',\n",
       " 'Packing for Mars: The Curious Science of Life in the Void',\n",
       " 'Orange Is the New Black',\n",
       " 'One for the Money (Stephanie Plum #1)',\n",
       " 'Midnight Riot (Peter Grant/ Rivers of London - books #1)',\n",
       " 'Me Talk Pretty One Day',\n",
       " 'Manuscript Found in Accra',\n",
       " 'Lust & Wonder',\n",
       " \"Life, the Universe and Everything (Hitchhiker's Guide to the Galaxy #3)\",\n",
       " 'Life After Life',\n",
       " 'I Am Malala: The Girl Who Stood Up for Education and Was Shot by the Taliban',\n",
       " 'House of Lost Worlds: Dinosaurs, Dynasties, and the Story of Life on Earth',\n",
       " 'Horrible Bear!',\n",
       " 'Holidays on Ice',\n",
       " 'Girl in the Blue Coat',\n",
       " 'Fruits Basket, Vol. 3 (Fruits Basket #3)',\n",
       " 'Cosmos',\n",
       " 'Civilization and Its Discontents',\n",
       " \"Catastrophic Happiness: Finding Joy in Childhood's Messy Years\",\n",
       " 'Career of Evil (Cormoran Strike #3)',\n",
       " 'Born to Run: A Hidden Tribe, Superathletes, and the Greatest Race the World Has Never Seen',\n",
       " \"Best of My Love (Fool's Gold #20)\",\n",
       " 'Beowulf',\n",
       " 'Awkward',\n",
       " 'And Then There Were None',\n",
       " 'A Storm of Swords (A Song of Ice and Fire #3)',\n",
       " 'The Suffragettes (Little Black Classics, #96)',\n",
       " 'Vampire Girl (Vampire Girl #1)',\n",
       " 'Three Wishes (River of Time: California #1)',\n",
       " 'The Wicked + The Divine, Vol. 1: The Faust Act (The Wicked + The Divine)',\n",
       " 'The Little Prince',\n",
       " 'The Last Girl (The Dominion Trilogy #1)',\n",
       " 'Taking Shots (Assassins #1)',\n",
       " 'Settling the Score (The Summer Games #1)',\n",
       " 'Rhythm, Chord & Malykhin',\n",
       " 'One Second (Seven #7)',\n",
       " \"Old Records Never Die: One Man's Quest for His Vinyl and His Past\",\n",
       " 'Of Mice and Men',\n",
       " 'My Perfect Mistake (Over the Top #1)',\n",
       " 'Meditations',\n",
       " 'Frankenstein',\n",
       " 'Emma']"
      ]
     },
     "execution_count": 82,
     "metadata": {},
     "output_type": "execute_result"
    }
   ],
   "source": [
    "two_stars_title"
   ]
  },
  {
   "cell_type": "code",
   "execution_count": null,
   "metadata": {},
   "outputs": [],
   "source": []
  }
 ],
 "metadata": {
  "interpreter": {
   "hash": "de0342d22f59080f5a2b049921cc024b05bf53d7a856e2b4ddc8580cbc73f413"
  },
  "kernelspec": {
   "display_name": "Python 3.9.7 ('base')",
   "language": "python",
   "name": "python3"
  },
  "language_info": {
   "codemirror_mode": {
    "name": "ipython",
    "version": 3
   },
   "file_extension": ".py",
   "mimetype": "text/x-python",
   "name": "python",
   "nbconvert_exporter": "python",
   "pygments_lexer": "ipython3",
   "version": "3.9.7"
  },
  "orig_nbformat": 4
 },
 "nbformat": 4,
 "nbformat_minor": 2
}
