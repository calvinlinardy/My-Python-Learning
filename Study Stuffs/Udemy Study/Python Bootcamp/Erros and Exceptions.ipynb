{
 "cells": [
  {
   "cell_type": "markdown",
   "source": [
    "##### guna nya adalah biar script kita tetep bisa lanjut walau pun ada error"
   ],
   "metadata": {}
  },
  {
   "cell_type": "markdown",
   "source": [
    "###### try: This is the block of code to be attempted (may lead to an error)\n",
    "###### except: Block of code will execute in case there is an error in try block\n",
    "###### finally: A final block of code to be executed, regardless of an error."
   ],
   "metadata": {}
  },
  {
   "cell_type": "code",
   "execution_count": 1,
   "source": [
    "def add(n1,n2):\r\n",
    "    print(n1+n2)"
   ],
   "outputs": [],
   "metadata": {}
  },
  {
   "cell_type": "code",
   "execution_count": 2,
   "source": [
    "add(10,20)"
   ],
   "outputs": [
    {
     "output_type": "stream",
     "name": "stdout",
     "text": [
      "30\n"
     ]
    }
   ],
   "metadata": {}
  },
  {
   "cell_type": "code",
   "execution_count": 3,
   "source": [
    "no1 = 10"
   ],
   "outputs": [],
   "metadata": {}
  },
  {
   "cell_type": "code",
   "execution_count": 4,
   "source": [
    "no2 = input(\"Please provide a number: \")"
   ],
   "outputs": [
    {
     "output_type": "stream",
     "name": "stdout",
     "text": [
      "Please provide a number: 20\n"
     ]
    }
   ],
   "metadata": {}
  },
  {
   "cell_type": "code",
   "execution_count": 5,
   "source": [
    "add(no1,no2) # error karena input nya itu string"
   ],
   "outputs": [
    {
     "output_type": "error",
     "ename": "TypeError",
     "evalue": "unsupported operand type(s) for +: 'int' and 'str'",
     "traceback": [
      "\u001b[1;31m---------------------------------------------------------------------------\u001b[0m",
      "\u001b[1;31mTypeError\u001b[0m                                 Traceback (most recent call last)",
      "\u001b[1;32m<ipython-input-5-beba93827b08>\u001b[0m in \u001b[0;36m<module>\u001b[1;34m\u001b[0m\n\u001b[1;32m----> 1\u001b[1;33m \u001b[0madd\u001b[0m\u001b[1;33m(\u001b[0m\u001b[0mno1\u001b[0m\u001b[1;33m,\u001b[0m\u001b[0mno2\u001b[0m\u001b[1;33m)\u001b[0m\u001b[1;33m\u001b[0m\u001b[1;33m\u001b[0m\u001b[0m\n\u001b[0m",
      "\u001b[1;32m<ipython-input-1-48bddae7e371>\u001b[0m in \u001b[0;36madd\u001b[1;34m(n1, n2)\u001b[0m\n\u001b[0;32m      1\u001b[0m \u001b[1;32mdef\u001b[0m \u001b[0madd\u001b[0m\u001b[1;33m(\u001b[0m\u001b[0mn1\u001b[0m\u001b[1;33m,\u001b[0m\u001b[0mn2\u001b[0m\u001b[1;33m)\u001b[0m\u001b[1;33m:\u001b[0m\u001b[1;33m\u001b[0m\u001b[1;33m\u001b[0m\u001b[0m\n\u001b[1;32m----> 2\u001b[1;33m     \u001b[0mprint\u001b[0m\u001b[1;33m(\u001b[0m\u001b[0mn1\u001b[0m\u001b[1;33m+\u001b[0m\u001b[0mn2\u001b[0m\u001b[1;33m)\u001b[0m\u001b[1;33m\u001b[0m\u001b[1;33m\u001b[0m\u001b[0m\n\u001b[0m",
      "\u001b[1;31mTypeError\u001b[0m: unsupported operand type(s) for +: 'int' and 'str'"
     ]
    }
   ],
   "metadata": {
    "scrolled": false
   }
  },
  {
   "cell_type": "markdown",
   "source": [
    "nah kegunaan try except itu adalah di saat kaya gini, kalo error semua script dibawahnya itu ga bakal di lanjutin tapi bakalan muncul error notice walaupun di bawah ada berapa ratus line of code"
   ],
   "metadata": {}
  },
  {
   "cell_type": "code",
   "execution_count": 6,
   "source": [
    "add(no1,no2)\r\n",
    "print(\"ASDF\")"
   ],
   "outputs": [
    {
     "output_type": "error",
     "ename": "TypeError",
     "evalue": "unsupported operand type(s) for +: 'int' and 'str'",
     "traceback": [
      "\u001b[1;31m---------------------------------------------------------------------------\u001b[0m",
      "\u001b[1;31mTypeError\u001b[0m                                 Traceback (most recent call last)",
      "\u001b[1;32m<ipython-input-6-915487eb928c>\u001b[0m in \u001b[0;36m<module>\u001b[1;34m\u001b[0m\n\u001b[1;32m----> 1\u001b[1;33m \u001b[0madd\u001b[0m\u001b[1;33m(\u001b[0m\u001b[0mno1\u001b[0m\u001b[1;33m,\u001b[0m\u001b[0mno2\u001b[0m\u001b[1;33m)\u001b[0m\u001b[1;33m\u001b[0m\u001b[1;33m\u001b[0m\u001b[0m\n\u001b[0m\u001b[0;32m      2\u001b[0m \u001b[0mprint\u001b[0m\u001b[1;33m(\u001b[0m\u001b[1;34m\"ASDF\"\u001b[0m\u001b[1;33m)\u001b[0m\u001b[1;33m\u001b[0m\u001b[1;33m\u001b[0m\u001b[0m\n",
      "\u001b[1;32m<ipython-input-1-48bddae7e371>\u001b[0m in \u001b[0;36madd\u001b[1;34m(n1, n2)\u001b[0m\n\u001b[0;32m      1\u001b[0m \u001b[1;32mdef\u001b[0m \u001b[0madd\u001b[0m\u001b[1;33m(\u001b[0m\u001b[0mn1\u001b[0m\u001b[1;33m,\u001b[0m\u001b[0mn2\u001b[0m\u001b[1;33m)\u001b[0m\u001b[1;33m:\u001b[0m\u001b[1;33m\u001b[0m\u001b[1;33m\u001b[0m\u001b[0m\n\u001b[1;32m----> 2\u001b[1;33m     \u001b[0mprint\u001b[0m\u001b[1;33m(\u001b[0m\u001b[0mn1\u001b[0m\u001b[1;33m+\u001b[0m\u001b[0mn2\u001b[0m\u001b[1;33m)\u001b[0m\u001b[1;33m\u001b[0m\u001b[1;33m\u001b[0m\u001b[0m\n\u001b[0m",
      "\u001b[1;31mTypeError\u001b[0m: unsupported operand type(s) for +: 'int' and 'str'"
     ]
    }
   ],
   "metadata": {}
  },
  {
   "cell_type": "code",
   "execution_count": 12,
   "source": [
    "try:\r\n",
    "    # WANT TO ATTEMPT THIS CODE\r\n",
    "    # MAY HAVE AN ERROR\r\n",
    "    result = 1 + 1\r\n",
    "except:\r\n",
    "    print(\"ASDF\")"
   ],
   "outputs": [],
   "metadata": {}
  },
  {
   "cell_type": "code",
   "execution_count": 14,
   "source": [
    "result"
   ],
   "outputs": [
    {
     "output_type": "execute_result",
     "data": {
      "text/plain": [
       "2"
      ]
     },
     "metadata": {},
     "execution_count": 14
    }
   ],
   "metadata": {}
  },
  {
   "cell_type": "markdown",
   "source": [
    "coba kita bikin error\n"
   ],
   "metadata": {}
  },
  {
   "cell_type": "code",
   "execution_count": 15,
   "source": [
    "try:\r\n",
    "    # WANT TO ATTEMPT THIS CODE\r\n",
    "    # MAY HAVE AN ERROR\r\n",
    "    result = 1 + '1'\r\n",
    "except:\r\n",
    "    print(\"ASDF\")"
   ],
   "outputs": [
    {
     "output_type": "stream",
     "name": "stdout",
     "text": [
      "ASDF\n"
     ]
    }
   ],
   "metadata": {}
  },
  {
   "cell_type": "markdown",
   "source": [
    "dia bakalan execute yang exceptnya, jadi tetep ke print. skrg kita juga bisa pake else buat except, jadi except di execute kalo error kan, nah else nya itu kalo ga error. contoh:"
   ],
   "metadata": {}
  },
  {
   "cell_type": "code",
   "execution_count": 17,
   "source": [
    "try:\r\n",
    "    # WANT TO ATTEMPT THIS CODE\r\n",
    "    # MAY HAVE AN ERROR\r\n",
    "    result = 1 + 1\r\n",
    "except:\r\n",
    "    print(\"ASDF\")\r\n",
    "else:\r\n",
    "    print(result)\r\n",
    "    print(\"Ga error\")"
   ],
   "outputs": [
    {
     "output_type": "stream",
     "name": "stdout",
     "text": [
      "2\n",
      "Ga error\n"
     ]
    }
   ],
   "metadata": {}
  },
  {
   "cell_type": "markdown",
   "source": [
    "##### nah error itu ada banyak jenisnya, kalo contoh kaya tadi harusnya int tapi str, itu namanya TypeError, buat liat semua jenis error bisa cek documentation nya di bagian exceptions, terus ada link buat liat Built-in Exceptions list"
   ],
   "metadata": {}
  },
  {
   "cell_type": "markdown",
   "source": [
    "###### nah jadi kita juga bisa except jenis error tertentu, contoh:"
   ],
   "metadata": {}
  },
  {
   "cell_type": "code",
   "execution_count": 18,
   "source": [
    "try:\r\n",
    "    result = 1 + '1'\r\n",
    "except TypeError:\r\n",
    "    print(\"terjadi type error\")\r\n",
    "except OSError:\r\n",
    "    print(\"terjadi os error\")"
   ],
   "outputs": [
    {
     "output_type": "stream",
     "name": "stdout",
     "text": [
      "terjadi type error\n"
     ]
    }
   ],
   "metadata": {}
  },
  {
   "cell_type": "markdown",
   "source": [
    "jadi except nya bakalan ke run kalo terjadi error tertentu itu doank, yang os error ga bakalan ke run karena di sini typeerror"
   ],
   "metadata": {}
  },
  {
   "cell_type": "code",
   "execution_count": 19,
   "source": [
    "try:\r\n",
    "    result = 1 + '1'\r\n",
    "except TypeError:\r\n",
    "    print(\"terjadi type error\")\r\n",
    "except OSError:\r\n",
    "    print(\"terjadi os error\")\r\n",
    "finally:\r\n",
    "    print(\"gw bakalan jalan apapun yg terjadi\")"
   ],
   "outputs": [
    {
     "output_type": "stream",
     "name": "stdout",
     "text": [
      "terjadi type error\n",
      "gw bakalan jalan apapun yg terjadi\n"
     ]
    }
   ],
   "metadata": {}
  },
  {
   "cell_type": "markdown",
   "source": [
    "finally itu mau error atau ga tetep ke excecute"
   ],
   "metadata": {}
  },
  {
   "cell_type": "markdown",
   "source": [
    "###### dan kalo males inget jenis errornya pake except doank aja"
   ],
   "metadata": {}
  },
  {
   "cell_type": "code",
   "execution_count": 20,
   "source": [
    "try:\r\n",
    "    result = 1 + '1'\r\n",
    "except:\r\n",
    "    print(\"All other exceptions!\")\r\n",
    "finally:\r\n",
    "    print(\"gw bakalan jalan apapun yg terjadi\")"
   ],
   "outputs": [
    {
     "output_type": "stream",
     "name": "stdout",
     "text": [
      "All other exceptions!\n",
      "gw bakalan jalan apapun yg terjadi\n"
     ]
    }
   ],
   "metadata": {}
  },
  {
   "cell_type": "markdown",
   "source": [
    "##### bisa juga pake while loop"
   ],
   "metadata": {}
  },
  {
   "cell_type": "code",
   "execution_count": 21,
   "source": [
    "def ask_for_int():\r\n",
    "    try:\r\n",
    "        result = int(input(\"Please provide a number: \"))\r\n",
    "    except:\r\n",
    "        print(\"That is not a number!\")\r\n",
    "    finally:\r\n",
    "        print(\"End of try/except/finally\")"
   ],
   "outputs": [],
   "metadata": {}
  },
  {
   "cell_type": "code",
   "execution_count": 22,
   "source": [
    "ask_for_int()"
   ],
   "outputs": [
    {
     "output_type": "stream",
     "name": "stdout",
     "text": [
      "Please provide a number: 20\n",
      "End of try/except/finally\n"
     ]
    }
   ],
   "metadata": {}
  },
  {
   "cell_type": "code",
   "execution_count": 23,
   "source": [
    "ask_for_int()"
   ],
   "outputs": [
    {
     "output_type": "stream",
     "name": "stdout",
     "text": [
      "Please provide a number: word\n",
      "That is not a number!\n",
      "End of try/except/finally\n"
     ]
    }
   ],
   "metadata": {
    "scrolled": true
   }
  },
  {
   "cell_type": "markdown",
   "source": [
    "##### pake while loop jadi dia bakalan minta input terus selama inputnya masih salah"
   ],
   "metadata": {}
  },
  {
   "cell_type": "code",
   "execution_count": 24,
   "source": [
    "def ask_for_int():\r\n",
    "    while True: # harus inget pake break!\r\n",
    "        try:\r\n",
    "            result = int(input(\"Please provide a number: \"))\r\n",
    "        except:\r\n",
    "            print(\"That is not a number!\")\r\n",
    "            continue\r\n",
    "        else:\r\n",
    "            print(\"Thank you!\")\r\n",
    "            break\r\n",
    "        finally:\r\n",
    "            print(\"End of try/except/finally\")"
   ],
   "outputs": [],
   "metadata": {}
  },
  {
   "cell_type": "code",
   "execution_count": 25,
   "source": [
    "ask_for_int()"
   ],
   "outputs": [
    {
     "output_type": "stream",
     "name": "stdout",
     "text": [
      "Please provide a number: ask\n",
      "That is not a number!\n",
      "End of try/except/finally\n",
      "Please provide a number: op\n",
      "That is not a number!\n",
      "End of try/except/finally\n",
      "Please provide a number: 2\n",
      "Thank you!\n",
      "End of try/except/finally\n"
     ]
    }
   ],
   "metadata": {}
  },
  {
   "cell_type": "markdown",
   "source": [
    "### Pylint and Unittest"
   ],
   "metadata": {}
  },
  {
   "cell_type": "markdown",
   "source": [
    "###### pylint : is a library that looks at your code and reports back possible issues.\n",
    "###### unittest: This built-in library will allow to test your own programs and check you are getting desired outputs."
   ],
   "metadata": {}
  },
  {
   "cell_type": "markdown",
   "source": [
    "jadi intinya pylint itu buat ngetest code kita ada error atau formatting style yang salah, biasa dipake kalo buat kerjain project bareng orang lain atau kalo kita sendiri mau strict sama code formatting style dalam project gede, kalo kerjaan solo ga gitu perlu karena kita yang baca kode kita sendiri.\n",
    "\n",
    "dan kalo unittest itu buat ngetest sesuai apa yang mau kita test."
   ],
   "metadata": {}
  },
  {
   "cell_type": "markdown",
   "source": [
    "#### Pylint"
   ],
   "metadata": {}
  },
  {
   "cell_type": "markdown",
   "source": [
    "###### jadi pertama install pake pip install pylint"
   ],
   "metadata": {}
  },
  {
   "cell_type": "markdown",
   "source": [
    "##### contoh test nya ada di file vscode. jadi tinggal run di cmd atau terminal"
   ],
   "metadata": {}
  },
  {
   "cell_type": "markdown",
   "source": [
    "pylint namafilenya.py"
   ],
   "metadata": {}
  },
  {
   "cell_type": "markdown",
   "source": [
    "tapi karena skrg syntax update dari pylintnya jadi harus kaya gini"
   ],
   "metadata": {}
  },
  {
   "cell_type": "markdown",
   "source": [
    "pylint namafilenya.py -r y"
   ],
   "metadata": {}
  },
  {
   "cell_type": "markdown",
   "source": [
    "dibawa ada rate/score dari script kita, kita ga perlu ngejar sampe score 10/10 karena kadang harus machine looks banget sedangkan kita perlu code kita readable oleh manusia"
   ],
   "metadata": {}
  },
  {
   "cell_type": "markdown",
   "source": [
    "#### TIPS BIAR SCORENYA BAGUS:\n",
    "1. pake doc string yang pake ''' , biar orang tau apa isi scriptnya, dan di setiap function juga boleh\n",
    "2. variable kalo bisa jangan pake 1 huruf\n",
    "3. inget capital formating buat class(camel) sama function(snake)\n",
    "4. indentationnya"
   ],
   "metadata": {}
  },
  {
   "cell_type": "markdown",
   "source": [
    "#### Unittest"
   ],
   "metadata": {}
  },
  {
   "cell_type": "markdown",
   "source": [
    "jadi untuk unittest ini kita bikin contoh pake 2 file. file pertama buat case nya, file kedua buat testnya, file pertama kita kasih nama cap.py, kedua kita kasih nama test_cap.py"
   ],
   "metadata": {}
  },
  {
   "cell_type": "code",
   "execution_count": null,
   "source": [
    "# cap.py\n",
    "\n",
    "def cap_text(text):\n",
    "    '''\n",
    "    Input a string\n",
    "    Output the capitalized string\n",
    "    '''\n",
    "    return text.title()"
   ],
   "outputs": [],
   "metadata": {}
  },
  {
   "cell_type": "code",
   "execution_count": null,
   "source": [
    "# test_cap.py\n",
    "import unittest\n",
    "import cap\n",
    "\n",
    "\n",
    "class TestCap(unittest.TestCase): # class yang pake parameter unittest\n",
    "\n",
    "    def test_one_word(self):\n",
    "        text = 'python'\n",
    "        result = cap.cap_text(text) # pake case dari cap\n",
    "        self.assertEqual(result, 'Python') # ini artinya kita bandingin result sama hasil yg kita mau\n",
    "\n",
    "    def test_multiple_words(self):\n",
    "        text = 'calvin chen'\n",
    "        result = cap.cap_text(text)\n",
    "        self.assertEqual(result, 'Calvin Chen')\n",
    "\n",
    "\n",
    "if __name__ == '__main__':\n",
    "    unittest.main()"
   ],
   "outputs": [],
   "metadata": {}
  },
  {
   "cell_type": "markdown",
   "source": [
    "jadi formatnya kaya gitu, jadi tinggal run aja file test_cap.py nya, kalo ada error dia akan munculin errornya, kalo bener semua dia bakal bilang OK."
   ],
   "metadata": {}
  },
  {
   "cell_type": "code",
   "execution_count": null,
   "source": [],
   "outputs": [],
   "metadata": {}
  }
 ],
 "metadata": {
  "kernelspec": {
   "display_name": "Python 3",
   "language": "python",
   "name": "python3"
  },
  "language_info": {
   "codemirror_mode": {
    "name": "ipython",
    "version": 3
   },
   "file_extension": ".py",
   "mimetype": "text/x-python",
   "name": "python",
   "nbconvert_exporter": "python",
   "pygments_lexer": "ipython3",
   "version": "3.7.6"
  }
 },
 "nbformat": 4,
 "nbformat_minor": 4
}