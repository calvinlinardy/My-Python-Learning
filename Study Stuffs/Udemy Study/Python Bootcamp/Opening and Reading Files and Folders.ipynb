{
 "cells": [
  {
   "cell_type": "markdown",
   "metadata": {},
   "source": [
    "# Opening and Realing Files"
   ]
  },
  {
   "cell_type": "code",
   "execution_count": 21,
   "metadata": {},
   "outputs": [
    {
     "data": {
      "text/plain": [
       "'/Users/clcx/Documents/GitHub/My-Python-Learning/Study Stuffs/Udemy Study/Python Bootcamp'"
      ]
     },
     "execution_count": 21,
     "metadata": {},
     "output_type": "execute_result"
    }
   ],
   "source": [
    "pwd"
   ]
  },
  {
   "cell_type": "markdown",
   "metadata": {},
   "source": [
    "### Create Practice File"
   ]
  },
  {
   "cell_type": "markdown",
   "metadata": {},
   "source": [
    "kita create file nya terus juga write"
   ]
  },
  {
   "cell_type": "code",
   "execution_count": 22,
   "metadata": {},
   "outputs": [],
   "source": [
    "f = open('practice.txt','w+')"
   ]
  },
  {
   "cell_type": "code",
   "execution_count": 23,
   "metadata": {},
   "outputs": [],
   "source": [
    "# file nya udah di directory kita\n",
    "f.write('Calvin')\n",
    "f.close()"
   ]
  },
  {
   "cell_type": "markdown",
   "metadata": {},
   "source": [
    "### Getting Directories\n",
    "ini berlaku di semua operating system"
   ]
  },
  {
   "cell_type": "code",
   "execution_count": 24,
   "metadata": {},
   "outputs": [],
   "source": [
    "import os"
   ]
  },
  {
   "cell_type": "code",
   "execution_count": 25,
   "metadata": {},
   "outputs": [
    {
     "data": {
      "text/plain": [
       "'/Users/clcx/Documents/GitHub/My-Python-Learning/Study Stuffs/Udemy Study/Python Bootcamp'"
      ]
     },
     "execution_count": 25,
     "metadata": {},
     "output_type": "execute_result"
    }
   ],
   "source": [
    "# ini sama kaya pwd cuma ini dari module os\n",
    "os.getcwd()"
   ]
  },
  {
   "cell_type": "code",
   "execution_count": 26,
   "metadata": {},
   "outputs": [
    {
     "data": {
      "text/plain": [
       "['Blackjack 21(Milestone 2).ipynb',\n",
       " 'Modules and Packages.ipynb',\n",
       " 'Milestone Project 2 Warmup (Card Games = War).ipynb',\n",
       " 'CORETAN.ipynb',\n",
       " 'Milestone Project 1 Briefing Skills.ipynb',\n",
       " 'toCNF.ipynb',\n",
       " 'Object Oriented Programming (OOP).ipynb',\n",
       " 'practice.txt',\n",
       " 'Opening and Reading Files and Folders.ipynb',\n",
       " 'Collections Module.ipynb',\n",
       " 'Milestone Project 1(Tic Tac Toe).ipynb',\n",
       " 'Python Decorators.ipynb',\n",
       " 'Simple IO.ipynb',\n",
       " 'Important Notes1.ipynb',\n",
       " '.ipynb_checkpoints',\n",
       " 'Erros and Exceptions.ipynb',\n",
       " '03-Milestone Project 2 - Complete Walkthrough Solution.ipynb',\n",
       " '02-Milestone Project 2 - Walkthrough Steps Workbook.ipynb',\n",
       " 'Milestone-2-Warmup-Project.ipynb',\n",
       " 'Important Notes2.ipynb',\n",
       " 'Python Generators.ipynb']"
      ]
     },
     "execution_count": 26,
     "metadata": {},
     "output_type": "execute_result"
    }
   ],
   "source": [
    "# ini kaya ls ato dir kalo di terminal\n",
    "# buat liat list isi directorynya\n",
    "os.listdir()"
   ]
  },
  {
   "cell_type": "code",
   "execution_count": 27,
   "metadata": {},
   "outputs": [
    {
     "data": {
      "text/plain": [
       "['.DS_Store', 'Clients Data', 'Canon', 'Videos', 'Photos', 'PhotosX']"
      ]
     },
     "execution_count": 27,
     "metadata": {},
     "output_type": "execute_result"
    }
   ],
   "source": [
    "# bisa juga pake parameter buat specific path\n",
    "os.listdir('/Users/clcx/Documents/Calvin')"
   ]
  },
  {
   "cell_type": "markdown",
   "metadata": {},
   "source": [
    "### Moving Files \n",
    "\n",
    "You can use the built-in **shutil** module to to move files to different locations. Keep in mind, there are permission restrictions, for example if you are logged in a User A, you won't be able to make changes to the top level Users folder without the proper permissions, [more info](https://stackoverflow.com/questions/23253439/shutil-movescr-dst-gets-me-ioerror-errno-13-permission-denied-and-3-more-e)"
   ]
  },
  {
   "cell_type": "code",
   "execution_count": 28,
   "metadata": {},
   "outputs": [],
   "source": [
    "import shutil"
   ]
  },
  {
   "cell_type": "code",
   "execution_count": 29,
   "metadata": {},
   "outputs": [
    {
     "data": {
      "text/plain": [
       "'/Users/clcx/Documents/GitHub/My-Python-Learning/Study Stuffs/VSCode/practice.txt'"
      ]
     },
     "execution_count": 29,
     "metadata": {},
     "output_type": "execute_result"
    }
   ],
   "source": [
    "# butuh 2 parameter, (yang mau di pindahin, tujuan path kemana)\n",
    "# kita coba pindahin ke folder VSCode\n",
    "shutil.move('practice.txt','/Users/clcx/Documents/GitHub/My-Python-Learning/Study Stuffs/VSCode')"
   ]
  },
  {
   "cell_type": "code",
   "execution_count": 30,
   "metadata": {},
   "outputs": [
    {
     "data": {
      "text/plain": [
       "'/Users/clcx/Documents/GitHub/My-Python-Learning/Study Stuffs/Udemy Study/Python Bootcamp/practice.txt'"
      ]
     },
     "execution_count": 30,
     "metadata": {},
     "output_type": "execute_result"
    }
   ],
   "source": [
    "# balikin lagi\n",
    "# gausah cape2 ketik path disini, tinggal pake getcwd\n",
    "shutil.move('/Users/clcx/Documents/GitHub/My-Python-Learning/Study Stuffs/VSCode/practice.txt',\n",
    "os.getcwd())"
   ]
  },
  {
   "cell_type": "markdown",
   "metadata": {},
   "source": [
    "### Deleting Files\n",
    "____\n",
    "**NOTE: The os module provides 3 methods for deleting files:**\n",
    "* os.unlink(path) which deletes a file at the path your provide\n",
    "* os.rmdir(path) which deletes a folder (folder must be empty) at the path your provide\n",
    "* shutil.rmtree(path) this is the most dangerous, as it will remove all files and folders contained in the path.\n",
    "**All of these methods can not be reversed! Which means if you make a mistake you won't be able to recover the file. Instead we will use the send2trash module. A safer alternative that sends deleted files to the trash bin instead of permanent removal.**\n",
    "___\n",
    "\n",
    "Install the send2trash module with:\n",
    "\n",
    "    pip install send2trash\n",
    "    \n",
    "at your command line."
   ]
  },
  {
   "cell_type": "markdown",
   "metadata": {},
   "source": [
    "jadi shutil.rmtree itu bahaya banget, soalnya dia langsung bisa delete folder (tanpa harus di kosongin) langsung ilang tanpa masuk ke trash bin, jadi lebih baik kita pake module send2trash yaitu kayak delete biasa di windows ato mac bakalan masuk ke trash dulu atau recycle bin"
   ]
  },
  {
   "cell_type": "code",
   "execution_count": 31,
   "metadata": {},
   "outputs": [],
   "source": [
    "import send2trash"
   ]
  },
  {
   "cell_type": "code",
   "execution_count": 32,
   "metadata": {},
   "outputs": [
    {
     "data": {
      "text/plain": [
       "['Blackjack 21(Milestone 2).ipynb',\n",
       " 'Modules and Packages.ipynb',\n",
       " 'Milestone Project 2 Warmup (Card Games = War).ipynb',\n",
       " 'CORETAN.ipynb',\n",
       " 'Milestone Project 1 Briefing Skills.ipynb',\n",
       " 'toCNF.ipynb',\n",
       " 'Object Oriented Programming (OOP).ipynb',\n",
       " 'practice.txt',\n",
       " 'Opening and Reading Files and Folders.ipynb',\n",
       " 'Collections Module.ipynb',\n",
       " 'Milestone Project 1(Tic Tac Toe).ipynb',\n",
       " 'Python Decorators.ipynb',\n",
       " 'Simple IO.ipynb',\n",
       " 'Important Notes1.ipynb',\n",
       " '.ipynb_checkpoints',\n",
       " 'Erros and Exceptions.ipynb',\n",
       " '03-Milestone Project 2 - Complete Walkthrough Solution.ipynb',\n",
       " '02-Milestone Project 2 - Walkthrough Steps Workbook.ipynb',\n",
       " 'Milestone-2-Warmup-Project.ipynb',\n",
       " 'Important Notes2.ipynb',\n",
       " 'Python Generators.ipynb']"
      ]
     },
     "execution_count": 32,
     "metadata": {},
     "output_type": "execute_result"
    }
   ],
   "source": [
    "# kita bisa liat ada file practice.txt yg kita buat tadi\n",
    "# coba send2trash file itu\n",
    "os.listdir()"
   ]
  },
  {
   "cell_type": "code",
   "execution_count": 33,
   "metadata": {},
   "outputs": [],
   "source": [
    "send2trash.send2trash('practice.txt')"
   ]
  },
  {
   "cell_type": "code",
   "execution_count": 34,
   "metadata": {},
   "outputs": [
    {
     "data": {
      "text/plain": [
       "['Blackjack 21(Milestone 2).ipynb',\n",
       " 'Modules and Packages.ipynb',\n",
       " 'Milestone Project 2 Warmup (Card Games = War).ipynb',\n",
       " 'CORETAN.ipynb',\n",
       " 'Milestone Project 1 Briefing Skills.ipynb',\n",
       " 'toCNF.ipynb',\n",
       " 'Object Oriented Programming (OOP).ipynb',\n",
       " 'Opening and Reading Files and Folders.ipynb',\n",
       " 'Collections Module.ipynb',\n",
       " 'Milestone Project 1(Tic Tac Toe).ipynb',\n",
       " 'Python Decorators.ipynb',\n",
       " 'Simple IO.ipynb',\n",
       " 'Important Notes1.ipynb',\n",
       " '.ipynb_checkpoints',\n",
       " 'Erros and Exceptions.ipynb',\n",
       " '03-Milestone Project 2 - Complete Walkthrough Solution.ipynb',\n",
       " '02-Milestone Project 2 - Walkthrough Steps Workbook.ipynb',\n",
       " 'Milestone-2-Warmup-Project.ipynb',\n",
       " 'Important Notes2.ipynb',\n",
       " 'Python Generators.ipynb']"
      ]
     },
     "execution_count": 34,
     "metadata": {},
     "output_type": "execute_result"
    }
   ],
   "source": [
    "os.listdir() # filenya ilang, tapi masih ada di trash"
   ]
  },
  {
   "cell_type": "markdown",
   "metadata": {},
   "source": [
    "### Walking through a directory\n",
    "\n",
    "Often you will just need to \"walk\" through a directory, that is visit every file or folder and check to see if a file is in the directory, and then perhaps do something with that file. Usually recursively walking through every file and folder in a directory would be quite tricky to program, but luckily the os module has a direct method call for this called os.walk(). Let's explore how it works."
   ]
  },
  {
   "cell_type": "code",
   "execution_count": 2,
   "metadata": {},
   "outputs": [
    {
     "data": {
      "text/plain": [
       "'/Users/clcx/Documents/GitHub/My-Python-Learning/Study Stuffs/Udemy Study/Python Bootcamp'"
      ]
     },
     "execution_count": 2,
     "metadata": {},
     "output_type": "execute_result"
    }
   ],
   "source": [
    "os.getcwd()"
   ]
  },
  {
   "cell_type": "code",
   "execution_count": 4,
   "metadata": {},
   "outputs": [],
   "source": [
    "# kita bakalan buka folder di repo jose yg namanya Example Top Level\n",
    "# biar lebih jelas coba buka dulu foldernya\n",
    "# foldernya itu kayak tree bercabang, folder didalem folder\n",
    "folder_path = '/Users/clcx/Documents/GitHub/My-Python-Learning/Udemy Repo/Python Bootcamp/12-Advanced Python Modules/Example_Top_Level'"
   ]
  },
  {
   "cell_type": "code",
   "execution_count": 9,
   "metadata": {},
   "outputs": [
    {
     "name": "stdout",
     "output_type": "stream",
     "text": [
      "Currently looking at /Users/clcx/Documents/GitHub/My-Python-Learning/Udemy Repo/Python Bootcamp/12-Advanced Python Modules/Example_Top_Level\n",
      "\n",
      "\n",
      "The subfolders are: \n",
      "\t Subfolders: Mid-Example-One\n",
      "\n",
      "\n",
      "the files are: \n",
      "\t File: Mid-Example.txt\n",
      "\n",
      "\n",
      "Currently looking at /Users/clcx/Documents/GitHub/My-Python-Learning/Udemy Repo/Python Bootcamp/12-Advanced Python Modules/Example_Top_Level/Mid-Example-One\n",
      "\n",
      "\n",
      "The subfolders are: \n",
      "\t Subfolders: Bottom-Level-Two\n",
      "\t Subfolders: Bottom-Level-One\n",
      "\n",
      "\n",
      "the files are: \n",
      "\t File: Mid-Level-Doc.txt\n",
      "\n",
      "\n",
      "Currently looking at /Users/clcx/Documents/GitHub/My-Python-Learning/Udemy Repo/Python Bootcamp/12-Advanced Python Modules/Example_Top_Level/Mid-Example-One/Bottom-Level-Two\n",
      "\n",
      "\n",
      "The subfolders are: \n",
      "\n",
      "\n",
      "the files are: \n",
      "\t File: Bottom-Text-Two.txt\n",
      "\n",
      "\n",
      "Currently looking at /Users/clcx/Documents/GitHub/My-Python-Learning/Udemy Repo/Python Bootcamp/12-Advanced Python Modules/Example_Top_Level/Mid-Example-One/Bottom-Level-One\n",
      "\n",
      "\n",
      "The subfolders are: \n",
      "\n",
      "\n",
      "the files are: \n",
      "\t File: One_Text.txt\n",
      "\n",
      "\n"
     ]
    }
   ],
   "source": [
    "for folder,sub_folders,files in os.walk(folder_path):\n",
    "    print(f\"Currently looking at {folder}\")\n",
    "    print('\\n')\n",
    "    print('The subfolders are: ')\n",
    "    for sub_fold in sub_folders:\n",
    "        print(f\"\\t Subfolders: {sub_fold}\") # \\t itu buat tab\n",
    "\n",
    "    print('\\n')\n",
    "    print(\"the files are: \")\n",
    "    for f in files:\n",
    "        print(f\"\\t File: {f}\")\n",
    "    print('\\n')"
   ]
  },
  {
   "cell_type": "code",
   "execution_count": null,
   "metadata": {},
   "outputs": [],
   "source": []
  }
 ],
 "metadata": {
  "interpreter": {
   "hash": "de0342d22f59080f5a2b049921cc024b05bf53d7a856e2b4ddc8580cbc73f413"
  },
  "kernelspec": {
   "display_name": "Python 3.9.7 64-bit ('base': conda)",
   "language": "python",
   "name": "python3"
  },
  "language_info": {
   "codemirror_mode": {
    "name": "ipython",
    "version": 3
   },
   "file_extension": ".py",
   "mimetype": "text/x-python",
   "name": "python",
   "nbconvert_exporter": "python",
   "pygments_lexer": "ipython3",
   "version": "3.9.7"
  },
  "orig_nbformat": 4
 },
 "nbformat": 4,
 "nbformat_minor": 2
}
