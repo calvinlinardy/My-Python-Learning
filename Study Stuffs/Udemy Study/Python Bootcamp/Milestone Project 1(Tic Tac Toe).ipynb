{
 "cells": [
  {
   "cell_type": "code",
   "execution_count": 1,
   "source": [
    "from IPython.display import clear_output # Ini biar kalo boardnya di panggil lagi yang sebelumnya ilang\r\n",
    "\r\n",
    "def display_board(board):\r\n",
    "    clear_output()\r\n",
    "    print('\\u0332{q}|\\u0332{w}|\\u0332{e}'.format(**board))\r\n",
    "    print('\\u0332{a}|\\u0332{s}|\\u0332{d}'.format(**board))\r\n",
    "    print('{z}|{x}|{c}'.format(**board))"
   ],
   "outputs": [],
   "metadata": {}
  },
  {
   "cell_type": "code",
   "execution_count": 2,
   "source": [
    "theBoard = {'q':' ','w':' ','e':' ',\r\n",
    "            'a':' ','s':' ','d':' ',\r\n",
    "            'z':' ','x':' ','c':' '}"
   ],
   "outputs": [],
   "metadata": {}
  },
  {
   "cell_type": "code",
   "execution_count": 3,
   "source": [
    "def clean_board(board):\r\n",
    "    for i in board.keys():\r\n",
    "        board[i] = ' '"
   ],
   "outputs": [],
   "metadata": {}
  },
  {
   "cell_type": "code",
   "execution_count": 4,
   "source": [
    "def game():\r\n",
    "    clear_output()\r\n",
    "    turn = ' '\r\n",
    "    count = 0\r\n",
    "    \r\n",
    "    print('Welcome to TIC TAC TOE 3.0')\r\n",
    "    print('Use these keys below to play!')\r\n",
    "    print('\\u0332Q|\\u0332W|\\u0332E')\r\n",
    "    print('\\u0332A|\\u0332S|\\u0332D')\r\n",
    "    print('Z|X|C')\r\n",
    "    \r\n",
    "    while not (turn == 'x' or turn == 'o'):\r\n",
    "        turn = input('Who will take the first turn? (x or o)').lower()\r\n",
    "        if not (turn == 'x' or turn == 'o'):\r\n",
    "            print ('You can only choose between x or o.')\r\n",
    "    display_board(theBoard)\r\n",
    "            \r\n",
    "    while count < 9:\r\n",
    "        pos = input(f'Okay {turn}, where do you wanna place?')\r\n",
    "        if pos.lower() in theBoard.keys(): \r\n",
    "            if theBoard[pos] == ' ':\r\n",
    "                theBoard[pos] = turn\r\n",
    "                count += 1\r\n",
    "            else:\r\n",
    "                print('This spot is not empty!')\r\n",
    "                continue\r\n",
    "        else:\r\n",
    "            print('Input is out of range!')\r\n",
    "            continue\r\n",
    "        display_board(theBoard)\r\n",
    "            \r\n",
    "        if count >= 5:\r\n",
    "            if ((theBoard['q'] == theBoard['w'] == theBoard['e'] == turn) or\r\n",
    "            (theBoard['a'] == theBoard['s'] == theBoard['d'] == turn) or\r\n",
    "            (theBoard['z'] == theBoard['x'] == theBoard['c'] == turn) or\r\n",
    "            (theBoard['q'] == theBoard['a'] == theBoard['z'] == turn) or \r\n",
    "            (theBoard['w'] == theBoard['s'] == theBoard['x'] == turn) or\r\n",
    "            (theBoard['e'] == theBoard['d'] == theBoard['c'] == turn) or\r\n",
    "            (theBoard['q'] == theBoard['s'] == theBoard['c'] == turn) or\r\n",
    "            (theBoard['e'] == theBoard['s'] == theBoard['z'] == turn)):\r\n",
    "                display_board(theBoard)\r\n",
    "                print (f'Congratulation! {turn} wins the game!')\r\n",
    "                print(\"YEAH\")\r\n",
    "                break\r\n",
    "                \r\n",
    "        if count == 9:\r\n",
    "            print('Game is Tie!')\r\n",
    "                \r\n",
    "        if turn == 'x':\r\n",
    "            turn = 'o'\r\n",
    "        else:\r\n",
    "            turn = 'x'\r\n",
    "            \r\n",
    "                \r\n",
    "    clean_board(theBoard)\r\n",
    "    restart = 'n'\r\n",
    "    \r\n",
    "    while not restart.lower() == 'y':\r\n",
    "        restart = input('Play again? (y/n)  ')\r\n",
    "        if restart.lower() == 'n':\r\n",
    "            print('GAME OVER')\r\n",
    "            break\r\n",
    "        elif restart.lower() == 'y':\r\n",
    "            game()\r\n",
    "        else:\r\n",
    "            print('Input invalid!')\r\n",
    "            continue"
   ],
   "outputs": [],
   "metadata": {}
  },
  {
   "cell_type": "code",
   "execution_count": 5,
   "source": [
    "game()"
   ],
   "outputs": [
    {
     "output_type": "stream",
     "name": "stdout",
     "text": [
      "̲x|̲ |̲o\n",
      "̲ |̲x|̲o\n",
      " |x|o\n",
      "Congratulation! o wins the game!\n",
      "YEAH\n",
      "GAME OVER\n"
     ]
    }
   ],
   "metadata": {
    "scrolled": true
   }
  },
  {
   "cell_type": "code",
   "execution_count": null,
   "source": [],
   "outputs": [],
   "metadata": {}
  }
 ],
 "metadata": {
  "kernelspec": {
   "name": "python3",
   "display_name": "Python 3.7.10 64-bit ('mylearning': conda)"
  },
  "language_info": {
   "codemirror_mode": {
    "name": "ipython",
    "version": 3
   },
   "file_extension": ".py",
   "mimetype": "text/x-python",
   "name": "python",
   "nbconvert_exporter": "python",
   "pygments_lexer": "ipython3",
   "version": "3.7.10"
  },
  "interpreter": {
   "hash": "fd135786ac51dc6e78ecb4c4ffdf2194e64e698f4ed2386ddfc8fe3890661cc7"
  }
 },
 "nbformat": 4,
 "nbformat_minor": 4
}