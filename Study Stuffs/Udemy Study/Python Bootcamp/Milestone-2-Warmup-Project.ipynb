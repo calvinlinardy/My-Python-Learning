{
 "cells": [
  {
   "cell_type": "markdown",
   "source": [
    "___\n",
    "\n",
    "<a href='https://www.udemy.com/user/joseportilla/'><img src='../Pierian_Data_Logo.png'/></a>\n",
    "___\n",
    "<center><em>Content Copyright by Pierian Data</em></center>"
   ],
   "metadata": {}
  },
  {
   "cell_type": "markdown",
   "source": [
    "# Warmup Project Exercise"
   ],
   "metadata": {
    "collapsed": true
   }
  },
  {
   "cell_type": "markdown",
   "source": [
    "## Simple War Game\n",
    "\n",
    "Before we launch in to the OOP Milestone 2 Project, let's walk through together on using OOP for a more robust and complex application, such as a game. We will use Python OOP to simulate a simplified version of the game war. Two players will each start off with half the deck, then they each remove a card, compare which card has the highest value, and the player with the higher card wins both cards. In the event of a time"
   ],
   "metadata": {}
  },
  {
   "cell_type": "markdown",
   "source": [
    "## Single Card Class\n",
    "\n",
    "### Creating a Card Class with outside variables\n",
    "\n",
    "Here we will use some outside variables that we know don't change regardless of the situation, such as a deck of cards. Regardless of what round,match, or game we're playing, we'll still need the same deck of cards."
   ],
   "metadata": {}
  },
  {
   "cell_type": "code",
   "execution_count": 2,
   "source": [
    "# We'll use this later\r\n",
    "import random "
   ],
   "outputs": [],
   "metadata": {
    "collapsed": true
   }
  },
  {
   "cell_type": "code",
   "execution_count": 3,
   "source": [
    "suits = ('Hearts', 'Diamonds', 'Spades', 'Clubs')\r\n",
    "ranks = ('Two', 'Three', 'Four', 'Five', 'Six', 'Seven', 'Eight', 'Nine', 'Ten', 'Jack', 'Queen', 'King', 'Ace')\r\n",
    "values = {'Two':2, 'Three':3, 'Four':4, 'Five':5, 'Six':6, 'Seven':7, 'Eight':8, \r\n",
    "            'Nine':9, 'Ten':10, 'Jack':11, 'Queen':12, 'King':13, 'Ace':14}"
   ],
   "outputs": [],
   "metadata": {
    "collapsed": true
   }
  },
  {
   "cell_type": "code",
   "execution_count": 4,
   "source": [
    "class Card:\r\n",
    "    \r\n",
    "    def __init__(self,suit,rank):\r\n",
    "        self.suit = suit\r\n",
    "        self.rank = rank\r\n",
    "        self.value = values[rank]\r\n",
    "        \r\n",
    "    def __str__(self):\r\n",
    "        return self.rank + ' of ' + self.suit"
   ],
   "outputs": [],
   "metadata": {
    "collapsed": true
   }
  },
  {
   "cell_type": "markdown",
   "source": [
    "Create an example card"
   ],
   "metadata": {}
  },
  {
   "cell_type": "code",
   "execution_count": 5,
   "source": [
    "suits[0]"
   ],
   "outputs": [
    {
     "output_type": "execute_result",
     "data": {
      "text/plain": [
       "'Hearts'"
      ]
     },
     "metadata": {},
     "execution_count": 5
    }
   ],
   "metadata": {}
  },
  {
   "cell_type": "code",
   "execution_count": 6,
   "source": [
    "ranks[0]"
   ],
   "outputs": [
    {
     "output_type": "execute_result",
     "data": {
      "text/plain": [
       "'Two'"
      ]
     },
     "metadata": {},
     "execution_count": 6
    }
   ],
   "metadata": {}
  },
  {
   "cell_type": "code",
   "execution_count": 7,
   "source": [
    "two_hearts = Card(suits[0],ranks[0])"
   ],
   "outputs": [],
   "metadata": {
    "collapsed": true
   }
  },
  {
   "cell_type": "code",
   "execution_count": 8,
   "source": [
    "two_hearts"
   ],
   "outputs": [
    {
     "output_type": "execute_result",
     "data": {
      "text/plain": [
       "<__main__.Card at 0x13a790347c8>"
      ]
     },
     "metadata": {},
     "execution_count": 8
    }
   ],
   "metadata": {}
  },
  {
   "cell_type": "code",
   "execution_count": 9,
   "source": [
    "print(two_hearts)"
   ],
   "outputs": [
    {
     "output_type": "stream",
     "name": "stdout",
     "text": [
      "Two of Hearts\n"
     ]
    }
   ],
   "metadata": {}
  },
  {
   "cell_type": "code",
   "execution_count": 10,
   "source": [
    "two_hearts.rank"
   ],
   "outputs": [
    {
     "output_type": "execute_result",
     "data": {
      "text/plain": [
       "'Two'"
      ]
     },
     "metadata": {},
     "execution_count": 10
    }
   ],
   "metadata": {}
  },
  {
   "cell_type": "code",
   "execution_count": 11,
   "source": [
    "two_hearts.value"
   ],
   "outputs": [
    {
     "output_type": "execute_result",
     "data": {
      "text/plain": [
       "2"
      ]
     },
     "metadata": {},
     "execution_count": 11
    }
   ],
   "metadata": {}
  },
  {
   "cell_type": "code",
   "execution_count": 12,
   "source": [
    "values[two_hearts.rank]"
   ],
   "outputs": [
    {
     "output_type": "execute_result",
     "data": {
      "text/plain": [
       "2"
      ]
     },
     "metadata": {},
     "execution_count": 12
    }
   ],
   "metadata": {}
  },
  {
   "cell_type": "markdown",
   "source": [
    "## Deck Class\n",
    "\n",
    "### Using a class within another class\n",
    "\n",
    "We just created a single card, but how can we create an entire Deck of cards? Let's explore doing this with a class that utilizes the Card class."
   ],
   "metadata": {}
  },
  {
   "cell_type": "markdown",
   "source": [
    "A Deck will be made up of multiple Cards. Which mean's we will actually use the Card class within the \\_\\_init__ of the Deck class."
   ],
   "metadata": {}
  },
  {
   "cell_type": "code",
   "execution_count": 13,
   "source": [
    "class Deck:\n",
    "    \n",
    "    def __init__(self):\n",
    "        # Note this only happens once upon creation of a new Deck\n",
    "        self.all_cards = [] \n",
    "        for suit in suits:\n",
    "            for rank in ranks:\n",
    "                # This assumes the Card class has already been defined!\n",
    "                self.all_cards.append(Card(suit,rank))\n",
    "                \n",
    "    def shuffle(self):\n",
    "        # Note this doesn't return anything\n",
    "        random.shuffle(self.all_cards)\n",
    "        \n",
    "    def deal_one(self):\n",
    "        # Note we remove one card from the list of all_cards\n",
    "        return self.all_cards.pop()        "
   ],
   "outputs": [],
   "metadata": {
    "collapsed": true
   }
  },
  {
   "cell_type": "markdown",
   "source": [
    "### Create a Deck"
   ],
   "metadata": {}
  },
  {
   "cell_type": "code",
   "execution_count": 14,
   "source": [
    "mydeck = Deck()"
   ],
   "outputs": [],
   "metadata": {
    "collapsed": true
   }
  },
  {
   "cell_type": "code",
   "execution_count": 15,
   "source": [
    "len(mydeck.all_cards)"
   ],
   "outputs": [
    {
     "output_type": "execute_result",
     "data": {
      "text/plain": [
       "52"
      ]
     },
     "metadata": {},
     "execution_count": 15
    }
   ],
   "metadata": {}
  },
  {
   "cell_type": "code",
   "execution_count": 16,
   "source": [
    "mydeck.all_cards[0]"
   ],
   "outputs": [
    {
     "output_type": "execute_result",
     "data": {
      "text/plain": [
       "<__main__.Card at 0x13a79028a48>"
      ]
     },
     "metadata": {},
     "execution_count": 16
    }
   ],
   "metadata": {}
  },
  {
   "cell_type": "code",
   "execution_count": 17,
   "source": [
    "print(mydeck.all_cards[0])"
   ],
   "outputs": [
    {
     "output_type": "stream",
     "name": "stdout",
     "text": [
      "Two of Hearts\n"
     ]
    }
   ],
   "metadata": {}
  },
  {
   "cell_type": "code",
   "execution_count": 18,
   "source": [
    "mydeck.shuffle()"
   ],
   "outputs": [],
   "metadata": {
    "collapsed": true
   }
  },
  {
   "cell_type": "code",
   "execution_count": 19,
   "source": [
    "print(mydeck.all_cards[0])"
   ],
   "outputs": [
    {
     "output_type": "stream",
     "name": "stdout",
     "text": [
      "Six of Diamonds\n"
     ]
    }
   ],
   "metadata": {}
  },
  {
   "cell_type": "code",
   "execution_count": 20,
   "source": [
    "my_card = mydeck.deal_one()"
   ],
   "outputs": [],
   "metadata": {
    "collapsed": true
   }
  },
  {
   "cell_type": "code",
   "execution_count": 21,
   "source": [
    "print(my_card)"
   ],
   "outputs": [
    {
     "output_type": "stream",
     "name": "stdout",
     "text": [
      "Jack of Clubs\n"
     ]
    }
   ],
   "metadata": {}
  },
  {
   "cell_type": "markdown",
   "source": [
    "# Player Class\n",
    "\n",
    "Let's create a Player Class, a player should be able to hold instances of Cards, they should also be able to remove and add them from their hand. We want the Player class to be flexible enough to add one card, or many cards so we'll use a simple if check to keep it all in the same method."
   ],
   "metadata": {}
  },
  {
   "cell_type": "markdown",
   "source": [
    "We'll keep this all in mind as we create the methods for the Player class.\n",
    "\n",
    "### Player Class"
   ],
   "metadata": {}
  },
  {
   "cell_type": "code",
   "execution_count": 22,
   "source": [
    "class Player:\n",
    "    \n",
    "    def __init__(self,name):\n",
    "        self.name = name\n",
    "        # A new player has no cards\n",
    "        self.all_cards = [] \n",
    "        \n",
    "    def remove_one(self):\n",
    "        # Note we remove one card from the list of all_cards\n",
    "        # We state 0 to remove from the \"top\" of the deck\n",
    "        # We'll imagine index -1 as the bottom of the deck\n",
    "        return self.all_cards.pop(0)\n",
    "    \n",
    "    def add_cards(self,new_cards):\n",
    "        if type(new_cards) == type([]):\n",
    "            self.all_cards.extend(new_cards)\n",
    "        else:\n",
    "            self.all_cards.append(new_cards)\n",
    "    \n",
    "    \n",
    "    def __str__(self):\n",
    "        return f'Player {self.name} has {len(self.all_cards)} cards.'"
   ],
   "outputs": [],
   "metadata": {
    "collapsed": true
   }
  },
  {
   "cell_type": "code",
   "execution_count": 23,
   "source": [
    "jose = Player(\"Jose\")"
   ],
   "outputs": [],
   "metadata": {
    "collapsed": true
   }
  },
  {
   "cell_type": "code",
   "execution_count": 24,
   "source": [
    "jose"
   ],
   "outputs": [
    {
     "output_type": "execute_result",
     "data": {
      "text/plain": [
       "<__main__.Player at 0x13a7903e388>"
      ]
     },
     "metadata": {},
     "execution_count": 24
    }
   ],
   "metadata": {}
  },
  {
   "cell_type": "code",
   "execution_count": 25,
   "source": [
    "print(jose)"
   ],
   "outputs": [
    {
     "output_type": "stream",
     "name": "stdout",
     "text": [
      "Player Jose has 0 cards.\n"
     ]
    }
   ],
   "metadata": {}
  },
  {
   "cell_type": "code",
   "execution_count": 26,
   "source": [
    "two_hearts"
   ],
   "outputs": [
    {
     "output_type": "execute_result",
     "data": {
      "text/plain": [
       "<__main__.Card at 0x13a790347c8>"
      ]
     },
     "metadata": {},
     "execution_count": 26
    }
   ],
   "metadata": {}
  },
  {
   "cell_type": "code",
   "execution_count": 27,
   "source": [
    "jose.add_cards(two_hearts)"
   ],
   "outputs": [],
   "metadata": {
    "collapsed": true
   }
  },
  {
   "cell_type": "code",
   "execution_count": 28,
   "source": [
    "print(jose)"
   ],
   "outputs": [
    {
     "output_type": "stream",
     "name": "stdout",
     "text": [
      "Player Jose has 1 cards.\n"
     ]
    }
   ],
   "metadata": {}
  },
  {
   "cell_type": "code",
   "execution_count": 29,
   "source": [
    "jose.add_cards([two_hearts,two_hearts,two_hearts])"
   ],
   "outputs": [],
   "metadata": {
    "collapsed": true
   }
  },
  {
   "cell_type": "code",
   "execution_count": 30,
   "source": [
    "print(jose)"
   ],
   "outputs": [
    {
     "output_type": "stream",
     "name": "stdout",
     "text": [
      "Player Jose has 4 cards.\n"
     ]
    }
   ],
   "metadata": {}
  },
  {
   "cell_type": "markdown",
   "source": [
    "## War Game Logic"
   ],
   "metadata": {}
  },
  {
   "cell_type": "code",
   "execution_count": 31,
   "source": [
    "player_one = Player(\"One\")"
   ],
   "outputs": [],
   "metadata": {
    "collapsed": true
   }
  },
  {
   "cell_type": "code",
   "execution_count": 32,
   "source": [
    "player_two = Player(\"Two\")"
   ],
   "outputs": [],
   "metadata": {
    "collapsed": true
   }
  },
  {
   "cell_type": "markdown",
   "source": [
    "## Setup New Game"
   ],
   "metadata": {}
  },
  {
   "cell_type": "code",
   "execution_count": 33,
   "source": [
    "new_deck = Deck()"
   ],
   "outputs": [],
   "metadata": {
    "collapsed": true
   }
  },
  {
   "cell_type": "code",
   "execution_count": 34,
   "source": [
    "new_deck.shuffle()"
   ],
   "outputs": [],
   "metadata": {
    "collapsed": true
   }
  },
  {
   "cell_type": "markdown",
   "source": [
    "### Split the Deck between players"
   ],
   "metadata": {}
  },
  {
   "cell_type": "code",
   "execution_count": 35,
   "source": [
    "len(new_deck.all_cards)/2"
   ],
   "outputs": [
    {
     "output_type": "execute_result",
     "data": {
      "text/plain": [
       "26.0"
      ]
     },
     "metadata": {},
     "execution_count": 35
    }
   ],
   "metadata": {}
  },
  {
   "cell_type": "code",
   "execution_count": 36,
   "source": [
    "for x in range(26):\n",
    "    player_one.add_cards(new_deck.deal_one())\n",
    "    player_two.add_cards(new_deck.deal_one())"
   ],
   "outputs": [],
   "metadata": {
    "collapsed": true
   }
  },
  {
   "cell_type": "code",
   "execution_count": 37,
   "source": [
    "len(new_deck.all_cards)"
   ],
   "outputs": [
    {
     "output_type": "execute_result",
     "data": {
      "text/plain": [
       "0"
      ]
     },
     "metadata": {},
     "execution_count": 37
    }
   ],
   "metadata": {}
  },
  {
   "cell_type": "code",
   "execution_count": 38,
   "source": [
    "len(player_one.all_cards)"
   ],
   "outputs": [
    {
     "output_type": "execute_result",
     "data": {
      "text/plain": [
       "26"
      ]
     },
     "metadata": {},
     "execution_count": 38
    }
   ],
   "metadata": {}
  },
  {
   "cell_type": "code",
   "execution_count": 39,
   "source": [
    "len(player_two.all_cards)"
   ],
   "outputs": [
    {
     "output_type": "execute_result",
     "data": {
      "text/plain": [
       "26"
      ]
     },
     "metadata": {},
     "execution_count": 39
    }
   ],
   "metadata": {}
  },
  {
   "cell_type": "markdown",
   "source": [
    "## Play the Game"
   ],
   "metadata": {}
  },
  {
   "cell_type": "code",
   "execution_count": 40,
   "source": [
    "import pdb"
   ],
   "outputs": [],
   "metadata": {
    "collapsed": true
   }
  },
  {
   "cell_type": "code",
   "execution_count": 41,
   "source": [
    "game_on = True"
   ],
   "outputs": [],
   "metadata": {
    "collapsed": true
   }
  },
  {
   "cell_type": "code",
   "execution_count": 42,
   "source": [
    "round_num = 0\r\n",
    "while game_on:\r\n",
    "    \r\n",
    "    round_num += 1\r\n",
    "    print(f\"Round {round_num}\")\r\n",
    "    \r\n",
    "    # Check to see if a player is out of cards:\r\n",
    "    if len(player_one.all_cards) == 0:\r\n",
    "        print(\"Player One out of cards! Game Over\")\r\n",
    "        print(\"Player Two Wins!\")\r\n",
    "        game_on = False\r\n",
    "        break\r\n",
    "        \r\n",
    "    if len(player_two.all_cards) == 0:\r\n",
    "        print(\"Player Two out of cards! Game Over\")\r\n",
    "        print(\"Player One Wins!\")\r\n",
    "        game_on = False\r\n",
    "        break\r\n",
    "    \r\n",
    "    # Otherwise, the game is still on!\r\n",
    "    \r\n",
    "    # Start a new round and reset current cards \"on the table\"\r\n",
    "    player_one_cards = []\r\n",
    "    player_one_cards.append(player_one.remove_one())\r\n",
    "    \r\n",
    "    player_two_cards = []\r\n",
    "    player_two_cards.append(player_two.remove_one())\r\n",
    "    \r\n",
    "    at_war = True\r\n",
    "\r\n",
    "    while at_war:\r\n",
    "\r\n",
    "\r\n",
    "        if player_one_cards[-1].value > player_two_cards[-1].value:\r\n",
    "\r\n",
    "            # Player One gets the cards\r\n",
    "            player_one.add_cards(player_one_cards)\r\n",
    "            player_one.add_cards(player_two_cards)\r\n",
    "            \r\n",
    "            \r\n",
    "            # No Longer at \"war\" , time for next round\r\n",
    "            at_war = False\r\n",
    "        \r\n",
    "        # Player Two Has higher Card\r\n",
    "        elif player_one_cards[-1].value < player_two_cards[-1].value:\r\n",
    "\r\n",
    "            # Player Two gets the cards\r\n",
    "            player_two.add_cards(player_one_cards)\r\n",
    "            player_two.add_cards(player_two_cards)\r\n",
    "            \r\n",
    "            # No Longer at \"war\" , time for next round\r\n",
    "            at_war = False\r\n",
    "\r\n",
    "        else:\r\n",
    "            print('WAR!')\r\n",
    "            # This occurs when the cards are equal.\r\n",
    "            # We'll grab another card each and continue the current war.\r\n",
    "            \r\n",
    "            # First check to see if player has enough cards\r\n",
    "            \r\n",
    "            # Check to see if a player is out of cards:\r\n",
    "            if len(player_one.all_cards) < 5:\r\n",
    "                print(\"Player One unable to play war! Game Over at War\")\r\n",
    "                print(\"Player Two Wins! Player One Loses!\")\r\n",
    "                game_on = False\r\n",
    "                break\r\n",
    "\r\n",
    "            elif len(player_two.all_cards) < 5:\r\n",
    "                print(\"Player Two unable to play war! Game Over at War\")\r\n",
    "                print(\"Player One Wins! Player One Loses!\")\r\n",
    "                game_on = False\r\n",
    "                break\r\n",
    "            # Otherwise, we're still at war, so we'll add the next cards\r\n",
    "            else:\r\n",
    "                for num in range(5):\r\n",
    "                    player_one_cards.append(player_one.remove_one())\r\n",
    "                    player_two_cards.append(player_two.remove_one())\r\n",
    "        "
   ],
   "outputs": [
    {
     "output_type": "stream",
     "name": "stdout",
     "text": [
      "Round 1\n",
      "Round 2\n",
      "Round 3\n",
      "Round 4\n",
      "Round 5\n",
      "WAR!\n",
      "Round 6\n",
      "Round 7\n",
      "Round 8\n",
      "Round 9\n",
      "Round 10\n",
      "Round 11\n",
      "Round 12\n",
      "Round 13\n",
      "Round 14\n",
      "Round 15\n",
      "Round 16\n",
      "Round 17\n",
      "Round 18\n",
      "Round 19\n",
      "Round 20\n",
      "Round 21\n",
      "Round 22\n",
      "Round 23\n",
      "Round 24\n",
      "Round 25\n",
      "Round 26\n",
      "Round 27\n",
      "Round 28\n",
      "Round 29\n",
      "Round 30\n",
      "Round 31\n",
      "Round 32\n",
      "Round 33\n",
      "Round 34\n",
      "WAR!\n",
      "Round 35\n",
      "Round 36\n",
      "Round 37\n",
      "Round 38\n",
      "Round 39\n",
      "Round 40\n",
      "Round 41\n",
      "Round 42\n",
      "Round 43\n",
      "Round 44\n",
      "Round 45\n",
      "Round 46\n",
      "Round 47\n",
      "Round 48\n",
      "Round 49\n",
      "Round 50\n",
      "Round 51\n",
      "Round 52\n",
      "Round 53\n",
      "WAR!\n",
      "Round 54\n",
      "Round 55\n",
      "Round 56\n",
      "Round 57\n",
      "Round 58\n",
      "Round 59\n",
      "Round 60\n",
      "WAR!\n",
      "Round 61\n",
      "WAR!\n",
      "Round 62\n",
      "Round 63\n",
      "Round 64\n",
      "Round 65\n",
      "Round 66\n",
      "Round 67\n",
      "Round 68\n",
      "Round 69\n",
      "Round 70\n",
      "Round 71\n",
      "Round 72\n",
      "Round 73\n",
      "Round 74\n",
      "Round 75\n",
      "Round 76\n",
      "Round 77\n",
      "Round 78\n",
      "WAR!\n",
      "Round 79\n",
      "Round 80\n",
      "Round 81\n",
      "Round 82\n",
      "Round 83\n",
      "Round 84\n",
      "Round 85\n",
      "Round 86\n",
      "Round 87\n",
      "Round 88\n",
      "WAR!\n",
      "Player One unable to play war! Game Over at War\n",
      "Player Two Wins! Player One Loses!\n"
     ]
    }
   ],
   "metadata": {}
  },
  {
   "cell_type": "markdown",
   "source": [
    "## Game Setup in One Cell"
   ],
   "metadata": {}
  },
  {
   "cell_type": "code",
   "execution_count": 43,
   "source": [
    "player_one = Player(\"One\")\r\n",
    "player_two = Player(\"Two\")\r\n",
    "\r\n",
    "new_deck = Deck()\r\n",
    "new_deck.shuffle()\r\n",
    "\r\n",
    "for x in range(26):\r\n",
    "    player_one.add_cards(new_deck.deal_one())\r\n",
    "    player_two.add_cards(new_deck.deal_one())\r\n",
    "    \r\n",
    "game_on = True"
   ],
   "outputs": [],
   "metadata": {
    "collapsed": true
   }
  },
  {
   "cell_type": "code",
   "execution_count": 44,
   "source": [
    "round_num = 0\r\n",
    "while game_on:\r\n",
    "    \r\n",
    "    round_num += 1\r\n",
    "    print(f\"Round {round_num}\")\r\n",
    "    \r\n",
    "    # Check to see if a player is out of cards:\r\n",
    "    if len(player_one.all_cards) == 0:\r\n",
    "        print(\"Player One out of cards! Game Over\")\r\n",
    "        print(\"Player Two Wins!\")\r\n",
    "        game_on = False\r\n",
    "        break\r\n",
    "        \r\n",
    "    if len(player_two.all_cards) == 0:\r\n",
    "        print(\"Player Two out of cards! Game Over\")\r\n",
    "        print(\"Player One Wins!\")\r\n",
    "        game_on = False\r\n",
    "        break\r\n",
    "    \r\n",
    "    # Otherwise, the game is still on!\r\n",
    "    \r\n",
    "    # Start a new round and reset current cards \"on the table\"\r\n",
    "    player_one_cards = []\r\n",
    "    player_one_cards.append(player_one.remove_one())\r\n",
    "    \r\n",
    "    player_two_cards = []\r\n",
    "    player_two_cards.append(player_two.remove_one())\r\n",
    "    \r\n",
    "    at_war = True\r\n",
    "\r\n",
    "    while at_war:\r\n",
    "\r\n",
    "\r\n",
    "        if player_one_cards[-1].value > player_two_cards[-1].value:\r\n",
    "\r\n",
    "            # Player One gets the cards\r\n",
    "            player_one.add_cards(player_one_cards)\r\n",
    "            player_one.add_cards(player_two_cards)\r\n",
    "            \r\n",
    "            \r\n",
    "            # No Longer at \"war\" , time for next round\r\n",
    "            at_war = False\r\n",
    "        \r\n",
    "        # Player Two Has higher Card\r\n",
    "        elif player_one_cards[-1].value < player_two_cards[-1].value:\r\n",
    "\r\n",
    "            # Player Two gets the cards\r\n",
    "            player_two.add_cards(player_one_cards)\r\n",
    "            player_two.add_cards(player_two_cards)\r\n",
    "            \r\n",
    "            # No Longer at \"war\" , time for next round\r\n",
    "            at_war = False\r\n",
    "\r\n",
    "        else:\r\n",
    "            print('WAR!')\r\n",
    "            # This occurs when the cards are equal.\r\n",
    "            # We'll grab another card each and continue the current war.\r\n",
    "            \r\n",
    "            # First check to see if player has enough cards\r\n",
    "            \r\n",
    "            # Check to see if a player is out of cards:\r\n",
    "            if len(player_one.all_cards) < 5:\r\n",
    "                print(\"Player One unable to play war! Game Over at War\")\r\n",
    "                print(\"Player Two Wins! Player One Loses!\")\r\n",
    "                game_on = False\r\n",
    "                break\r\n",
    "\r\n",
    "            elif len(player_two.all_cards) < 5:\r\n",
    "                print(\"Player Two unable to play war! Game Over at War\")\r\n",
    "                print(\"Player One Wins! Player One Loses!\")\r\n",
    "                game_on = False\r\n",
    "                break\r\n",
    "            # Otherwise, we're still at war, so we'll add the next cards\r\n",
    "            else:\r\n",
    "                for num in range(5):\r\n",
    "                    player_one_cards.append(player_one.remove_one())\r\n",
    "                    player_two_cards.append(player_two.remove_one())\r\n",
    "\r\n",
    "        "
   ],
   "outputs": [
    {
     "output_type": "stream",
     "name": "stdout",
     "text": [
      "Round 1\n",
      "Round 2\n",
      "Round 3\n",
      "Round 4\n",
      "Round 5\n",
      "Round 6\n",
      "Round 7\n",
      "Round 8\n",
      "Round 9\n",
      "Round 10\n",
      "Round 11\n",
      "Round 12\n",
      "Round 13\n",
      "Round 14\n",
      "Round 15\n",
      "Round 16\n",
      "Round 17\n",
      "Round 18\n",
      "Round 19\n",
      "Round 20\n",
      "Round 21\n",
      "Round 22\n",
      "Round 23\n",
      "Round 24\n",
      "Round 25\n",
      "Round 26\n",
      "Round 27\n",
      "Round 28\n",
      "Round 29\n",
      "Round 30\n",
      "Round 31\n",
      "Round 32\n",
      "Round 33\n",
      "Round 34\n",
      "Round 35\n",
      "Round 36\n",
      "Round 37\n",
      "Round 38\n",
      "Round 39\n",
      "Round 40\n",
      "Round 41\n",
      "Round 42\n",
      "Round 43\n",
      "Round 44\n",
      "WAR!\n",
      "Round 45\n",
      "Round 46\n",
      "Round 47\n",
      "Round 48\n",
      "Round 49\n",
      "Round 50\n",
      "Round 51\n",
      "Round 52\n",
      "Round 53\n",
      "Round 54\n",
      "Round 55\n",
      "Round 56\n",
      "Round 57\n",
      "Round 58\n",
      "Round 59\n",
      "Round 60\n",
      "Round 61\n",
      "Round 62\n",
      "Round 63\n",
      "Round 64\n",
      "Round 65\n",
      "Round 66\n",
      "Round 67\n",
      "Round 68\n",
      "Round 69\n",
      "Round 70\n",
      "Round 71\n",
      "Round 72\n",
      "Round 73\n",
      "Round 74\n",
      "Round 75\n",
      "Round 76\n",
      "Round 77\n",
      "Round 78\n",
      "Round 79\n",
      "Round 80\n",
      "Round 81\n",
      "Round 82\n",
      "Round 83\n",
      "Round 84\n",
      "Round 85\n",
      "Round 86\n",
      "Round 87\n",
      "Round 88\n",
      "Round 89\n",
      "Round 90\n",
      "Round 91\n",
      "Round 92\n",
      "Round 93\n",
      "Round 94\n",
      "Round 95\n",
      "Round 96\n",
      "Round 97\n",
      "Round 98\n",
      "Round 99\n",
      "Round 100\n",
      "Round 101\n",
      "WAR!\n",
      "Round 102\n",
      "Round 103\n",
      "Round 104\n",
      "Round 105\n",
      "Round 106\n",
      "Round 107\n",
      "Round 108\n",
      "Round 109\n",
      "Round 110\n",
      "WAR!\n",
      "Round 111\n",
      "Round 112\n",
      "Round 113\n",
      "Round 114\n",
      "Round 115\n",
      "Round 116\n",
      "Round 117\n",
      "Round 118\n",
      "Round 119\n",
      "Round 120\n",
      "Round 121\n",
      "Round 122\n",
      "Round 123\n",
      "WAR!\n",
      "Round 124\n",
      "Round 125\n",
      "Round 126\n",
      "Round 127\n",
      "Round 128\n",
      "Round 129\n",
      "Round 130\n",
      "Round 131\n",
      "Round 132\n",
      "Round 133\n",
      "Round 134\n",
      "Round 135\n",
      "Round 136\n",
      "Round 137\n",
      "Round 138\n",
      "WAR!\n",
      "Player Two unable to play war! Game Over at War\n",
      "Player One Wins! Player One Loses!\n"
     ]
    }
   ],
   "metadata": {}
  },
  {
   "cell_type": "code",
   "execution_count": 45,
   "source": [
    "len(player_one.all_cards)"
   ],
   "outputs": [
    {
     "output_type": "execute_result",
     "data": {
      "text/plain": [
       "50"
      ]
     },
     "metadata": {},
     "execution_count": 45
    }
   ],
   "metadata": {}
  },
  {
   "cell_type": "code",
   "execution_count": 46,
   "source": [
    "len(player_two.all_cards)"
   ],
   "outputs": [
    {
     "output_type": "execute_result",
     "data": {
      "text/plain": [
       "0"
      ]
     },
     "metadata": {},
     "execution_count": 46
    }
   ],
   "metadata": {}
  },
  {
   "cell_type": "code",
   "execution_count": 47,
   "source": [
    "print(player_one_cards[-1])"
   ],
   "outputs": [
    {
     "output_type": "stream",
     "name": "stdout",
     "text": [
      "Ace of Hearts\n"
     ]
    }
   ],
   "metadata": {}
  },
  {
   "cell_type": "code",
   "execution_count": 48,
   "source": [
    "print(player_two_cards[-1])"
   ],
   "outputs": [
    {
     "output_type": "stream",
     "name": "stdout",
     "text": [
      "Ace of Spades\n"
     ]
    }
   ],
   "metadata": {}
  },
  {
   "cell_type": "markdown",
   "source": [
    "## Great Work!\n",
    "\n",
    "Other links that may interest you:\n",
    "* https://www.reddit.com/r/learnpython/comments/7ay83p/war_card_game/\n",
    "* https://codereview.stackexchange.com/questions/131174/war-card-game-using-classes\n",
    "* https://gist.github.com/damianesteban/6896120\n",
    "* https://lethain.com/war-card-game-in-python/\n",
    "* https://hectorpefo.github.io/2017-09-13-Card-Wars/\n",
    "* https://www.wimpyprogrammer.com/the-statistics-of-war-the-card-game"
   ],
   "metadata": {
    "collapsed": true
   }
  }
 ],
 "metadata": {
  "kernelspec": {
   "name": "python3",
   "display_name": "Python 3.7.10 64-bit ('mylearning': conda)"
  },
  "language_info": {
   "codemirror_mode": {
    "name": "ipython",
    "version": 3
   },
   "file_extension": ".py",
   "mimetype": "text/x-python",
   "name": "python",
   "nbconvert_exporter": "python",
   "pygments_lexer": "ipython3",
   "version": "3.7.10"
  },
  "interpreter": {
   "hash": "fd135786ac51dc6e78ecb4c4ffdf2194e64e698f4ed2386ddfc8fe3890661cc7"
  }
 },
 "nbformat": 4,
 "nbformat_minor": 2
}