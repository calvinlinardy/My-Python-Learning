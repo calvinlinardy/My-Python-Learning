{
 "cells": [
  {
   "cell_type": "markdown",
   "metadata": {},
   "source": [
    "# Decorators"
   ]
  },
  {
   "cell_type": "markdown",
   "metadata": {},
   "source": [
    "### Misal kita ada function A, terus kita mau modif tambahin fitur, jadinya function AB kan, tapi function A yang original jadinya udah gabisa dipake lagi, harus kita modif ulang apus fitur tambahannya, ato kalo ga buat 2 function terpisah, tapi ribet. Ini lah kegunaan decoratos pake symbol '@'"
   ]
  },
  {
   "cell_type": "markdown",
   "metadata": {},
   "source": []
  }
 ],
 "metadata": {
  "language_info": {
   "name": "python"
  },
  "orig_nbformat": 4
 },
 "nbformat": 4,
 "nbformat_minor": 2
}
