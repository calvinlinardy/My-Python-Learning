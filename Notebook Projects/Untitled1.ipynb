{
 "cells": [
  {
   "cell_type": "code",
   "execution_count": null,
   "metadata": {},
   "outputs": [],
   "source": [
    "import numpy as np\n",
    "import pandas as pd\n",
    "import matplotlib.pyplot as plt\n",
    "from time import time\n",
    "from sklearn.model_selection import train_test_split\n",
    "from sklearn.metrics import classification_report\n",
    "from sklearn.decomposition import PCA\n",
    "from sklearn.svm import SVC\n",
    "\n",
    "def show_original_images(pixels):\n",
    "    fig, axes = plt.subplots(6, 10, figsize=(11, 7),\n",
    "    subplot_kw={'xticks':[], 'yticks':[]})\n",
    "    for i, ax in enumerate(axes.flat):\n",
    "        ax.imshow(np.array(pixels)[i].reshape(64, 64), cmap='gray')\n",
    "    plt.show()\n",
    "    \n",
    "def show_eigenfaces(pca):\n",
    "    fig, axes = plt.subplots(3, 8, figsize=(9, 4),\n",
    "    subplot_kw={'xticks':[], 'yticks':[]})\n",
    "    for i, ax in enumerate(axes.flat):\n",
    "        ax.imshow(pca.components_[i].reshape(64, 64), cmap='gray')\n",
    "        ax.set_title(\"PC \" + str(i+1))\n",
    "    plt.show()\n",
    "    \n",
    "    "
   ]
  }
 ],
 "metadata": {
  "kernelspec": {
   "display_name": "Python 3",
   "language": "python",
   "name": "python3"
  },
  "language_info": {
   "codemirror_mode": {
    "name": "ipython",
    "version": 3
   },
   "file_extension": ".py",
   "mimetype": "text/x-python",
   "name": "python",
   "nbconvert_exporter": "python",
   "pygments_lexer": "ipython3",
   "version": "3.7.4"
  }
 },
 "nbformat": 4,
 "nbformat_minor": 2
}
